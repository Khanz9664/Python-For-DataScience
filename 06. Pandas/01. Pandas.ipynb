{
 "cells": [
  {
   "cell_type": "markdown",
   "id": "58b01174",
   "metadata": {},
   "source": [
    "# Pandas :\n",
    "### 1. What is Pandas?\n",
    "#### Python library used for working with data sets.\n",
    "#### It has functions for analyzing, cleaning, exploring, and manipulating data.\n",
    "#### The name \"Pandas\" has a reference to both \"Panel Data\", and \"Python Data Analysis\" .\n",
    "\n",
    "### 2. Why Use Pandas?\n",
    "#### Pandas allows us to analyze big data and make conclusions based on statistical theories.\n",
    "#### Pandas can clean messy data sets, and make them readable and relevant."
   ]
  },
  {
   "cell_type": "markdown",
   "id": "8f27b1f0",
   "metadata": {},
   "source": [
    "# \n",
    "## Installing Pandas:\n",
    "#### terminal : \" pip install pandas \"   JupyterNB : \" !pip install pandas \""
   ]
  },
  {
   "cell_type": "markdown",
   "id": "dceabbf4",
   "metadata": {},
   "source": [
    "# \n",
    "## Importing Pandas"
   ]
  },
  {
   "cell_type": "code",
   "execution_count": 3,
   "id": "694f437b",
   "metadata": {},
   "outputs": [],
   "source": [
    "import pandas as pd"
   ]
  },
  {
   "cell_type": "markdown",
   "id": "063c5303",
   "metadata": {},
   "source": [
    "# \n",
    "## 3. Basic Data Structures\n",
    "#### 3.1 Series\n",
    "#### Creating a Series"
   ]
  },
  {
   "cell_type": "code",
   "execution_count": 4,
   "id": "44009d8c",
   "metadata": {},
   "outputs": [
    {
     "name": "stdout",
     "output_type": "stream",
     "text": [
      "a    10\n",
      "b    20\n",
      "c    30\n",
      "d    40\n",
      "dtype: int64\n"
     ]
    }
   ],
   "source": [
    "data = [10, 20, 30, 40]\n",
    "series = pd.Series(data, index=['a', 'b', 'c', 'd'])\n",
    "print(series)"
   ]
  },
  {
   "cell_type": "code",
   "execution_count": 13,
   "id": "7363afd5",
   "metadata": {},
   "outputs": [
    {
     "name": "stdout",
     "output_type": "stream",
     "text": [
      "20\n",
      "40\n"
     ]
    }
   ],
   "source": [
    "#Accessing elements\n",
    "print(series['b'])\n",
    "\n",
    "print(series['d'])"
   ]
  },
  {
   "cell_type": "markdown",
   "id": "9be8b386",
   "metadata": {},
   "source": [
    "# \n",
    "### 3.2 DataFrame\n",
    "#### Creating a DataFrame"
   ]
  },
  {
   "cell_type": "code",
   "execution_count": 6,
   "id": "21053c47",
   "metadata": {},
   "outputs": [
    {
     "name": "stdout",
     "output_type": "stream",
     "text": [
      "      Name  Age  Score\n",
      "0    Alice   25     90\n",
      "1      Bob   30     85\n",
      "2  Charlie   35     88\n"
     ]
    }
   ],
   "source": [
    "data = {\n",
    "    'Name': ['Alice', 'Bob', 'Charlie'],\n",
    "    'Age': [25, 30, 35],\n",
    "    'Score': [90, 85, 88]\n",
    "}\n",
    "df = pd.DataFrame(data)\n",
    "print(df)"
   ]
  },
  {
   "cell_type": "code",
   "execution_count": 11,
   "id": "5693eb28",
   "metadata": {},
   "outputs": [
    {
     "name": "stdout",
     "output_type": "stream",
     "text": [
      "0      Alice\n",
      "1        Bob\n",
      "2    Charlie\n",
      "Name: Name, dtype: object\n",
      "0    90\n",
      "1    85\n",
      "2    88\n",
      "Name: Score, dtype: int64\n"
     ]
    }
   ],
   "source": [
    "#Accessing Rows\n",
    "\n",
    "print(df['Name']) #accessing 'Name' column \n",
    "\n",
    "print(df['Score']) #accessing 'Score' column "
   ]
  },
  {
   "cell_type": "code",
   "execution_count": 12,
   "id": "aee0d32e",
   "metadata": {},
   "outputs": [
    {
     "name": "stdout",
     "output_type": "stream",
     "text": [
      "Name     Alice\n",
      "Age         25\n",
      "Score       90\n",
      "Name: 0, dtype: object\n",
      "Name     Charlie\n",
      "Age           35\n",
      "Score         88\n",
      "Name: 2, dtype: object\n"
     ]
    }
   ],
   "source": [
    "#Accessing Columns\n",
    "\n",
    "print(df.loc[0]) #accessing first Row\n",
    "\n",
    "print(df.loc[2]) #accessing 3rd Row"
   ]
  },
  {
   "cell_type": "markdown",
   "id": "c6d34098",
   "metadata": {},
   "source": [
    "# \n",
    "## 4. Basic Operations\n",
    "##\n",
    "### 4.1 Viewing Data"
   ]
  },
  {
   "cell_type": "code",
   "execution_count": 15,
   "id": "4a9c0c1f",
   "metadata": {},
   "outputs": [
    {
     "name": "stdout",
     "output_type": "stream",
     "text": [
      "      Name  Age  Score\n",
      "0    Alice   25     90\n",
      "1      Bob   30     85\n",
      "2  Charlie   35     88\n"
     ]
    }
   ],
   "source": [
    "print(df.head())  # First 5 rows"
   ]
  },
  {
   "cell_type": "code",
   "execution_count": 16,
   "id": "cacb3f9b",
   "metadata": {},
   "outputs": [
    {
     "name": "stdout",
     "output_type": "stream",
     "text": [
      "      Name  Age  Score\n",
      "0    Alice   25     90\n",
      "1      Bob   30     85\n",
      "2  Charlie   35     88\n"
     ]
    }
   ],
   "source": [
    "print(df.tail())  # Last 5 rows"
   ]
  },
  {
   "cell_type": "code",
   "execution_count": 17,
   "id": "26f65c20",
   "metadata": {},
   "outputs": [
    {
     "name": "stdout",
     "output_type": "stream",
     "text": [
      "<class 'pandas.core.frame.DataFrame'>\n",
      "RangeIndex: 3 entries, 0 to 2\n",
      "Data columns (total 3 columns):\n",
      " #   Column  Non-Null Count  Dtype \n",
      "---  ------  --------------  ----- \n",
      " 0   Name    3 non-null      object\n",
      " 1   Age     3 non-null      int64 \n",
      " 2   Score   3 non-null      int64 \n",
      "dtypes: int64(2), object(1)\n",
      "memory usage: 204.0+ bytes\n",
      "None\n"
     ]
    }
   ],
   "source": [
    "print(df.info())  # Data summary"
   ]
  },
  {
   "cell_type": "code",
   "execution_count": 18,
   "id": "78beeff2",
   "metadata": {},
   "outputs": [
    {
     "name": "stdout",
     "output_type": "stream",
     "text": [
      "        Age      Score\n",
      "count   3.0   3.000000\n",
      "mean   30.0  87.666667\n",
      "std     5.0   2.516611\n",
      "min    25.0  85.000000\n",
      "25%    27.5  86.500000\n",
      "50%    30.0  88.000000\n",
      "75%    32.5  89.000000\n",
      "max    35.0  90.000000\n"
     ]
    }
   ],
   "source": [
    "print(df.describe())  # Statistical summary"
   ]
  },
  {
   "cell_type": "markdown",
   "id": "28578705",
   "metadata": {},
   "source": [
    "# \n",
    "### 4.2 Adding/Modifying Columns"
   ]
  },
  {
   "cell_type": "code",
   "execution_count": 19,
   "id": "720e9e4a",
   "metadata": {},
   "outputs": [
    {
     "name": "stdout",
     "output_type": "stream",
     "text": [
      "      Name  Age  Score  Passed\n",
      "0    Alice   25     90    True\n",
      "1      Bob   30     85   False\n",
      "2  Charlie   35     88    True\n"
     ]
    }
   ],
   "source": [
    "df['Passed'] = df['Score'] > 85\n",
    "print(df)"
   ]
  },
  {
   "cell_type": "markdown",
   "id": "742f39a2",
   "metadata": {},
   "source": [
    "#\n",
    "### 4.3 Dropping Columns/Rows"
   ]
  },
  {
   "cell_type": "code",
   "execution_count": 20,
   "id": "b70c48ad",
   "metadata": {},
   "outputs": [
    {
     "name": "stdout",
     "output_type": "stream",
     "text": [
      "      Name  Age  Score\n",
      "1      Bob   30     85\n",
      "2  Charlie   35     88\n"
     ]
    }
   ],
   "source": [
    "df = df.drop(columns=['Passed'])\n",
    "df = df.drop(index=0)\n",
    "print(df)"
   ]
  },
  {
   "cell_type": "markdown",
   "id": "cfb5ab70",
   "metadata": {},
   "source": [
    "# \n",
    "## 5. Data Selection\n",
    "#\n",
    "### 5.1 Indexing"
   ]
  },
  {
   "cell_type": "code",
   "execution_count": 21,
   "id": "d97051cd",
   "metadata": {},
   "outputs": [
    {
     "name": "stdout",
     "output_type": "stream",
     "text": [
      "Name     Charlie\n",
      "Age           35\n",
      "Score         88\n",
      "Name: 2, dtype: object\n"
     ]
    }
   ],
   "source": [
    "print(df.iloc[1])  # By position"
   ]
  },
  {
   "cell_type": "code",
   "execution_count": 22,
   "id": "2a2e363a",
   "metadata": {},
   "outputs": [
    {
     "name": "stdout",
     "output_type": "stream",
     "text": [
      "Name     Bob\n",
      "Age       30\n",
      "Score     85\n",
      "Name: 1, dtype: object\n"
     ]
    }
   ],
   "source": [
    "print(df.loc[1])   # By label"
   ]
  },
  {
   "cell_type": "markdown",
   "id": "60097c4c",
   "metadata": {},
   "source": [
    "#\n",
    "### 5.2 Filtering"
   ]
  },
  {
   "cell_type": "code",
   "execution_count": 23,
   "id": "e51d5394",
   "metadata": {},
   "outputs": [
    {
     "name": "stdout",
     "output_type": "stream",
     "text": [
      "      Name  Age  Score\n",
      "1      Bob   30     85\n",
      "2  Charlie   35     88\n"
     ]
    }
   ],
   "source": [
    "print(df[df['Age'] > 28])"
   ]
  },
  {
   "cell_type": "code",
   "execution_count": 24,
   "id": "6d9c01f5",
   "metadata": {},
   "outputs": [
    {
     "name": "stdout",
     "output_type": "stream",
     "text": [
      "  Name  Age  Score\n",
      "1  Bob   30     85\n"
     ]
    }
   ],
   "source": [
    "print(df[df['Name'] == \"Bob\"])"
   ]
  },
  {
   "cell_type": "markdown",
   "id": "6d8464f2",
   "metadata": {},
   "source": [
    "# \n",
    "## 6. Handling Missing Data\n",
    "#\n",
    "### 6.1 Detecting Missing Values"
   ]
  },
  {
   "cell_type": "code",
   "execution_count": 25,
   "id": "eb812b25",
   "metadata": {},
   "outputs": [
    {
     "name": "stdout",
     "output_type": "stream",
     "text": [
      "    Name    Age  Score\n",
      "1  False  False  False\n",
      "2  False  False  False\n",
      "3   True  False   True\n"
     ]
    }
   ],
   "source": [
    "df.loc[3] = [None, 28, None]\n",
    "print(df.isnull())"
   ]
  },
  {
   "cell_type": "markdown",
   "id": "0c826809",
   "metadata": {},
   "source": [
    "# \n",
    "### 6.2 Filling Missing Values"
   ]
  },
  {
   "cell_type": "code",
   "execution_count": 26,
   "id": "0f339e68",
   "metadata": {},
   "outputs": [],
   "source": [
    "df['Score'].fillna(df['Score'].mean(), inplace=True)"
   ]
  },
  {
   "cell_type": "markdown",
   "id": "909ae04a",
   "metadata": {},
   "source": [
    "# \n",
    "### 6.3 Dropping Missing Values"
   ]
  },
  {
   "cell_type": "code",
   "execution_count": 27,
   "id": "8b5cc6f3",
   "metadata": {},
   "outputs": [],
   "source": [
    "df.dropna(inplace=True)"
   ]
  },
  {
   "cell_type": "markdown",
   "id": "236c8207",
   "metadata": {},
   "source": [
    "#\n",
    "## 7. Operations on DataFrames\n",
    "#\n",
    "### 7.1 Sorting"
   ]
  },
  {
   "cell_type": "code",
   "execution_count": 28,
   "id": "7aa820ce",
   "metadata": {},
   "outputs": [
    {
     "name": "stdout",
     "output_type": "stream",
     "text": [
      "      Name   Age  Score\n",
      "1      Bob  30.0   85.0\n",
      "2  Charlie  35.0   88.0\n"
     ]
    }
   ],
   "source": [
    "print(df.sort_values(by='Age'))"
   ]
  },
  {
   "cell_type": "markdown",
   "id": "647053f7",
   "metadata": {},
   "source": [
    "#\n",
    "### 7.2 Grouping"
   ]
  },
  {
   "cell_type": "code",
   "execution_count": 34,
   "id": "44b85c09",
   "metadata": {},
   "outputs": [
    {
     "ename": "AttributeError",
     "evalue": "'DataFrameGroupBy' object has no attribute 'select_dtypes'",
     "output_type": "error",
     "traceback": [
      "\u001b[0;31m---------------------------------------------------------------------------\u001b[0m",
      "\u001b[0;31mAttributeError\u001b[0m                            Traceback (most recent call last)",
      "Cell \u001b[0;32mIn[34], line 2\u001b[0m\n\u001b[1;32m      1\u001b[0m grouped \u001b[38;5;241m=\u001b[39m df\u001b[38;5;241m.\u001b[39mgroupby(\u001b[38;5;124m'\u001b[39m\u001b[38;5;124mAge\u001b[39m\u001b[38;5;124m'\u001b[39m)\n\u001b[0;32m----> 2\u001b[0m numeric_means \u001b[38;5;241m=\u001b[39m \u001b[43mgrouped\u001b[49m\u001b[38;5;241;43m.\u001b[39;49m\u001b[43mselect_dtypes\u001b[49m(include\u001b[38;5;241m=\u001b[39m\u001b[38;5;124m'\u001b[39m\u001b[38;5;124mnumber\u001b[39m\u001b[38;5;124m'\u001b[39m)\u001b[38;5;241m.\u001b[39mmean()\n\u001b[1;32m      3\u001b[0m \u001b[38;5;28mprint\u001b[39m(numeric_means)\n",
      "File \u001b[0;32m/usr/lib/python3/dist-packages/pandas/core/groupby/groupby.py:1312\u001b[0m, in \u001b[0;36mGroupBy.__getattr__\u001b[0;34m(self, attr)\u001b[0m\n\u001b[1;32m   1309\u001b[0m \u001b[38;5;28;01mif\u001b[39;00m attr \u001b[38;5;129;01min\u001b[39;00m \u001b[38;5;28mself\u001b[39m\u001b[38;5;241m.\u001b[39mobj:\n\u001b[1;32m   1310\u001b[0m     \u001b[38;5;28;01mreturn\u001b[39;00m \u001b[38;5;28mself\u001b[39m[attr]\n\u001b[0;32m-> 1312\u001b[0m \u001b[38;5;28;01mraise\u001b[39;00m \u001b[38;5;167;01mAttributeError\u001b[39;00m(\n\u001b[1;32m   1313\u001b[0m     \u001b[38;5;124mf\u001b[39m\u001b[38;5;124m\"\u001b[39m\u001b[38;5;124m'\u001b[39m\u001b[38;5;132;01m{\u001b[39;00m\u001b[38;5;28mtype\u001b[39m(\u001b[38;5;28mself\u001b[39m)\u001b[38;5;241m.\u001b[39m\u001b[38;5;18m__name__\u001b[39m\u001b[38;5;132;01m}\u001b[39;00m\u001b[38;5;124m'\u001b[39m\u001b[38;5;124m object has no attribute \u001b[39m\u001b[38;5;124m'\u001b[39m\u001b[38;5;132;01m{\u001b[39;00mattr\u001b[38;5;132;01m}\u001b[39;00m\u001b[38;5;124m'\u001b[39m\u001b[38;5;124m\"\u001b[39m\n\u001b[1;32m   1314\u001b[0m )\n",
      "\u001b[0;31mAttributeError\u001b[0m: 'DataFrameGroupBy' object has no attribute 'select_dtypes'"
     ]
    }
   ],
   "source": [
    "grouped = df.groupby('Age')\n",
    "print(grouped.mean())"
   ]
  },
  {
   "cell_type": "markdown",
   "id": "93e857b4",
   "metadata": {},
   "source": [
    "#\n",
    "### 7.3 Merging and Joining"
   ]
  },
  {
   "cell_type": "code",
   "execution_count": 35,
   "id": "b58dd92d",
   "metadata": {},
   "outputs": [
    {
     "name": "stdout",
     "output_type": "stream",
     "text": [
      "   ID   Name  Score\n",
      "0   1  Alice     90\n",
      "1   2    Bob     85\n"
     ]
    }
   ],
   "source": [
    "df1 = pd.DataFrame({'ID': [1, 2], 'Name': ['Alice', 'Bob']})\n",
    "df2 = pd.DataFrame({'ID': [1, 2], 'Score': [90, 85]})\n",
    "merged = pd.merge(df1, df2, on='ID')\n",
    "print(merged)"
   ]
  },
  {
   "cell_type": "markdown",
   "id": "7c058567",
   "metadata": {},
   "source": [
    "#\n",
    "## 8. Data Cleaning\n",
    "#\n",
    "### Renaming Columns"
   ]
  },
  {
   "cell_type": "code",
   "execution_count": 38,
   "id": "8c9a9cf3",
   "metadata": {},
   "outputs": [
    {
     "name": "stdout",
     "output_type": "stream",
     "text": [
      "  Student Name  Age  Score\n",
      "0        Alice   25     90\n",
      "1          Bob   30     85\n",
      "2      Charlie   25     88\n",
      "3        David   30     92\n"
     ]
    }
   ],
   "source": [
    "df.rename(columns={'Name': 'Student Name'}, inplace=True)\n",
    "print(df)"
   ]
  },
  {
   "cell_type": "markdown",
   "id": "d113d1d7",
   "metadata": {},
   "source": [
    "#\n",
    "### Dropping Duplicates"
   ]
  },
  {
   "cell_type": "code",
   "execution_count": 39,
   "id": "73720376",
   "metadata": {},
   "outputs": [
    {
     "name": "stdout",
     "output_type": "stream",
     "text": [
      "  Student Name  Age  Score\n",
      "0        Alice   25     90\n",
      "1          Bob   30     85\n",
      "2      Charlie   25     88\n",
      "3        David   30     92\n"
     ]
    }
   ],
   "source": [
    "df.drop_duplicates(inplace=True)\n",
    "print(df)"
   ]
  },
  {
   "cell_type": "markdown",
   "id": "e0fc7bd2",
   "metadata": {},
   "source": [
    "#\n",
    "## 9. Working with Dates\n",
    "#\n",
    "### Converting to datetime"
   ]
  },
  {
   "cell_type": "code",
   "execution_count": 41,
   "id": "8c14adae",
   "metadata": {},
   "outputs": [
    {
     "name": "stdout",
     "output_type": "stream",
     "text": [
      "  Student Name  Age  Score       Date\n",
      "0        Alice   25     90 2024-01-01\n",
      "1          Bob   30     85 2024-02-01\n",
      "2      Charlie   25     88 2024-03-01\n",
      "3        David   30     92 2020-03-05\n"
     ]
    }
   ],
   "source": [
    "df['Date'] = pd.to_datetime(['2024-01-01', '2024-02-01', '2024-03-01', '2020-03-05'])\n",
    "print(df)"
   ]
  },
  {
   "cell_type": "markdown",
   "id": "1b1d6bf5",
   "metadata": {},
   "source": [
    "#\n",
    "### Extracting components"
   ]
  },
  {
   "cell_type": "code",
   "execution_count": 44,
   "id": "9f8dad26",
   "metadata": {},
   "outputs": [
    {
     "name": "stdout",
     "output_type": "stream",
     "text": [
      "  Student Name  Age  Score       Date  Year  Month  ay  day\n",
      "0        Alice   25     90 2024-01-01  2024      1   1    1\n",
      "1          Bob   30     85 2024-02-01  2024      2   1    1\n",
      "2      Charlie   25     88 2024-03-01  2024      3   1    1\n",
      "3        David   30     92 2020-03-05  2020      3   5    5\n"
     ]
    }
   ],
   "source": [
    "df['Year'] = df['Date'].dt.year\n",
    "df['Month'] = df['Date'].dt.month\n",
    "df['day'] = df['Date'].dt.day\n",
    "print(df)"
   ]
  },
  {
   "cell_type": "markdown",
   "id": "77bf772e",
   "metadata": {},
   "source": [
    "#\n",
    "## 10. File Handling\n",
    "#\n",
    "### 10.1 Reading Files"
   ]
  },
  {
   "cell_type": "code",
   "execution_count": 45,
   "id": "3276eb33",
   "metadata": {},
   "outputs": [],
   "source": [
    "#CSV files\n",
    "df = pd.read_csv('100 Sales Records.csv')"
   ]
  },
  {
   "cell_type": "code",
   "execution_count": 46,
   "id": "21248f5b",
   "metadata": {},
   "outputs": [
    {
     "name": "stdout",
     "output_type": "stream",
     "text": [
      "                               Region                Country        Item Type  \\\n",
      "0               Australia and Oceania                 Tuvalu        Baby Food   \n",
      "1   Central America and the Caribbean                Grenada           Cereal   \n",
      "2                              Europe                 Russia  Office Supplies   \n",
      "3                  Sub-Saharan Africa  Sao Tome and Principe           Fruits   \n",
      "4                  Sub-Saharan Africa                 Rwanda  Office Supplies   \n",
      "..                                ...                    ...              ...   \n",
      "95                 Sub-Saharan Africa                   Mali          Clothes   \n",
      "96                               Asia               Malaysia           Fruits   \n",
      "97                 Sub-Saharan Africa           Sierra Leone       Vegetables   \n",
      "98                      North America                 Mexico    Personal Care   \n",
      "99                 Sub-Saharan Africa             Mozambique        Household   \n",
      "\n",
      "   Sales Channel Order Priority  Order Date   Order ID   Ship Date  \\\n",
      "0        Offline              H   5/28/2010  669165933   6/27/2010   \n",
      "1         Online              C   8/22/2012  963881480   9/15/2012   \n",
      "2        Offline              L    5/2/2014  341417157    5/8/2014   \n",
      "3         Online              C   6/20/2014  514321792    7/5/2014   \n",
      "4        Offline              L    2/1/2013  115456712    2/6/2013   \n",
      "..           ...            ...         ...        ...         ...   \n",
      "95        Online              M   7/26/2011  512878119    9/3/2011   \n",
      "96       Offline              L  11/11/2011  810711038  12/28/2011   \n",
      "97       Offline              C    6/1/2016  728815257   6/29/2016   \n",
      "98       Offline              M   7/30/2015  559427106    8/8/2015   \n",
      "99       Offline              L   2/10/2012  665095412   2/15/2012   \n",
      "\n",
      "    Units Sold  Unit Price  Unit Cost  Total Revenue  Total Cost  Total Profit  \n",
      "0         9925      255.28     159.42     2533654.00  1582243.50     951410.50  \n",
      "1         2804      205.70     117.11      576782.80   328376.44     248406.36  \n",
      "2         1779      651.21     524.96     1158502.59   933903.84     224598.75  \n",
      "3         8102        9.33       6.92       75591.66    56065.84      19525.82  \n",
      "4         5062      651.21     524.96     3296425.02  2657347.52     639077.50  \n",
      "..         ...         ...        ...            ...         ...           ...  \n",
      "95         888      109.28      35.84       97040.64    31825.92      65214.72  \n",
      "96        6267        9.33       6.92       58471.11    43367.64      15103.47  \n",
      "97        1485      154.06      90.93      228779.10   135031.05      93748.05  \n",
      "98        5767       81.73      56.67      471336.91   326815.89     144521.02  \n",
      "99        5367      668.27     502.54     3586605.09  2697132.18     889472.91  \n",
      "\n",
      "[100 rows x 14 columns]\n"
     ]
    }
   ],
   "source": [
    "print(df)"
   ]
  },
  {
   "cell_type": "code",
   "execution_count": 47,
   "id": "092317c1",
   "metadata": {},
   "outputs": [],
   "source": [
    "# EXCEL\n",
    "df = pd.read_excel('business-operations-survey-2023-CSV-notes.xlsx')"
   ]
  },
  {
   "cell_type": "code",
   "execution_count": 48,
   "id": "8e2f1d50",
   "metadata": {},
   "outputs": [
    {
     "name": "stdout",
     "output_type": "stream",
     "text": [
      "                                            Footnotes  \\\n",
      "0                                                   1   \n",
      "1                                                   2   \n",
      "2                                                   3   \n",
      "3                                                   4   \n",
      "4                                                   5   \n",
      "5                                                   6   \n",
      "6                                                   7   \n",
      "7                                                   8   \n",
      "8                                                   9   \n",
      "9                                                  10   \n",
      "10                                                 11   \n",
      "11                                                 12   \n",
      "12                                            Symbols   \n",
      "13                                                  .   \n",
      "14                                                  C   \n",
      "15                                                  R   \n",
      "16                                                NaN   \n",
      "17  Note: The data collected refers to the most re...   \n",
      "18                                                NaN   \n",
      "19                                   Source: Stats NZ   \n",
      "\n",
      "                                           Unnamed: 1  \\\n",
      "0   The Business Operations Survey samples busines...   \n",
      "1   For more information about the number of busin...   \n",
      "2   See DataInfo+ for questionnaires, and more exp...   \n",
      "3   Business size is defined by rolling mean emplo...   \n",
      "4   Results for the mining and electricity, gas, w...   \n",
      "5   Counts of businesses are randomly rounded to b...   \n",
      "6   Dollar values are rounded to nearest $1,000. A...   \n",
      "7   Percentages are of total number of businesses ...   \n",
      "8   Percentages are of total number of businesses ...   \n",
      "9   Counts of employees are graduated randomly rou...   \n",
      "10  Results should be treated with caution due the...   \n",
      "11  Percentages are of total number of businesses ...   \n",
      "12                                                NaN   \n",
      "13          Data not applicable or not data available   \n",
      "14                                       Confidentail   \n",
      "15                                            Revised   \n",
      "16                                                NaN   \n",
      "17                                                NaN   \n",
      "18                                                NaN   \n",
      "19                                                NaN   \n",
      "\n",
      "                                  Unnamed: 2  \n",
      "0   BOS Series Data Collection  ̶  DataInfo+  \n",
      "1            New Zealand business demography  \n",
      "2                                  DataInfo+  \n",
      "3                 BOS Concepts  ̶  DataInfo+  \n",
      "4                                        NaN  \n",
      "5                                        NaN  \n",
      "6                                        NaN  \n",
      "7                                        NaN  \n",
      "8                                        NaN  \n",
      "9                                        NaN  \n",
      "10                                       NaN  \n",
      "11                                       NaN  \n",
      "12                                       NaN  \n",
      "13                                       NaN  \n",
      "14                                       NaN  \n",
      "15                                       NaN  \n",
      "16                                       NaN  \n",
      "17                                       NaN  \n",
      "18                                       NaN  \n",
      "19                                       NaN  \n"
     ]
    }
   ],
   "source": [
    "print(df)"
   ]
  },
  {
   "cell_type": "markdown",
   "id": "27d4444a",
   "metadata": {},
   "source": [
    "#\n",
    "### 10.2 Writing Files"
   ]
  },
  {
   "cell_type": "code",
   "execution_count": 50,
   "id": "3f12df00",
   "metadata": {},
   "outputs": [],
   "source": [
    "# CSV and EXCEL\n",
    "\n",
    "# Example DataFrame\n",
    "data = {\n",
    "    'Name': ['Alice', 'Bob', 'Charlie'],\n",
    "    'Age': [25, 30, 35],\n",
    "    'Score': [90, 85, 88]\n",
    "}\n",
    "df = pd.DataFrame(data)\n",
    "\n",
    "# Save as CSV\n",
    "df.to_csv('output.csv', index=False)\n",
    "\n",
    "# Save as Excel\n",
    "df.to_excel('output.xlsx', index=False)\n"
   ]
  },
  {
   "cell_type": "code",
   "execution_count": 51,
   "id": "6d457759",
   "metadata": {},
   "outputs": [
    {
     "name": "stdout",
     "output_type": "stream",
     "text": [
      "      Name  Age  Score\n",
      "0    Alice   25     90\n",
      "1      Bob   30     85\n",
      "2  Charlie   35     88\n"
     ]
    }
   ],
   "source": [
    "df = pd.read_csv('output.csv')\n",
    "print(df)"
   ]
  },
  {
   "cell_type": "code",
   "execution_count": 52,
   "id": "386a61ed",
   "metadata": {},
   "outputs": [
    {
     "name": "stdout",
     "output_type": "stream",
     "text": [
      "      Name  Age  Score\n",
      "0    Alice   25     90\n",
      "1      Bob   30     85\n",
      "2  Charlie   35     88\n"
     ]
    }
   ],
   "source": [
    "df = pd.read_excel('output.xlsx')\n",
    "print(df)"
   ]
  },
  {
   "cell_type": "code",
   "execution_count": null,
   "id": "0f5d8313",
   "metadata": {},
   "outputs": [],
   "source": []
  }
 ],
 "metadata": {
  "kernelspec": {
   "display_name": "Python 3 (ipykernel)",
   "language": "python",
   "name": "python3"
  },
  "language_info": {
   "codemirror_mode": {
    "name": "ipython",
    "version": 3
   },
   "file_extension": ".py",
   "mimetype": "text/x-python",
   "name": "python",
   "nbconvert_exporter": "python",
   "pygments_lexer": "ipython3",
   "version": "3.12.3"
  }
 },
 "nbformat": 4,
 "nbformat_minor": 5
}
