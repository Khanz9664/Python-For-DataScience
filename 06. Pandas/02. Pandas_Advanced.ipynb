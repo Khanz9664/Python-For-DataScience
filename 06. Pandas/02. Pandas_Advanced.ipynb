{
 "cells": [
  {
   "cell_type": "markdown",
   "id": "811247b9",
   "metadata": {},
   "source": [
    "# **Advanced Pandas for Data Science**"
   ]
  },
  {
   "cell_type": "markdown",
   "id": "494a6f70",
   "metadata": {},
   "source": [
    "## **1. Advanced Data Manipulation**\n",
    "### **1.1 Chaining Operations**"
   ]
  },
  {
   "cell_type": "code",
   "execution_count": 15,
   "id": "86497eeb",
   "metadata": {},
   "outputs": [],
   "source": [
    "\n",
    "import pandas as pd"
   ]
  },
  {
   "cell_type": "code",
   "execution_count": 16,
   "id": "9b6555a6",
   "metadata": {},
   "outputs": [],
   "source": [
    "\n",
    "# Example DataFrame\n",
    "data = {\n",
    "    'Name': ['Alice', 'Bob', 'Charlie', 'David'],\n",
    "    'Age': [25, 30, 35, 40],\n",
    "    'Salary': [50000, 60000, 75000, 80000]\n",
    "}\n",
    "df = pd.DataFrame(data)"
   ]
  },
  {
   "cell_type": "code",
   "execution_count": 17,
   "id": "4881c721",
   "metadata": {},
   "outputs": [
    {
     "name": "stdout",
     "output_type": "stream",
     "text": [
      "      Name  Age  Salary   Bonus\n",
      "3    David   40   80000  8000.0\n",
      "2  Charlie   35   75000  7500.0\n"
     ]
    }
   ],
   "source": [
    "\n",
    "# Chaining operations\n",
    "result = (df.query('Age > 30')\n",
    "           .assign(Bonus=lambda x: x['Salary'] * 0.1)\n",
    "           .sort_values(by='Bonus', ascending=False))\n",
    "print(result)\n"
   ]
  },
  {
   "cell_type": "markdown",
   "id": "9a3de239",
   "metadata": {},
   "source": [
    "### **1.2 Working with MultiIndex**"
   ]
  },
  {
   "cell_type": "code",
   "execution_count": 2,
   "id": "48c7cc8b",
   "metadata": {},
   "outputs": [
    {
     "name": "stdout",
     "output_type": "stream",
     "text": [
      "          Values\n",
      "Subgroup        \n",
      "One           10\n",
      "Two           20\n",
      "         Values\n",
      "Group          \n",
      "Group A      10\n",
      "Group B      15\n"
     ]
    }
   ],
   "source": [
    "\n",
    "# Creating a MultiIndex DataFrame\n",
    "arrays = [['Group A', 'Group A', 'Group B', 'Group B'],\n",
    "          ['One', 'Two', 'One', 'Two']]\n",
    "index = pd.MultiIndex.from_arrays(arrays, names=('Group', 'Subgroup'))\n",
    "data = {'Values': [10, 20, 15, 25]}\n",
    "multi_df = pd.DataFrame(data, index=index)\n",
    "\n",
    "# Accessing MultiIndex levels\n",
    "print(multi_df.loc['Group A'])\n",
    "print(multi_df.xs('One', level='Subgroup'))\n"
   ]
  },
  {
   "cell_type": "markdown",
   "id": "e3a69d39",
   "metadata": {},
   "source": [
    "## **2. Merging and Complex Joins**\n",
    "- Merging datasets with different keys."
   ]
  },
  {
   "cell_type": "code",
   "execution_count": 18,
   "id": "d5568115",
   "metadata": {},
   "outputs": [],
   "source": [
    "\n",
    "# Example DataFrames\n",
    "df1 = pd.DataFrame({'ID': [1, 2, 3], 'Name': ['Alice', 'Bob', 'Charlie']})\n",
    "df2 = pd.DataFrame({'Key': [1, 2, 4], 'Score': [85, 90, 95]})"
   ]
  },
  {
   "cell_type": "code",
   "execution_count": 19,
   "id": "5eceace6",
   "metadata": {},
   "outputs": [
    {
     "name": "stdout",
     "output_type": "stream",
     "text": [
      "    ID     Name  Key  Score\n",
      "0  1.0    Alice  1.0   85.0\n",
      "1  2.0      Bob  2.0   90.0\n",
      "2  3.0  Charlie  NaN    NaN\n",
      "3  NaN      NaN  4.0   95.0\n"
     ]
    }
   ],
   "source": [
    "\n",
    "# Merging with different keys\n",
    "merged_df = pd.merge(df1, df2, left_on='ID', right_on='Key', how='outer')\n",
    "print(merged_df)\n"
   ]
  },
  {
   "cell_type": "markdown",
   "id": "77a1c862",
   "metadata": {},
   "source": [
    "## **3. Advanced Grouping**\n",
    "### **3.1 Aggregations with Multiple Functions**"
   ]
  },
  {
   "cell_type": "code",
   "execution_count": 4,
   "id": "1cc0a68e",
   "metadata": {},
   "outputs": [
    {
     "name": "stdout",
     "output_type": "stream",
     "text": [
      "      Salary          Age\n",
      "        mean    sum count\n",
      "Age                      \n",
      "25   50000.0  50000     1\n",
      "30   60000.0  60000     1\n",
      "35   75000.0  75000     1\n",
      "40   80000.0  80000     1\n"
     ]
    }
   ],
   "source": [
    "\n",
    "# Grouping with multiple aggregations\n",
    "grouped = df.groupby('Age').agg({'Salary': ['mean', 'sum'], 'Age': 'count'})\n",
    "print(grouped)\n"
   ]
  },
  {
   "cell_type": "markdown",
   "id": "cc601497",
   "metadata": {},
   "source": [
    "### **3.2 Custom Aggregations**"
   ]
  },
  {
   "cell_type": "code",
   "execution_count": 20,
   "id": "f0906353",
   "metadata": {},
   "outputs": [
    {
     "name": "stdout",
     "output_type": "stream",
     "text": [
      "     Mean Salary  Salary Range\n",
      "Age                           \n",
      "25       50000.0             0\n",
      "30       60000.0             0\n",
      "35       75000.0             0\n",
      "40       80000.0             0\n"
     ]
    }
   ],
   "source": [
    "\n",
    "# Custom aggregation function\n",
    "custom_agg = df.groupby('Age').Salary.agg(['mean', lambda x: x.max() - x.min()])\n",
    "custom_agg.columns = ['Mean Salary', 'Salary Range']\n",
    "print(custom_agg)\n"
   ]
  },
  {
   "cell_type": "markdown",
   "id": "e721ebde",
   "metadata": {},
   "source": [
    "## **4. Time Series Analysis**\n",
    "### **4.1 Creating and Manipulating Time Series**"
   ]
  },
  {
   "cell_type": "code",
   "execution_count": 21,
   "id": "625374b0",
   "metadata": {},
   "outputs": [],
   "source": [
    "\n",
    "# Time series example\n",
    "date_range = pd.date_range(start='2024-01-01', periods=5, freq='D')\n",
    "ts_df = pd.DataFrame({'Date': date_range, 'Value': [100, 200, 300, 400, 500]})\n",
    "ts_df['Date'] = pd.to_datetime(ts_df['Date'])"
   ]
  },
  {
   "cell_type": "code",
   "execution_count": 22,
   "id": "569f9f45",
   "metadata": {},
   "outputs": [
    {
     "name": "stdout",
     "output_type": "stream",
     "text": [
      "            Value\n",
      "Date             \n",
      "2024-01-01  150.0\n",
      "2024-01-03  350.0\n",
      "2024-01-05  500.0\n"
     ]
    }
   ],
   "source": [
    "\n",
    "# Setting index and resampling\n",
    "ts_df.set_index('Date', inplace=True)\n",
    "resampled = ts_df.resample('2D').mean()\n",
    "print(resampled)\n"
   ]
  },
  {
   "cell_type": "markdown",
   "id": "4299ed84",
   "metadata": {},
   "source": [
    "### **4.2 Handling Missing Data in Time Series**"
   ]
  },
  {
   "cell_type": "code",
   "execution_count": 25,
   "id": "873a3f24",
   "metadata": {},
   "outputs": [
    {
     "name": "stdout",
     "output_type": "stream",
     "text": [
      "            Value\n",
      "Date             \n",
      "2024-01-01    100\n",
      "2024-01-02    200\n",
      "2024-01-03    300\n",
      "2024-01-04    400\n",
      "2024-01-05    500\n"
     ]
    }
   ],
   "source": [
    "\n",
    "# Time series with missing data\n",
    "ts_with_na = ts_df.asfreq('D', fill_value=None)\n",
    "filled = ts_with_na.ffill() #for backward-filling: filled = ts_with_na.bfill()\n",
    "print(filled)"
   ]
  },
  {
   "cell_type": "markdown",
   "id": "6f60a627",
   "metadata": {},
   "source": [
    "## **5. Working with Large Datasets**\n",
    "- Using `chunksize` in file operations."
   ]
  },
  {
   "cell_type": "code",
   "execution_count": 12,
   "id": "44efe236",
   "metadata": {},
   "outputs": [
    {
     "name": "stdout",
     "output_type": "stream",
     "text": [
      "   Survived  Pclass                                               Name  \\\n",
      "0         0       3                             Mr. Owen Harris Braund   \n",
      "1         1       1  Mrs. John Bradley (Florence Briggs Thayer) Cum...   \n",
      "2         1       3                              Miss. Laina Heikkinen   \n",
      "3         1       1        Mrs. Jacques Heath (Lily May Peel) Futrelle   \n",
      "4         0       3                            Mr. William Henry Allen   \n",
      "\n",
      "      Sex   Age  Siblings/Spouses Aboard  Parents/Children Aboard     Fare  \n",
      "0    male  22.0                        1                        0   7.2500  \n",
      "1  female  38.0                        1                        0  71.2833  \n",
      "2  female  26.0                        0                        0   7.9250  \n",
      "3  female  35.0                        1                        0  53.1000  \n",
      "4    male  35.0                        0                        0   8.0500  \n"
     ]
    }
   ],
   "source": [
    "\n",
    "# Reading data in chunks\n",
    "chunk_iter = pd.read_csv('titanic.csv', chunksize=1000)\n",
    "for chunk in chunk_iter:\n",
    "    print(chunk.head())\n"
   ]
  },
  {
   "cell_type": "markdown",
   "id": "a71a0036",
   "metadata": {},
   "source": [
    "## **6. Visualization with Pandas**"
   ]
  },
  {
   "cell_type": "code",
   "execution_count": 27,
   "id": "ef843827",
   "metadata": {},
   "outputs": [],
   "source": [
    "\n",
    "import matplotlib.pyplot as plt"
   ]
  },
  {
   "cell_type": "code",
   "execution_count": 28,
   "id": "b1805148",
   "metadata": {},
   "outputs": [
    {
     "data": {
      "image/png": "[encoded data removed]",
      "text/plain": [
       "<Figure size 640x480 with 1 Axes>"
      ]
     },
     "metadata": {},
     "output_type": "display_data"
    }
   ],
   "source": [
    "\n",
    "# Plotting directly with Pandas\n",
    "ts_df.plot(kind='line', title='Time Series Analysis')\n",
    "plt.show()\n"
   ]
  },
  {
   "cell_type": "markdown",
   "id": "2475c0f8",
   "metadata": {},
   "source": [
    "## **7. Integration with Other Libraries**\n",
    "### **7.1 Using Pandas with NumPy**"
   ]
  },
  {
   "cell_type": "code",
   "execution_count": 29,
   "id": "0942691b",
   "metadata": {},
   "outputs": [],
   "source": [
    "\n",
    "import numpy as np"
   ]
  },
  {
   "cell_type": "code",
   "execution_count": 30,
   "id": "a09f2969",
   "metadata": {},
   "outputs": [
    {
     "name": "stdout",
     "output_type": "stream",
     "text": [
      "      Name  Age  Salary  Log Salary\n",
      "0    Alice   25   50000   10.819778\n",
      "1      Bob   30   60000   11.002100\n",
      "2  Charlie   35   75000   11.225243\n",
      "3    David   40   80000   11.289782\n"
     ]
    }
   ],
   "source": [
    "\n",
    "# Applying NumPy functions\n",
    "df['Log Salary'] = np.log(df['Salary'])\n",
    "print(df)\n"
   ]
  },
  {
   "cell_type": "markdown",
   "id": "ab4d78ca",
   "metadata": {},
   "source": [
    "### **7.2 Using Pandas with Scikit-learn**"
   ]
  },
  {
   "cell_type": "code",
   "execution_count": 31,
   "id": "f4b358bf",
   "metadata": {},
   "outputs": [],
   "source": [
    "\n",
    "from sklearn.preprocessing import StandardScaler"
   ]
  },
  {
   "cell_type": "code",
   "execution_count": 32,
   "id": "99ada208",
   "metadata": {},
   "outputs": [
    {
     "name": "stdout",
     "output_type": "stream",
     "text": [
      "      Name       Age    Salary  Log Salary\n",
      "0    Alice -1.341641 -1.362770   10.819778\n",
      "1      Bob -0.447214 -0.524142   11.002100\n",
      "2  Charlie  0.447214  0.733799   11.225243\n",
      "3    David  1.341641  1.153113   11.289782\n"
     ]
    }
   ],
   "source": [
    "\n",
    "# Standardizing numeric columns\n",
    "scaler = StandardScaler()\n",
    "df[['Age', 'Salary']] = scaler.fit_transform(df[['Age', 'Salary']])\n",
    "print(df)\n"
   ]
  },
  {
   "cell_type": "code",
   "execution_count": null,
   "id": "868638f2",
   "metadata": {},
   "outputs": [],
   "source": []
  }
 ],
 "metadata": {
  "kernelspec": {
   "display_name": "Python 3 (ipykernel)",
   "language": "python",
   "name": "python3"
  },
  "language_info": {
   "codemirror_mode": {
    "name": "ipython",
    "version": 3
   },
   "file_extension": ".py",
   "mimetype": "text/x-python",
   "name": "python",
   "nbconvert_exporter": "python",
   "pygments_lexer": "ipython3",
   "version": "3.12.3"
  }
 },
 "nbformat": 4,
 "nbformat_minor": 5
}
