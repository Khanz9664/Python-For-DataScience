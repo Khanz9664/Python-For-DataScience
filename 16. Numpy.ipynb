{
 "cells": [
  {
   "cell_type": "markdown",
   "id": "3b020c27",
   "metadata": {},
   "source": [
    "# Numpy "
   ]
  },
  {
   "cell_type": "markdown",
   "id": "be6c1105",
   "metadata": {},
   "source": [
    "## Python Library used for working with Arrays. It also have functions for working with Linear Algebra, Matrices and Fourier Transformation"
   ]
  },
  {
   "cell_type": "markdown",
   "id": "546fdd3d",
   "metadata": {},
   "source": [
    "Source Code : https://github.com/numpy\n",
    "installation : pip install numpy (terminal) // !pip install numpy (jupyter)\n"
   ]
  },
  {
   "cell_type": "code",
   "execution_count": 3,
   "id": "3d086765",
   "metadata": {},
   "outputs": [],
   "source": [
    "#importing numpy library \n",
    "\n",
    "import numpy as np"
   ]
  },
  {
   "cell_type": "code",
   "execution_count": 5,
   "id": "176de84b",
   "metadata": {},
   "outputs": [
    {
     "name": "stdout",
     "output_type": "stream",
     "text": [
      "[2 4 6 8]\n"
     ]
    },
    {
     "data": {
      "text/plain": [
       "numpy.ndarray"
      ]
     },
     "execution_count": 5,
     "metadata": {},
     "output_type": "execute_result"
    }
   ],
   "source": [
    "#creating an array\n",
    "\n",
    "arr1 = np.array([2,4,6,8])\n",
    "print(arr1)\n",
    "\n",
    "\n",
    "type(arr1)"
   ]
  },
  {
   "cell_type": "code",
   "execution_count": null,
   "id": "2d4274fd",
   "metadata": {},
   "outputs": [],
   "source": []
  },
  {
   "cell_type": "code",
   "execution_count": 6,
   "id": "55254fad",
   "metadata": {},
   "outputs": [
    {
     "name": "stdout",
     "output_type": "stream",
     "text": [
      "1.26.4\n"
     ]
    }
   ],
   "source": [
    "#check version of numpy\n",
    "print(np.__version__)"
   ]
  },
  {
   "cell_type": "code",
   "execution_count": 8,
   "id": "9eeef409",
   "metadata": {},
   "outputs": [
    {
     "name": "stdout",
     "output_type": "stream",
     "text": [
      "[3 2 1 4 5 7]\n",
      "[1 4 5 1 2 9]\n"
     ]
    }
   ],
   "source": [
    "#we can pass both lists and tuples to np.array() fuction to convert them to arrays\n",
    "\n",
    "arr2 = np.array([3,2,1,4,5,7]) #passing list \n",
    "print(arr2)\n",
    "\n",
    "arr3 = np.array((1,4,5,1,2,9)) #passing tuple\n",
    "print(arr3)"
   ]
  },
  {
   "cell_type": "markdown",
   "id": "ef394489",
   "metadata": {},
   "source": [
    "## Dimensions in Array:\n",
    "### 0D Array\n",
    "### 1D Array\n",
    "### 2D Array\n",
    "### 3D Array"
   ]
  },
  {
   "cell_type": "code",
   "execution_count": 11,
   "id": "c2131848",
   "metadata": {},
   "outputs": [
    {
     "name": "stdout",
     "output_type": "stream",
     "text": [
      "0D Array: \n",
      "30\n",
      "1D Array: \n",
      "[1 2 3 4 5 7]\n",
      "2D Array: \n",
      "[[10 20 30 40 50]\n",
      " [11 12 13 14 15]]\n",
      "3D Array: \n",
      "[[[100 200 300 400 500]\n",
      "  [101 102 103 104 105]]\n",
      "\n",
      " [[ 50  60  70  80  90]\n",
      "  [ 40  30  90  20  22]]]\n"
     ]
    }
   ],
   "source": [
    "# 0D Array\n",
    "a = np.array(30)\n",
    "print(\"0D Array: \")\n",
    "print(a)\n",
    "\n",
    "#1D Array\n",
    "b = np.array([1,2,3,4,5,7])\n",
    "print(\"1D Array: \")\n",
    "print(b)\n",
    "\n",
    "#2D Array\n",
    "c = np.array([[10,20,30,40,50],[11,12,13,14,15]])\n",
    "print(\"2D Array: \")\n",
    "print(c)\n",
    "\n",
    "\n",
    "#3D Array\n",
    "d = np.array([[[100,200,300,400,500],[101,102,103,104,105]],[[50,60,70,80,90],[40,30,90,20,22]]])\n",
    "print(\"3D Array: \")\n",
    "print(d)"
   ]
  },
  {
   "cell_type": "markdown",
   "id": "f6f1dc92",
   "metadata": {},
   "source": [
    "#### We can check number of dimensions an Array have by using \"ndim\" attribute of Arrays"
   ]
  },
  {
   "cell_type": "code",
   "execution_count": 13,
   "id": "66271d75",
   "metadata": {},
   "outputs": [
    {
     "name": "stdout",
     "output_type": "stream",
     "text": [
      "Dimensions Of Array a : 0\n",
      "Dimensions Of Array b : 1\n",
      "Dimensions Of Array c : 2\n",
      "Dimensions Of Array d : 3\n"
     ]
    }
   ],
   "source": [
    "print(\"Dimensions Of Array a :\",a.ndim)\n",
    "print(\"Dimensions Of Array b :\",b.ndim)\n",
    "print(\"Dimensions Of Array c :\",c.ndim)\n",
    "print(\"Dimensions Of Array d :\",d.ndim)"
   ]
  },
  {
   "cell_type": "markdown",
   "id": "07026a9b",
   "metadata": {},
   "source": [
    "### \"ndmin = __\" can be used as an argument to \"np.array\" function to define number of dimensions to an Array"
   ]
  },
  {
   "cell_type": "code",
   "execution_count": 15,
   "id": "1293f81c",
   "metadata": {},
   "outputs": [
    {
     "name": "stdout",
     "output_type": "stream",
     "text": [
      "[[[[[1 3 4 5]]]]]\n",
      "Dimmensions of arr11 :  5\n"
     ]
    }
   ],
   "source": [
    "arr11 = np.array([1,3,4,5], ndmin=5)\n",
    "print(arr11)\n",
    "print(\"Dimmensions of arr11 : \",arr11.ndim)"
   ]
  },
  {
   "cell_type": "markdown",
   "id": "c03eb04e",
   "metadata": {},
   "source": [
    "## Arrays use indexing \n",
    "### it works by assigning a numerical value to each each element of an array starting from 0 to no_of_elements-1 \n",
    "\n",
    "Example: \n",
    "        \n",
    "Array:  |  10  |  20   |  30  |  40   |\n",
    "\n",
    "number of elements = 4\n",
    "\n",
    "index 0 - 3\n",
    "\n",
    "0-->10\n",
    "\n",
    "1-->20\n",
    "\n",
    "2-->30\n",
    "\n",
    "3-->40"
   ]
  },
  {
   "cell_type": "code",
   "execution_count": 22,
   "id": "de06a52a",
   "metadata": {},
   "outputs": [
    {
     "name": "stdout",
     "output_type": "stream",
     "text": [
      "100\n",
      "13\n",
      "100 2 3 4 6 7 "
     ]
    }
   ],
   "source": [
    "# access elements of 1-D array using index\n",
    "\n",
    "ar1 = np.array([100,2,3,4,6,7])\n",
    "\n",
    "print(ar1[0]) #this will print element at index 0\n",
    "\n",
    "print(ar1[4]+ar1[5]) #this will print sum of elements at index 4 and 5\n",
    "\n",
    "#we can iterate through arrays using loops\n",
    "for i in ar1:\n",
    "    print(i, end=\" \")"
   ]
  },
  {
   "cell_type": "code",
   "execution_count": 24,
   "id": "7bcd4b0f",
   "metadata": {},
   "outputs": [
    {
     "name": "stdout",
     "output_type": "stream",
     "text": [
      "2nd lement on row 2 is :  20\n"
     ]
    }
   ],
   "source": [
    "#access elements of 2-D array using index\n",
    "\n",
    "ar2 = np.array([[1,2,3,4,5],[10,20,30,40,50]])\n",
    "print(\"2nd lement on row 2 is : \", ar2[1,1])"
   ]
  },
  {
   "cell_type": "code",
   "execution_count": 25,
   "id": "8264920c",
   "metadata": {},
   "outputs": [
    {
     "name": "stdout",
     "output_type": "stream",
     "text": [
      "3\n"
     ]
    }
   ],
   "source": [
    "#access elements of 3-D arrays using index\n",
    "\n",
    "ar3 = np.array([[[8,7,6],[5,4,7]],[[2,5,3],[9,2,6]]])\n",
    "\n",
    "print(ar3[1,0,2])"
   ]
  },
  {
   "cell_type": "markdown",
   "id": "dcb8baf6",
   "metadata": {},
   "source": [
    "#### Explination of accesing 3-D arrays:\n",
    "\n",
    "ar3[1,0,2] prints value 3\n",
    "\n",
    "first number represents first Dimension which contain 2 arrays from which this part is selected \" [[2,5,3],[9,2,6]] \"\n",
    "\n",
    "second number represents second Dimension which also contains 2 arrays from which this is selected \" [2,5,3] \"\n",
    "\n",
    "third number represents third dimension which conatins 3 elements from which this element is selected \" 3 \""
   ]
  },
  {
   "cell_type": "markdown",
   "id": "eab3375e",
   "metadata": {},
   "source": [
    "## We can use negative indexing to access array elements \n",
    "\n",
    "Example: \n",
    "        \n",
    "Array:  |  10  |  20   |  30  |  40   |\n",
    "\n",
    "number of elements = 4\n",
    "\n",
    "negative index -4 to -1\n",
    "\n",
    "-4-->10\n",
    "\n",
    "-3-->20\n",
    "\n",
    "-2-->30\n",
    "\n",
    "-1-->40"
   ]
  },
  {
   "cell_type": "code",
   "execution_count": 27,
   "id": "b71d8aa4",
   "metadata": {},
   "outputs": [
    {
     "name": "stdout",
     "output_type": "stream",
     "text": [
      "element at index -1 =  10\n",
      "element at index -4 =  7\n"
     ]
    }
   ],
   "source": [
    "ar3 = np.array([7,8,9,10])\n",
    "\n",
    "print(\"element at index -1 = \", ar3[-1])\n",
    "print(\"element at index -4 = \", ar3[-4])"
   ]
  },
  {
   "cell_type": "code",
   "execution_count": null,
   "id": "d09283fa",
   "metadata": {},
   "outputs": [],
   "source": [
    "\n"
   ]
  },
  {
   "cell_type": "markdown",
   "id": "921874ca",
   "metadata": {},
   "source": [
    "# Slicing Arrays:\n",
    "\n",
    "### Slicing means taking a part of array \n",
    "### array[start index : end index] this will return a part of array betweeen these indexes"
   ]
  },
  {
   "cell_type": "code",
   "execution_count": 36,
   "id": "4359efbb",
   "metadata": {},
   "outputs": [
    {
     "name": "stdout",
     "output_type": "stream",
     "text": [
      "[4 2 4 3]\n"
     ]
    }
   ],
   "source": [
    "aar1 = np.array([3,6,4,2,4,3,7,9])\n",
    "\n",
    "#this will print a slice of orginal array\n",
    "print(aar1[2:6])"
   ]
  },
  {
   "cell_type": "markdown",
   "id": "fd476bf8",
   "metadata": {},
   "source": [
    "\n",
    "We can add one more attribute to slicing as steps \n",
    "\n",
    "array[start index : end index : steps]"
   ]
  },
  {
   "cell_type": "code",
   "execution_count": 37,
   "id": "56a7dd09",
   "metadata": {},
   "outputs": [
    {
     "name": "stdout",
     "output_type": "stream",
     "text": [
      "[1 2 3 4 5 6 7 8 9]\n",
      "[1 3 5 7 9]\n",
      "[1 4 7]\n"
     ]
    }
   ],
   "source": [
    "#this example will make you understand what step attribute actually do\n",
    "\n",
    "aar2 = np.array([1,2,3,4,5,6,7,8,9,10])\n",
    "\n",
    "print(aar2[0:9:1]) #this will print elemts between 0 and 9 with jump of 1 \n",
    "\n",
    "print(aar2[0:9:2]) #this will print elemts between 0 and 9 with jump of 2  \n",
    "\n",
    "print(aar2[0:9:3]) #this will print elemts between 0 and 9 with jump of 3"
   ]
  },
  {
   "cell_type": "code",
   "execution_count": 38,
   "id": "f061ad2c",
   "metadata": {},
   "outputs": [
    {
     "name": "stdout",
     "output_type": "stream",
     "text": [
      "[5 4 3 2 1]\n"
     ]
    }
   ],
   "source": [
    "# Some crazy Things can be done like reversing the array an be done using slicing technique\n",
    "\n",
    "aar3 = np.array([1,2,3,4,5])\n",
    "#this will reverse the array\n",
    "print(aar3[::-1])"
   ]
  },
  {
   "cell_type": "code",
   "execution_count": null,
   "id": "f9b5e0c8",
   "metadata": {},
   "outputs": [],
   "source": []
  },
  {
   "cell_type": "markdown",
   "id": "7062783b",
   "metadata": {},
   "source": [
    "# Data Tyes in Numpy:\n",
    "\n",
    "i---integer\n",
    "\n",
    "b---boolean\n",
    "\n",
    "u---unsigned integer\n",
    "\n",
    "f---float\n",
    "\n",
    "c---complex float\n",
    "\n",
    "m---timedelta\n",
    "\n",
    "M---datetime\n",
    "\n",
    "O---object\n",
    "\n",
    "S---string\n",
    "\n",
    "U---unicode string\n",
    "\n",
    "V---void\n",
    "\n",
    "#### we can use \"dtype\" to check data type array"
   ]
  },
  {
   "cell_type": "code",
   "execution_count": 39,
   "id": "393541c5",
   "metadata": {},
   "outputs": [
    {
     "name": "stdout",
     "output_type": "stream",
     "text": [
      "int64\n"
     ]
    }
   ],
   "source": [
    "aar4 = np.array([3,4,2,1])\n",
    "print(aar4.dtype)"
   ]
  },
  {
   "cell_type": "code",
   "execution_count": 41,
   "id": "f131e61e",
   "metadata": {},
   "outputs": [
    {
     "name": "stdout",
     "output_type": "stream",
     "text": [
      "<U6\n"
     ]
    }
   ],
   "source": [
    "aar5 = np.array(['shahid','arshid','ubaid'])\n",
    "print(aar5.dtype)"
   ]
  },
  {
   "cell_type": "code",
   "execution_count": 42,
   "id": "97fa1be1",
   "metadata": {},
   "outputs": [
    {
     "name": "stdout",
     "output_type": "stream",
     "text": [
      "float64\n"
     ]
    }
   ],
   "source": [
    "aar6 = np.array([3.3,4.5,2.5,1.5])\n",
    "print(aar6.dtype)"
   ]
  },
  {
   "cell_type": "code",
   "execution_count": 43,
   "id": "baf7e371",
   "metadata": {},
   "outputs": [
    {
     "name": "stdout",
     "output_type": "stream",
     "text": [
      "bool\n"
     ]
    }
   ],
   "source": [
    "aar7 = np.array([True,False])\n",
    "print(aar7.dtype)"
   ]
  },
  {
   "cell_type": "markdown",
   "id": "a26cbf15",
   "metadata": {},
   "source": [
    "# View and Copy Functions\n",
    "\n",
    "#### View : it creates a view of array ---- \"array.view()\"\n",
    "\n",
    "#### Copy : it creates another copy of an array ----- \"array.copy()\""
   ]
  },
  {
   "cell_type": "code",
   "execution_count": 45,
   "id": "6f734265",
   "metadata": {},
   "outputs": [
    {
     "name": "stdout",
     "output_type": "stream",
     "text": [
      "[20 15 20 25]\n",
      "[20 15 20 25]\n"
     ]
    }
   ],
   "source": [
    "# View function\n",
    "a1 = np.array([10,15,20,25])\n",
    "\n",
    "x = a1.view() #this will create a view of original array\n",
    "\n",
    "a1[0] = 20 \n",
    "#changing contents of original array will affect the view also\n",
    "\n",
    "print(a1)\n",
    "print(x)"
   ]
  },
  {
   "cell_type": "code",
   "execution_count": 46,
   "id": "035bf6e4",
   "metadata": {},
   "outputs": [
    {
     "name": "stdout",
     "output_type": "stream",
     "text": [
      "[10 15 20 25]\n",
      "[20 15 20 25]\n"
     ]
    }
   ],
   "source": [
    "# Copy function \n",
    "a2 = np.array([10,15,20,25])\n",
    "\n",
    "y = a1.copy() #this will create a view of original array\n",
    "\n",
    "a1[0] = 20 \n",
    "#changing contents of original array will not affect contents of copied array\n",
    "\n",
    "print(a2)\n",
    "print(y)"
   ]
  },
  {
   "cell_type": "code",
   "execution_count": null,
   "id": "ddf9de98",
   "metadata": {},
   "outputs": [],
   "source": []
  },
  {
   "cell_type": "markdown",
   "id": "1d1ffc0b",
   "metadata": {},
   "source": [
    "# Numpy Array Shape\n",
    "### Shape of an Array defines the number of elements in each dimension\n",
    "#### Numpy Arrays have an attributes \"shape\" that returns the shape of an array"
   ]
  },
  {
   "cell_type": "code",
   "execution_count": 3,
   "id": "fa939500",
   "metadata": {},
   "outputs": [
    {
     "name": "stdout",
     "output_type": "stream",
     "text": [
      "(4,)\n"
     ]
    }
   ],
   "source": [
    "a2 = np.array([2,3,4,5])\n",
    "print(a2.shape)"
   ]
  },
  {
   "cell_type": "code",
   "execution_count": 4,
   "id": "a3cc1da8",
   "metadata": {},
   "outputs": [
    {
     "name": "stdout",
     "output_type": "stream",
     "text": [
      "(2, 4)\n"
     ]
    }
   ],
   "source": [
    "a3 = np.array([[2,3,4,5],[4,4,3,2]])\n",
    "print(a3.shape)"
   ]
  },
  {
   "cell_type": "code",
   "execution_count": 8,
   "id": "cb06fed5",
   "metadata": {},
   "outputs": [
    {
     "name": "stdout",
     "output_type": "stream",
     "text": [
      "[[[[[9 1 2 4 6]]]]]\n",
      "(1, 1, 1, 1, 5)\n"
     ]
    }
   ],
   "source": [
    "a4 =np.array([9,1,2,4,6],ndmin=5) #we have created an array with 5 dimnsions\n",
    "print(a4)\n",
    "print(a4.shape)"
   ]
  },
  {
   "cell_type": "markdown",
   "id": "043be41f",
   "metadata": {},
   "source": [
    "#### We can reshape existing arrays using \"reshape\" function\n",
    "##### \"array.reshape()\""
   ]
  },
  {
   "cell_type": "code",
   "execution_count": 15,
   "id": "e4a0ac59",
   "metadata": {},
   "outputs": [
    {
     "name": "stdout",
     "output_type": "stream",
     "text": [
      "1-D: \n",
      " [11 12 13 14 15 16 17 18 19 20 21 22]\n",
      "2-D: \n",
      " [[11 12 13]\n",
      " [14 15 16]\n",
      " [17 18 19]\n",
      " [20 21 22]]\n",
      "3-D: \n",
      " [[[11 12]\n",
      "  [13 14]\n",
      "  [15 16]]\n",
      "\n",
      " [[17 18]\n",
      "  [19 20]\n",
      "  [21 22]]]\n"
     ]
    }
   ],
   "source": [
    "#Reshape from 1-D to 2-D & 3-D\n",
    "\n",
    "a5 = np.array([11,12,13,14,15,16,17,18,19,20,21,22])\n",
    "a5_2d = a5.reshape(4,3)\n",
    "a5_3d = a5.reshape(2,3,2)\n",
    "print(\"1-D: \\n\",a5)\n",
    "print(\"2-D: \\n\",a5_2d)\n",
    "print(\"3-D: \\n\",a5_3d)"
   ]
  },
  {
   "cell_type": "markdown",
   "id": "41e4624d",
   "metadata": {},
   "source": [
    "#### There are more functions to reshape array like: \n",
    "#### \"flatten\" / \"ravel\"\n",
    "#### Functins for rearranging the elements of array like:\n",
    "#### \"rot90\" / \"flip\" / \"fliplr\" / \"flipud\" "
   ]
  },
  {
   "cell_type": "code",
   "execution_count": null,
   "id": "6dfd6782",
   "metadata": {},
   "outputs": [],
   "source": []
  },
  {
   "cell_type": "markdown",
   "id": "e28de17c",
   "metadata": {},
   "source": [
    "# Numpy Array Iterating"
   ]
  },
  {
   "cell_type": "code",
   "execution_count": 19,
   "id": "8e3bc8db",
   "metadata": {},
   "outputs": [
    {
     "name": "stdout",
     "output_type": "stream",
     "text": [
      "2\n",
      "3\n",
      "4\n",
      "5\n"
     ]
    }
   ],
   "source": [
    "#iterating 1-D arrays\n",
    "\n",
    "a6 = np.array([2,3,4,5])\n",
    "for i in a6:\n",
    "    print(i)"
   ]
  },
  {
   "cell_type": "code",
   "execution_count": 20,
   "id": "1f68a956",
   "metadata": {},
   "outputs": [
    {
     "name": "stdout",
     "output_type": "stream",
     "text": [
      "[2 3 4 5]\n",
      "[4 4 3 2]\n",
      "2\n",
      "3\n",
      "4\n",
      "5\n",
      "4\n",
      "4\n",
      "3\n",
      "2\n"
     ]
    }
   ],
   "source": [
    "# iterating 2-D arrays\n",
    "a7 = np.array([[2,3,4,5],[4,4,3,2]])\n",
    "\n",
    "#this will return the whole 1-D arrays \n",
    "for i in a7:\n",
    "    print(i)\n",
    "    \n",
    "# if we want to iterate over elements of array \n",
    "for i in a7:\n",
    "    for j in i:\n",
    "        print(j)"
   ]
  },
  {
   "cell_type": "code",
   "execution_count": 22,
   "id": "1c1337b9",
   "metadata": {},
   "outputs": [
    {
     "name": "stdout",
     "output_type": "stream",
     "text": [
      "[[8 7 6]\n",
      " [5 4 7]]\n",
      "[[2 5 3]\n",
      " [9 2 6]]\n",
      " \n",
      "[8 7 6]\n",
      "[5 4 7]\n",
      "[2 5 3]\n",
      "[9 2 6]\n",
      " \n",
      "8\n",
      "7\n",
      "6\n",
      "5\n",
      "4\n",
      "7\n",
      "2\n",
      "5\n",
      "3\n",
      "9\n",
      "2\n",
      "6\n"
     ]
    }
   ],
   "source": [
    "#iteratin 3-D arrays\n",
    "\n",
    "a8 = np.array([[[8,7,6],[5,4,7]],[[2,5,3],[9,2,6]]])\n",
    "\n",
    "for i in a8:\n",
    "    print(i)\n",
    "\n",
    "print(\" \")\n",
    "for i in a8:\n",
    "    for j in i:\n",
    "        print(j)\n",
    "        \n",
    "        \n",
    "print(\" \")\n",
    "for i in a8:\n",
    "    for j in i:\n",
    "        for k in j:\n",
    "            print(k)"
   ]
  },
  {
   "cell_type": "code",
   "execution_count": null,
   "id": "88ccd7d8",
   "metadata": {},
   "outputs": [],
   "source": []
  },
  {
   "cell_type": "markdown",
   "id": "abc7453d",
   "metadata": {},
   "source": [
    "## Joining Numpy Arrays:"
   ]
  },
  {
   "cell_type": "markdown",
   "id": "440c41f3",
   "metadata": {},
   "source": [
    "### using \"concatenate()\" function "
   ]
  },
  {
   "cell_type": "code",
   "execution_count": 28,
   "id": "46782eb3",
   "metadata": {},
   "outputs": [
    {
     "name": "stdout",
     "output_type": "stream",
     "text": [
      "[2 3 4 5 6 7 8 9]\n"
     ]
    }
   ],
   "source": [
    "a9 = np.array([2,3,4,5])\n",
    "\n",
    "a10 = np.array([6,7,8,9])\n",
    "\n",
    "newarr1 = np.concatenate((a9, a10))\n",
    "print(newarr1)"
   ]
  },
  {
   "cell_type": "code",
   "execution_count": 29,
   "id": "5e6fd19e",
   "metadata": {},
   "outputs": [
    {
     "name": "stdout",
     "output_type": "stream",
     "text": [
      "[[2 3 4]\n",
      " [5 3 1]\n",
      " [6 7 8]\n",
      " [9 2 4]]\n",
      "using 'axis' attribue\n",
      "[[2 3 4 6 7 8]\n",
      " [5 3 1 9 2 4]]\n"
     ]
    }
   ],
   "source": [
    "a11 = np.array([[2,3,4],[5,3,1]])\n",
    "\n",
    "a12 = np.array([[6,7,8],[9,2,4]])\n",
    "\n",
    "newarr2 = np.concatenate((a11, a12))\n",
    "print(newarr2)\n",
    "\n",
    "#sing axis attribue\n",
    "print(\"using 'axis' attribue\")\n",
    "newarr3 = np.concatenate((a11, a12),axis=1)\n",
    "print(newarr3)"
   ]
  },
  {
   "cell_type": "markdown",
   "id": "1708a2de",
   "metadata": {},
   "source": [
    "#### Using \"stack()\" function\n",
    "#### stack function has some helper functions:\n",
    "#### hstack() --- stack along row\n",
    "#### vstack() --- stack along columns\n",
    "#### dstack() --- stack along height"
   ]
  },
  {
   "cell_type": "code",
   "execution_count": 31,
   "id": "a121fffa",
   "metadata": {},
   "outputs": [
    {
     "name": "stdout",
     "output_type": "stream",
     "text": [
      "[[2 6]\n",
      " [3 7]\n",
      " [4 8]\n",
      " [5 9]]\n"
     ]
    }
   ],
   "source": [
    "a13 = np.array([2,3,4,5])\n",
    "\n",
    "a14 = np.array([6,7,8,9])\n",
    "\n",
    "newarr4 = np.stack((a13, a14),axis=1)\n",
    "print(newarr4)"
   ]
  },
  {
   "cell_type": "code",
   "execution_count": 32,
   "id": "22e20608",
   "metadata": {},
   "outputs": [
    {
     "name": "stdout",
     "output_type": "stream",
     "text": [
      "[2 3 4 5 6 7 8 9]\n"
     ]
    }
   ],
   "source": [
    "# hstack()\n",
    "\n",
    "a15 = np.array([2,3,4,5])\n",
    "\n",
    "a16 = np.array([6,7,8,9])\n",
    "\n",
    "newarr5 = np.hstack((a15, a16))\n",
    "print(newarr5)"
   ]
  },
  {
   "cell_type": "code",
   "execution_count": 33,
   "id": "515e8bee",
   "metadata": {},
   "outputs": [
    {
     "name": "stdout",
     "output_type": "stream",
     "text": [
      "[[2 3 4 5]\n",
      " [6 7 8 9]]\n"
     ]
    }
   ],
   "source": [
    "# vstack\n",
    "\n",
    "a17 = np.array([2,3,4,5])\n",
    "\n",
    "a18 = np.array([6,7,8,9])\n",
    "\n",
    "newarr6 = np.vstack((a17, a18))\n",
    "print(newarr6)"
   ]
  },
  {
   "cell_type": "code",
   "execution_count": 35,
   "id": "081dcd37",
   "metadata": {},
   "outputs": [
    {
     "name": "stdout",
     "output_type": "stream",
     "text": [
      "[[[2 6]\n",
      "  [3 7]\n",
      "  [4 8]\n",
      "  [5 9]]]\n"
     ]
    }
   ],
   "source": [
    "# dstack\n",
    "\n",
    "a19 = np.array([2,3,4,5])\n",
    "\n",
    "a20 = np.array([6,7,8,9])\n",
    "\n",
    "newarr7 = np.dstack((a19, a20))\n",
    "print(newarr7)"
   ]
  },
  {
   "cell_type": "code",
   "execution_count": null,
   "id": "edb5c3c2",
   "metadata": {},
   "outputs": [],
   "source": []
  },
  {
   "cell_type": "markdown",
   "id": "c056a05f",
   "metadata": {},
   "source": [
    "# Numpy Array functions to generate array of zeros or ones\n",
    "### np.zeros(shape, dtype,order)\n",
    "### np.ones(shape, dtype,order)"
   ]
  },
  {
   "cell_type": "code",
   "execution_count": 6,
   "id": "9bbc2852",
   "metadata": {},
   "outputs": [
    {
     "name": "stdout",
     "output_type": "stream",
     "text": [
      "[[0 0]\n",
      " [0 0]\n",
      " [0 0]\n",
      " [0 0]\n",
      " [0 0]\n",
      " [0 0]]\n"
     ]
    }
   ],
   "source": [
    "za = np.zeros([6,2],dtype=int)\n",
    "print(za)"
   ]
  },
  {
   "cell_type": "code",
   "execution_count": 10,
   "id": "f224dc14",
   "metadata": {},
   "outputs": [
    {
     "name": "stdout",
     "output_type": "stream",
     "text": [
      "[[[1. 1. 1.]\n",
      "  [1. 1. 1.]]\n",
      "\n",
      " [[1. 1. 1.]\n",
      "  [1. 1. 1.]]\n",
      "\n",
      " [[1. 1. 1.]\n",
      "  [1. 1. 1.]]]\n"
     ]
    }
   ],
   "source": [
    "oa = np.ones([3,2,3],dtype=float)\n",
    "print(oa)"
   ]
  },
  {
   "cell_type": "code",
   "execution_count": null,
   "id": "2b1a37d7",
   "metadata": {},
   "outputs": [],
   "source": []
  }
 ],
 "metadata": {
  "kernelspec": {
   "display_name": "Python 3 (ipykernel)",
   "language": "python",
   "name": "python3"
  },
  "language_info": {
   "codemirror_mode": {
    "name": "ipython",
    "version": 3
   },
   "file_extension": ".py",
   "mimetype": "text/x-python",
   "name": "python",
   "nbconvert_exporter": "python",
   "pygments_lexer": "ipython3",
   "version": "3.12.3"
  }
 },
 "nbformat": 4,
 "nbformat_minor": 5
}
