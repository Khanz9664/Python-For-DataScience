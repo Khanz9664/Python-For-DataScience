{
 "cells": [
  {
   "cell_type": "code",
   "execution_count": 2,
   "id": "7d29f5be-09f1-45ee-b440-69e8813af700",
   "metadata": {},
   "outputs": [],
   "source": [
    "a={\n",
    "    \"name\":\"shahid ul islam\",\n",
    "    \"father\":\"m.ayoub bhat\",\n",
    "    \"village\":\"noonmai\",\n",
    "    \"mob\":7780858125\n",
    "}"
   ]
  },
  {
   "cell_type": "code",
   "execution_count": 3,
   "id": "1205129a-7470-48b6-81df-63f5a0b7dc61",
   "metadata": {},
   "outputs": [
    {
     "data": {
      "text/plain": [
       "'shahid ul islam'"
      ]
     },
     "execution_count": 3,
     "metadata": {},
     "output_type": "execute_result"
    }
   ],
   "source": [
    "a[\"name\"]"
   ]
  },
  {
   "cell_type": "code",
   "execution_count": 4,
   "id": "63907c52-c6b6-4ab1-9a27-ca68c2034742",
   "metadata": {},
   "outputs": [
    {
     "data": {
      "text/plain": [
       "7780858125"
      ]
     },
     "execution_count": 4,
     "metadata": {},
     "output_type": "execute_result"
    }
   ],
   "source": [
    "a[\"mob\"]"
   ]
  },
  {
   "cell_type": "code",
   "execution_count": null,
   "id": "ef94ced7-46a0-4e69-bed6-d9419b30a7d7",
   "metadata": {},
   "outputs": [],
   "source": []
  },
  {
   "cell_type": "code",
   "execution_count": 5,
   "id": "f7e7c4eb-d1fd-427f-bf0c-ff6626f6f0a5",
   "metadata": {},
   "outputs": [],
   "source": [
    "#print all the keys in dictinary"
   ]
  },
  {
   "cell_type": "code",
   "execution_count": 7,
   "id": "76717431-f629-4924-b108-b123e96befc0",
   "metadata": {},
   "outputs": [
    {
     "name": "stdout",
     "output_type": "stream",
     "text": [
      "name\n",
      "father\n",
      "village\n",
      "mob\n"
     ]
    }
   ],
   "source": [
    "for key in a:\n",
    "    print(key)"
   ]
  },
  {
   "cell_type": "code",
   "execution_count": null,
   "id": "8dca2664-3990-4288-a2be-519d1e912c31",
   "metadata": {},
   "outputs": [],
   "source": []
  },
  {
   "cell_type": "code",
   "execution_count": null,
   "id": "1d2367e3-8f24-4e36-a857-5c2da9c0e3be",
   "metadata": {},
   "outputs": [],
   "source": []
  },
  {
   "cell_type": "code",
   "execution_count": 9,
   "id": "141d4e17-0db9-4441-89b8-eb770470483d",
   "metadata": {},
   "outputs": [],
   "source": [
    "#Dictionarey methods\n",
    "#get()    items()    keys()   values()    clear()"
   ]
  },
  {
   "cell_type": "code",
   "execution_count": 10,
   "id": "c3951d7b-bafb-49ef-ab3c-c23aabd690e8",
   "metadata": {},
   "outputs": [],
   "source": [
    "a={\n",
    "    \"name\":\"shahid ul islam\",\n",
    "    \"father\":\"m.ayoub bhat\",\n",
    "    \"village\":\"noonmai\",\n",
    "    \"mob\":7780858125\n",
    "}"
   ]
  },
  {
   "cell_type": "code",
   "execution_count": null,
   "id": "578c672b-fcd3-45ed-b009-b09daf5dfaf5",
   "metadata": {},
   "outputs": [],
   "source": []
  },
  {
   "cell_type": "code",
   "execution_count": 11,
   "id": "19317ca6-385d-4771-a92d-eb25bdd7032b",
   "metadata": {},
   "outputs": [],
   "source": [
    "#get()"
   ]
  },
  {
   "cell_type": "code",
   "execution_count": 13,
   "id": "d3d95b74-5bb1-4367-ad6d-043f0a4cd52e",
   "metadata": {},
   "outputs": [
    {
     "data": {
      "text/plain": [
       "'shahid ul islam'"
      ]
     },
     "execution_count": 13,
     "metadata": {},
     "output_type": "execute_result"
    }
   ],
   "source": [
    "a[\"name\"]"
   ]
  },
  {
   "cell_type": "code",
   "execution_count": 16,
   "id": "8f7bd540-d244-4f2b-a490-eda66b84a05c",
   "metadata": {},
   "outputs": [
    {
     "data": {
      "text/plain": [
       "'shahid ul islam'"
      ]
     },
     "execution_count": 16,
     "metadata": {},
     "output_type": "execute_result"
    }
   ],
   "source": [
    "a.get(\"name\")"
   ]
  },
  {
   "cell_type": "code",
   "execution_count": 19,
   "id": "7bb2516e-b201-4e22-91f1-d455ee986adb",
   "metadata": {},
   "outputs": [
    {
     "ename": "KeyError",
     "evalue": "'class'",
     "output_type": "error",
     "traceback": [
      "\u001b[1;31m---------------------------------------------------------------------------\u001b[0m",
      "\u001b[1;31mKeyError\u001b[0m                                  Traceback (most recent call last)",
      "Cell \u001b[1;32mIn[19], line 2\u001b[0m\n\u001b[0;32m      1\u001b[0m \u001b[38;5;66;03m#if we put a wrong key in there this throws an error\u001b[39;00m\n\u001b[1;32m----> 2\u001b[0m \u001b[43ma\u001b[49m\u001b[43m[\u001b[49m\u001b[38;5;124;43m\"\u001b[39;49m\u001b[38;5;124;43mclass\u001b[39;49m\u001b[38;5;124;43m\"\u001b[39;49m\u001b[43m]\u001b[49m\n",
      "\u001b[1;31mKeyError\u001b[0m: 'class'"
     ]
    }
   ],
   "source": [
    "#if we put a wrong key in there this throws an error\n",
    "a[\"class\"]"
   ]
  },
  {
   "cell_type": "code",
   "execution_count": 20,
   "id": "611728b1-4eef-4fb2-b0e5-41894e66bd69",
   "metadata": {},
   "outputs": [],
   "source": [
    "#this method doesn't throw an error if we put a wrong value it simply just returns none\n",
    "a.get(\"class\")"
   ]
  },
  {
   "cell_type": "code",
   "execution_count": null,
   "id": "23bc4af8-2dc5-4961-9047-69b1be86f700",
   "metadata": {},
   "outputs": [],
   "source": []
  },
  {
   "cell_type": "code",
   "execution_count": 21,
   "id": "05aee3a4-9668-4661-abb1-3b99b73bbf8c",
   "metadata": {},
   "outputs": [],
   "source": [
    "#items()"
   ]
  },
  {
   "cell_type": "code",
   "execution_count": 23,
   "id": "cb8891fb-8ee8-4754-a329-c2c923687b02",
   "metadata": {},
   "outputs": [
    {
     "name": "stdout",
     "output_type": "stream",
     "text": [
      "('name', 'shahid ul islam')\n",
      "('father', 'm.ayoub bhat')\n",
      "('village', 'noonmai')\n",
      "('mob', 7780858125)\n"
     ]
    }
   ],
   "source": [
    "for items in a.items():\n",
    "    print(items)"
   ]
  },
  {
   "cell_type": "code",
   "execution_count": 25,
   "id": "62bc6d6e-ed3e-4a57-86e1-e6d52b2a5020",
   "metadata": {},
   "outputs": [
    {
     "name": "stdout",
     "output_type": "stream",
     "text": [
      "name => shahid ul islam\n",
      "father => m.ayoub bhat\n",
      "village => noonmai\n",
      "mob => 7780858125\n"
     ]
    }
   ],
   "source": [
    "for key,value in a.items():\n",
    "    print(key, \"=>\", value)"
   ]
  },
  {
   "cell_type": "code",
   "execution_count": null,
   "id": "4cfd2eb2-141e-41a3-9241-dbe3535a5901",
   "metadata": {},
   "outputs": [],
   "source": []
  },
  {
   "cell_type": "code",
   "execution_count": 26,
   "id": "440ffda9-1700-45f5-904d-1a1e15a2bd16",
   "metadata": {},
   "outputs": [],
   "source": [
    "#keys "
   ]
  },
  {
   "cell_type": "code",
   "execution_count": 28,
   "id": "2baaa225-6897-4076-971b-06f2581a366a",
   "metadata": {},
   "outputs": [
    {
     "name": "stdout",
     "output_type": "stream",
     "text": [
      "name\n",
      "father\n",
      "village\n",
      "mob\n"
     ]
    }
   ],
   "source": [
    "for key in a.keys():\n",
    "    print(key)"
   ]
  },
  {
   "cell_type": "code",
   "execution_count": null,
   "id": "660ef3b6-32e6-47fc-a60e-19414bcb5a71",
   "metadata": {},
   "outputs": [],
   "source": []
  },
  {
   "cell_type": "code",
   "execution_count": 29,
   "id": "65fdfaaa-5abc-4929-b366-d6c5d31a975e",
   "metadata": {},
   "outputs": [],
   "source": [
    "#values()"
   ]
  },
  {
   "cell_type": "code",
   "execution_count": 30,
   "id": "709f511f-6dba-4688-bd30-a0a199b980b8",
   "metadata": {},
   "outputs": [
    {
     "name": "stdout",
     "output_type": "stream",
     "text": [
      "shahid ul islam\n",
      "m.ayoub bhat\n",
      "noonmai\n",
      "7780858125\n"
     ]
    }
   ],
   "source": [
    "for value in a.values():\n",
    "    print(value)"
   ]
  },
  {
   "cell_type": "code",
   "execution_count": null,
   "id": "aa8887c7-302b-48d8-83b1-1880c765d4b0",
   "metadata": {},
   "outputs": [],
   "source": []
  },
  {
   "cell_type": "code",
   "execution_count": 31,
   "id": "2bce577a-8bb1-4879-a629-d8b730a05c14",
   "metadata": {},
   "outputs": [],
   "source": [
    "#clear()"
   ]
  },
  {
   "cell_type": "code",
   "execution_count": 32,
   "id": "d98e4b9c-e65d-4784-ac17-24c85bf5157d",
   "metadata": {},
   "outputs": [],
   "source": [
    "a.clear()"
   ]
  },
  {
   "cell_type": "code",
   "execution_count": 33,
   "id": "33e5d210-284e-42f4-b0ab-6f663063dd15",
   "metadata": {},
   "outputs": [
    {
     "name": "stdout",
     "output_type": "stream",
     "text": [
      "{}\n"
     ]
    }
   ],
   "source": [
    "print(a)"
   ]
  },
  {
   "cell_type": "code",
   "execution_count": null,
   "id": "11925b39-d4ce-41b3-934e-a73e607d213b",
   "metadata": {},
   "outputs": [],
   "source": []
  }
 ],
 "metadata": {
  "kernelspec": {
   "display_name": "Python 3 (ipykernel)",
   "language": "python",
   "name": "python3"
  },
  "language_info": {
   "codemirror_mode": {
    "name": "ipython",
    "version": 3
   },
   "file_extension": ".py",
   "mimetype": "text/x-python",
   "name": "python",
   "nbconvert_exporter": "python",
   "pygments_lexer": "ipython3",
   "version": "3.12.0"
  }
 },
 "nbformat": 4,
 "nbformat_minor": 5
}
