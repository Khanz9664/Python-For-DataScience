{
 "cells": [
  {
   "cell_type": "markdown",
   "id": "eada9674",
   "metadata": {},
   "source": [
    "# 1. Introduction to OOP\n",
    "`Object-Oriented Programming (OOP) is a programming paradigm where data and operations on data are bundled together as objects. It makes code reusable, modular, and easier to maintain.`\n",
    "\n",
    "Key Principles of OOP:\n",
    "- Encapsulation: Binding data and methods together in a single unit.\n",
    "- Inheritance: Acquiring properties and behaviors from a parent class.\n",
    "- Polymorphism: Ability to redefine methods for different use cases.\n",
    "- Abstraction: Hiding implementation details and showing only essential features."
   ]
  },
  {
   "cell_type": "markdown",
   "id": "1efea54a",
   "metadata": {},
   "source": [
    "# 2. Basics: Classes and Objects\n",
    "Defining Classes and Objects"
   ]
  },
  {
   "cell_type": "code",
   "execution_count": 1,
   "id": "b83cec86",
   "metadata": {},
   "outputs": [
    {
     "name": "stdout",
     "output_type": "stream",
     "text": [
      "Car: Toyota Corolla\n",
      "Car: Honda Civic\n"
     ]
    }
   ],
   "source": [
    "# Defining a class\n",
    "class Car:\n",
    "    def __init__(self, brand, model):\n",
    "        self.brand = brand\n",
    "        self.model = model\n",
    "\n",
    "    def display_info(self):\n",
    "        print(f\"Car: {self.brand} {self.model}\")\n",
    "\n",
    "# Creating objects\n",
    "car1 = Car(\"Toyota\", \"Corolla\")\n",
    "car2 = Car(\"Honda\", \"Civic\")\n",
    "\n",
    "# Accessing attributes and methods\n",
    "car1.display_info()\n",
    "car2.display_info()"
   ]
  },
  {
   "cell_type": "markdown",
   "id": "84dedde2",
   "metadata": {},
   "source": [
    "# 3. The self Keyword\n",
    "Understanding self"
   ]
  },
  {
   "cell_type": "code",
   "execution_count": 2,
   "id": "148b8066",
   "metadata": {},
   "outputs": [
    {
     "name": "stdout",
     "output_type": "stream",
     "text": [
      "Addition: 30\n",
      "Multiplication: 50\n"
     ]
    }
   ],
   "source": [
    "class Calculator:\n",
    "    def add(self, a, b):\n",
    "        return a + b\n",
    "\n",
    "    def multiply(self, a, b):\n",
    "        return a * b\n",
    "\n",
    "calc = Calculator()\n",
    "print(\"Addition:\", calc.add(10, 20))\n",
    "print(\"Multiplication:\", calc.multiply(10, 5))"
   ]
  },
  {
   "cell_type": "markdown",
   "id": "0d164c88",
   "metadata": {},
   "source": [
    "# 4. Class and Instance Attributes\n",
    "Class Attributes vs Instance Attributes"
   ]
  },
  {
   "cell_type": "code",
   "execution_count": 3,
   "id": "7a4e75f4",
   "metadata": {},
   "outputs": [
    {
     "name": "stdout",
     "output_type": "stream",
     "text": [
      "Circle 1 Area: 78.53975\n",
      "Circle 2 Area: 314.159\n"
     ]
    }
   ],
   "source": [
    "class Circle:\n",
    "    pi = 3.14159  # Class attribute\n",
    "\n",
    "    def __init__(self, radius):\n",
    "        self.radius = radius  # Instance attribute\n",
    "\n",
    "    def area(self):\n",
    "        return Circle.pi * (self.radius ** 2)\n",
    "\n",
    "circle1 = Circle(5)\n",
    "circle2 = Circle(10)\n",
    "\n",
    "print(\"Circle 1 Area:\", circle1.area())\n",
    "print(\"Circle 2 Area:\", circle2.area())"
   ]
  },
  {
   "cell_type": "markdown",
   "id": "93a8a764",
   "metadata": {},
   "source": [
    "# 5. Constructor and Destructor\n",
    "Constructor `(__init__)` and Destructor `(__del__)`"
   ]
  },
  {
   "cell_type": "code",
   "execution_count": 4,
   "id": "dea37085",
   "metadata": {},
   "outputs": [
    {
     "name": "stdout",
     "output_type": "stream",
     "text": [
      "Alice is created.\n",
      "Alice is deleted.\n"
     ]
    }
   ],
   "source": [
    "class Person:\n",
    "    def __init__(self, name):\n",
    "        self.name = name\n",
    "        print(f\"{self.name} is created.\")\n",
    "\n",
    "    def __del__(self):\n",
    "        print(f\"{self.name} is deleted.\")\n",
    "\n",
    "person = Person(\"Alice\")\n",
    "del person  # Explicitly deleting the object"
   ]
  },
  {
   "cell_type": "markdown",
   "id": "12d4ffc4",
   "metadata": {},
   "source": [
    "# 6. Inheritance\n",
    "Inheritance allows a class (child) to inherit attributes and methods from another class (parent).\n",
    "\n",
    "Basic Inheritance"
   ]
  },
  {
   "cell_type": "code",
   "execution_count": 5,
   "id": "ac9da0e6",
   "metadata": {},
   "outputs": [
    {
     "name": "stdout",
     "output_type": "stream",
     "text": [
      "Dog barks.\n"
     ]
    }
   ],
   "source": [
    "class Animal:\n",
    "    def speak(self):\n",
    "        print(\"This is an animal sound.\")\n",
    "\n",
    "class Dog(Animal):\n",
    "    def speak(self):\n",
    "        print(\"Dog barks.\")\n",
    "\n",
    "dog = Dog()\n",
    "dog.speak()"
   ]
  },
  {
   "cell_type": "markdown",
   "id": "58e24a0a",
   "metadata": {},
   "source": [
    " Multi-Level Inheritance"
   ]
  },
  {
   "cell_type": "code",
   "execution_count": 6,
   "id": "9ce9511c",
   "metadata": {},
   "outputs": [
    {
     "name": "stdout",
     "output_type": "stream",
     "text": [
      "I am the grandparent.\n",
      "I am the parent.\n",
      "I am the child.\n"
     ]
    }
   ],
   "source": [
    "class Grandparent:\n",
    "    def display(self):\n",
    "        print(\"I am the grandparent.\")\n",
    "\n",
    "class Parent(Grandparent):\n",
    "    def show(self):\n",
    "        print(\"I am the parent.\")\n",
    "\n",
    "class Child(Parent):\n",
    "    def introduce(self):\n",
    "        print(\"I am the child.\")\n",
    "\n",
    "child = Child()\n",
    "child.display()\n",
    "child.show()\n",
    "child.introduce()"
   ]
  },
  {
   "cell_type": "markdown",
   "id": "a3186c91",
   "metadata": {},
   "source": [
    "# 7. Polymorphism\n",
    "Polymorphism allows methods in different classes to share the same name but behave differently.\n",
    "\n",
    "Method Overriding"
   ]
  },
  {
   "cell_type": "code",
   "execution_count": 7,
   "id": "a2d4e3de",
   "metadata": {},
   "outputs": [
    {
     "name": "stdout",
     "output_type": "stream",
     "text": [
      "Parrot mimics sounds.\n"
     ]
    }
   ],
   "source": [
    "class Bird:\n",
    "    def sound(self):\n",
    "        print(\"Birds make chirping sounds.\")\n",
    "\n",
    "class Parrot(Bird):\n",
    "    def sound(self):\n",
    "        print(\"Parrot mimics sounds.\")\n",
    "\n",
    "parrot = Parrot()\n",
    "parrot.sound()"
   ]
  },
  {
   "cell_type": "markdown",
   "id": "0e8a9219",
   "metadata": {},
   "source": [
    "Operator Overloading"
   ]
  },
  {
   "cell_type": "code",
   "execution_count": 8,
   "id": "1b47ff62",
   "metadata": {},
   "outputs": [
    {
     "name": "stdout",
     "output_type": "stream",
     "text": [
      "Sum of Points: (4, 6)\n"
     ]
    }
   ],
   "source": [
    "class Point:\n",
    "    def __init__(self, x, y):\n",
    "        self.x = x\n",
    "        self.y = y\n",
    "\n",
    "    def __add__(self, other):\n",
    "        return Point(self.x + other.x, self.y + other.y)\n",
    "\n",
    "    def __str__(self):\n",
    "        return f\"({self.x}, {self.y})\"\n",
    "\n",
    "p1 = Point(1, 2)\n",
    "p2 = Point(3, 4)\n",
    "print(\"Sum of Points:\", p1 + p2)"
   ]
  },
  {
   "cell_type": "markdown",
   "id": "5feb394e",
   "metadata": {},
   "source": [
    "# 8. Encapsulation\n",
    "Encapsulation is the process of restricting direct access to data using access modifiers.\n",
    "\n",
    "Public, Protected, and Private Attributes"
   ]
  },
  {
   "cell_type": "code",
   "execution_count": 9,
   "id": "03cc30d7",
   "metadata": {},
   "outputs": [
    {
     "name": "stdout",
     "output_type": "stream",
     "text": [
      "Public Balance: 1000\n",
      "Protected Balance (not recommended): 1000\n"
     ]
    }
   ],
   "source": [
    "class BankAccount:\n",
    "    def __init__(self, balance):\n",
    "        self.public_balance = balance       # Public\n",
    "        self._protected_balance = balance  # Protected\n",
    "        self.__private_balance = balance   # Private\n",
    "\n",
    "account = BankAccount(1000)\n",
    "print(\"Public Balance:\", account.public_balance)\n",
    "print(\"Protected Balance (not recommended):\", account._protected_balance)\n",
    "# Accessing private balance will raise an AttributeError\n",
    "# print(\"Private Balance:\", account.__private_balance)"
   ]
  },
  {
   "cell_type": "markdown",
   "id": "3a5e082c",
   "metadata": {},
   "source": [
    "# 9. Abstraction\n",
    "Abstraction hides the implementation details of a class and focuses only on the functionality.\n",
    "\n",
    "Abstract Base Classes"
   ]
  },
  {
   "cell_type": "code",
   "execution_count": 10,
   "id": "56ea63ae",
   "metadata": {},
   "outputs": [
    {
     "name": "stdout",
     "output_type": "stream",
     "text": [
      "Area: 50\n",
      "Perimeter: 30\n"
     ]
    }
   ],
   "source": [
    "from abc import ABC, abstractmethod\n",
    "\n",
    "class Shape(ABC):\n",
    "    @abstractmethod\n",
    "    def area(self):\n",
    "        pass\n",
    "\n",
    "    @abstractmethod\n",
    "    def perimeter(self):\n",
    "        pass\n",
    "\n",
    "class Rectangle(Shape):\n",
    "    def __init__(self, length, width):\n",
    "        self.length = length\n",
    "        self.width = width\n",
    "\n",
    "    def area(self):\n",
    "        return self.length * self.width\n",
    "\n",
    "    def perimeter(self):\n",
    "        return 2 * (self.length + self.width)\n",
    "\n",
    "rect = Rectangle(5, 10)\n",
    "print(\"Area:\", rect.area())\n",
    "print(\"Perimeter:\", rect.perimeter())"
   ]
  },
  {
   "cell_type": "markdown",
   "id": "105c633f",
   "metadata": {},
   "source": [
    "# 10. Static and Class Methods\n",
    "Static Method"
   ]
  },
  {
   "cell_type": "code",
   "execution_count": 11,
   "id": "48f08823",
   "metadata": {},
   "outputs": [
    {
     "name": "stdout",
     "output_type": "stream",
     "text": [
      "Is 4 even? True\n"
     ]
    }
   ],
   "source": [
    "class Utility:\n",
    "    @staticmethod\n",
    "    def is_even(num):\n",
    "        return num % 2 == 0\n",
    "\n",
    "print(\"Is 4 even?\", Utility.is_even(4))"
   ]
  },
  {
   "cell_type": "markdown",
   "id": "567981e4",
   "metadata": {},
   "source": [
    "Class Method"
   ]
  },
  {
   "cell_type": "code",
   "execution_count": 12,
   "id": "f4b193b7",
   "metadata": {},
   "outputs": [
    {
     "name": "stdout",
     "output_type": "stream",
     "text": [
      "Company Name: NewTech\n"
     ]
    }
   ],
   "source": [
    "class Employee:\n",
    "    company_name = \"TechCorp\"\n",
    "\n",
    "    @classmethod\n",
    "    def change_company(cls, new_name):\n",
    "        cls.company_name = new_name\n",
    "\n",
    "Employee.change_company(\"NewTech\")\n",
    "print(\"Company Name:\", Employee.company_name)"
   ]
  },
  {
   "cell_type": "markdown",
   "id": "bce44fe1",
   "metadata": {},
   "source": [
    "# 11. Special Methods\n",
    "Special methods (also called dunder methods) allow customization of class behavior.\n",
    "\n",
    "`__str__` Method"
   ]
  },
  {
   "cell_type": "code",
   "execution_count": 13,
   "id": "8d4e5d08",
   "metadata": {},
   "outputs": [
    {
     "name": "stdout",
     "output_type": "stream",
     "text": [
      "'1984' by George Orwell\n"
     ]
    }
   ],
   "source": [
    "class Book:\n",
    "    def __init__(self, title, author):\n",
    "        self.title = title\n",
    "        self.author = author\n",
    "\n",
    "    def __str__(self):\n",
    "        return f\"'{self.title}' by {self.author}\"\n",
    "\n",
    "book = Book(\"1984\", \"George Orwell\")\n",
    "print(book)"
   ]
  },
  {
   "cell_type": "markdown",
   "id": "e2ff2fe2",
   "metadata": {},
   "source": [
    "# 12. Conclusion\n",
    "This notebook covers all the essential concepts of OOP in Python, including:\n",
    "\n",
    "- Basics of classes and objects.\n",
    "- Basic concepts of Advanced features like inheritance, polymorphism, encapsulation, and abstraction.\n",
    "- Basics of Special methods "
   ]
  }
 ],
 "metadata": {
  "kernelspec": {
   "display_name": "Python 3 (ipykernel)",
   "language": "python",
   "name": "python3"
  },
  "language_info": {
   "codemirror_mode": {
    "name": "ipython",
    "version": 3
   },
   "file_extension": ".py",
   "mimetype": "text/x-python",
   "name": "python",
   "nbconvert_exporter": "python",
   "pygments_lexer": "ipython3",
   "version": "3.12.3"
  }
 },
 "nbformat": 4,
 "nbformat_minor": 5
}
