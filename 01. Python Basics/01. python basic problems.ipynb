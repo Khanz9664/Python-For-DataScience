{
 "cells": [
  {
   "cell_type": "markdown",
   "id": "88ede2f1",
   "metadata": {},
   "source": [
    "# Python Basics: An Introduction to Core Concepts\n",
    "In this notebook, we will cover the basic concepts of Python programming, including:\n",
    "\n",
    "    Variables and Data Types\n",
    "    Basic Arithmetic Operations\n",
    "    Strings\n",
    "    Lists\n",
    "    Basic Input and Output\n",
    "    Type Conversion\n",
    "    \n",
    "We will keep it simple and focus on the essentials."
   ]
  },
  {
   "cell_type": "markdown",
   "id": "1e35f486",
   "metadata": {},
   "source": [
    "## Variables and Data Types\n",
    "In Python, variables are used to store data. Python supports several data types, such as integers, floating-point numbers, and strings."
   ]
  },
  {
   "cell_type": "code",
   "execution_count": 1,
   "id": "ef642b94",
   "metadata": {},
   "outputs": [
    {
     "name": "stdout",
     "output_type": "stream",
     "text": [
      "Age: 25\n",
      "Height: 5.9\n",
      "Name: John\n",
      "Is student: True\n",
      "\n",
      "Data types:\n",
      "<class 'int'>\n",
      "<class 'float'>\n",
      "<class 'str'>\n",
      "<class 'bool'>\n"
     ]
    }
   ],
   "source": [
    "# Example 1: Declaring variables and understanding data types\n",
    "\n",
    "# Integer type\n",
    "age = 25  # Integer\n",
    "\n",
    "# Float type\n",
    "height = 5.9  # Float\n",
    "\n",
    "# String type\n",
    "name = \"John\"  # String\n",
    "\n",
    "# Boolean type\n",
    "is_student = True  # Boolean\n",
    "\n",
    "# Print variable values and their types\n",
    "print(\"Age:\", age)\n",
    "print(\"Height:\", height)\n",
    "print(\"Name:\", name)\n",
    "print(\"Is student:\", is_student)\n",
    "\n",
    "# Check data types\n",
    "print(\"\\nData types:\")\n",
    "print(type(age))        # <class 'int'>\n",
    "print(type(height))     # <class 'float'>\n",
    "print(type(name))       # <class 'str'>\n",
    "print(type(is_student)) # <class 'bool'>\n"
   ]
  },
  {
   "cell_type": "markdown",
   "id": "87028439",
   "metadata": {},
   "source": [
    "## Basic Arithmetic Operations\n",
    "Python can perform basic arithmetic operations. Here's how to do simple calculations:"
   ]
  },
  {
   "cell_type": "code",
   "execution_count": 2,
   "id": "5f373894",
   "metadata": {},
   "outputs": [
    {
     "name": "stdout",
     "output_type": "stream",
     "text": [
      "Addition: 15\n",
      "Subtraction: 5\n",
      "Multiplication: 50\n",
      "Division: 2.0\n",
      "Exponentiation: 8\n",
      "Modulus: 1\n",
      "Floor division: 3\n"
     ]
    }
   ],
   "source": [
    "# Example 2: Basic arithmetic operations\n",
    "\n",
    "# Addition\n",
    "sum_result = 10 + 5\n",
    "\n",
    "# Subtraction\n",
    "difference = 10 - 5\n",
    "\n",
    "# Multiplication\n",
    "product = 10 * 5\n",
    "\n",
    "# Division\n",
    "division_result = 10 / 5\n",
    "\n",
    "# Exponentiation (Power)\n",
    "power_result = 2 ** 3\n",
    "\n",
    "# Modulus (remainder of division)\n",
    "remainder = 10 % 3\n",
    "\n",
    "# Floor division (quotient without remainder)\n",
    "floor_div = 10 // 3\n",
    "\n",
    "# Print results\n",
    "print(\"Addition:\", sum_result)\n",
    "print(\"Subtraction:\", difference)\n",
    "print(\"Multiplication:\", product)\n",
    "print(\"Division:\", division_result)\n",
    "print(\"Exponentiation:\", power_result)\n",
    "print(\"Modulus:\", remainder)\n",
    "print(\"Floor division:\", floor_div)"
   ]
  },
  {
   "cell_type": "markdown",
   "id": "54276b49",
   "metadata": {},
   "source": [
    "## Strings\n",
    "Strings are sequences of characters enclosed in quotes. You can perform operations on strings, such as concatenation and repetition."
   ]
  },
  {
   "cell_type": "code",
   "execution_count": 3,
   "id": "da1acfc6",
   "metadata": {},
   "outputs": [
    {
     "name": "stdout",
     "output_type": "stream",
     "text": [
      "Greeting: Hello, World!\n",
      "Repeated greeting: Hi! Hi! Hi! \n",
      "First letter: H\n",
      "Substring: Hello\n",
      "Length of greeting: 13\n",
      "Uppercase: HELLO, WORLD!\n",
      "Lowercase: hello, world!\n"
     ]
    }
   ],
   "source": [
    "# Example 3: Working with strings\n",
    "\n",
    "# Concatenation (joining strings)\n",
    "greeting = \"Hello, \" + \"World!\"\n",
    "\n",
    "# Repetition (repeating a string)\n",
    "repeat_greeting = \"Hi! \" * 3\n",
    "\n",
    "# Accessing individual characters\n",
    "first_letter = greeting[0]  # 'H'\n",
    "\n",
    "# Slicing a string\n",
    "sub_string = greeting[0:5]  # 'Hello'\n",
    "\n",
    "# String length\n",
    "length = len(greeting)  # 13\n",
    "\n",
    "# String methods\n",
    "uppercase = greeting.upper()  # 'HELLO, WORLD!'\n",
    "lowercase = greeting.lower()  # 'hello, world!'\n",
    "\n",
    "# Print results\n",
    "print(\"Greeting:\", greeting)\n",
    "print(\"Repeated greeting:\", repeat_greeting)\n",
    "print(\"First letter:\", first_letter)\n",
    "print(\"Substring:\", sub_string)\n",
    "print(\"Length of greeting:\", length)\n",
    "print(\"Uppercase:\", uppercase)\n",
    "print(\"Lowercase:\", lowercase)"
   ]
  },
  {
   "cell_type": "markdown",
   "id": "3e9bb546",
   "metadata": {},
   "source": [
    "## Lists\n",
    "Lists are ordered collections of items, which can be of different types. Lists are mutable, meaning their contents can be changed."
   ]
  },
  {
   "cell_type": "code",
   "execution_count": 4,
   "id": "7f4c48a3",
   "metadata": {},
   "outputs": [
    {
     "name": "stdout",
     "output_type": "stream",
     "text": [
      "First fruit: apple\n",
      "Updated fruits list: ['orange', 'cherry', 'grape']\n",
      "List length: 3\n"
     ]
    }
   ],
   "source": [
    "# Example 4: Working with lists\n",
    "\n",
    "# Creating a list\n",
    "fruits = [\"apple\", \"banana\", \"cherry\"]\n",
    "\n",
    "# Accessing list items\n",
    "first_fruit = fruits[0]  # 'apple'\n",
    "\n",
    "# Modifying a list\n",
    "fruits[1] = \"orange\"  # Change 'banana' to 'orange'\n",
    "\n",
    "# Adding items to the list\n",
    "fruits.append(\"grape\")  # Add 'grape' to the end\n",
    "\n",
    "# Removing items from the list\n",
    "fruits.remove(\"apple\")  # Remove 'apple'\n",
    "\n",
    "# Length of the list\n",
    "list_length = len(fruits)  # 3\n",
    "\n",
    "# Print results\n",
    "print(\"First fruit:\", first_fruit)\n",
    "print(\"Updated fruits list:\", fruits)\n",
    "print(\"List length:\", list_length)"
   ]
  },
  {
   "cell_type": "markdown",
   "id": "2251b9ae",
   "metadata": {},
   "source": [
    "## Basic Input and Output\n",
    "Python allows you to get input from users and display output."
   ]
  },
  {
   "cell_type": "code",
   "execution_count": 5,
   "id": "45beadd9",
   "metadata": {},
   "outputs": [
    {
     "name": "stdout",
     "output_type": "stream",
     "text": [
      "Enter your name: shahid\n",
      "Hello, shahid!\n"
     ]
    }
   ],
   "source": [
    "# Example 5: Input and Output\n",
    "\n",
    "# Taking input from the user\n",
    "name = input(\"Enter your name: \")\n",
    "\n",
    "# Displaying output\n",
    "print(\"Hello, \" + name + \"!\")"
   ]
  },
  {
   "cell_type": "markdown",
   "id": "5d548e6b",
   "metadata": {},
   "source": [
    "## Type Conversion\n",
    "Sometimes, you need to convert between different data types, especially when dealing with input from the user or performing mathematical operations."
   ]
  },
  {
   "cell_type": "code",
   "execution_count": 6,
   "id": "ba2bb46f",
   "metadata": {},
   "outputs": [
    {
     "name": "stdout",
     "output_type": "stream",
     "text": [
      "Age as integer: 25\n",
      "Age as string: 25\n",
      "Height as float: 5.9\n"
     ]
    }
   ],
   "source": [
    "# Example 6: Type Conversion\n",
    "\n",
    "# Converting string to integer\n",
    "age_str = \"25\"\n",
    "age_int = int(age_str)  # Converts the string \"25\" to an integer\n",
    "\n",
    "# Converting integer to string\n",
    "age_string = str(age_int)  # Converts the integer 25 to the string \"25\"\n",
    "\n",
    "# Converting string to float\n",
    "height_str = \"5.9\"\n",
    "height_float = float(height_str)  # Converts the string \"5.9\" to a float\n",
    "\n",
    "# Display results\n",
    "print(\"Age as integer:\", age_int)\n",
    "print(\"Age as string:\", age_string)\n",
    "print(\"Height as float:\", height_float)"
   ]
  },
  {
   "cell_type": "markdown",
   "id": "1aec18ae",
   "metadata": {},
   "source": []
  },
  {
   "cell_type": "markdown",
   "id": "75228c46",
   "metadata": {},
   "source": [
    "## Examples "
   ]
  },
  {
   "cell_type": "code",
   "execution_count": 2,
   "id": "f42d3ac7-b4a4-409e-93f0-e956d1cce503",
   "metadata": {},
   "outputs": [
    {
     "name": "stdout",
     "output_type": "stream",
     "text": [
      "600\n"
     ]
    }
   ],
   "source": [
    "#  num1=20  num2=30  expectd output is 600\n",
    "n1=20\n",
    "n2=30\n",
    "print(n1*n2)"
   ]
  },
  {
   "cell_type": "code",
   "execution_count": 4,
   "id": "998b0f5d-cd94-4ab2-b27c-55e3980bd2df",
   "metadata": {},
   "outputs": [
    {
     "name": "stdout",
     "output_type": "stream",
     "text": [
      "70\n"
     ]
    }
   ],
   "source": [
    "#  num1=40  num2=30  expectd output is 70\n",
    "n1=40\n",
    "n2=30\n",
    "print(n1+n2)"
   ]
  },
  {
   "cell_type": "code",
   "execution_count": 11,
   "id": "3ebcfc48-8c3c-4a93-8f02-069169a08705",
   "metadata": {},
   "outputs": [
    {
     "name": "stdout",
     "output_type": "stream",
     "text": [
      "previous num  0 current num  0 =  0\n",
      "previous num  0 current num  1 =  1\n",
      "previous num  1 current num  2 =  3\n",
      "previous num  2 current num  3 =  5\n",
      "previous num  3 current num  4 =  7\n",
      "previous num  4 current num  5 =  9\n",
      "previous num  5 current num  6 =  11\n",
      "previous num  6 current num  7 =  13\n",
      "previous num  7 current num  8 =  15\n",
      "previous num  8 current num  9 =  17\n"
     ]
    }
   ],
   "source": [
    "#iterate first 10 nums and print sum of previous and current num\n",
    "prev=0\n",
    "for i in range(10):\n",
    "    pre=i\n",
    "    print(\"previous num \" , prev , \"current num \" , i ,\"= \", pre+prev)\n",
    "    prev=i"
   ]
  },
  {
   "cell_type": "code",
   "execution_count": 18,
   "id": "dc556b6e-e356-4e92-9823-7a5b1d7ef443",
   "metadata": {},
   "outputs": [
    {
     "name": "stdin",
     "output_type": "stream",
     "text": [
      "enter string:  shahid\n"
     ]
    },
    {
     "name": "stdout",
     "output_type": "stream",
     "text": [
      "s\n",
      "a\n",
      "i\n"
     ]
    }
   ],
   "source": [
    "#take string from user and print characters at even index\n",
    "str=input(\"enter string: \")\n",
    "length=len(str)\n",
    "for i in range(length-1):\n",
    "    if i%2==0:\n",
    "        print(str[i])"
   ]
  },
  {
   "cell_type": "code",
   "execution_count": 17,
   "id": "f786c496-8dd5-4a1f-8a4b-1e199e25aeaf",
   "metadata": {},
   "outputs": [
    {
     "name": "stdin",
     "output_type": "stream",
     "text": [
      "enter string:  shahid\n"
     ]
    },
    {
     "name": "stdout",
     "output_type": "stream",
     "text": [
      "s\n",
      "a\n",
      "i\n"
     ]
    }
   ],
   "source": [
    "str=input(\"enter string: \")\n",
    "length=len(str)\n",
    "for i in range(0,length-1,2):\n",
    "    print(str[i])"
   ]
  },
  {
   "cell_type": "code",
   "execution_count": 24,
   "id": "2c3001a4-aab9-4638-b498-f8552be58920",
   "metadata": {},
   "outputs": [
    {
     "name": "stdin",
     "output_type": "stream",
     "text": [
      "enter string:  shahid\n",
      "enetr no of characters to be removed 4\n"
     ]
    },
    {
     "data": {
      "text/plain": [
       "'id'"
      ]
     },
     "execution_count": 24,
     "metadata": {},
     "output_type": "execute_result"
    }
   ],
   "source": [
    "#take string from user and remove first n characters from string\n",
    "s=input(\"enter string: \")\n",
    "n=int(input(\"enetr no of characters to be removed\"))\n",
    "s[n:]"
   ]
  },
  {
   "cell_type": "code",
   "execution_count": 35,
   "id": "2154d560-6d2e-4afb-800d-55e0b64c4c46",
   "metadata": {},
   "outputs": [
    {
     "name": "stdin",
     "output_type": "stream",
     "text": [
      "enter no of elements 5\n",
      " 1\n",
      " 2\n",
      " 3\n",
      " 4\n",
      " 1\n"
     ]
    },
    {
     "name": "stdout",
     "output_type": "stream",
     "text": [
      "true\n"
     ]
    }
   ],
   "source": [
    "#check if first and last element of list is same\n",
    "def fun1(list):\n",
    "    if list[0]==list[-1]:\n",
    "        return 1\n",
    "    else:\n",
    "        return 0\n",
    "list1=[]\n",
    "n=int(input(\"enter no of elements\"))\n",
    "for i in range(0,n):\n",
    "    ele=int(input())\n",
    "    list1.append(ele)\n",
    "r=fun1(list1)\n",
    "if r==1:\n",
    "    print(\"true\")\n",
    "else:\n",
    "    print(\"false\")"
   ]
  },
  {
   "cell_type": "code",
   "execution_count": 60,
   "id": "a8c02a52-2c57-419e-8ffc-306fd7ffc0ab",
   "metadata": {},
   "outputs": [
    {
     "name": "stdout",
     "output_type": "stream",
     "text": [
      "-1\n"
     ]
    }
   ],
   "source": [
    "#ind maximum in list without creating a list \n",
    "m=None\n",
    "for i in [-5,-9,-1,-8,-3]:\n",
    "    if m is None or i>=m:\n",
    "        m=i\n",
    "print(m)"
   ]
  },
  {
   "cell_type": "code",
   "execution_count": 61,
   "id": "274ebe65-97cb-4e9e-9fca-deb9837f610f",
   "metadata": {},
   "outputs": [
    {
     "name": "stdout",
     "output_type": "stream",
     "text": [
      "-1\n"
     ]
    }
   ],
   "source": [
    "m= float('-inf')\n",
    "for i in [-5,-9,-1,-8,-3]:\n",
    "    if i>=m:\n",
    "        m=i\n",
    "print(m)"
   ]
  },
  {
   "cell_type": "code",
   "execution_count": 66,
   "id": "8cfad15e-2663-45b6-872a-376e5bd99b7f",
   "metadata": {},
   "outputs": [
    {
     "name": "stdout",
     "output_type": "stream",
     "text": [
      "10\n",
      "20\n",
      "50\n"
     ]
    }
   ],
   "source": [
    "# display nums divsible by 5 in list\n",
    "l1=[10,20,33,44,50]\n",
    "for i in l1:\n",
    "    if i%5==0:\n",
    "        print(i)"
   ]
  },
  {
   "cell_type": "code",
   "execution_count": 70,
   "id": "4a175aa2-562f-46aa-861e-da9ef8abf3f1",
   "metadata": {},
   "outputs": [
    {
     "name": "stdout",
     "output_type": "stream",
     "text": [
      "shahid occurs 2\n"
     ]
    }
   ],
   "source": [
    "#return count of a given sub string\n",
    "str1=\"shahid is not a good developer. shahid is writer\"\n",
    "print(\"shahid occurs\",str1.count('shahid'))"
   ]
  },
  {
   "cell_type": "code",
   "execution_count": 71,
   "id": "19952d2a-4e68-4352-88bd-994f3d2d8dd4",
   "metadata": {},
   "outputs": [
    {
     "name": "stdin",
     "output_type": "stream",
     "text": [
      " shahid is ood\n",
      " good\n"
     ]
    },
    {
     "name": "stdout",
     "output_type": "stream",
     "text": [
      "good occurs 0\n"
     ]
    }
   ],
   "source": [
    "str2=input()\n",
    "search=input()\n",
    "print(search , \"occurs\" , str2.count(search))"
   ]
  },
  {
   "cell_type": "code",
   "execution_count": 76,
   "id": "66c0484a-4d23-4ffe-a11a-25a8c01bbc6c",
   "metadata": {},
   "outputs": [
    {
     "name": "stdout",
     "output_type": "stream",
     "text": [
      "1 \n",
      "\n",
      "2 2 \n",
      "\n",
      "3 3 3 \n",
      "\n",
      "4 4 4 4 \n",
      "\n",
      "5 5 5 5 5 \n",
      "\n"
     ]
    }
   ],
   "source": [
    "#print the pattern\n",
    "for i in range(1,6):\n",
    "    for j in range(i):\n",
    "        print(i, end=\" \")\n",
    "    print(\"\\n\")"
   ]
  },
  {
   "cell_type": "code",
   "execution_count": 94,
   "id": "5c949113-bf01-4300-a936-73938af22cad",
   "metadata": {},
   "outputs": [
    {
     "name": "stdin",
     "output_type": "stream",
     "text": [
      "enetr the number 12333\n"
     ]
    },
    {
     "name": "stdout",
     "output_type": "stream",
     "text": [
      "12333 is not plaindrome\n"
     ]
    }
   ],
   "source": [
    "#check plaindrome number\n",
    "num=int(input(\"enetr the number\"))\n",
    "temp=num\n",
    "reverse=0\n",
    "while temp>0:\n",
    "    remainder=temp%10\n",
    "    temp=temp//10\n",
    "    reverse=reverse*10+remainder\n",
    "if num==reverse:\n",
    "    print(num , \"is plaindrome\")\n",
    "else:\n",
    "    print(num , \"is not plaindrome\")"
   ]
  },
  {
   "cell_type": "code",
   "execution_count": 96,
   "id": "a3d441aa-09d5-4633-9dd6-68dd318623cf",
   "metadata": {},
   "outputs": [
    {
     "name": "stdout",
     "output_type": "stream",
     "text": [
      "[1, 3, 5, 22, 44]\n"
     ]
    }
   ],
   "source": [
    "#create a list from given two lists such that list contains odd from first list and even from 2nd list\n",
    "l1=[1,2,3,4,5,6]\n",
    "l2=[11,22,33,44,55]\n",
    "l3=[]\n",
    "for i in l1:\n",
    "    if i%2!=0:\n",
    "        l3.append(i)\n",
    "for i in l2:\n",
    "    if i%2==0:\n",
    "        l3.append(i)\n",
    "print(l3)"
   ]
  },
  {
   "cell_type": "code",
   "execution_count": 97,
   "id": "1c1ece52-946d-4181-a7d6-970ff3a81d9c",
   "metadata": {},
   "outputs": [
    {
     "name": "stdout",
     "output_type": "stream",
     "text": [
      "1\n",
      "2\n",
      "3\n",
      "4\n",
      "5\n",
      "5\n"
     ]
    }
   ],
   "source": [
    "#problem determine outpu\n",
    "l11=[1,2,3,4,5,6]\n",
    "for l11[-1] in l11:\n",
    "    print(l11[-1])"
   ]
  },
  {
   "cell_type": "code",
   "execution_count": 98,
   "id": "dafa5517-66bf-4c77-af89-6aeb263c5972",
   "metadata": {},
   "outputs": [
    {
     "name": "stdout",
     "output_type": "stream",
     "text": [
      "[1, 9, 5]\n"
     ]
    }
   ],
   "source": [
    "a=[1,2,3,4,5]\n",
    "a[1:4]=[9]\n",
    "print(a)"
   ]
  },
  {
   "cell_type": "code",
   "execution_count": null,
   "id": "2d8be50e-d4ca-482c-b803-24d5124dab2d",
   "metadata": {},
   "outputs": [],
   "source": []
  }
 ],
 "metadata": {
  "kernelspec": {
   "display_name": "Python 3 (ipykernel)",
   "language": "python",
   "name": "python3"
  },
  "language_info": {
   "codemirror_mode": {
    "name": "ipython",
    "version": 3
   },
   "file_extension": ".py",
   "mimetype": "text/x-python",
   "name": "python",
   "nbconvert_exporter": "python",
   "pygments_lexer": "ipython3",
   "version": "3.12.3"
  }
 },
 "nbformat": 4,
 "nbformat_minor": 5
}
