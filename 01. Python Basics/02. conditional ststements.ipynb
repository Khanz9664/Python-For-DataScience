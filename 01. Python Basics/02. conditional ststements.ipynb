{
 "cells": [
  {
   "cell_type": "markdown",
   "id": "23ff9eae",
   "metadata": {},
   "source": [
    "# Introduction to Conditional Statements:\n",
    "\n",
    "Conditional statements are used to perform different actions based on different conditions. They allow us to execute certain blocks of code only if specific criteria are met.\n",
    "\n",
    "In Python, we use `if`, `elif`, and `else` to implement conditional logic. These statements can control the flow of a program based on conditions that evaluate to `True` or `False`.\n",
    "\n",
    "In this notebook, we will explore basic to advanced conditional statements with practical examples.\n"
   ]
  },
  {
   "cell_type": "markdown",
   "id": "49d0711f",
   "metadata": {},
   "source": [
    "## Basic Conditional Statements\n",
    "Starting with the most basic form of a conditional statement, i.e., the `if` statement."
   ]
  },
  {
   "cell_type": "code",
   "execution_count": 1,
   "id": "265481b7",
   "metadata": {},
   "outputs": [
    {
     "name": "stdout",
     "output_type": "stream",
     "text": [
      "x is greater than 5\n"
     ]
    }
   ],
   "source": [
    "# Example 1: Basic if statement\n",
    "x = 10\n",
    "\n",
    "if x > 5:\n",
    "    print(\"x is greater than 5\")"
   ]
  },
  {
   "cell_type": "markdown",
   "id": "f9daf881",
   "metadata": {},
   "source": [
    "## if...else Statement\n",
    "The `else` clause, which allows you to specify an alternative block of code when the condition is False."
   ]
  },
  {
   "cell_type": "code",
   "execution_count": 2,
   "id": "0d93b0fd-6f75-42bd-928c-ac11f0a8790e",
   "metadata": {},
   "outputs": [
    {
     "name": "stdout",
     "output_type": "stream",
     "text": [
      "x is not greater than 5\n"
     ]
    }
   ],
   "source": [
    "# Example 2: if-else statement\n",
    "x = 3\n",
    "\n",
    "if x > 5:\n",
    "    print(\"x is greater than 5\")\n",
    "else:\n",
    "    print(\"x is not greater than 5\")"
   ]
  },
  {
   "cell_type": "markdown",
   "id": "3d0fd1b6",
   "metadata": {},
   "source": [
    "## if...elif...else Statement\n",
    "The `elif` (else-if) statement, which lets you check multiple conditions."
   ]
  },
  {
   "cell_type": "code",
   "execution_count": 3,
   "id": "6e6ffa11-f866-4374-9ce4-eab41af49423",
   "metadata": {},
   "outputs": [
    {
     "name": "stdout",
     "output_type": "stream",
     "text": [
      "x is greater than 5 but less than or equal to 10\n"
     ]
    }
   ],
   "source": [
    "# Example 3: if-elif-else statement\n",
    "x = 7\n",
    "\n",
    "if x > 10:\n",
    "    print(\"x is greater than 10\")\n",
    "elif x > 5:\n",
    "    print(\"x is greater than 5 but less than or equal to 10\")\n",
    "else:\n",
    "    print(\"x is 5 or less\")"
   ]
  },
  {
   "cell_type": "markdown",
   "id": "adfc3473",
   "metadata": {},
   "source": [
    "## Nested Conditional Statements\n",
    "Introduce nested conditionals where one if statement is placed inside another."
   ]
  },
  {
   "cell_type": "code",
   "execution_count": 4,
   "id": "ccb78c1e-f0ec-49c1-a341-8a30824b029a",
   "metadata": {},
   "outputs": [
    {
     "name": "stdout",
     "output_type": "stream",
     "text": [
      "x is greater than 5 and y is greater than 15\n"
     ]
    }
   ],
   "source": [
    "# Example 4: Nested if-else statements\n",
    "x = 10\n",
    "y = 20\n",
    "\n",
    "if x > 5:\n",
    "    if y > 15:\n",
    "        print(\"x is greater than 5 and y is greater than 15\")\n",
    "    else:\n",
    "        print(\"x is greater than 5 and y is not greater than 15\")\n",
    "else:\n",
    "    print(\"x is not greater than 5\")"
   ]
  },
  {
   "cell_type": "markdown",
   "id": "aa0498a7",
   "metadata": {},
   "source": [
    "## Boolean Operators with Conditional Statements\n",
    "The use of logical operators (and, or, not) to combine multiple conditions."
   ]
  },
  {
   "cell_type": "code",
   "execution_count": 5,
   "id": "3ac16a2f-8d0a-4377-9ebd-89df2d6302a4",
   "metadata": {},
   "outputs": [
    {
     "name": "stdout",
     "output_type": "stream",
     "text": [
      "x is greater than 5 and y is less than 10\n",
      "Either x is greater than 5 or y is greater than 10\n",
      "x is not less than 5\n"
     ]
    }
   ],
   "source": [
    "# Example 5: Using 'and', 'or' in conditionals\n",
    "x = 10\n",
    "y = 5\n",
    "\n",
    "if x > 5 and y < 10:\n",
    "    print(\"x is greater than 5 and y is less than 10\")\n",
    "\n",
    "if x > 5 or y > 10:\n",
    "    print(\"Either x is greater than 5 or y is greater than 10\")\n",
    "\n",
    "if not (x < 5):\n",
    "    print(\"x is not less than 5\")"
   ]
  },
  {
   "cell_type": "markdown",
   "id": "94a3c2bf",
   "metadata": {},
   "source": [
    "## Conditional Expressions (Ternary Operator)\n",
    "use conditional expressions, which are a compact form of if-else."
   ]
  },
  {
   "cell_type": "code",
   "execution_count": 6,
   "id": "4c21fa4e-b3f0-4b6d-96fa-2147c3cb8681",
   "metadata": {},
   "outputs": [
    {
     "name": "stdout",
     "output_type": "stream",
     "text": [
      "x is greater than 5\n"
     ]
    }
   ],
   "source": [
    "# Example 6: Conditional (ternary) operator\n",
    "x = 7\n",
    "result = \"x is greater than 5\" if x > 5 else \"x is not greater than 5\"\n",
    "print(result)"
   ]
  },
  {
   "cell_type": "markdown",
   "id": "844ed06c",
   "metadata": {},
   "source": [
    "## Advanced Example: Handling Multiple Conditions\n",
    "Using more complex logic with multiple conditions and more advanced use cases."
   ]
  },
  {
   "cell_type": "code",
   "execution_count": 7,
   "id": "2c5ba99c-14a8-4e74-a459-55c8824de342",
   "metadata": {},
   "outputs": [
    {
     "name": "stdout",
     "output_type": "stream",
     "text": [
      "Eligible to vote in the USA\n"
     ]
    }
   ],
   "source": [
    "# Example 7: Advanced conditional logic\n",
    "age = 25\n",
    "citizenship = \"USA\"\n",
    "\n",
    "if age >= 18 and citizenship == \"USA\":\n",
    "    print(\"Eligible to vote in the USA\")\n",
    "elif age < 18:\n",
    "    print(\"Not eligible to vote (under 18)\")\n",
    "else:\n",
    "    print(\"Not eligible to vote (non-citizen)\")"
   ]
  },
  {
   "cell_type": "markdown",
   "id": "dd754752",
   "metadata": {},
   "source": [
    "## Using in for Membership Tests\n",
    "The `in` keyword, which checks if an element exists within a sequence."
   ]
  },
  {
   "cell_type": "code",
   "execution_count": 8,
   "id": "41616ce0-8e0a-4159-a79c-51601748aae6",
   "metadata": {},
   "outputs": [
    {
     "name": "stdout",
     "output_type": "stream",
     "text": [
      "Monday is a weekday\n"
     ]
    }
   ],
   "source": [
    "# Example 8: Using 'in' for membership test\n",
    "days = [\"Monday\", \"Tuesday\", \"Wednesday\", \"Thursday\", \"Friday\"]\n",
    "\n",
    "today = \"Monday\"\n",
    "if today in days:\n",
    "    print(f\"{today} is a weekday\")\n",
    "else:\n",
    "    print(f\"{today} is not a weekday\")"
   ]
  },
  {
   "cell_type": "markdown",
   "id": "32a4e7e6",
   "metadata": {},
   "source": [
    "## Combining Conditional Statements and Functions\n",
    "Create a small function that returns a value based on conditions."
   ]
  },
  {
   "cell_type": "code",
   "execution_count": 9,
   "id": "5d62c2a2",
   "metadata": {},
   "outputs": [
    {
     "name": "stdout",
     "output_type": "stream",
     "text": [
      "B\n"
     ]
    }
   ],
   "source": [
    "# Example 9: Function with conditionals\n",
    "def grade_evaluation(grade):\n",
    "    if grade >= 90:\n",
    "        return \"A\"\n",
    "    elif grade >= 80:\n",
    "        return \"B\"\n",
    "    elif grade >= 70:\n",
    "        return \"C\"\n",
    "    elif grade >= 60:\n",
    "        return \"D\"\n",
    "    else:\n",
    "        return \"F\"\n",
    "\n",
    "print(grade_evaluation(85))  # Output: B"
   ]
  },
  {
   "cell_type": "markdown",
   "id": "10a65847",
   "metadata": {},
   "source": [
    "## Practice Problem (Advanced)\n",
    "Provide a more complex problem to practice conditional statements.\n",
    "\n",
    "Problem:\n",
    "\n",
    "    # Problem: Classifying Numbers\n",
    "\n",
    "Write a Python program that classifies a number as positive, negative, or zero. Additionally, classify the number as even or odd.\n",
    "\n",
    "**Hint:**\n",
    "- Use multiple `if`, `elif`, and `else` statements."
   ]
  },
  {
   "cell_type": "markdown",
   "id": "9323d252",
   "metadata": {},
   "source": [
    "### Solution:"
   ]
  },
  {
   "cell_type": "code",
   "execution_count": 10,
   "id": "a46575bc",
   "metadata": {},
   "outputs": [
    {
     "name": "stdout",
     "output_type": "stream",
     "text": [
      "Negative even number\n"
     ]
    }
   ],
   "source": [
    "# Solution to the classification problem\n",
    "def classify_number(n):\n",
    "    if n == 0:\n",
    "        print(\"Zero\")\n",
    "    elif n > 0:\n",
    "        if n % 2 == 0:\n",
    "            print(\"Positive even number\")\n",
    "        else:\n",
    "            print(\"Positive odd number\")\n",
    "    else:\n",
    "        if n % 2 == 0:\n",
    "            print(\"Negative even number\")\n",
    "        else:\n",
    "            print(\"Negative odd number\")\n",
    "\n",
    "classify_number(-4)  # Output: Negative even number"
   ]
  },
  {
   "cell_type": "code",
   "execution_count": null,
   "id": "54c72cad",
   "metadata": {},
   "outputs": [],
   "source": []
  },
  {
   "cell_type": "markdown",
   "id": "78968685",
   "metadata": {},
   "source": [
    "# Conclusion\n",
    "\n",
    "In this notebook, we have explored conditional statements in Python, starting from basic `if` statements to more advanced examples using `elif`, `else`, logical operators, and functions. Mastering conditional logic is essential to controlling the flow of a program based on dynamic conditions.\n"
   ]
  }
 ],
 "metadata": {
  "kernelspec": {
   "display_name": "Python 3 (ipykernel)",
   "language": "python",
   "name": "python3"
  },
  "language_info": {
   "codemirror_mode": {
    "name": "ipython",
    "version": 3
   },
   "file_extension": ".py",
   "mimetype": "text/x-python",
   "name": "python",
   "nbconvert_exporter": "python",
   "pygments_lexer": "ipython3",
   "version": "3.12.3"
  }
 },
 "nbformat": 4,
 "nbformat_minor": 5
}
