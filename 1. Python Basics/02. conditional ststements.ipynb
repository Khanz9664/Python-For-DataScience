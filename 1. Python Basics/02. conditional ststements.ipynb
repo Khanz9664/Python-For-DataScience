{
 "cells": [
  {
   "cell_type": "code",
   "execution_count": 5,
   "id": "0d93b0fd-6f75-42bd-928c-ac11f0a8790e",
   "metadata": {},
   "outputs": [
    {
     "name": "stdin",
     "output_type": "stream",
     "text": [
      "eneter numbr 20\n"
     ]
    }
   ],
   "source": [
    "a=int (input(\"eneter numbr\"))"
   ]
  },
  {
   "cell_type": "code",
   "execution_count": 6,
   "id": "a1644ff8-9c1b-4134-bfcf-be141ad77864",
   "metadata": {},
   "outputs": [],
   "source": [
    "#if else"
   ]
  },
  {
   "cell_type": "code",
   "execution_count": 7,
   "id": "6e6ffa11-f866-4374-9ce4-eab41af49423",
   "metadata": {},
   "outputs": [
    {
     "name": "stdout",
     "output_type": "stream",
     "text": [
      "even\n"
     ]
    }
   ],
   "source": [
    "if a%2==0:\n",
    "    print(\"even\")\n",
    "else:\n",
    "    print(\"odd\")"
   ]
  },
  {
   "cell_type": "code",
   "execution_count": null,
   "id": "519cd8b2-ab32-434a-bc35-fab4b2991fb8",
   "metadata": {},
   "outputs": [],
   "source": []
  },
  {
   "cell_type": "code",
   "execution_count": null,
   "id": "ccb78c1e-f0ec-49c1-a341-8a30824b029a",
   "metadata": {},
   "outputs": [],
   "source": []
  },
  {
   "cell_type": "code",
   "execution_count": 8,
   "id": "ddd7179b-8625-4e1c-9c19-210eb661ba3e",
   "metadata": {},
   "outputs": [
    {
     "name": "stdin",
     "output_type": "stream",
     "text": [
      "eneter numbr 10\n",
      "eneter numbr 20\n",
      "eneter numbr 30\n"
     ]
    }
   ],
   "source": [
    "x=int (input(\"eneter numbr\"))\n",
    "y=int (input(\"eneter numbr\"))\n",
    "z=int (input(\"eneter numbr\"))"
   ]
  },
  {
   "cell_type": "code",
   "execution_count": null,
   "id": "946286d4-4c49-4b73-b9fc-0d75f39da173",
   "metadata": {},
   "outputs": [],
   "source": [
    "#if elif"
   ]
  },
  {
   "cell_type": "code",
   "execution_count": 9,
   "id": "3ac16a2f-8d0a-4377-9ebd-89df2d6302a4",
   "metadata": {},
   "outputs": [
    {
     "name": "stdout",
     "output_type": "stream",
     "text": [
      "z is greatest\n"
     ]
    }
   ],
   "source": [
    "if x>y and x>z:\n",
    "    print(\"x is greatest\")\n",
    "elif y>x and y>z:\n",
    "    print(\"y is greatest\")\n",
    "else:\n",
    "    print(\"z is greatest\")"
   ]
  },
  {
   "cell_type": "code",
   "execution_count": null,
   "id": "21130747-3b96-434a-84d1-10d6177a9740",
   "metadata": {},
   "outputs": [],
   "source": []
  },
  {
   "cell_type": "code",
   "execution_count": null,
   "id": "4c21fa4e-b3f0-4b6d-96fa-2147c3cb8681",
   "metadata": {},
   "outputs": [],
   "source": []
  },
  {
   "cell_type": "code",
   "execution_count": 17,
   "id": "8e0b96e0-ccaa-438a-ae63-7304379975f0",
   "metadata": {},
   "outputs": [
    {
     "name": "stdin",
     "output_type": "stream",
     "text": [
      "eneter numbr 10\n"
     ]
    }
   ],
   "source": [
    "b=int (input(\"eneter numbr\"))"
   ]
  },
  {
   "cell_type": "code",
   "execution_count": 18,
   "id": "2c5ba99c-14a8-4e74-a459-55c8824de342",
   "metadata": {},
   "outputs": [],
   "source": [
    "#nested if"
   ]
  },
  {
   "cell_type": "code",
   "execution_count": 19,
   "id": "fc2e5e4b-fce5-48af-83c6-7b529d3012b2",
   "metadata": {},
   "outputs": [
    {
     "name": "stdout",
     "output_type": "stream",
     "text": [
      "positive\n",
      "divisible by 5\n"
     ]
    }
   ],
   "source": [
    "if b>0:\n",
    "    print(\"positive\")\n",
    "    if b%5==0:\n",
    "        print(\"divisible by 5\")\n",
    "    else:\n",
    "        print(\"not divisble by 5\")\n",
    "else:\n",
    "    print(\"negative\")"
   ]
  },
  {
   "cell_type": "code",
   "execution_count": null,
   "id": "41616ce0-8e0a-4159-a79c-51601748aae6",
   "metadata": {},
   "outputs": [],
   "source": []
  }
 ],
 "metadata": {
  "kernelspec": {
   "display_name": "Python 3 (ipykernel)",
   "language": "python",
   "name": "python3"
  },
  "language_info": {
   "codemirror_mode": {
    "name": "ipython",
    "version": 3
   },
   "file_extension": ".py",
   "mimetype": "text/x-python",
   "name": "python",
   "nbconvert_exporter": "python",
   "pygments_lexer": "ipython3",
   "version": "3.12.0"
  }
 },
 "nbformat": 4,
 "nbformat_minor": 5
}
