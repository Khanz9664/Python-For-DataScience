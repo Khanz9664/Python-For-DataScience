{
 "cells": [
  {
   "cell_type": "markdown",
   "id": "17575c2f",
   "metadata": {},
   "source": [
    "## File Acess MOdes\n",
    "read only --> \"r\"\n",
    "\n",
    "read and write --> \"r+\"\n",
    "\n",
    "write only --> \"w\"\n",
    "\n",
    "write and read --> \"w+\"\n",
    "\n",
    "append only --> \"a\"\n",
    "\n",
    "append and read --> \"a+\""
   ]
  },
  {
   "cell_type": "code",
   "execution_count": 5,
   "id": "d46a30eb",
   "metadata": {},
   "outputs": [],
   "source": [
    "file = open(\"something.txt\",\"r\")"
   ]
  },
  {
   "cell_type": "code",
   "execution_count": 6,
   "id": "56120aa8",
   "metadata": {},
   "outputs": [
    {
     "data": {
      "text/plain": [
       "'my n'"
      ]
     },
     "execution_count": 6,
     "metadata": {},
     "output_type": "execute_result"
    }
   ],
   "source": [
    "file.read(4)"
   ]
  },
  {
   "cell_type": "code",
   "execution_count": 7,
   "id": "a831df8f",
   "metadata": {},
   "outputs": [],
   "source": [
    "file.close()"
   ]
  },
  {
   "cell_type": "code",
   "execution_count": 8,
   "id": "3cc95834",
   "metadata": {},
   "outputs": [],
   "source": [
    "file = open(\"something.txt\",\"w\")"
   ]
  },
  {
   "cell_type": "code",
   "execution_count": 9,
   "id": "c6b4867b",
   "metadata": {},
   "outputs": [
    {
     "data": {
      "text/plain": [
       "25"
      ]
     },
     "execution_count": 9,
     "metadata": {},
     "output_type": "execute_result"
    }
   ],
   "source": [
    "file.write(\" hello something happened\")"
   ]
  },
  {
   "cell_type": "code",
   "execution_count": 14,
   "id": "401e26e5",
   "metadata": {},
   "outputs": [],
   "source": [
    "file = open(\"something.txt\",\"r\")"
   ]
  },
  {
   "cell_type": "code",
   "execution_count": 15,
   "id": "1e5374f2",
   "metadata": {},
   "outputs": [
    {
     "data": {
      "text/plain": [
       "' hello something happened'"
      ]
     },
     "execution_count": 15,
     "metadata": {},
     "output_type": "execute_result"
    }
   ],
   "source": [
    "file.read()"
   ]
  },
  {
   "cell_type": "code",
   "execution_count": 16,
   "id": "bf585a95",
   "metadata": {},
   "outputs": [],
   "source": [
    "file.close()"
   ]
  },
  {
   "cell_type": "markdown",
   "id": "f0c034c5",
   "metadata": {},
   "source": [
    "## Reading a file\n",
    "    read\n",
    "    readline\n",
    "    readlines"
   ]
  },
  {
   "cell_type": "code",
   "execution_count": 41,
   "id": "f58f8ed8",
   "metadata": {},
   "outputs": [],
   "source": [
    "file = open(\"something.txt\",\"r\")"
   ]
  },
  {
   "cell_type": "code",
   "execution_count": 36,
   "id": "7be11e1d",
   "metadata": {},
   "outputs": [
    {
     "data": {
      "text/plain": [
       "' hello something happened\\n nothing really happened\\n no not at all\\n i know something happened'"
      ]
     },
     "execution_count": 36,
     "metadata": {},
     "output_type": "execute_result"
    }
   ],
   "source": [
    "file.read()"
   ]
  },
  {
   "cell_type": "code",
   "execution_count": 39,
   "id": "a9313d5d",
   "metadata": {},
   "outputs": [
    {
     "data": {
      "text/plain": [
       "' nothing really happened\\n'"
      ]
     },
     "execution_count": 39,
     "metadata": {},
     "output_type": "execute_result"
    }
   ],
   "source": [
    "file.readline() #it reads file line by line"
   ]
  },
  {
   "cell_type": "code",
   "execution_count": 42,
   "id": "edd05d40",
   "metadata": {},
   "outputs": [
    {
     "data": {
      "text/plain": [
       "[' hello something happened\\n',\n",
       " ' nothing really happened\\n',\n",
       " ' no not at all\\n',\n",
       " ' i know something happened']"
      ]
     },
     "execution_count": 42,
     "metadata": {},
     "output_type": "execute_result"
    }
   ],
   "source": [
    "file.readlines()#this will return a list of lines in file"
   ]
  },
  {
   "cell_type": "code",
   "execution_count": 43,
   "id": "67e142cf",
   "metadata": {},
   "outputs": [
    {
     "data": {
      "text/plain": [
       "''"
      ]
     },
     "execution_count": 43,
     "metadata": {},
     "output_type": "execute_result"
    }
   ],
   "source": [
    "file.read() #we have reached end "
   ]
  },
  {
   "cell_type": "code",
   "execution_count": 44,
   "id": "2587409c",
   "metadata": {},
   "outputs": [
    {
     "data": {
      "text/plain": [
       "0"
      ]
     },
     "execution_count": 44,
     "metadata": {},
     "output_type": "execute_result"
    }
   ],
   "source": [
    "file.seek(0)#move back to the 0 position"
   ]
  },
  {
   "cell_type": "code",
   "execution_count": 45,
   "id": "e4d55fd1",
   "metadata": {},
   "outputs": [
    {
     "data": {
      "text/plain": [
       "' hello something happened\\n nothing really happened\\n no not at all\\n i know something happened'"
      ]
     },
     "execution_count": 45,
     "metadata": {},
     "output_type": "execute_result"
    }
   ],
   "source": [
    "file.read()"
   ]
  },
  {
   "cell_type": "code",
   "execution_count": 46,
   "id": "9576ee89",
   "metadata": {},
   "outputs": [],
   "source": [
    "file.close()"
   ]
  },
  {
   "cell_type": "code",
   "execution_count": 51,
   "id": "91752cdb",
   "metadata": {},
   "outputs": [
    {
     "name": "stdout",
     "output_type": "stream",
     "text": [
      " hello something happened\n",
      " nothing really happened\n",
      " no not at all\n",
      " i know something happened\n",
      "ello something happened\n",
      " nothing really happened\n",
      " no not at all\n",
      " i know something happened\n",
      "<built-in method read of _io.TextIOWrapper object at 0x7d8652b03840>\n"
     ]
    }
   ],
   "source": [
    "with open(\"something.txt\",\"r\") as file:\n",
    "    print(file.read())\n",
    "    file.seek(2)\n",
    "    print(file.read())\n",
    "print(file.read) #not allowed to read a closed file\n",
    "#we shold always do file handling using with block"
   ]
  },
  {
   "cell_type": "code",
   "execution_count": null,
   "id": "f9ef3635",
   "metadata": {},
   "outputs": [],
   "source": []
  }
 ],
 "metadata": {
  "kernelspec": {
   "display_name": "Python 3 (ipykernel)",
   "language": "python",
   "name": "python3"
  },
  "language_info": {
   "codemirror_mode": {
    "name": "ipython",
    "version": 3
   },
   "file_extension": ".py",
   "mimetype": "text/x-python",
   "name": "python",
   "nbconvert_exporter": "python",
   "pygments_lexer": "ipython3",
   "version": "3.12.3"
  }
 },
 "nbformat": 4,
 "nbformat_minor": 5
}
