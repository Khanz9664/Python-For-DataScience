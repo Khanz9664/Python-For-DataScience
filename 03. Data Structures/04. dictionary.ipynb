{
 "cells": [
  {
   "cell_type": "markdown",
   "id": "309e0d9d",
   "metadata": {},
   "source": [
    "# 1. Introduction to Dictionaries\n",
    "A dictionary in Python is an unordered, mutable, and indexed collection of `key-value` pairs. Each key must be unique and immutable, while values can be of any data type and can be repeated.\n",
    "\n",
    "Key Features of Dictionaries:\n",
    "- Created using curly braces {} or the dict() constructor.\n",
    "- Keys are used to access values.\n",
    "- Duplicate keys are not allowed, but values can be duplicated."
   ]
  },
  {
   "cell_type": "markdown",
   "id": "062960b2",
   "metadata": {},
   "source": [
    "# 2. Creating Dictionaries\n",
    "\n",
    "Basic Dictionary Creation"
   ]
  },
  {
   "cell_type": "code",
   "execution_count": 1,
   "id": "ab52578d",
   "metadata": {},
   "outputs": [
    {
     "name": "stdout",
     "output_type": "stream",
     "text": [
      "Empty Dictionary: {}\n",
      "Dictionary with integer keys: {1: 'One', 2: 'Two', 3: 'Three'}\n",
      "Dictionary with mixed types: {'Name': 'Alice', 'Age': 25, 'Hobbies': ['Reading', 'Hiking']}\n"
     ]
    }
   ],
   "source": [
    "# Creating an empty dictionary\n",
    "empty_dict = {}\n",
    "\n",
    "# Dictionary with integer keys\n",
    "int_keys_dict = {1: \"One\", 2: \"Two\", 3: \"Three\"}\n",
    "\n",
    "# Dictionary with mixed data types\n",
    "mixed_dict = {\"Name\": \"Alice\", \"Age\": 25, \"Hobbies\": [\"Reading\", \"Hiking\"]}\n",
    "\n",
    "print(\"Empty Dictionary:\", empty_dict)\n",
    "print(\"Dictionary with integer keys:\", int_keys_dict)\n",
    "print(\"Dictionary with mixed types:\", mixed_dict)"
   ]
  },
  {
   "cell_type": "markdown",
   "id": "a54080a8",
   "metadata": {},
   "source": [
    "\n",
    " Using dict() Constructor"
   ]
  },
  {
   "cell_type": "code",
   "execution_count": 2,
   "id": "99815af5",
   "metadata": {},
   "outputs": [
    {
     "name": "stdout",
     "output_type": "stream",
     "text": [
      "Dictionary using dict(): {'Name': 'John', 'Age': 30, 'Country': 'USA'}\n"
     ]
    }
   ],
   "source": [
    "# Using dict() constructor\n",
    "dict_constructor = dict(Name=\"John\", Age=30, Country=\"USA\")\n",
    "print(\"Dictionary using dict():\", dict_constructor)"
   ]
  },
  {
   "cell_type": "markdown",
   "id": "bacbdc20",
   "metadata": {},
   "source": [
    "# 3. Accessing and Modifying Dictionaries\n",
    "\n",
    "Accessing Values by Key"
   ]
  },
  {
   "cell_type": "code",
   "execution_count": 3,
   "id": "58307abe",
   "metadata": {},
   "outputs": [
    {
     "name": "stdout",
     "output_type": "stream",
     "text": [
      "Name: Alice\n",
      "Age: 25\n",
      "City: New York\n",
      "Country (default value): Unknown\n"
     ]
    }
   ],
   "source": [
    "person = {\"Name\": \"Alice\", \"Age\": 25, \"City\": \"New York\"}\n",
    "\n",
    "# Accessing values\n",
    "print(\"Name:\", person[\"Name\"])\n",
    "print(\"Age:\", person[\"Age\"])\n",
    "\n",
    "# Using get() method to access values\n",
    "print(\"City:\", person.get(\"City\"))\n",
    "print(\"Country (default value):\", person.get(\"Country\", \"Unknown\"))"
   ]
  },
  {
   "cell_type": "markdown",
   "id": "bf38c8f9",
   "metadata": {},
   "source": [
    "\n",
    "Adding and Updating Key-Value Pairs"
   ]
  },
  {
   "cell_type": "code",
   "execution_count": 4,
   "id": "dc0ee523",
   "metadata": {},
   "outputs": [
    {
     "name": "stdout",
     "output_type": "stream",
     "text": [
      "Updated Dictionary: {'Name': 'Alice', 'Age': 26, 'City': 'New York'}\n"
     ]
    }
   ],
   "source": [
    "person = {\"Name\": \"Alice\", \"Age\": 25}\n",
    "\n",
    "# Adding a new key-value pair\n",
    "person[\"City\"] = \"New York\"\n",
    "\n",
    "# Updating an existing key\n",
    "person[\"Age\"] = 26\n",
    "\n",
    "print(\"Updated Dictionary:\", person)"
   ]
  },
  {
   "cell_type": "markdown",
   "id": "2380f945",
   "metadata": {},
   "source": [
    "\n",
    "Removing Key-Value Pairs"
   ]
  },
  {
   "cell_type": "code",
   "execution_count": 5,
   "id": "f6eececf",
   "metadata": {},
   "outputs": [
    {
     "name": "stdout",
     "output_type": "stream",
     "text": [
      "Dictionary after deletions: {'Name': 'Alice'}\n",
      "Popped Age: 25\n",
      "Popped Last Item: ('Name', 'Alice')\n"
     ]
    }
   ],
   "source": [
    "person = {\"Name\": \"Alice\", \"Age\": 25, \"City\": \"New York\"}\n",
    "\n",
    "# Using del keyword\n",
    "del person[\"City\"]\n",
    "\n",
    "# Using pop() method\n",
    "age = person.pop(\"Age\")\n",
    "\n",
    "print(\"Dictionary after deletions:\", person)\n",
    "print(\"Popped Age:\", age)\n",
    "\n",
    "# Using popitem() to remove the last inserted item\n",
    "last_item = person.popitem()\n",
    "print(\"Popped Last Item:\", last_item)"
   ]
  },
  {
   "cell_type": "markdown",
   "id": "99eb77b4",
   "metadata": {},
   "source": [
    "# 4. Dictionary Methods\n",
    "\n",
    "Commonly Used Methods"
   ]
  },
  {
   "cell_type": "code",
   "execution_count": 6,
   "id": "32e67148",
   "metadata": {},
   "outputs": [
    {
     "name": "stdout",
     "output_type": "stream",
     "text": [
      "Keys: dict_keys(['Name', 'Age', 'City'])\n",
      "Values: dict_values(['Alice', 25, 'New York'])\n",
      "Items: dict_items([('Name', 'Alice'), ('Age', 25), ('City', 'New York')])\n",
      "Dictionary after clearing: {}\n"
     ]
    }
   ],
   "source": [
    "my_dict = {\"Name\": \"Alice\", \"Age\": 25, \"City\": \"New York\"}\n",
    "\n",
    "# Getting all keys\n",
    "print(\"Keys:\", my_dict.keys())\n",
    "\n",
    "# Getting all values\n",
    "print(\"Values:\", my_dict.values())\n",
    "\n",
    "# Getting all key-value pairs\n",
    "print(\"Items:\", my_dict.items())\n",
    "\n",
    "# Clearing all items\n",
    "my_dict.clear()\n",
    "print(\"Dictionary after clearing:\", my_dict)"
   ]
  },
  {
   "cell_type": "markdown",
   "id": "67150653",
   "metadata": {},
   "source": [
    "# 5. Iterating Through Dictionaries\n",
    "\n",
    "Iterating Over Keys and Values"
   ]
  },
  {
   "cell_type": "code",
   "execution_count": 7,
   "id": "81d4fbe7",
   "metadata": {},
   "outputs": [
    {
     "name": "stdout",
     "output_type": "stream",
     "text": [
      "Key: Name\n",
      "Key: Age\n",
      "Key: City\n",
      "Value: Alice\n",
      "Value: 25\n",
      "Value: New York\n",
      "Key: Name, Value: Alice\n",
      "Key: Age, Value: 25\n",
      "Key: City, Value: New York\n"
     ]
    }
   ],
   "source": [
    "person = {\"Name\": \"Alice\", \"Age\": 25, \"City\": \"New York\"}\n",
    "\n",
    "# Iterating through keys\n",
    "for key in person:\n",
    "    print(\"Key:\", key)\n",
    "\n",
    "# Iterating through values\n",
    "for value in person.values():\n",
    "    print(\"Value:\", value)\n",
    "\n",
    "# Iterating through key-value pairs\n",
    "for key, value in person.items():\n",
    "    print(f\"Key: {key}, Value: {value}\")"
   ]
  },
  {
   "cell_type": "markdown",
   "id": "752c3849",
   "metadata": {},
   "source": [
    "# 6. Nested Dictionaries\n",
    "\n",
    "Creating and Accessing Nested Dictionaries"
   ]
  },
  {
   "cell_type": "code",
   "execution_count": 8,
   "id": "531fbb24",
   "metadata": {},
   "outputs": [
    {
     "name": "stdout",
     "output_type": "stream",
     "text": [
      "Student1's Name: Alice\n",
      "Updated Student1: {'Name': 'Alice', 'Age': 25, 'Grade': 'A'}\n"
     ]
    }
   ],
   "source": [
    "students = {\n",
    "    \"Student1\": {\"Name\": \"Alice\", \"Age\": 25},\n",
    "    \"Student2\": {\"Name\": \"Bob\", \"Age\": 24}\n",
    "}\n",
    "\n",
    "# Accessing nested dictionary\n",
    "print(\"Student1's Name:\", students[\"Student1\"][\"Name\"])\n",
    "\n",
    "# Adding a new key to a nested dictionary\n",
    "students[\"Student1\"][\"Grade\"] = \"A\"\n",
    "print(\"Updated Student1:\", students[\"Student1\"])"
   ]
  },
  {
   "cell_type": "markdown",
   "id": "0471274d",
   "metadata": {},
   "source": [
    "# 7. Advanced Dictionary Concepts\n",
    "\n",
    "Using Dictionary Comprehensions"
   ]
  },
  {
   "cell_type": "code",
   "execution_count": 9,
   "id": "5d8aa93c",
   "metadata": {},
   "outputs": [
    {
     "name": "stdout",
     "output_type": "stream",
     "text": [
      "Squares Dictionary: {1: 1, 2: 4, 3: 9, 4: 16, 5: 25}\n"
     ]
    }
   ],
   "source": [
    "# Dictionary comprehension to create a dictionary of squares\n",
    "squares = {x: x**2 for x in range(1, 6)}\n",
    "print(\"Squares Dictionary:\", squares)"
   ]
  },
  {
   "cell_type": "markdown",
   "id": "2caf8531",
   "metadata": {},
   "source": [
    "\n",
    "Merging Dictionaries"
   ]
  },
  {
   "cell_type": "code",
   "execution_count": 10,
   "id": "1a4d6d4f",
   "metadata": {},
   "outputs": [
    {
     "name": "stdout",
     "output_type": "stream",
     "text": [
      "Merged Dictionary: {'Name': 'Alice', 'Age': 25, 'City': 'New York', 'Country': 'USA'}\n",
      "Merged Dictionary (Unpacking): {'Name': 'Alice', 'Age': 25, 'City': 'New York', 'Country': 'USA'}\n"
     ]
    }
   ],
   "source": [
    "dict1 = {\"Name\": \"Alice\", \"Age\": 25}\n",
    "dict2 = {\"City\": \"New York\", \"Country\": \"USA\"}\n",
    "\n",
    "# Merging using the update() method\n",
    "dict1.update(dict2)\n",
    "print(\"Merged Dictionary:\", dict1)\n",
    "\n",
    "# Merging using dictionary unpacking (Python 3.9+)\n",
    "merged_dict = {**dict1, **dict2}\n",
    "print(\"Merged Dictionary (Unpacking):\", merged_dict)"
   ]
  },
  {
   "cell_type": "markdown",
   "id": "73824f33",
   "metadata": {},
   "source": [
    "# 8. Dictionary Applications\n",
    "\n",
    "Counting Frequency of Elements"
   ]
  },
  {
   "cell_type": "code",
   "execution_count": 11,
   "id": "f267190d",
   "metadata": {},
   "outputs": [
    {
     "name": "stdout",
     "output_type": "stream",
     "text": [
      "Character Frequency: {'d': 1, 'o': 2, 'r': 1, ' ': 1, 'h': 1, 'e': 1, 'l': 3, 'w': 1}\n"
     ]
    }
   ],
   "source": [
    "from collections import Counter  # Using dict-like functionality\n",
    "\n",
    "# Count character frequency in a string\n",
    "text = \"hello world\"\n",
    "frequency = {char: text.count(char) for char in set(text)}\n",
    "print(\"Character Frequency:\", frequency)"
   ]
  },
  {
   "cell_type": "markdown",
   "id": "9d6daf76",
   "metadata": {},
   "source": [
    "\n",
    " Grouping Data by Keys"
   ]
  },
  {
   "cell_type": "code",
   "execution_count": 12,
   "id": "2b015ac6",
   "metadata": {},
   "outputs": [
    {
     "name": "stdout",
     "output_type": "stream",
     "text": [
      "Grouped Data: {'Alice': ['Math', 'History'], 'Bob': ['Science', 'Math']}\n"
     ]
    }
   ],
   "source": [
    "data = [(\"Alice\", \"Math\"), (\"Bob\", \"Science\"), (\"Alice\", \"History\"), (\"Bob\", \"Math\")]\n",
    "\n",
    "# Grouping using a dictionary\n",
    "grouped_data = {}\n",
    "for name, subject in data:\n",
    "    if name in grouped_data:\n",
    "        grouped_data[name].append(subject)\n",
    "    else:\n",
    "        grouped_data[name] = [subject]\n",
    "\n",
    "print(\"Grouped Data:\", grouped_data)"
   ]
  }
 ],
 "metadata": {
  "kernelspec": {
   "display_name": "Python 3 (ipykernel)",
   "language": "python",
   "name": "python3"
  },
  "language_info": {
   "codemirror_mode": {
    "name": "ipython",
    "version": 3
   },
   "file_extension": ".py",
   "mimetype": "text/x-python",
   "name": "python",
   "nbconvert_exporter": "python",
   "pygments_lexer": "ipython3",
   "version": "3.12.3"
  }
 },
 "nbformat": 4,
 "nbformat_minor": 5
}
