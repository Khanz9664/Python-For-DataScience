{
 "cells": [
  {
   "cell_type": "markdown",
   "id": "69f81703",
   "metadata": {},
   "source": [
    "# Python Lists and List Methods\n",
    "In this notebook, we'll explore Python's List data structure, which is a versatile and mutable sequence type. We'll go over various list operations and methods that can be used to manipulate lists."
   ]
  },
  {
   "cell_type": "markdown",
   "id": "6715041f",
   "metadata": {},
   "source": [
    "# Introduction to Lists\n",
    "A list in Python is an ordered collection of elements that can be of any type (integers, strings, floats, etc.). Lists are mutable, meaning that their elements can be changed after the list is created."
   ]
  },
  {
   "cell_type": "code",
   "execution_count": 1,
   "id": "159165b2",
   "metadata": {},
   "outputs": [],
   "source": [
    "# Example 1: Creating lists\n",
    "\n",
    "# A list of integers\n",
    "numbers = [1, 2, 3, 4, 5]\n",
    "\n",
    "# A list of strings\n",
    "fruits = [\"apple\", \"banana\", \"cherry\"]\n",
    "\n",
    "# A mixed list (can contain different data types)\n",
    "mixed_list = [1, \"banana\", 3.14, True]"
   ]
  },
  {
   "cell_type": "markdown",
   "id": "1bfe81e5",
   "metadata": {},
   "source": [
    "# Accessing Elements in a List\n",
    "You can access elements in a list by indexing. Python uses zero-based indexing, meaning the first element of the list has index 0."
   ]
  },
  {
   "cell_type": "code",
   "execution_count": 2,
   "id": "b6cd8dcc",
   "metadata": {},
   "outputs": [],
   "source": [
    "# Example 2: Accessing elements in a list\n",
    "\n",
    "# Accessing by index\n",
    "first_fruit = fruits[0]  # 'apple'\n",
    "second_fruit = fruits[1]  # 'banana'\n",
    "\n",
    "# Negative indexing: Accessing elements from the end of the list\n",
    "last_fruit = fruits[-1]  # 'cherry'\n",
    "second_last_fruit = fruits[-2]  # 'banana'\n",
    "\n",
    "# Accessing a range of elements (slicing)\n",
    "sub_list = fruits[1:3]  # ['banana', 'cherry']"
   ]
  },
  {
   "cell_type": "markdown",
   "id": "54181242",
   "metadata": {},
   "source": [
    "# List Methods\n",
    "Python provides several built-in methods to manipulate lists. Below is a comprehensive list of commonly used list methods."
   ]
  },
  {
   "cell_type": "markdown",
   "id": "13886f6c",
   "metadata": {},
   "source": [
    "##  Adding Elements to a List\n",
    "    append() : Adds an element to the end of the list.\n",
    "    insert(): Adds an element at a specific index.\n",
    "    extend(): Adds all elements from another iterable (e.g., list, tuple) to the end of the list."
   ]
  },
  {
   "cell_type": "code",
   "execution_count": 3,
   "id": "aec88707",
   "metadata": {},
   "outputs": [
    {
     "name": "stdout",
     "output_type": "stream",
     "text": [
      "['apple', 'banana', 'cherry', 'grape']\n",
      "['apple', 'orange', 'banana', 'cherry', 'grape']\n",
      "['apple', 'orange', 'banana', 'cherry', 'grape', 'kiwi', 'melon']\n"
     ]
    }
   ],
   "source": [
    "# Example 3: Adding elements to a list\n",
    "\n",
    "# append() - Adds to the end\n",
    "fruits.append(\"grape\")\n",
    "print(fruits)  # ['apple', 'banana', 'cherry', 'grape']\n",
    "\n",
    "# insert() - Adds at a specific index\n",
    "fruits.insert(1, \"orange\")\n",
    "print(fruits)  # ['apple', 'orange', 'banana', 'cherry', 'grape']\n",
    "\n",
    "# extend() - Adds elements from another iterable\n",
    "more_fruits = [\"kiwi\", \"melon\"]\n",
    "fruits.extend(more_fruits)\n",
    "print(fruits)  # ['apple', 'orange', 'banana', 'cherry', 'grape', 'kiwi', 'melon']"
   ]
  },
  {
   "cell_type": "markdown",
   "id": "143b5eb9",
   "metadata": {},
   "source": [
    "## Removing Elements from a List\n",
    "    remove(): Removes the first occurrence of a specified value.\n",
    "    pop(): Removes and returns the element at the given index (or the last element if no index is provided).\n",
    "    clear(): Removes all elements from the list."
   ]
  },
  {
   "cell_type": "code",
   "execution_count": 4,
   "id": "f909d2da",
   "metadata": {},
   "outputs": [
    {
     "name": "stdout",
     "output_type": "stream",
     "text": [
      "['apple', 'orange', 'cherry', 'grape', 'kiwi', 'melon']\n",
      "['apple', 'orange', 'cherry', 'grape', 'kiwi']\n",
      "Removed fruit: melon\n",
      "['apple', 'cherry', 'grape', 'kiwi']\n",
      "Removed fruit: orange\n",
      "[]\n"
     ]
    }
   ],
   "source": [
    "# Example 4: Removing elements from a list\n",
    "\n",
    "# remove() - Removes the first occurrence of a specified value\n",
    "fruits.remove(\"banana\")\n",
    "print(fruits)  # ['apple', 'orange', 'cherry', 'grape', 'kiwi', 'melon']\n",
    "\n",
    "# pop() - Removes the element at the given index (default: last element)\n",
    "last_fruit = fruits.pop()  # Removes 'melon'\n",
    "print(fruits)  # ['apple', 'orange', 'cherry', 'grape', 'kiwi']\n",
    "print(\"Removed fruit:\", last_fruit)  # 'melon'\n",
    "\n",
    "# pop() with index - Removes 'orange'\n",
    "second_fruit = fruits.pop(1)  \n",
    "print(fruits)  # ['apple', 'cherry', 'grape', 'kiwi']\n",
    "print(\"Removed fruit:\", second_fruit)  # 'orange'\n",
    "\n",
    "# clear() - Removes all elements from the list\n",
    "fruits.clear()\n",
    "print(fruits)  # []"
   ]
  },
  {
   "cell_type": "markdown",
   "id": "198c9933",
   "metadata": {},
   "source": [
    "## Searching in a List\n",
    "index(): Returns the index of the first occurrence of a value.\n",
    "count(): Returns the number of times a value appears in the list."
   ]
  },
  {
   "cell_type": "code",
   "execution_count": 7,
   "id": "bfcb5422",
   "metadata": {},
   "outputs": [
    {
     "name": "stdout",
     "output_type": "stream",
     "text": [
      "Index of cherry: 2\n",
      "Count of apples: 1\n"
     ]
    }
   ],
   "source": [
    "# Example 5: Searching in a list\n",
    "fruits = [\"apple\", \"banana\", \"cherry\"]\n",
    "\n",
    "# index() - Returns the index of the first occurrence\n",
    "index_of_cherry = fruits.index(\"cherry\")\n",
    "print(\"Index of cherry:\", index_of_cherry)  # 2\n",
    "\n",
    "# count() - Returns the number of times a value appears in the list\n",
    "fruit_count = fruits.count(\"apple\")\n",
    "print(\"Count of apples:\", fruit_count)  # 1"
   ]
  },
  {
   "cell_type": "markdown",
   "id": "b8f0eda2",
   "metadata": {},
   "source": [
    "## Sorting and Reversing Lists\n",
    "    sort(): Sorts the list in place.\n",
    "    reverse(): Reverses the order of the list in place."
   ]
  },
  {
   "cell_type": "code",
   "execution_count": 8,
   "id": "9c9bf6c6",
   "metadata": {},
   "outputs": [
    {
     "name": "stdout",
     "output_type": "stream",
     "text": [
      "[1, 1, 2, 3, 4, 5, 6, 9]\n",
      "[9, 6, 5, 4, 3, 2, 1, 1]\n",
      "[1, 1, 2, 3, 4, 5, 6, 9]\n"
     ]
    }
   ],
   "source": [
    "# Example 6: Sorting and reversing lists\n",
    "\n",
    "# Sorting the list in ascending order\n",
    "numbers = [3, 1, 4, 1, 5, 9, 2, 6]\n",
    "numbers.sort()\n",
    "print(numbers)  # [1, 1, 2, 3, 4, 5, 6, 9]\n",
    "\n",
    "# Sorting the list in descending order\n",
    "numbers.sort(reverse=True)\n",
    "print(numbers)  # [9, 6, 5, 4, 3, 2, 1, 1]\n",
    "\n",
    "# Reversing the list\n",
    "numbers.reverse()\n",
    "print(numbers)  # [1, 1, 2, 3, 4, 5, 6, 9]"
   ]
  },
  {
   "cell_type": "markdown",
   "id": "06b49004",
   "metadata": {},
   "source": [
    "## Other List Methods\n",
    "    copy(): Returns a shallow copy of the list.\n",
    "    copy(): It is a new list with the same elements as the original.\n",
    "    join(): Used for joining a list of strings into a single string."
   ]
  },
  {
   "cell_type": "code",
   "execution_count": 9,
   "id": "50d7954b",
   "metadata": {},
   "outputs": [
    {
     "name": "stdout",
     "output_type": "stream",
     "text": [
      "[1, 1, 2, 3, 4, 5, 6, 9]\n",
      "Hello world from Python\n"
     ]
    }
   ],
   "source": [
    "# Example 7: Other list methods\n",
    "\n",
    "# copy() - Creates a shallow copy of the list\n",
    "numbers_copy = numbers.copy()\n",
    "print(numbers_copy)  # [1, 1, 2, 3, 4, 5, 6, 9]\n",
    "\n",
    "# join() - Joins a list of strings into a single string\n",
    "string_list = [\"Hello\", \"world\", \"from\", \"Python\"]\n",
    "sentence = \" \".join(string_list)\n",
    "print(sentence)  # 'Hello world from Python'"
   ]
  },
  {
   "cell_type": "markdown",
   "id": "bfc3d4e6",
   "metadata": {},
   "source": [
    "## List Comprehension\n",
    "List comprehension is a concise way to create lists based on existing lists."
   ]
  },
  {
   "cell_type": "code",
   "execution_count": 10,
   "id": "b42a108d",
   "metadata": {},
   "outputs": [
    {
     "name": "stdout",
     "output_type": "stream",
     "text": [
      "[0, 1, 4, 9, 16, 25]\n",
      "[0, 2, 4, 6, 8]\n"
     ]
    }
   ],
   "source": [
    "# Example 8: List comprehension\n",
    "\n",
    "# Create a list of squares using list comprehension\n",
    "squares = [x ** 2 for x in range(6)]\n",
    "print(squares)  # [0, 1, 4, 9, 16, 25]\n",
    "\n",
    "# Filtering items with list comprehension (only even numbers)\n",
    "even_numbers = [x for x in range(10) if x % 2 == 0]\n",
    "print(even_numbers)  # [0, 2, 4, 6, 8]"
   ]
  },
  {
   "cell_type": "markdown",
   "id": "e1921f90",
   "metadata": {},
   "source": [
    "## Nested Lists\n",
    "A list can contain other lists, creating a nested list."
   ]
  },
  {
   "cell_type": "code",
   "execution_count": 11,
   "id": "6e5dc230",
   "metadata": {},
   "outputs": [
    {
     "name": "stdout",
     "output_type": "stream",
     "text": [
      "[1, 2, 3]\n",
      "[4, 5, 6]\n",
      "[7, 8, 9]\n"
     ]
    }
   ],
   "source": [
    "# Example 9: Nested lists\n",
    "\n",
    "# A list of lists (2D list)\n",
    "matrix = [[1, 2, 3], [4, 5, 6], [7, 8, 9]]\n",
    "\n",
    "# Accessing elements in a nested list\n",
    "first_row = matrix[0]  # [1, 2, 3]\n",
    "element = matrix[1][2]  # 6\n",
    "\n",
    "# Iterating through a 2D list\n",
    "for row in matrix:\n",
    "    print(row)"
   ]
  },
  {
   "cell_type": "markdown",
   "id": "bda59cd8",
   "metadata": {},
   "source": [
    "# Practice Exercises\n",
    "### Exercise 1: Create a list of your favorite movies. Add two new movies to the list, remove one movie, and find the index of a specific movie.\n",
    "### Exercise 2: Given a list of numbers, sort the list in ascending and descending order and find the maximum and minimum values."
   ]
  },
  {
   "cell_type": "code",
   "execution_count": 17,
   "id": "901f5b92",
   "metadata": {},
   "outputs": [
    {
     "name": "stdout",
     "output_type": "stream",
     "text": [
      "Index of Avatar: 1\n",
      "['Inception', 'Avatar', 'The Matrix', 'Interstellar', 'The Dark Knight']\n",
      "Sorted in Ascending Order: [5, 8, 12, 44, 99, 130]\n",
      "Sorted in Decending Order:  [130, 99, 44, 12, 8, 5]\n",
      "Maximum: 130\n",
      "Minimum: 5\n"
     ]
    }
   ],
   "source": [
    "# Exercise 1\n",
    "movies = [\"Inception\", \"Avatar\", \"The Matrix\", \"Titanic\"]\n",
    "movies.append(\"Interstellar\")\n",
    "movies.append(\"The Dark Knight\")\n",
    "movies.remove(\"Titanic\")\n",
    "index_of_Avatar = movies.index(\"Avatar\")\n",
    "print(\"Index of Avatar:\", index_of_Avatar) \n",
    "print(movies)\n",
    "\n",
    "# Exercise 2\n",
    "numbers = [12, 5, 8, 130, 44, 99]\n",
    "numbers.sort()\n",
    "print(\"Sorted in Ascending Order:\", numbers)\n",
    "numbers.sort(reverse=True)\n",
    "print(\"Sorted in Decending Order: \",numbers)\n",
    "print(\"Maximum:\", max(numbers))\n",
    "print(\"Minimum:\", min(numbers))"
   ]
  },
  {
   "cell_type": "markdown",
   "id": "7ee0a445",
   "metadata": {},
   "source": [
    "# Conclusion\n",
    "In this notebook, we've learned about Python lists and the various methods that can be used to manipulate lists"
   ]
  },
  {
   "cell_type": "markdown",
   "id": "dd6f2794",
   "metadata": {},
   "source": [
    "### More examples for better understanding"
   ]
  },
  {
   "cell_type": "code",
   "execution_count": 18,
   "id": "2d46c369",
   "metadata": {},
   "outputs": [
    {
     "name": "stdout",
     "output_type": "stream",
     "text": [
      "[1, 2, 3, 4]\n",
      "<class 'list'>\n"
     ]
    }
   ],
   "source": [
    "a=[1,2,3,4]\n",
    "print(a)\n",
    "print(type(a))"
   ]
  },
  {
   "cell_type": "code",
   "execution_count": 19,
   "id": "426f00e7",
   "metadata": {},
   "outputs": [
    {
     "name": "stdout",
     "output_type": "stream",
     "text": [
      "no of elements in list b: 3\n",
      "1\n",
      "2\n",
      "3\n",
      "[1, 2, 3]\n",
      "<class 'list'>\n"
     ]
    }
   ],
   "source": [
    "#taking list elements and list size as an input from user\n",
    "b=[]\n",
    "n=int(input(\"no of elements in list b: \"))\n",
    "for i in range(0,n):\n",
    "    ele=int(input())\n",
    "    b.append(ele)\n",
    "print(b)\n",
    "print(type(b))"
   ]
  },
  {
   "cell_type": "code",
   "execution_count": 30,
   "id": "b006c3e5",
   "metadata": {},
   "outputs": [
    {
     "name": "stdout",
     "output_type": "stream",
     "text": [
      "shahid\n",
      "13\n",
      "hello\n"
     ]
    }
   ],
   "source": [
    "l=[\"shahid\",12,13,14,print]\n",
    "l[4](l[0]) #print(l[0])\n",
    "l[4](l[2]) #print(l[2])\n",
    "l[4](\"hello\") #print(\"hello\")"
   ]
  },
  {
   "cell_type": "code",
   "execution_count": 29,
   "id": "00c2717f",
   "metadata": {},
   "outputs": [
    {
     "name": "stdout",
     "output_type": "stream",
     "text": [
      "5\n",
      "[133, 442, 376, 499, 500, 1, 2, 3, 4]\n",
      "[133, 442, 376, 499, 500, 133, 442, 376, 499, 500, 133, 442, 376, 499, 500, 133, 442, 376, 499, 500, 133, 442, 376, 499, 500]\n",
      "True\n",
      "False\n",
      "True\n",
      "133\n",
      "442\n",
      "376\n",
      "499\n",
      "500\n"
     ]
    }
   ],
   "source": [
    "#operations on lists\n",
    "list=[133,442,376,499,500]\n",
    "\n",
    "#length of list\n",
    "print(len(list))\n",
    "\n",
    "#concatenatenate lists\n",
    "print(list+a)\n",
    "\n",
    "#repitation of lists\n",
    "print(list*5)\n",
    "\n",
    "#membership\n",
    "print(133 in list)\n",
    "print(1 in list)\n",
    "print(1 not in list)\n",
    "\n",
    "#iteration\n",
    "for i in list:\n",
    "    print(i)"
   ]
  },
  {
   "cell_type": "code",
   "execution_count": 27,
   "id": "d15514d6",
   "metadata": {},
   "outputs": [
    {
     "name": "stdout",
     "output_type": "stream",
     "text": [
      "[2, 4, 6, 7]\n",
      "[7, 8, 2, 3]\n",
      "[8, 2]\n",
      "[4, 6]\n"
     ]
    }
   ],
   "source": [
    "list = [2,4,6,7,8,2,3,4]\n",
    "\n",
    "#indexing and slicing\n",
    "print(list[0:4])\n",
    "print(list[-5:-1])\n",
    "\n",
    "#slicing\n",
    "print(list[-4:-2])\n",
    "print(list[1:3])"
   ]
  },
  {
   "cell_type": "code",
   "execution_count": 31,
   "id": "9b805233",
   "metadata": {},
   "outputs": [
    {
     "name": "stdout",
     "output_type": "stream",
     "text": [
      "[1, 2, 3, 4, 5]\n",
      "[1, 2, 3, 4, 5, 6]\n"
     ]
    }
   ],
   "source": [
    "#updating list\n",
    "#insert & append\n",
    "a=[1,2,3,4]\n",
    "a.insert(4,5)\n",
    "print(a)\n",
    "a.append(6)\n",
    "print(a)"
   ]
  },
  {
   "cell_type": "code",
   "execution_count": 36,
   "id": "d8aeb5fa",
   "metadata": {},
   "outputs": [
    {
     "name": "stdout",
     "output_type": "stream",
     "text": [
      "[22, 33, 44, 55]\n",
      "[22, 33, 44]\n",
      "[22, 44]\n",
      "[1, 2, 3, 4]\n"
     ]
    }
   ],
   "source": [
    "#deleting list elements\n",
    "#del\n",
    "#pop\n",
    "#remove\n",
    "b=[11,22,33,44,55]\n",
    "del b[0]\n",
    "print(b)\n",
    "b.pop(3)\n",
    "print(b)\n",
    "b.remove(33)\n",
    "print(b)\n",
    "\n",
    "list=[1,2,2,3,4]\n",
    "for i in list:\n",
    "    if i==2:\n",
    "        list.remove(i)\n",
    "print(list)"
   ]
  },
  {
   "cell_type": "code",
   "execution_count": 33,
   "id": "d8cb2953",
   "metadata": {},
   "outputs": [
    {
     "name": "stdout",
     "output_type": "stream",
     "text": [
      "[1, 9, 10, 12, 13]\n",
      "13\n",
      "12\n",
      "10\n",
      "9\n",
      "1\n",
      "[13, 12, 10, 9, 1]\n"
     ]
    }
   ],
   "source": [
    "#sorting and reversing\n",
    "#sort and sorted\n",
    "#reverse and reversed\n",
    "lst=[12,10,13,9,1]\n",
    "sorted(lst)\n",
    "lst.sort()\n",
    "print(lst)\n",
    "reversed(lst)\n",
    "for i in reversed(lst):\n",
    "    print(i)\n",
    "lst.reverse()\n",
    "print(lst) "
   ]
  },
  {
   "cell_type": "code",
   "execution_count": 35,
   "id": "27501c63",
   "metadata": {},
   "outputs": [
    {
     "name": "stdout",
     "output_type": "stream",
     "text": [
      "[1, 3, 4]\n"
     ]
    }
   ],
   "source": [
    "#it only removes the first occuring of 2 so we can do it using list comprehension\n",
    "list=[1,2,2,3,4]\n",
    "print([i for i in list if i!=2])"
   ]
  }
 ],
 "metadata": {
  "kernelspec": {
   "display_name": "Python 3 (ipykernel)",
   "language": "python",
   "name": "python3"
  },
  "language_info": {
   "codemirror_mode": {
    "name": "ipython",
    "version": 3
   },
   "file_extension": ".py",
   "mimetype": "text/x-python",
   "name": "python",
   "nbconvert_exporter": "python",
   "pygments_lexer": "ipython3",
   "version": "3.12.3"
  }
 },
 "nbformat": 4,
 "nbformat_minor": 5
}
