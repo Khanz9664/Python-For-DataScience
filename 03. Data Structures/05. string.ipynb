{
 "cells": [
  {
   "cell_type": "markdown",
   "id": "7d89316f",
   "metadata": {},
   "source": [
    "# 1. Introduction to Strings\n",
    "A string in Python is a sequence of characters enclosed within single ('), double (\"), or triple (''' or \"\"\") quotes. Strings are immutable, meaning their contents cannot be changed after creation.\n",
    "\n",
    "Key Features of Strings:\n",
    "- Strings are a collection of characters.\n",
    "- Strings support indexing, slicing, and iteration.\n",
    "- Built-in string methods simplify text manipulation."
   ]
  },
  {
   "cell_type": "markdown",
   "id": "765fc382",
   "metadata": {},
   "source": [
    "# 2. Creating Strings\n",
    "\n",
    "Creating Strings"
   ]
  },
  {
   "cell_type": "code",
   "execution_count": 1,
   "id": "0bbe3b62",
   "metadata": {},
   "outputs": [
    {
     "name": "stdout",
     "output_type": "stream",
     "text": [
      "String1: Hello\n",
      "String2: World\n",
      "Multi-line String: This is\n",
      "a multi-line string.\n"
     ]
    }
   ],
   "source": [
    "# Single and double quotes\n",
    "string1 = 'Hello'\n",
    "string2 = \"World\"\n",
    "\n",
    "# Triple quotes for multi-line strings\n",
    "multi_line = '''This is\n",
    "a multi-line string.'''\n",
    "\n",
    "print(\"String1:\", string1)\n",
    "print(\"String2:\", string2)\n",
    "print(\"Multi-line String:\", multi_line)"
   ]
  },
  {
   "cell_type": "markdown",
   "id": "76088dee",
   "metadata": {},
   "source": [
    "\n",
    "Strings with Special Characters"
   ]
  },
  {
   "cell_type": "code",
   "execution_count": 2,
   "id": "51067c32",
   "metadata": {},
   "outputs": [
    {
     "name": "stdout",
     "output_type": "stream",
     "text": [
      "Escaped String: He said, \"Python is amazing!\"\n",
      "Raw String: C:\\Users\\Name\\Documents\n"
     ]
    }
   ],
   "source": [
    "# Escaping special characters\n",
    "escaped_string = \"He said, \\\"Python is amazing!\\\"\"\n",
    "print(\"Escaped String:\", escaped_string)\n",
    "\n",
    "# Using raw strings\n",
    "raw_string = r\"C:\\Users\\Name\\Documents\"\n",
    "print(\"Raw String:\", raw_string)"
   ]
  },
  {
   "cell_type": "markdown",
   "id": "eac8bec9",
   "metadata": {},
   "source": [
    "# 3. Accessing Strings\n",
    "\n",
    "Indexing and Slicing"
   ]
  },
  {
   "cell_type": "code",
   "execution_count": 3,
   "id": "d2ad2776",
   "metadata": {},
   "outputs": [
    {
     "name": "stdout",
     "output_type": "stream",
     "text": [
      "First character: P\n",
      "Last character: n\n",
      "First three characters: Pyt\n",
      "Last three characters: hon\n",
      "Characters with step: Pto\n"
     ]
    }
   ],
   "source": [
    "my_string = \"Python\"\n",
    "\n",
    "# Accessing characters\n",
    "print(\"First character:\", my_string[0])\n",
    "print(\"Last character:\", my_string[-1])\n",
    "\n",
    "# Slicing\n",
    "print(\"First three characters:\", my_string[:3])\n",
    "print(\"Last three characters:\", my_string[-3:])\n",
    "print(\"Characters with step:\", my_string[::2])"
   ]
  },
  {
   "cell_type": "markdown",
   "id": "9cafb3d8",
   "metadata": {},
   "source": [
    "\n",
    "Iterating Through Strings"
   ]
  },
  {
   "cell_type": "code",
   "execution_count": 4,
   "id": "b706d152",
   "metadata": {},
   "outputs": [
    {
     "name": "stdout",
     "output_type": "stream",
     "text": [
      "P\n",
      "y\n",
      "t\n",
      "h\n",
      "o\n",
      "n\n"
     ]
    }
   ],
   "source": [
    "my_string = \"Python\"\n",
    "\n",
    "# Using a loop\n",
    "for char in my_string:\n",
    "    print(char)"
   ]
  },
  {
   "cell_type": "markdown",
   "id": "1ffba737",
   "metadata": {},
   "source": [
    "# 4. String Operations\n",
    "\n",
    "String Concatenation and Repetition"
   ]
  },
  {
   "cell_type": "code",
   "execution_count": 5,
   "id": "c6907e4b",
   "metadata": {},
   "outputs": [
    {
     "name": "stdout",
     "output_type": "stream",
     "text": [
      "Concatenated String: Hello World\n",
      "Repeated String: HaHaHa\n"
     ]
    }
   ],
   "source": [
    "# Concatenation\n",
    "greeting = \"Hello\" + \" \" + \"World\"\n",
    "print(\"Concatenated String:\", greeting)\n",
    "\n",
    "# Repetition\n",
    "repeated = \"Ha\" * 3\n",
    "print(\"Repeated String:\", repeated)"
   ]
  },
  {
   "cell_type": "markdown",
   "id": "0d63a545",
   "metadata": {},
   "source": [
    "\n",
    "Membership Operators"
   ]
  },
  {
   "cell_type": "code",
   "execution_count": 6,
   "id": "79dbafea",
   "metadata": {},
   "outputs": [
    {
     "name": "stdout",
     "output_type": "stream",
     "text": [
      "True\n",
      "True\n"
     ]
    }
   ],
   "source": [
    "text = \"Python programming is fun\"\n",
    "\n",
    "# Checking membership\n",
    "print(\"Python\" in text)  # True\n",
    "print(\"Java\" not in text)  # True"
   ]
  },
  {
   "cell_type": "markdown",
   "id": "c9860e19",
   "metadata": {},
   "source": [
    "# 5. String Methods\n",
    "\n",
    "Commonly Used String Methods"
   ]
  },
  {
   "cell_type": "code",
   "execution_count": 7,
   "id": "95ad10a5",
   "metadata": {},
   "outputs": [
    {
     "name": "stdout",
     "output_type": "stream",
     "text": [
      "Uppercase:   HELLO, WORLD!  \n",
      "Lowercase:   hello, world!  \n",
      "Title Case:   Hello, World!  \n",
      "Stripped Text: Hello, World!\n",
      "Split Text: ['  Hello', 'World!  ']\n",
      "Joined Text:   Hello-World!  \n"
     ]
    }
   ],
   "source": [
    "text = \"  Hello, World!  \"\n",
    "\n",
    "# Changing case\n",
    "print(\"Uppercase:\", text.upper())\n",
    "print(\"Lowercase:\", text.lower())\n",
    "print(\"Title Case:\", text.title())\n",
    "\n",
    "# Removing whitespace\n",
    "print(\"Stripped Text:\", text.strip())\n",
    "\n",
    "# Splitting and joining\n",
    "words = text.split(\", \")\n",
    "print(\"Split Text:\", words)\n",
    "\n",
    "joined = \"-\".join(words)\n",
    "print(\"Joined Text:\", joined)"
   ]
  },
  {
   "cell_type": "markdown",
   "id": "6a6da9bb",
   "metadata": {},
   "source": [
    "\n",
    "Finding and Replacing Substrings"
   ]
  },
  {
   "cell_type": "code",
   "execution_count": 8,
   "id": "ad9e6200",
   "metadata": {},
   "outputs": [
    {
     "name": "stdout",
     "output_type": "stream",
     "text": [
      "Index of 'World': 7\n",
      "Replaced Text: Hello, Python!\n"
     ]
    }
   ],
   "source": [
    "text = \"Hello, World!\"\n",
    "\n",
    "# Finding substrings\n",
    "print(\"Index of 'World':\", text.find(\"World\"))\n",
    "\n",
    "# Replacing substrings\n",
    "new_text = text.replace(\"World\", \"Python\")\n",
    "print(\"Replaced Text:\", new_text)"
   ]
  },
  {
   "cell_type": "markdown",
   "id": "733a80b9",
   "metadata": {},
   "source": [
    "# 6. Advanced String Operations\n",
    "\n",
    "String Formatting"
   ]
  },
  {
   "cell_type": "code",
   "execution_count": 9,
   "id": "bf48568a",
   "metadata": {},
   "outputs": [
    {
     "name": "stdout",
     "output_type": "stream",
     "text": [
      "My name is Alice and I am 25 years old.\n",
      "My name is Alice and I am 25 years old.\n"
     ]
    }
   ],
   "source": [
    "name = \"Alice\"\n",
    "age = 25\n",
    "\n",
    "# Using f-strings\n",
    "print(f\"My name is {name} and I am {age} years old.\")\n",
    "\n",
    "# Using format()\n",
    "print(\"My name is {} and I am {} years old.\".format(name, age))"
   ]
  },
  {
   "cell_type": "markdown",
   "id": "9af1e1fc",
   "metadata": {},
   "source": [
    "\n",
    "Checking String Properties"
   ]
  },
  {
   "cell_type": "code",
   "execution_count": 10,
   "id": "f3c64759",
   "metadata": {},
   "outputs": [
    {
     "name": "stdout",
     "output_type": "stream",
     "text": [
      "Is alphanumeric: True\n",
      "Is alphabetic: False\n",
      "Is numeric: False\n",
      "Is uppercase: False\n",
      "Is lowercase: False\n"
     ]
    }
   ],
   "source": [
    "text = \"Python123\"\n",
    "\n",
    "# Checking properties\n",
    "print(\"Is alphanumeric:\", text.isalnum())\n",
    "print(\"Is alphabetic:\", text.isalpha())\n",
    "print(\"Is numeric:\", text.isdigit())\n",
    "print(\"Is uppercase:\", text.isupper())\n",
    "print(\"Is lowercase:\", text.islower())"
   ]
  },
  {
   "cell_type": "markdown",
   "id": "683a3a9e",
   "metadata": {},
   "source": [
    "\n",
    "Encoding and Decoding"
   ]
  },
  {
   "cell_type": "code",
   "execution_count": 11,
   "id": "669dd875",
   "metadata": {},
   "outputs": [
    {
     "name": "stdout",
     "output_type": "stream",
     "text": [
      "Encoded String: b'Hello'\n",
      "Decoded String: Hello\n"
     ]
    }
   ],
   "source": [
    "# Encoding a string\n",
    "text = \"Hello\"\n",
    "encoded = text.encode(\"utf-8\")\n",
    "print(\"Encoded String:\", encoded)\n",
    "\n",
    "# Decoding a string\n",
    "decoded = encoded.decode(\"utf-8\")\n",
    "print(\"Decoded String:\", decoded)"
   ]
  },
  {
   "cell_type": "markdown",
   "id": "f6e9a875",
   "metadata": {},
   "source": [
    "# 7. String Applications\n",
    "\n",
    "Reversing a String"
   ]
  },
  {
   "cell_type": "code",
   "execution_count": 12,
   "id": "599e2490",
   "metadata": {},
   "outputs": [
    {
     "name": "stdout",
     "output_type": "stream",
     "text": [
      "Reversed String: nohtyP\n"
     ]
    }
   ],
   "source": [
    "text = \"Python\"\n",
    "reversed_text = text[::-1]\n",
    "print(\"Reversed String:\", reversed_text)"
   ]
  },
  {
   "cell_type": "markdown",
   "id": "9ab9d217",
   "metadata": {},
   "source": [
    "\n",
    "Counting Character Frequency"
   ]
  },
  {
   "cell_type": "code",
   "execution_count": 13,
   "id": "e7150805",
   "metadata": {},
   "outputs": [
    {
     "name": "stdout",
     "output_type": "stream",
     "text": [
      "Character Frequency: {'d': 1, 'o': 2, ' ': 1, 'h': 1, 'e': 1, 'r': 1, 'w': 1, 'l': 3}\n"
     ]
    }
   ],
   "source": [
    "text = \"hello world\"\n",
    "\n",
    "# Counting characters\n",
    "frequency = {char: text.count(char) for char in set(text)}\n",
    "print(\"Character Frequency:\", frequency)"
   ]
  },
  {
   "cell_type": "markdown",
   "id": "8ed2a062",
   "metadata": {},
   "source": [
    "\n",
    "Checking Palindromes"
   ]
  },
  {
   "cell_type": "code",
   "execution_count": 14,
   "id": "7f32867b",
   "metadata": {},
   "outputs": [
    {
     "name": "stdout",
     "output_type": "stream",
     "text": [
      "Is 'radar' a palindrome?: True\n"
     ]
    }
   ],
   "source": [
    "def is_palindrome(s):\n",
    "    return s == s[::-1]\n",
    "\n",
    "word = \"radar\"\n",
    "print(f\"Is '{word}' a palindrome?:\", is_palindrome(word))"
   ]
  },
  {
   "cell_type": "markdown",
   "id": "0521d553",
   "metadata": {},
   "source": [
    "# 8. Multi-Line String Manipulation\n",
    "\n",
    "Working with Multi-Line Text"
   ]
  },
  {
   "cell_type": "code",
   "execution_count": 15,
   "id": "b0bf68f1",
   "metadata": {},
   "outputs": [
    {
     "name": "stdout",
     "output_type": "stream",
     "text": [
      "Number of lines: 2\n",
      "Line 1: Python is a powerful programming language.\n",
      "Line 2: It is widely used for web development, data analysis, and machine learning.\n"
     ]
    }
   ],
   "source": [
    "multi_line_text = \"\"\"\n",
    "Python is a powerful programming language.\n",
    "It is widely used for web development, data analysis, and machine learning.\n",
    "\"\"\"\n",
    "\n",
    "# Counting lines\n",
    "lines = multi_line_text.strip().split(\"\\n\")\n",
    "print(\"Number of lines:\", len(lines))\n",
    "\n",
    "# Printing each line\n",
    "for i, line in enumerate(lines, start=1):\n",
    "    print(f\"Line {i}: {line}\")"
   ]
  }
 ],
 "metadata": {
  "kernelspec": {
   "display_name": "Python 3 (ipykernel)",
   "language": "python",
   "name": "python3"
  },
  "language_info": {
   "codemirror_mode": {
    "name": "ipython",
    "version": 3
   },
   "file_extension": ".py",
   "mimetype": "text/x-python",
   "name": "python",
   "nbconvert_exporter": "python",
   "pygments_lexer": "ipython3",
   "version": "3.12.3"
  }
 },
 "nbformat": 4,
 "nbformat_minor": 5
}
