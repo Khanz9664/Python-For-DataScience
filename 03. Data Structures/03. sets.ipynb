{
 "cells": [
  {
   "cell_type": "markdown",
   "id": "7374af0f",
   "metadata": {},
   "source": [
    "# Introduction to Sets\n",
    "A set is an unordered, mutable, and unindexed collection of unique elements in Python. Sets are commonly used to store distinct elements and perform mathematical operations like union, intersection, and difference.\n",
    "\n",
    "Key Features of Sets:\n",
    "\n",
    "- Sets are defined using curly braces {} or the set() constructor.\n",
    "- Sets automatically eliminate duplicate elements.\n",
    "- Sets do not maintain order, so indexing and slicing are not supported."
   ]
  },
  {
   "cell_type": "markdown",
   "id": "67605a93",
   "metadata": {},
   "source": [
    "# 1. Creating Sets\n",
    "\n",
    "Basic Set Creation"
   ]
  },
  {
   "cell_type": "code",
   "execution_count": 1,
   "id": "855ae06c",
   "metadata": {},
   "outputs": [
    {
     "name": "stdout",
     "output_type": "stream",
     "text": [
      "Empty Set: set()\n",
      "Number Set: {1, 2, 3, 4, 5}\n",
      "Mixed Set: {1, 'Python', 3.14}\n"
     ]
    }
   ],
   "source": [
    "# Creating sets\n",
    "empty_set = set()  # Using the set() constructor\n",
    "number_set = {1, 2, 3, 4, 5}  # Using curly braces\n",
    "mixed_set = {1, \"Python\", 3.14, True}\n",
    "\n",
    "print(\"Empty Set:\", empty_set)\n",
    "print(\"Number Set:\", number_set)\n",
    "print(\"Mixed Set:\", mixed_set)"
   ]
  },
  {
   "cell_type": "markdown",
   "id": "d162a147",
   "metadata": {},
   "source": [
    "\n",
    "Handling Duplicates"
   ]
  },
  {
   "cell_type": "code",
   "execution_count": 2,
   "id": "62469f22",
   "metadata": {},
   "outputs": [
    {
     "name": "stdout",
     "output_type": "stream",
     "text": [
      "Set with duplicates removed: {1, 2, 3, 4}\n"
     ]
    }
   ],
   "source": [
    "# Sets automatically remove duplicate elements\n",
    "duplicate_set = {1, 2, 2, 3, 3, 4}\n",
    "print(\"Set with duplicates removed:\", duplicate_set)"
   ]
  },
  {
   "cell_type": "markdown",
   "id": "31101d1c",
   "metadata": {},
   "source": [
    "# 2. Accessing Elements in Sets\n",
    "Since sets are unordered, you cannot access elements by index. Instead, you can iterate over the set.\n",
    "\n",
    "Iterating Through a Set"
   ]
  },
  {
   "cell_type": "code",
   "execution_count": 3,
   "id": "ecd1acc9",
   "metadata": {},
   "outputs": [
    {
     "name": "stdout",
     "output_type": "stream",
     "text": [
      "50\n",
      "20\n",
      "40\n",
      "10\n",
      "30\n"
     ]
    }
   ],
   "source": [
    "my_set = {10, 20, 30, 40, 50}\n",
    "\n",
    "# Iterating using a loop\n",
    "for element in my_set:\n",
    "    print(element)"
   ]
  },
  {
   "cell_type": "markdown",
   "id": "a4af1688",
   "metadata": {},
   "source": [
    "# 3. Adding and Removing Elements\n",
    "\n",
    "Adding Elements"
   ]
  },
  {
   "cell_type": "code",
   "execution_count": 4,
   "id": "57a4fd72",
   "metadata": {},
   "outputs": [
    {
     "name": "stdout",
     "output_type": "stream",
     "text": [
      "Set after adding 4: {1, 2, 3, 4}\n",
      "Set after adding multiple elements: {1, 2, 3, 4, 5, 6, 7}\n"
     ]
    }
   ],
   "source": [
    "my_set = {1, 2, 3}\n",
    "\n",
    "# Adding a single element\n",
    "my_set.add(4)\n",
    "print(\"Set after adding 4:\", my_set)\n",
    "\n",
    "# Adding multiple elements (using update())\n",
    "my_set.update([5, 6, 7])\n",
    "print(\"Set after adding multiple elements:\", my_set)"
   ]
  },
  {
   "cell_type": "markdown",
   "id": "917998d8",
   "metadata": {},
   "source": [
    "\n",
    "Removing Elements"
   ]
  },
  {
   "cell_type": "code",
   "execution_count": 5,
   "id": "ff9f786b",
   "metadata": {},
   "outputs": [
    {
     "name": "stdout",
     "output_type": "stream",
     "text": [
      "Set after removing 3: {1, 2, 4, 5}\n",
      "Set after attempting to discard 10: {1, 2, 4, 5}\n",
      "Removed element: 1\n",
      "Set after pop: {2, 4, 5}\n"
     ]
    }
   ],
   "source": [
    "my_set = {1, 2, 3, 4, 5}\n",
    "\n",
    "# Removing an element (raises KeyError if not found)\n",
    "my_set.remove(3)\n",
    "print(\"Set after removing 3:\", my_set)\n",
    "\n",
    "# Removing an element safely (no error if not found)\n",
    "my_set.discard(10)\n",
    "print(\"Set after attempting to discard 10:\", my_set)\n",
    "\n",
    "# Removing an arbitrary element\n",
    "removed_element = my_set.pop()\n",
    "print(\"Removed element:\", removed_element)\n",
    "print(\"Set after pop:\", my_set)"
   ]
  },
  {
   "cell_type": "markdown",
   "id": "1c05f6db",
   "metadata": {},
   "source": [
    "# 4. Set Operations\n",
    "\n",
    "Union"
   ]
  },
  {
   "cell_type": "code",
   "execution_count": 6,
   "id": "eef61de4",
   "metadata": {},
   "outputs": [
    {
     "name": "stdout",
     "output_type": "stream",
     "text": [
      "Union: {1, 2, 3, 4, 5}\n"
     ]
    }
   ],
   "source": [
    "set1 = {1, 2, 3}\n",
    "set2 = {3, 4, 5}\n",
    "\n",
    "# Union of two sets\n",
    "union_set = set1 | set2\n",
    "print(\"Union:\", union_set)"
   ]
  },
  {
   "cell_type": "markdown",
   "id": "517d7533",
   "metadata": {},
   "source": [
    "\n",
    "Intersection"
   ]
  },
  {
   "cell_type": "code",
   "execution_count": 7,
   "id": "c285e1ab",
   "metadata": {},
   "outputs": [
    {
     "name": "stdout",
     "output_type": "stream",
     "text": [
      "Intersection: {3}\n"
     ]
    }
   ],
   "source": [
    "set1 = {1, 2, 3}\n",
    "set2 = {3, 4, 5}\n",
    "\n",
    "# Intersection of two sets\n",
    "intersection_set = set1 & set2\n",
    "print(\"Intersection:\", intersection_set)"
   ]
  },
  {
   "cell_type": "markdown",
   "id": "fb92185d",
   "metadata": {},
   "source": [
    "\n",
    "Difference"
   ]
  },
  {
   "cell_type": "code",
   "execution_count": 8,
   "id": "d4fdb35f",
   "metadata": {},
   "outputs": [
    {
     "name": "stdout",
     "output_type": "stream",
     "text": [
      "Difference: {1, 2}\n"
     ]
    }
   ],
   "source": [
    "set1 = {1, 2, 3}\n",
    "set2 = {3, 4, 5}\n",
    "\n",
    "# Difference of two sets\n",
    "difference_set = set1 - set2\n",
    "print(\"Difference:\", difference_set)"
   ]
  },
  {
   "cell_type": "markdown",
   "id": "97e2e236",
   "metadata": {},
   "source": [
    "\n",
    "Symmetric Difference"
   ]
  },
  {
   "cell_type": "code",
   "execution_count": 9,
   "id": "a4af5dff",
   "metadata": {},
   "outputs": [
    {
     "name": "stdout",
     "output_type": "stream",
     "text": [
      "Symmetric Difference: {1, 2, 4, 5}\n"
     ]
    }
   ],
   "source": [
    "set1 = {1, 2, 3}\n",
    "set2 = {3, 4, 5}\n",
    "\n",
    "# Symmetric difference of two sets\n",
    "symmetric_diff = set1 ^ set2\n",
    "print(\"Symmetric Difference:\", symmetric_diff)"
   ]
  },
  {
   "cell_type": "markdown",
   "id": "ade8dd16",
   "metadata": {},
   "source": [
    "# 5. Set Methods\n",
    "\n",
    "Commonly Used Methods"
   ]
  },
  {
   "cell_type": "code",
   "execution_count": 10,
   "id": "4517c9a1",
   "metadata": {},
   "outputs": [
    {
     "name": "stdout",
     "output_type": "stream",
     "text": [
      "Is 2 in the set? True\n",
      "Set after clearing: set()\n"
     ]
    }
   ],
   "source": [
    "my_set = {1, 2, 3}\n",
    "\n",
    "# Checking membership\n",
    "print(\"Is 2 in the set?\", 2 in my_set)\n",
    "\n",
    "# Clearing all elements\n",
    "my_set.clear()\n",
    "print(\"Set after clearing:\", my_set)"
   ]
  },
  {
   "cell_type": "markdown",
   "id": "22032eb3",
   "metadata": {},
   "source": [
    "# 6. Advanced Set Operations\n",
    "\n",
    "Subset and Superset"
   ]
  },
  {
   "cell_type": "code",
   "execution_count": 11,
   "id": "d12388cf",
   "metadata": {},
   "outputs": [
    {
     "name": "stdout",
     "output_type": "stream",
     "text": [
      "Is set1 a subset of set2? True\n",
      "Is set2 a superset of set1? True\n"
     ]
    }
   ],
   "source": [
    "set1 = {1, 2, 3}\n",
    "set2 = {1, 2, 3, 4, 5}\n",
    "\n",
    "# Checking if set1 is a subset of set2\n",
    "print(\"Is set1 a subset of set2?\", set1.issubset(set2))\n",
    "\n",
    "# Checking if set2 is a superset of set1\n",
    "print(\"Is set2 a superset of set1?\", set2.issuperset(set1))"
   ]
  },
  {
   "cell_type": "markdown",
   "id": "033576fc",
   "metadata": {},
   "source": [
    "\n",
    "Frozen Sets\n",
    "\n",
    "Frozen sets are immutable sets."
   ]
  },
  {
   "cell_type": "code",
   "execution_count": 12,
   "id": "517d8e59",
   "metadata": {},
   "outputs": [
    {
     "name": "stdout",
     "output_type": "stream",
     "text": [
      "Error: 'frozenset' object has no attribute 'add'\n",
      "Frozen Set: frozenset({1, 2, 3, 4, 5})\n"
     ]
    }
   ],
   "source": [
    "# Creating a frozen set\n",
    "frozen_set = frozenset([1, 2, 3, 4, 5])\n",
    "\n",
    "# Frozen sets are immutable\n",
    "try:\n",
    "    frozen_set.add(6)\n",
    "except AttributeError as e:\n",
    "    print(\"Error:\", e)\n",
    "\n",
    "print(\"Frozen Set:\", frozen_set)"
   ]
  },
  {
   "cell_type": "markdown",
   "id": "110eaeaa",
   "metadata": {},
   "source": [
    "# 7. Applications of Sets\n",
    "\n",
    "Removing Duplicates from a List"
   ]
  },
  {
   "cell_type": "code",
   "execution_count": 13,
   "id": "03ecb1f4",
   "metadata": {},
   "outputs": [
    {
     "name": "stdout",
     "output_type": "stream",
     "text": [
      "Unique Numbers: {1, 2, 3, 4, 5}\n"
     ]
    }
   ],
   "source": [
    "# Using a set to remove duplicates\n",
    "numbers = [1, 2, 2, 3, 3, 4, 5, 5]\n",
    "unique_numbers = set(numbers)\n",
    "print(\"Unique Numbers:\", unique_numbers)"
   ]
  },
  {
   "cell_type": "markdown",
   "id": "455fdac6",
   "metadata": {},
   "source": [
    "\n",
    "Finding Common Elements Between Lists"
   ]
  },
  {
   "cell_type": "code",
   "execution_count": 14,
   "id": "73ae76f0",
   "metadata": {},
   "outputs": [
    {
     "name": "stdout",
     "output_type": "stream",
     "text": [
      "Common Elements: {3, 4}\n"
     ]
    }
   ],
   "source": [
    "list1 = [1, 2, 3, 4]\n",
    "list2 = [3, 4, 5, 6]\n",
    "\n",
    "# Finding common elements\n",
    "common_elements = set(list1) & set(list2)\n",
    "print(\"Common Elements:\", common_elements)\n"
   ]
  }
 ],
 "metadata": {
  "kernelspec": {
   "display_name": "Python 3 (ipykernel)",
   "language": "python",
   "name": "python3"
  },
  "language_info": {
   "codemirror_mode": {
    "name": "ipython",
    "version": 3
   },
   "file_extension": ".py",
   "mimetype": "text/x-python",
   "name": "python",
   "nbconvert_exporter": "python",
   "pygments_lexer": "ipython3",
   "version": "3.12.3"
  }
 },
 "nbformat": 4,
 "nbformat_minor": 5
}
