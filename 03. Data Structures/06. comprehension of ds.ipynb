{
 "cells": [
  {
   "cell_type": "markdown",
   "id": "3d68bef4",
   "metadata": {},
   "source": [
    "# 1. Introduction to Comprehensions\n",
    "Comprehensions in Python are concise and readable ways to create new sequences (like lists, sets, or dictionaries) by applying an expression to an iterable. They help reduce boilerplate code and improve efficiency.\n",
    "\n",
    "Why Use Comprehensions?\n",
    "- Concise syntax\n",
    "- Enhanced readability\n",
    "- Better performance than equivalent loops"
   ]
  },
  {
   "cell_type": "markdown",
   "id": "422d025f",
   "metadata": {},
   "source": [
    "# 2. List Comprehensions\n",
    "\n",
    "Basic List Comprehension"
   ]
  },
  {
   "cell_type": "code",
   "execution_count": 1,
   "id": "eef7ec29",
   "metadata": {},
   "outputs": [
    {
     "name": "stdout",
     "output_type": "stream",
     "text": [
      "Squares: [0, 1, 4, 9, 16, 25, 36, 49, 64, 81]\n"
     ]
    }
   ],
   "source": [
    "# Creating a list of squares\n",
    "squares = [x**2 for x in range(10)]\n",
    "print(\"Squares:\", squares)"
   ]
  },
  {
   "cell_type": "markdown",
   "id": "7bd886d2",
   "metadata": {},
   "source": [
    "\n",
    "Adding Conditions"
   ]
  },
  {
   "cell_type": "code",
   "execution_count": 2,
   "id": "83142fdc",
   "metadata": {},
   "outputs": [
    {
     "name": "stdout",
     "output_type": "stream",
     "text": [
      "Even Numbers: [0, 2, 4, 6, 8, 10, 12, 14, 16, 18, 20]\n"
     ]
    }
   ],
   "source": [
    "# Even numbers from 0 to 20\n",
    "evens = [x for x in range(21) if x % 2 == 0]\n",
    "print(\"Even Numbers:\", evens)"
   ]
  },
  {
   "cell_type": "markdown",
   "id": "3328a799",
   "metadata": {},
   "source": [
    "\n",
    "Nested Loops in List Comprehension"
   ]
  },
  {
   "cell_type": "code",
   "execution_count": 3,
   "id": "651ae480",
   "metadata": {},
   "outputs": [
    {
     "name": "stdout",
     "output_type": "stream",
     "text": [
      "Pairs: [(0, 0), (0, 1), (0, 2), (1, 0), (1, 1), (1, 2), (2, 0), (2, 1), (2, 2)]\n"
     ]
    }
   ],
   "source": [
    "# Creating pairs of numbers\n",
    "pairs = [(x, y) for x in range(3) for y in range(3)]\n",
    "print(\"Pairs:\", pairs)"
   ]
  },
  {
   "cell_type": "markdown",
   "id": "679e41e2",
   "metadata": {},
   "source": [
    "# 3. Dictionary Comprehensions\n",
    "\n",
    "Creating a Dictionary"
   ]
  },
  {
   "cell_type": "code",
   "execution_count": 4,
   "id": "edd3411c",
   "metadata": {},
   "outputs": [
    {
     "name": "stdout",
     "output_type": "stream",
     "text": [
      "Squares Dictionary: {0: 0, 1: 1, 2: 4, 3: 9, 4: 16}\n"
     ]
    }
   ],
   "source": [
    "# Mapping numbers to their squares\n",
    "squares_dict = {x: x**2 for x in range(5)}\n",
    "print(\"Squares Dictionary:\", squares_dict)"
   ]
  },
  {
   "cell_type": "markdown",
   "id": "d6cab0eb",
   "metadata": {},
   "source": [
    "\n",
    "Adding Conditions"
   ]
  },
  {
   "cell_type": "code",
   "execution_count": 5,
   "id": "7778306b",
   "metadata": {},
   "outputs": [
    {
     "name": "stdout",
     "output_type": "stream",
     "text": [
      "Filtered Dictionary: {0: 0, 2: 4, 4: 16, 6: 36, 8: 64}\n"
     ]
    }
   ],
   "source": [
    "# Filtering dictionary entries\n",
    "filtered_dict = {x: x**2 for x in range(10) if x % 2 == 0}\n",
    "print(\"Filtered Dictionary:\", filtered_dict)"
   ]
  },
  {
   "cell_type": "markdown",
   "id": "cc4d4ab9",
   "metadata": {},
   "source": [
    "\n",
    "Inverting a Dictionary"
   ]
  },
  {
   "cell_type": "code",
   "execution_count": 6,
   "id": "3665a341",
   "metadata": {},
   "outputs": [
    {
     "name": "stdout",
     "output_type": "stream",
     "text": [
      "Inverted Dictionary: {1: 'a', 2: 'b', 3: 'c'}\n"
     ]
    }
   ],
   "source": [
    "# Inverting key-value pairs\n",
    "original = {'a': 1, 'b': 2, 'c': 3}\n",
    "inverted = {value: key for key, value in original.items()}\n",
    "print(\"Inverted Dictionary:\", inverted)"
   ]
  },
  {
   "cell_type": "markdown",
   "id": "9a78285f",
   "metadata": {},
   "source": [
    "# 4. Set Comprehensions\n",
    "\n",
    "Creating a Set"
   ]
  },
  {
   "cell_type": "code",
   "execution_count": 7,
   "id": "77832db6",
   "metadata": {},
   "outputs": [
    {
     "name": "stdout",
     "output_type": "stream",
     "text": [
      "Unique Squares Set: {0, 1, 4, 9, 16, 25}\n"
     ]
    }
   ],
   "source": [
    "# Unique squares\n",
    "unique_squares = {x**2 for x in range(-5, 6)}\n",
    "print(\"Unique Squares Set:\", unique_squares)"
   ]
  },
  {
   "cell_type": "markdown",
   "id": "5ab90af0",
   "metadata": {},
   "source": [
    "\n",
    "Adding Conditions"
   ]
  },
  {
   "cell_type": "code",
   "execution_count": 8,
   "id": "43ef7471",
   "metadata": {},
   "outputs": [
    {
     "name": "stdout",
     "output_type": "stream",
     "text": [
      "Even Numbers Set: {0, 2, 4, 6, 8}\n"
     ]
    }
   ],
   "source": [
    "# Set of even numbers\n",
    "evens_set = {x for x in range(10) if x % 2 == 0}\n",
    "print(\"Even Numbers Set:\", evens_set)"
   ]
  },
  {
   "cell_type": "markdown",
   "id": "020fd0a2",
   "metadata": {},
   "source": [
    "# 5. Generator Expressions\n",
    "\n",
    "Generator for Large Data"
   ]
  },
  {
   "cell_type": "code",
   "execution_count": 9,
   "id": "dfdb13cc",
   "metadata": {},
   "outputs": [
    {
     "name": "stdout",
     "output_type": "stream",
     "text": [
      "Squares Generator: <generator object <genexpr> at 0x767c279a2b50>\n",
      "0 1 4 9 16 25 36 49 64 81 "
     ]
    }
   ],
   "source": [
    "# Generator for squares\n",
    "squares_gen = (x**2 for x in range(10))\n",
    "print(\"Squares Generator:\", squares_gen)\n",
    "\n",
    "# Accessing elements\n",
    "for value in squares_gen:\n",
    "    print(value, end=\" \")"
   ]
  },
  {
   "cell_type": "markdown",
   "id": "3a2f235c",
   "metadata": {},
   "source": [
    "\n",
    "Memory Efficiency"
   ]
  },
  {
   "cell_type": "code",
   "execution_count": 10,
   "id": "464e2f63",
   "metadata": {},
   "outputs": [
    {
     "name": "stdout",
     "output_type": "stream",
     "text": [
      "List Comprehension Size: 8856 bytes\n",
      "Generator Expression Size: 200 bytes\n"
     ]
    }
   ],
   "source": [
    "import sys\n",
    "\n",
    "# Comparing memory usage\n",
    "list_comprehension = [x**2 for x in range(1000)]\n",
    "generator_expression = (x**2 for x in range(1000))\n",
    "\n",
    "print(\"List Comprehension Size:\", sys.getsizeof(list_comprehension), \"bytes\")\n",
    "print(\"Generator Expression Size:\", sys.getsizeof(generator_expression), \"bytes\")"
   ]
  },
  {
   "cell_type": "markdown",
   "id": "f19c2567",
   "metadata": {},
   "source": [
    "# 6. Advanced Comprehension Techniques\n",
    "\n",
    "Nested Comprehensions"
   ]
  },
  {
   "cell_type": "code",
   "execution_count": 11,
   "id": "9d9b76cb",
   "metadata": {},
   "outputs": [
    {
     "name": "stdout",
     "output_type": "stream",
     "text": [
      "Flattened List: [1, 2, 3, 4, 5, 6, 7, 8]\n"
     ]
    }
   ],
   "source": [
    "# Flattening a nested list\n",
    "nested_list = [[1, 2, 3], [4, 5], [6, 7, 8]]\n",
    "flattened = [item for sublist in nested_list for item in sublist]\n",
    "print(\"Flattened List:\", flattened)"
   ]
  },
  {
   "cell_type": "markdown",
   "id": "07c1579d",
   "metadata": {},
   "source": [
    "\n",
    "Matrix Transposition"
   ]
  },
  {
   "cell_type": "code",
   "execution_count": 12,
   "id": "c2d75551",
   "metadata": {},
   "outputs": [
    {
     "name": "stdout",
     "output_type": "stream",
     "text": [
      "Transposed Matrix: [[1, 4, 7], [2, 5, 8], [3, 6, 9]]\n"
     ]
    }
   ],
   "source": [
    "# Transposing a 2D matrix\n",
    "matrix = [\n",
    "    [1, 2, 3],\n",
    "    [4, 5, 6],\n",
    "    [7, 8, 9]\n",
    "]\n",
    "\n",
    "transposed = [[row[i] for row in matrix] for i in range(len(matrix[0]))]\n",
    "print(\"Transposed Matrix:\", transposed)"
   ]
  },
  {
   "cell_type": "markdown",
   "id": "59f9657f",
   "metadata": {},
   "source": [
    "# 7. Real-World Applications\n",
    "\n",
    "Filtering and Transforming Data"
   ]
  },
  {
   "cell_type": "code",
   "execution_count": 13,
   "id": "ccf8703a",
   "metadata": {},
   "outputs": [
    {
     "name": "stdout",
     "output_type": "stream",
     "text": [
      "Filtered Names: ['Alice', 'Amanda']\n"
     ]
    }
   ],
   "source": [
    "# Extracting names starting with 'A'\n",
    "names = [\"Alice\", \"Bob\", \"Amanda\", \"Charlie\"]\n",
    "filtered_names = [name for name in names if name.startswith(\"A\")]\n",
    "print(\"Filtered Names:\", filtered_names)"
   ]
  },
  {
   "cell_type": "markdown",
   "id": "9abe480a",
   "metadata": {},
   "source": [
    "\n",
    "Word Frequency"
   ]
  },
  {
   "cell_type": "code",
   "execution_count": 14,
   "id": "e9774b1f",
   "metadata": {},
   "outputs": [
    {
     "name": "stdout",
     "output_type": "stream",
     "text": [
      "Word Frequency: {'is': 2, 'a': 2, 'this': 2, 'only': 1, 'test': 2}\n"
     ]
    }
   ],
   "source": [
    "# Word frequency in a sentence\n",
    "sentence = \"this is a test this is only a test\"\n",
    "word_count = {word: sentence.split().count(word) for word in set(sentence.split())}\n",
    "print(\"Word Frequency:\", word_count)"
   ]
  },
  {
   "cell_type": "markdown",
   "id": "745fc573",
   "metadata": {},
   "source": [
    "\n",
    "Prime Numbers Using Comprehensions"
   ]
  },
  {
   "cell_type": "code",
   "execution_count": 15,
   "id": "1d309296",
   "metadata": {},
   "outputs": [
    {
     "name": "stdout",
     "output_type": "stream",
     "text": [
      "Prime Numbers: [2, 3, 5, 7, 11, 13, 17, 19, 23, 29, 31, 37, 41, 43, 47]\n"
     ]
    }
   ],
   "source": [
    "# Finding prime numbers up to 50\n",
    "def is_prime(n):\n",
    "    return all(n % i != 0 for i in range(2, int(n**0.5) + 1)) if n > 1 else False\n",
    "\n",
    "primes = [x for x in range(50) if is_prime(x)]\n",
    "print(\"Prime Numbers:\", primes)\n"
   ]
  }
 ],
 "metadata": {
  "kernelspec": {
   "display_name": "Python 3 (ipykernel)",
   "language": "python",
   "name": "python3"
  },
  "language_info": {
   "codemirror_mode": {
    "name": "ipython",
    "version": 3
   },
   "file_extension": ".py",
   "mimetype": "text/x-python",
   "name": "python",
   "nbconvert_exporter": "python",
   "pygments_lexer": "ipython3",
   "version": "3.12.3"
  }
 },
 "nbformat": 4,
 "nbformat_minor": 5
}
