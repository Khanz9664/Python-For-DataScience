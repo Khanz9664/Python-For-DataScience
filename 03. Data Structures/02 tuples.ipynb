{
 "cells": [
  {
   "cell_type": "markdown",
   "id": "d596af63",
   "metadata": {},
   "source": [
    "# Introduction to Tuples\n",
    "A tuple is an immutable, ordered collection of elements in Python. It can store heterogeneous data types like integers, strings, floats, or even other tuples."
   ]
  },
  {
   "cell_type": "markdown",
   "id": "b974e398",
   "metadata": {},
   "source": [
    "# 1. Creating Tuples\n",
    "\n",
    "Basic Tuple Creation"
   ]
  },
  {
   "cell_type": "code",
   "execution_count": 1,
   "id": "1ae095ca",
   "metadata": {},
   "outputs": [
    {
     "name": "stdout",
     "output_type": "stream",
     "text": [
      "Empty Tuple: ()\n",
      "Single Element Tuple: (42,)\n",
      "Mixed Tuple: (1, 'Python', 3.14)\n"
     ]
    }
   ],
   "source": [
    "# Creating tuples\n",
    "empty_tuple = ()  # Empty tuple\n",
    "single_element_tuple = (42,)  # Single element tuple (comma is required)\n",
    "mixed_tuple = (1, \"Python\", 3.14)\n",
    "\n",
    "print(\"Empty Tuple:\", empty_tuple)\n",
    "print(\"Single Element Tuple:\", single_element_tuple)\n",
    "print(\"Mixed Tuple:\", mixed_tuple)"
   ]
  },
  {
   "cell_type": "markdown",
   "id": "f30c6855",
   "metadata": {},
   "source": [
    "\n",
    "Tuple Without Parentheses"
   ]
  },
  {
   "cell_type": "code",
   "execution_count": 2,
   "id": "c2c750a3",
   "metadata": {},
   "outputs": [
    {
     "name": "stdout",
     "output_type": "stream",
     "text": [
      "Tuple without parentheses: (1, 2, 3)\n"
     ]
    }
   ],
   "source": [
    "# Tuple creation without parentheses (tuple packing)\n",
    "tuple_without_parentheses = 1, 2, 3\n",
    "print(\"Tuple without parentheses:\", tuple_without_parentheses)\n"
   ]
  },
  {
   "cell_type": "markdown",
   "id": "cab17300",
   "metadata": {},
   "source": [
    "# 2. Accessing Tuple Elements\n",
    "\n",
    "Indexing and Slicing"
   ]
  },
  {
   "cell_type": "code",
   "execution_count": 3,
   "id": "afb19d99",
   "metadata": {},
   "outputs": [
    {
     "name": "stdout",
     "output_type": "stream",
     "text": [
      "First element: 10\n",
      "Last element: 50\n",
      "Slice from index 1 to 3: (20, 30, 40)\n"
     ]
    }
   ],
   "source": [
    "my_tuple = (10, 20, 30, 40, 50)\n",
    "\n",
    "# Accessing elements by index\n",
    "print(\"First element:\", my_tuple[0])\n",
    "print(\"Last element:\", my_tuple[-1])\n",
    "\n",
    "# Slicing a tuple\n",
    "print(\"Slice from index 1 to 3:\", my_tuple[1:4])"
   ]
  },
  {
   "cell_type": "markdown",
   "id": "60e3bb11",
   "metadata": {},
   "source": [
    "\n",
    "Iterating Over a Tuple"
   ]
  },
  {
   "cell_type": "code",
   "execution_count": 4,
   "id": "2dd97a65",
   "metadata": {},
   "outputs": [
    {
     "name": "stdout",
     "output_type": "stream",
     "text": [
      "Python\n",
      "is\n",
      "awesome\n"
     ]
    }
   ],
   "source": [
    "my_tuple = (\"Python\", \"is\", \"awesome\")\n",
    "\n",
    "# Iterating using a loop\n",
    "for word in my_tuple:\n",
    "    print(word)"
   ]
  },
  {
   "cell_type": "markdown",
   "id": "79bd95d1",
   "metadata": {},
   "source": [
    "# 3. Tuple Operations\n",
    "\n",
    "Tuple Concatenation"
   ]
  },
  {
   "cell_type": "code",
   "execution_count": 5,
   "id": "909055a8",
   "metadata": {},
   "outputs": [
    {
     "name": "stdout",
     "output_type": "stream",
     "text": [
      "Concatenated Tuple: (1, 2, 3, 4, 5, 6)\n"
     ]
    }
   ],
   "source": [
    "tuple1 = (1, 2, 3)\n",
    "tuple2 = (4, 5, 6)\n",
    "\n",
    "# Concatenating tuples\n",
    "result = tuple1 + tuple2\n",
    "print(\"Concatenated Tuple:\", result)"
   ]
  },
  {
   "cell_type": "markdown",
   "id": "7e5f29f1",
   "metadata": {},
   "source": [
    "\n",
    "Tuple Repetition"
   ]
  },
  {
   "cell_type": "code",
   "execution_count": 6,
   "id": "04e7ecf8",
   "metadata": {},
   "outputs": [
    {
     "name": "stdout",
     "output_type": "stream",
     "text": [
      "Repeated Tuple: (1, 2, 3, 1, 2, 3, 1, 2, 3)\n"
     ]
    }
   ],
   "source": [
    "tuple1 = (1, 2, 3)\n",
    "\n",
    "# Repeating tuples\n",
    "result = tuple1 * 3\n",
    "print(\"Repeated Tuple:\", result)"
   ]
  },
  {
   "cell_type": "markdown",
   "id": "bc41fe4a",
   "metadata": {},
   "source": [
    "# 4. Tuple Methods\n",
    "\n",
    "Count and Index"
   ]
  },
  {
   "cell_type": "code",
   "execution_count": 7,
   "id": "7286fc3d",
   "metadata": {},
   "outputs": [
    {
     "name": "stdout",
     "output_type": "stream",
     "text": [
      "Count of 2: 3\n",
      "Index of 3: 2\n"
     ]
    }
   ],
   "source": [
    "my_tuple = (1, 2, 3, 2, 4, 2)\n",
    "\n",
    "# Counting occurrences of an element\n",
    "print(\"Count of 2:\", my_tuple.count(2))\n",
    "\n",
    "# Finding the first index of an element\n",
    "print(\"Index of 3:\", my_tuple.index(3))"
   ]
  },
  {
   "cell_type": "markdown",
   "id": "4b47f1d9",
   "metadata": {},
   "source": [
    "# 5. Nested Tuples\n",
    "\n",
    "Working with Nested Tuples"
   ]
  },
  {
   "cell_type": "code",
   "execution_count": 8,
   "id": "3e079024",
   "metadata": {},
   "outputs": [
    {
     "name": "stdout",
     "output_type": "stream",
     "text": [
      "First element of first tuple: 1\n",
      "Second tuple: (3, 4)\n"
     ]
    }
   ],
   "source": [
    "nested_tuple = ((1, 2), (3, 4), (5, 6))\n",
    "\n",
    "# Accessing elements in a nested tuple\n",
    "print(\"First element of first tuple:\", nested_tuple[0][0])\n",
    "print(\"Second tuple:\", nested_tuple[1])\n"
   ]
  },
  {
   "cell_type": "markdown",
   "id": "33d4bc59",
   "metadata": {},
   "source": [
    "# 6. Tuple Immutability\n",
    "\n",
    "Immutability of Tuples"
   ]
  },
  {
   "cell_type": "code",
   "execution_count": 10,
   "id": "2b81e65a",
   "metadata": {},
   "outputs": [
    {
     "name": "stdout",
     "output_type": "stream",
     "text": [
      "Error: 'tuple' object does not support item assignment\n"
     ]
    }
   ],
   "source": [
    "my_tuple = (1, 2, 3)\n",
    "\n",
    "# Attempting to change an element (will raise an error)\n",
    "try:\n",
    "    my_tuple[0] = 10\n",
    "except TypeError as e:\n",
    "    print(\"Error:\", e)"
   ]
  },
  {
   "cell_type": "markdown",
   "id": "792ef709",
   "metadata": {},
   "source": [
    "# 7. Advanced Tuple Operations\n",
    "\n",
    "Using Tuples as Dictionary Keys"
   ]
  },
  {
   "cell_type": "code",
   "execution_count": 11,
   "id": "32c92fc8",
   "metadata": {},
   "outputs": [
    {
     "name": "stdout",
     "output_type": "stream",
     "text": [
      "Location for (40.7128, 74.0060): New York\n"
     ]
    }
   ],
   "source": [
    "# Tuples as keys in a dictionary\n",
    "location = {(40.7128, 74.0060): \"New York\", (51.5074, -0.1278): \"London\"}\n",
    "\n",
    "# Accessing values using tuple keys\n",
    "print(\"Location for (40.7128, 74.0060):\", location[(40.7128, 74.0060)])"
   ]
  },
  {
   "cell_type": "markdown",
   "id": "1bf8fbbe",
   "metadata": {},
   "source": [
    "\n",
    "Tuple Unpacking"
   ]
  },
  {
   "cell_type": "code",
   "execution_count": 12,
   "id": "ce4a09bd",
   "metadata": {},
   "outputs": [
    {
     "name": "stdout",
     "output_type": "stream",
     "text": [
      "Name: Alice\n",
      "Age: 25\n",
      "Profession: Engineer\n"
     ]
    }
   ],
   "source": [
    "# Unpacking tuple elements into variables\n",
    "person = (\"Alice\", 25, \"Engineer\")\n",
    "name, age, profession = person\n",
    "\n",
    "print(\"Name:\", name)\n",
    "print(\"Age:\", age)\n",
    "print(\"Profession:\", profession)"
   ]
  },
  {
   "cell_type": "markdown",
   "id": "5f6851ee",
   "metadata": {},
   "source": [
    "\n",
    "\n",
    "Swapping Variables Using Tuples"
   ]
  },
  {
   "cell_type": "code",
   "execution_count": 13,
   "id": "98b2dadf",
   "metadata": {},
   "outputs": [
    {
     "name": "stdout",
     "output_type": "stream",
     "text": [
      "After swapping - a: 20 , b: 10\n"
     ]
    }
   ],
   "source": [
    "# Swapping variables\n",
    "a, b = 10, 20\n",
    "a, b = b, a\n",
    "\n",
    "print(\"After swapping - a:\", a, \", b:\", b)"
   ]
  },
  {
   "cell_type": "markdown",
   "id": "1a0b944f",
   "metadata": {},
   "source": [
    "# 8. Tuple Comprehensions (Indirect)\n",
    "\n",
    "Since tuples are immutable, Python does not support tuple comprehensions directly. However, we can achieve similar functionality using generators.\n",
    "\n",
    "\n",
    "Tuple Comprehension Using tuple()"
   ]
  },
  {
   "cell_type": "code",
   "execution_count": 14,
   "id": "cfd86717",
   "metadata": {},
   "outputs": [
    {
     "name": "stdout",
     "output_type": "stream",
     "text": [
      "Squared numbers tuple: (0, 1, 4, 9, 16)\n"
     ]
    }
   ],
   "source": [
    "# Generating a tuple from a generator\n",
    "squared_numbers = tuple(x**2 for x in range(5))\n",
    "print(\"Squared numbers tuple:\", squared_numbers)"
   ]
  },
  {
   "cell_type": "markdown",
   "id": "405a14b7",
   "metadata": {},
   "source": [
    "# 9. Tuple Comparison\n",
    "\n",
    "Comparing Tuples"
   ]
  },
  {
   "cell_type": "code",
   "execution_count": 15,
   "id": "50a62405",
   "metadata": {},
   "outputs": [
    {
     "name": "stdout",
     "output_type": "stream",
     "text": [
      "Is tuple1 < tuple2? True\n"
     ]
    }
   ],
   "source": [
    "# Comparing tuples\n",
    "tuple1 = (1, 2, 3)\n",
    "tuple2 = (1, 2, 4)\n",
    "\n",
    "print(\"Is tuple1 < tuple2?\", tuple1 < tuple2)  # Compares lexicographically"
   ]
  },
  {
   "cell_type": "markdown",
   "id": "9844641d",
   "metadata": {},
   "source": [
    "# 10. Tuple in Functions\n",
    "\n",
    "Returning Multiple Values"
   ]
  },
  {
   "cell_type": "code",
   "execution_count": 16,
   "id": "71a33f39",
   "metadata": {},
   "outputs": [
    {
     "name": "stdout",
     "output_type": "stream",
     "text": [
      "Results: (15, 5, 50, 2.0)\n"
     ]
    }
   ],
   "source": [
    "# Function returning multiple values as a tuple\n",
    "def calculate(a, b):\n",
    "    return a + b, a - b, a * b, a / b\n",
    "\n",
    "result = calculate(10, 5)\n",
    "print(\"Results:\", result)"
   ]
  },
  {
   "cell_type": "markdown",
   "id": "094e161e",
   "metadata": {},
   "source": [
    "\n",
    "\n",
    "Using `*args` to Accept Variable-Length Arguments"
   ]
  },
  {
   "cell_type": "code",
   "execution_count": 17,
   "id": "69eb7c97",
   "metadata": {},
   "outputs": [
    {
     "name": "stdout",
     "output_type": "stream",
     "text": [
      "Arguments as tuple: (1, 'Python', 3.14, True)\n"
     ]
    }
   ],
   "source": [
    "# Function with variable-length arguments\n",
    "def print_all(*args):\n",
    "    print(\"Arguments as tuple:\", args)\n",
    "\n",
    "print_all(1, \"Python\", 3.14, True)"
   ]
  },
  {
   "cell_type": "markdown",
   "id": "94b67212",
   "metadata": {},
   "source": [
    "# 11. Memory Efficiency\n",
    "\n",
    "Memory Efficiency of Tuples"
   ]
  },
  {
   "cell_type": "code",
   "execution_count": 18,
   "id": "4226d447",
   "metadata": {},
   "outputs": [
    {
     "name": "stdout",
     "output_type": "stream",
     "text": [
      "Memory used by list: 104\n",
      "Memory used by tuple: 80\n"
     ]
    }
   ],
   "source": [
    "import sys\n",
    "\n",
    "# Comparing memory usage of list and tuple\n",
    "my_list = [1, 2, 3, 4, 5]\n",
    "my_tuple = (1, 2, 3, 4, 5)\n",
    "\n",
    "print(\"Memory used by list:\", sys.getsizeof(my_list))\n",
    "print(\"Memory used by tuple:\", sys.getsizeof(my_tuple))"
   ]
  },
  {
   "cell_type": "markdown",
   "id": "2cf130ac",
   "metadata": {},
   "source": [
    "# `Thank You`"
   ]
  }
 ],
 "metadata": {
  "kernelspec": {
   "display_name": "Python 3 (ipykernel)",
   "language": "python",
   "name": "python3"
  },
  "language_info": {
   "codemirror_mode": {
    "name": "ipython",
    "version": 3
   },
   "file_extension": ".py",
   "mimetype": "text/x-python",
   "name": "python",
   "nbconvert_exporter": "python",
   "pygments_lexer": "ipython3",
   "version": "3.12.3"
  }
 },
 "nbformat": 4,
 "nbformat_minor": 5
}
