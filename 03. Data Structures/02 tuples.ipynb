{
 "cells": [
  {
   "cell_type": "code",
   "execution_count": 6,
   "id": "921dd4d1-3fd8-4110-93db-13e82136108a",
   "metadata": {},
   "outputs": [],
   "source": [
    "a=1,2,3,4,5"
   ]
  },
  {
   "cell_type": "code",
   "execution_count": 7,
   "id": "705fbbf3-5896-4851-b604-267a33653198",
   "metadata": {},
   "outputs": [],
   "source": [
    "b=6,7,8"
   ]
  },
  {
   "cell_type": "code",
   "execution_count": 8,
   "id": "99902f2c-6268-469e-8393-803b3d77a3ac",
   "metadata": {},
   "outputs": [
    {
     "name": "stdout",
     "output_type": "stream",
     "text": [
      "<class 'tuple'>\n",
      "<class 'tuple'>\n"
     ]
    }
   ],
   "source": [
    "print(type(a))\n",
    "print(type(b))"
   ]
  },
  {
   "cell_type": "code",
   "execution_count": 9,
   "id": "e4ea4a5f-3bea-46af-8f0c-27034206ae94",
   "metadata": {},
   "outputs": [
    {
     "name": "stdout",
     "output_type": "stream",
     "text": [
      "(1, 2, 3, 4, 5)\n",
      "(6, 7, 8)\n"
     ]
    }
   ],
   "source": [
    "print(a)\n",
    "print(b)"
   ]
  },
  {
   "cell_type": "code",
   "execution_count": null,
   "id": "8435c6f5-41ab-4533-826d-d1ec97abff42",
   "metadata": {},
   "outputs": [],
   "source": []
  },
  {
   "cell_type": "code",
   "execution_count": 10,
   "id": "b330d8a0-93cf-4119-9061-e5216f8fd60b",
   "metadata": {},
   "outputs": [],
   "source": [
    "def fun(*args):\n",
    "    print(args)\n",
    "    print(type(args))"
   ]
  },
  {
   "cell_type": "code",
   "execution_count": 11,
   "id": "0c484e6a-e25d-47d5-9836-418b94338c77",
   "metadata": {},
   "outputs": [
    {
     "name": "stdout",
     "output_type": "stream",
     "text": [
      "(1, 2, 3, 4, 5)\n",
      "<class 'tuple'>\n"
     ]
    }
   ],
   "source": [
    "fun(1,2,3,4,5)"
   ]
  },
  {
   "cell_type": "code",
   "execution_count": null,
   "id": "4a9d20ac-24f9-44b8-848e-53f7b13eba60",
   "metadata": {},
   "outputs": [],
   "source": []
  },
  {
   "cell_type": "code",
   "execution_count": null,
   "id": "cb37f77b-7f1e-4338-9218-77dd321c51c8",
   "metadata": {},
   "outputs": [],
   "source": []
  },
  {
   "cell_type": "code",
   "execution_count": 12,
   "id": "08696317-eb7e-4142-922b-8d06d0f6cb87",
   "metadata": {},
   "outputs": [],
   "source": [
    "#unpacking a tuple"
   ]
  },
  {
   "cell_type": "code",
   "execution_count": 13,
   "id": "db2a75a7-b9b5-4833-b36a-f4c501913639",
   "metadata": {},
   "outputs": [],
   "source": [
    "x=12,15,16,19"
   ]
  },
  {
   "cell_type": "code",
   "execution_count": 14,
   "id": "50344949-904a-4667-ad33-fafb5f40116b",
   "metadata": {},
   "outputs": [
    {
     "name": "stdout",
     "output_type": "stream",
     "text": [
      "12 15 16 19\n"
     ]
    }
   ],
   "source": [
    "a,b,c,d=x\n",
    "print(a,b,c,d)"
   ]
  },
  {
   "cell_type": "code",
   "execution_count": null,
   "id": "a139ef5d-5664-4ea8-abca-fed03fe44183",
   "metadata": {},
   "outputs": [],
   "source": []
  },
  {
   "cell_type": "code",
   "execution_count": null,
   "id": "74869ce2-3cb0-497c-9343-63ce5c136630",
   "metadata": {},
   "outputs": [],
   "source": []
  },
  {
   "cell_type": "code",
   "execution_count": 15,
   "id": "51043df7-f065-437d-93db-e129226a2640",
   "metadata": {},
   "outputs": [],
   "source": [
    "#converting tuple into list"
   ]
  },
  {
   "cell_type": "code",
   "execution_count": 19,
   "id": "72312fc5-9544-466f-891f-0f8b65c457b7",
   "metadata": {},
   "outputs": [],
   "source": [
    "z=12,13,14"
   ]
  },
  {
   "cell_type": "code",
   "execution_count": 20,
   "id": "868ff3dc-9e8a-4687-be7c-1fcaa8383123",
   "metadata": {},
   "outputs": [
    {
     "name": "stdout",
     "output_type": "stream",
     "text": [
      "(12, 13, 14)\n",
      "<class 'tuple'>\n"
     ]
    }
   ],
   "source": [
    "print(z)\n",
    "print(type(z))"
   ]
  },
  {
   "cell_type": "code",
   "execution_count": 21,
   "id": "0753f994-4847-4cb7-9bbe-51544e3548f4",
   "metadata": {},
   "outputs": [],
   "source": [
    "z=list(z)"
   ]
  },
  {
   "cell_type": "code",
   "execution_count": 22,
   "id": "f11cc745-8f45-48d2-b39e-c017ca92b1d8",
   "metadata": {},
   "outputs": [
    {
     "name": "stdout",
     "output_type": "stream",
     "text": [
      "[12, 13, 14]\n",
      "<class 'list'>\n"
     ]
    }
   ],
   "source": [
    "print (z)\n",
    "print(type(z))"
   ]
  },
  {
   "cell_type": "code",
   "execution_count": null,
   "id": "61eb9759-01d0-4556-8b0b-af9087d2a2a7",
   "metadata": {},
   "outputs": [],
   "source": []
  },
  {
   "cell_type": "code",
   "execution_count": null,
   "id": "b775bf4e-6b4c-482d-aa6d-cf871e2e2330",
   "metadata": {},
   "outputs": [],
   "source": []
  },
  {
   "cell_type": "code",
   "execution_count": 23,
   "id": "647f9d3a-434b-422e-be3f-bb735aa68192",
   "metadata": {},
   "outputs": [],
   "source": [
    "#returning multiple values from functions and the returned thing is a tuple"
   ]
  },
  {
   "cell_type": "code",
   "execution_count": 25,
   "id": "fdc3fe73-e3a4-496b-b1da-3e7989def20a",
   "metadata": {},
   "outputs": [],
   "source": [
    "def addsub(a,b):\n",
    "    return(a+b,a-b)"
   ]
  },
  {
   "cell_type": "code",
   "execution_count": 29,
   "id": "81c5391c-5c10-4d59-8e71-73b78eaae34d",
   "metadata": {},
   "outputs": [],
   "source": [
    "Sum,Diff=addsub(10,9)"
   ]
  },
  {
   "cell_type": "code",
   "execution_count": 27,
   "id": "6db6d9f7-1a95-41e8-8bd6-e80015c237fa",
   "metadata": {},
   "outputs": [
    {
     "name": "stdout",
     "output_type": "stream",
     "text": [
      "19 1\n"
     ]
    }
   ],
   "source": [
    "print(Sum,Diff)"
   ]
  },
  {
   "cell_type": "code",
   "execution_count": null,
   "id": "8c6d5e82-041b-459d-a35b-0f7bf6704909",
   "metadata": {},
   "outputs": [],
   "source": []
  },
  {
   "cell_type": "code",
   "execution_count": null,
   "id": "ffcf2763-c233-4d18-8bae-a4230bae8baa",
   "metadata": {},
   "outputs": [],
   "source": []
  }
 ],
 "metadata": {
  "kernelspec": {
   "display_name": "Python 3 (ipykernel)",
   "language": "python",
   "name": "python3"
  },
  "language_info": {
   "codemirror_mode": {
    "name": "ipython",
    "version": 3
   },
   "file_extension": ".py",
   "mimetype": "text/x-python",
   "name": "python",
   "nbconvert_exporter": "python",
   "pygments_lexer": "ipython3",
   "version": "3.12.0"
  }
 },
 "nbformat": 4,
 "nbformat_minor": 5
}
