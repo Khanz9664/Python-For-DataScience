{
 "cells": [
  {
   "cell_type": "markdown",
   "id": "364c24c4",
   "metadata": {},
   "source": [
    "# Title: Exception Handling in Python: From Basics to Advanced\n",
    "## Introduction:\n",
    "    Python provides a mechanism to handle runtime errors using exceptions.\n",
    "    Exceptions occur during the execution of a program, disrupting its normal flow.\n",
    "    Proper handling ensures the program doesn’t crash and responds gracefully."
   ]
  },
  {
   "cell_type": "markdown",
   "id": "903331aa",
   "metadata": {},
   "source": [
    "# What is an Exception?\n",
    "## Definition: An exception is an error that occurs during program execution.\n",
    "### Common Exceptions:\n",
    "    ZeroDivisionError: Division by zero.\n",
    "    ValueError: Invalid type of input.\n",
    "    FileNotFoundError: File does not exist.\n",
    "    KeyError: Missing key in a dictionary."
   ]
  },
  {
   "cell_type": "markdown",
   "id": "7072da7b",
   "metadata": {},
   "source": [
    "# Error:\n",
    "    syntax error or not following language protocols"
   ]
  },
  {
   "cell_type": "code",
   "execution_count": 2,
   "id": "a7e58d74",
   "metadata": {},
   "outputs": [
    {
     "ename": "SyntaxError",
     "evalue": "invalid syntax (3800557647.py, line 1)",
     "output_type": "error",
     "traceback": [
      "\u001b[0;36m  Cell \u001b[0;32mIn[2], line 1\u001b[0;36m\u001b[0m\n\u001b[0;31m    fore i in range(10): #instead of for i have written fore\u001b[0m\n\u001b[0m         ^\u001b[0m\n\u001b[0;31mSyntaxError\u001b[0m\u001b[0;31m:\u001b[0m invalid syntax\n"
     ]
    }
   ],
   "source": [
    "fore i in range(10): #instead of for i have written fore\n",
    "    print(i)"
   ]
  },
  {
   "cell_type": "markdown",
   "id": "5bb7600d",
   "metadata": {},
   "source": [
    "# Exception: \n",
    "    Error detected during execution"
   ]
  },
  {
   "cell_type": "code",
   "execution_count": 4,
   "id": "68ba60ea",
   "metadata": {},
   "outputs": [
    {
     "ename": "ZeroDivisionError",
     "evalue": "division by zero",
     "output_type": "error",
     "traceback": [
      "\u001b[0;31m---------------------------------------------------------------------------\u001b[0m",
      "\u001b[0;31mZeroDivisionError\u001b[0m                         Traceback (most recent call last)",
      "Cell \u001b[0;32mIn[4], line 1\u001b[0m\n\u001b[0;32m----> 1\u001b[0m \u001b[38;5;28mprint\u001b[39m(\u001b[38;5;241;43m10\u001b[39;49m\u001b[38;5;241;43m/\u001b[39;49m\u001b[38;5;241;43m0\u001b[39;49m)\n\u001b[1;32m      2\u001b[0m \u001b[38;5;66;03m#divide by zero\u001b[39;00m\n",
      "\u001b[0;31mZeroDivisionError\u001b[0m: division by zero"
     ]
    }
   ],
   "source": [
    "print(10/0)\n",
    "#divide by zero"
   ]
  },
  {
   "cell_type": "markdown",
   "id": "756a8c1b",
   "metadata": {},
   "source": [
    "## Exception Handling\n",
    "    --try\n",
    "    --except"
   ]
  },
  {
   "cell_type": "code",
   "execution_count": 6,
   "id": "01792012",
   "metadata": {},
   "outputs": [
    {
     "name": "stdout",
     "output_type": "stream",
     "text": [
      "2.0\n",
      "Error\n"
     ]
    }
   ],
   "source": [
    "def div(a,b):\n",
    "    try:\n",
    "        print(a/b)\n",
    "    except:\n",
    "        print(\"Error\")\n",
    "div(10,5)\n",
    "div(10,0)"
   ]
  },
  {
   "cell_type": "markdown",
   "id": "ccb908da",
   "metadata": {},
   "source": [
    "## Error classes:\n",
    "    "
   ]
  },
  {
   "cell_type": "code",
   "execution_count": 11,
   "id": "818efb78",
   "metadata": {},
   "outputs": [
    {
     "name": "stdout",
     "output_type": "stream",
     "text": [
      "error\n"
     ]
    }
   ],
   "source": [
    "#ZeroDivisionError\n",
    "try:\n",
    "    print(10/0)\n",
    "except ZeroDivisionError:\n",
    "    print(\"error\")"
   ]
  },
  {
   "cell_type": "code",
   "execution_count": 12,
   "id": "8ba6fcdd",
   "metadata": {},
   "outputs": [
    {
     "name": "stdout",
     "output_type": "stream",
     "text": [
      "error\n"
     ]
    }
   ],
   "source": [
    "#ValueError\n",
    "try:\n",
    "    a=int(\"shahid\")\n",
    "except:\n",
    "    print(\"error\")"
   ]
  },
  {
   "cell_type": "markdown",
   "id": "4e2cb10c",
   "metadata": {},
   "source": [
    "Base Class of Exceptions in Python is: Exception"
   ]
  },
  {
   "cell_type": "code",
   "execution_count": 15,
   "id": "cdc5a68b",
   "metadata": {},
   "outputs": [
    {
     "name": "stdout",
     "output_type": "stream",
     "text": [
      "division by zero\n",
      "<class 'ZeroDivisionError'>\n",
      "division by zero\n"
     ]
    }
   ],
   "source": [
    "try:\n",
    "    print(10/0)\n",
    "except Exception as E:\n",
    "    print(E)\n",
    "    print(type(E))\n",
    "    print(str(E)) #stringfy error message"
   ]
  },
  {
   "cell_type": "markdown",
   "id": "6807f1d4",
   "metadata": {},
   "source": [
    "## Creating our own exceptions:"
   ]
  },
  {
   "cell_type": "code",
   "execution_count": 17,
   "id": "001eb451",
   "metadata": {},
   "outputs": [
    {
     "name": "stdout",
     "output_type": "stream",
     "text": [
      "My custom Exception\n",
      "<class 'Exception'>\n"
     ]
    }
   ],
   "source": [
    "try:\n",
    "    raise Exception(\"My custom Exception\")\n",
    "except Exception as E:\n",
    "    print(E)\n",
    "    print(type(E))"
   ]
  },
  {
   "cell_type": "code",
   "execution_count": 25,
   "id": "4f48c24b",
   "metadata": {},
   "outputs": [],
   "source": [
    "class MyException(Exception):\n",
    "    def __init__(self,message):\n",
    "        self.message=message\n",
    "    def __str__(self):\n",
    "        return self.message"
   ]
  },
  {
   "cell_type": "code",
   "execution_count": 26,
   "id": "4d5b9117",
   "metadata": {},
   "outputs": [
    {
     "name": "stdout",
     "output_type": "stream",
     "text": [
      "some error\n"
     ]
    }
   ],
   "source": [
    "try:\n",
    "    raise MyException(\"some error\")\n",
    "except Exception as E:\n",
    "    #print(E.message)\n",
    "    print(E)"
   ]
  },
  {
   "cell_type": "code",
   "execution_count": 6,
   "id": "66b21809",
   "metadata": {},
   "outputs": [
    {
     "name": "stdout",
     "output_type": "stream",
     "text": [
      "Caught a custom exception: This is a custom error.\n"
     ]
    }
   ],
   "source": [
    "class CustomError(Exception):\n",
    "    \"\"\"A custom exception class.\"\"\"\n",
    "    pass\n",
    "\n",
    "try:\n",
    "    raise CustomError(\"This is a custom error.\")\n",
    "except CustomError as e:\n",
    "    print(f\"Caught a custom exception: {e}\")\n",
    "\n",
    "# Output: Caught a custom exception: This is a custom error."
   ]
  },
  {
   "cell_type": "markdown",
   "id": "d994cdd0",
   "metadata": {},
   "source": [
    "exceptions must derive from BaseException : if we dont pass argument(Exception) to MyException class"
   ]
  },
  {
   "cell_type": "markdown",
   "id": "ac64a2bc",
   "metadata": {},
   "source": [
    "## two more keywords:\n",
    "    --else \n",
    "    --finally"
   ]
  },
  {
   "cell_type": "markdown",
   "id": "41a08775",
   "metadata": {},
   "source": [
    "-->else: this block will always execute if try block didn't threw any error\n",
    "  -->finally: this block wil always execute"
   ]
  },
  {
   "cell_type": "code",
   "execution_count": 27,
   "id": "ef97a051",
   "metadata": {},
   "outputs": [
    {
     "name": "stdout",
     "output_type": "stream",
     "text": [
      "hello\n",
      "wow\n",
      "bye\n"
     ]
    }
   ],
   "source": [
    "try:\n",
    "    print(\"hello\")\n",
    "except:\n",
    "    (\"error occured\")\n",
    "else:\n",
    "    print(\"wow\")\n",
    "finally:\n",
    "    print(\"bye\")"
   ]
  },
  {
   "cell_type": "code",
   "execution_count": 31,
   "id": "b2962195",
   "metadata": {},
   "outputs": [
    {
     "name": "stdout",
     "output_type": "stream",
     "text": [
      "hello\n",
      "error occured\n",
      "bye\n"
     ]
    }
   ],
   "source": [
    "try:\n",
    "    print(\"hello\")\n",
    "    print(10/0)\n",
    "except:\n",
    "    print(\"error occured\")\n",
    "else:\n",
    "    print(\"wow\")\n",
    "finally: #used to cleanup code\n",
    "    print(\"bye\")"
   ]
  },
  {
   "cell_type": "code",
   "execution_count": 39,
   "id": "914eb7aa",
   "metadata": {},
   "outputs": [],
   "source": [
    "#interview question what will be the output\n",
    "def fun():    \n",
    "    try:\n",
    "        return 1\n",
    "    except:\n",
    "        return 2\n",
    "    else:\n",
    "        return 3\n",
    "    finally:\n",
    "        return 4"
   ]
  },
  {
   "cell_type": "code",
   "execution_count": 40,
   "id": "200801c7",
   "metadata": {},
   "outputs": [
    {
     "data": {
      "text/plain": [
       "4"
      ]
     },
     "execution_count": 40,
     "metadata": {},
     "output_type": "execute_result"
    }
   ],
   "source": [
    "fun()"
   ]
  },
  {
   "cell_type": "code",
   "execution_count": 42,
   "id": "08c59aa0",
   "metadata": {},
   "outputs": [],
   "source": [
    "def fun1():    \n",
    "    try:\n",
    "        return 1\n",
    "    except:\n",
    "        return 2\n",
    "    else:\n",
    "        return 3"
   ]
  },
  {
   "cell_type": "code",
   "execution_count": 43,
   "id": "85dcde6d",
   "metadata": {},
   "outputs": [
    {
     "data": {
      "text/plain": [
       "1"
      ]
     },
     "execution_count": 43,
     "metadata": {},
     "output_type": "execute_result"
    }
   ],
   "source": [
    "fun1()"
   ]
  },
  {
   "cell_type": "markdown",
   "id": "f2c8bcc1",
   "metadata": {},
   "source": [
    "## with statement"
   ]
  },
  {
   "cell_type": "code",
   "execution_count": 46,
   "id": "aa4ee0ee",
   "metadata": {},
   "outputs": [
    {
     "name": "stdout",
     "output_type": "stream",
     "text": [
      "my name is shahid\n"
     ]
    }
   ],
   "source": [
    "try:\n",
    "    file=open(\"something.txt\",\"r\")\n",
    "    print(file.read())\n",
    "except Exception as E:\n",
    "    print(E)\n",
    "finally:\n",
    "    file.close()"
   ]
  },
  {
   "cell_type": "code",
   "execution_count": 47,
   "id": "6d989bac",
   "metadata": {},
   "outputs": [
    {
     "name": "stdout",
     "output_type": "stream",
     "text": [
      "my name is shahid\n"
     ]
    }
   ],
   "source": [
    "with open(\"something.txt\",\"r\") as file:\n",
    "    print(file.read())"
   ]
  },
  {
   "cell_type": "code",
   "execution_count": 54,
   "id": "38ab0f60",
   "metadata": {},
   "outputs": [],
   "source": [
    "class A:\n",
    "    def __init__(self,n):\n",
    "        self.n=n\n",
    "    def __str__(self):\n",
    "        return str(self.n)\n",
    "    def __enter__(self):\n",
    "        pass\n",
    "    def __exit__(self,*args):\n",
    "        print(args)\n",
    "        return True #False it will raise the exception that occured within the with block"
   ]
  },
  {
   "cell_type": "code",
   "execution_count": 55,
   "id": "cd7347bf",
   "metadata": {},
   "outputs": [
    {
     "name": "stdout",
     "output_type": "stream",
     "text": [
      "None\n",
      "(<class 'ZeroDivisionError'>, ZeroDivisionError('division by zero'), <traceback object at 0x78c393f53d40>)\n",
      "hello\n"
     ]
    }
   ],
   "source": [
    "with A(5) as a:\n",
    "    print(a)\n",
    "    print(10/0)\n",
    "print(\"hello\")"
   ]
  },
  {
   "cell_type": "markdown",
   "id": "705ae09b",
   "metadata": {},
   "source": [
    "## Raising Exceptions"
   ]
  },
  {
   "cell_type": "code",
   "execution_count": 1,
   "id": "4a4d8d50",
   "metadata": {},
   "outputs": [
    {
     "name": "stdout",
     "output_type": "stream",
     "text": [
      "Error: Age must be 18 or older.\n"
     ]
    }
   ],
   "source": [
    "def check_age(age):\n",
    "    if age < 18:\n",
    "        raise ValueError(\"Age must be 18 or older.\")\n",
    "    print(\"Access granted.\")\n",
    "\n",
    "try:\n",
    "    check_age(16)\n",
    "except ValueError as e:\n",
    "    print(f\"Error: {e}\")\n",
    "\n",
    "# Output: Error: Age must be 18 or older."
   ]
  },
  {
   "cell_type": "markdown",
   "id": "60608a35",
   "metadata": {},
   "source": [
    "## Nested Try-Except Blocks"
   ]
  },
  {
   "cell_type": "code",
   "execution_count": 3,
   "id": "0bba0e3a",
   "metadata": {},
   "outputs": [
    {
     "name": "stdout",
     "output_type": "stream",
     "text": [
      "Enter a number: 0\n",
      "You can't divide by zero inside the nested block!\n"
     ]
    }
   ],
   "source": [
    "try:\n",
    "    num = int(input(\"Enter a number: \"))\n",
    "    try:\n",
    "        print(10 / num)\n",
    "    except ZeroDivisionError:\n",
    "        print(\"You can't divide by zero inside the nested block!\")\n",
    "except ValueError:\n",
    "    print(\"Invalid input! Please enter a number.\")\n",
    "\n",
    "# Input: 0\n",
    "# Output: You can't divide by zero inside the nested block!"
   ]
  },
  {
   "cell_type": "markdown",
   "id": "338704a2",
   "metadata": {},
   "source": [
    "## Logging Exceptions"
   ]
  },
  {
   "cell_type": "code",
   "execution_count": 5,
   "id": "e3e81e57",
   "metadata": {},
   "outputs": [
    {
     "name": "stdout",
     "output_type": "stream",
     "text": [
      "Enter a number: 0\n"
     ]
    }
   ],
   "source": [
    "import logging\n",
    "\n",
    "logging.basicConfig(filename=\"errors.log\", level=logging.ERROR)\n",
    "\n",
    "try:\n",
    "    num = int(input(\"Enter a number: \"))\n",
    "    print(10 / num)\n",
    "except Exception as e:\n",
    "    logging.error(f\"An error occurred: {e}\")\n",
    "\n",
    "# Input: 0\n",
    "# Logs the error \"division by zero\" into errors.log\n",
    "# Instead of printing the error message, it’s logged into a file using the logging module."
   ]
  },
  {
   "cell_type": "code",
   "execution_count": null,
   "id": "1c0c2799",
   "metadata": {},
   "outputs": [],
   "source": []
  }
 ],
 "metadata": {
  "kernelspec": {
   "display_name": "Python 3 (ipykernel)",
   "language": "python",
   "name": "python3"
  },
  "language_info": {
   "codemirror_mode": {
    "name": "ipython",
    "version": 3
   },
   "file_extension": ".py",
   "mimetype": "text/x-python",
   "name": "python",
   "nbconvert_exporter": "python",
   "pygments_lexer": "ipython3",
   "version": "3.12.3"
  }
 },
 "nbformat": 4,
 "nbformat_minor": 5
}
