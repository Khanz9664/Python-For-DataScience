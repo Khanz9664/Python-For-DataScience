{
 "cells": [
  {
   "cell_type": "markdown",
   "id": "17575c2f",
   "metadata": {},
   "source": [
    "# Introduction to File Handling in Python\n",
    "File handling is a crucial aspect of programming that allows us to store, access, and manipulate data stored in files. Whether it's reading user data, writing logs, or managing structured files like JSON and CSV, file handling provides a systematic way to perform these tasks.\n",
    "\n",
    "In Python, file handling is straightforward and powerful, thanks to its built-in functions and support for various file formats. Python's file handling capabilities allow us to work with both text files (e.g., .txt) and binary files (e.g., images, .bin), making it a versatile choice for many applications."
   ]
  },
  {
   "cell_type": "markdown",
   "id": "f5b46e33",
   "metadata": {},
   "source": [
    "## Why Use File Handling?\n",
    "Persistent Storage: Files allow data to be saved permanently, unlike variables, which lose data when the program ends.\n",
    "\n",
    "Data Sharing: Files enable easy sharing and exchange of data between programs or systems.\n",
    "\n",
    "Log Management: Logs can be written to files to monitor application behavior and performance.\n",
    "\n",
    "Data Processing: Large datasets stored in files can be processed efficiently using file handling techniques.\n"
   ]
  },
  {
   "cell_type": "markdown",
   "id": "662ce81a",
   "metadata": {},
   "source": [
    "# Basic File Handling"
   ]
  },
  {
   "cell_type": "code",
   "execution_count": 5,
   "id": "d46a30eb",
   "metadata": {},
   "outputs": [],
   "source": [
    "file = open(\"something.txt\",\"r\")"
   ]
  },
  {
   "cell_type": "code",
   "execution_count": 6,
   "id": "56120aa8",
   "metadata": {},
   "outputs": [
    {
     "data": {
      "text/plain": [
       "'my n'"
      ]
     },
     "execution_count": 6,
     "metadata": {},
     "output_type": "execute_result"
    }
   ],
   "source": [
    "file.read(4)"
   ]
  },
  {
   "cell_type": "code",
   "execution_count": 7,
   "id": "a831df8f",
   "metadata": {},
   "outputs": [],
   "source": [
    "file.close()"
   ]
  },
  {
   "cell_type": "code",
   "execution_count": 8,
   "id": "3cc95834",
   "metadata": {},
   "outputs": [],
   "source": [
    "file = open(\"something.txt\",\"w\")"
   ]
  },
  {
   "cell_type": "code",
   "execution_count": 9,
   "id": "c6b4867b",
   "metadata": {},
   "outputs": [
    {
     "data": {
      "text/plain": [
       "25"
      ]
     },
     "execution_count": 9,
     "metadata": {},
     "output_type": "execute_result"
    }
   ],
   "source": [
    "file.write(\" hello something happened\")"
   ]
  },
  {
   "cell_type": "code",
   "execution_count": 14,
   "id": "401e26e5",
   "metadata": {},
   "outputs": [],
   "source": [
    "file = open(\"something.txt\",\"r\")"
   ]
  },
  {
   "cell_type": "code",
   "execution_count": 15,
   "id": "1e5374f2",
   "metadata": {},
   "outputs": [
    {
     "data": {
      "text/plain": [
       "' hello something happened'"
      ]
     },
     "execution_count": 15,
     "metadata": {},
     "output_type": "execute_result"
    }
   ],
   "source": [
    "file.read()"
   ]
  },
  {
   "cell_type": "code",
   "execution_count": 16,
   "id": "bf585a95",
   "metadata": {},
   "outputs": [],
   "source": [
    "file.close()"
   ]
  },
  {
   "cell_type": "markdown",
   "id": "f0c034c5",
   "metadata": {},
   "source": [
    "#### Reading a file\n",
    "    read\n",
    "    readline\n",
    "    readlines"
   ]
  },
  {
   "cell_type": "code",
   "execution_count": 41,
   "id": "f58f8ed8",
   "metadata": {},
   "outputs": [],
   "source": [
    "file = open(\"something.txt\",\"r\")"
   ]
  },
  {
   "cell_type": "code",
   "execution_count": 36,
   "id": "7be11e1d",
   "metadata": {},
   "outputs": [
    {
     "data": {
      "text/plain": [
       "' hello something happened\\n nothing really happened\\n no not at all\\n i know something happened'"
      ]
     },
     "execution_count": 36,
     "metadata": {},
     "output_type": "execute_result"
    }
   ],
   "source": [
    "file.read()"
   ]
  },
  {
   "cell_type": "code",
   "execution_count": 39,
   "id": "a9313d5d",
   "metadata": {},
   "outputs": [
    {
     "data": {
      "text/plain": [
       "' nothing really happened\\n'"
      ]
     },
     "execution_count": 39,
     "metadata": {},
     "output_type": "execute_result"
    }
   ],
   "source": [
    "file.readline() #it reads file line by line"
   ]
  },
  {
   "cell_type": "code",
   "execution_count": 42,
   "id": "edd05d40",
   "metadata": {},
   "outputs": [
    {
     "data": {
      "text/plain": [
       "[' hello something happened\\n',\n",
       " ' nothing really happened\\n',\n",
       " ' no not at all\\n',\n",
       " ' i know something happened']"
      ]
     },
     "execution_count": 42,
     "metadata": {},
     "output_type": "execute_result"
    }
   ],
   "source": [
    "file.readlines()#this will return a list of lines in file"
   ]
  },
  {
   "cell_type": "code",
   "execution_count": 43,
   "id": "67e142cf",
   "metadata": {},
   "outputs": [
    {
     "data": {
      "text/plain": [
       "''"
      ]
     },
     "execution_count": 43,
     "metadata": {},
     "output_type": "execute_result"
    }
   ],
   "source": [
    "file.read() #we have reached end "
   ]
  },
  {
   "cell_type": "code",
   "execution_count": 44,
   "id": "2587409c",
   "metadata": {},
   "outputs": [
    {
     "data": {
      "text/plain": [
       "0"
      ]
     },
     "execution_count": 44,
     "metadata": {},
     "output_type": "execute_result"
    }
   ],
   "source": [
    "file.seek(0)#move back to the 0 position"
   ]
  },
  {
   "cell_type": "code",
   "execution_count": 45,
   "id": "e4d55fd1",
   "metadata": {},
   "outputs": [
    {
     "data": {
      "text/plain": [
       "' hello something happened\\n nothing really happened\\n no not at all\\n i know something happened'"
      ]
     },
     "execution_count": 45,
     "metadata": {},
     "output_type": "execute_result"
    }
   ],
   "source": [
    "file.read()"
   ]
  },
  {
   "cell_type": "code",
   "execution_count": 46,
   "id": "9576ee89",
   "metadata": {},
   "outputs": [],
   "source": [
    "file.close()"
   ]
  },
  {
   "cell_type": "markdown",
   "id": "08f2c051",
   "metadata": {},
   "source": [
    "# File Handling (starts from here)   :)\n",
    "\n",
    "# !!! ) :"
   ]
  },
  {
   "cell_type": "markdown",
   "id": "a61852ad",
   "metadata": {},
   "source": [
    "### Reading the Entire File"
   ]
  },
  {
   "cell_type": "code",
   "execution_count": 1,
   "id": "2de7d86c",
   "metadata": {},
   "outputs": [
    {
     "name": "stdout",
     "output_type": "stream",
     "text": [
      " hello something happened\n",
      " nothing really happened\n",
      " no not at all\n",
      " i know something happened\n"
     ]
    }
   ],
   "source": [
    "# Open the file in read mode\n",
    "with open(\"something.txt\", \"r\") as file:\n",
    "    content = file.read()\n",
    "    print(content)\n",
    "\n",
    "# Output: Prints the entire content of example.txt"
   ]
  },
  {
   "cell_type": "markdown",
   "id": "22f9686c",
   "metadata": {},
   "source": [
    "### Reading Line by Line"
   ]
  },
  {
   "cell_type": "code",
   "execution_count": 2,
   "id": "0aa4c532",
   "metadata": {},
   "outputs": [
    {
     "name": "stdout",
     "output_type": "stream",
     "text": [
      "hello something happened\n",
      "nothing really happened\n",
      "no not at all\n",
      "i know something happened\n"
     ]
    }
   ],
   "source": [
    "with open(\"something.txt\", \"r\") as file:\n",
    "    for line in file:\n",
    "        print(line.strip())  # Removes extra newlines"
   ]
  },
  {
   "cell_type": "markdown",
   "id": "0a6a0407",
   "metadata": {},
   "source": [
    "### Reading Specific Number of Characters"
   ]
  },
  {
   "cell_type": "code",
   "execution_count": 3,
   "id": "5718a354",
   "metadata": {},
   "outputs": [
    {
     "name": "stdout",
     "output_type": "stream",
     "text": [
      " hello som\n"
     ]
    }
   ],
   "source": [
    "with open(\"something.txt\", \"r\") as file:\n",
    "    content = file.read(10)  # Reads the first 10 characters\n",
    "    print(content)"
   ]
  },
  {
   "cell_type": "markdown",
   "id": "39d50254",
   "metadata": {},
   "source": [
    "### Writing Text to a New File"
   ]
  },
  {
   "cell_type": "code",
   "execution_count": 4,
   "id": "c0e3eedc",
   "metadata": {},
   "outputs": [],
   "source": [
    "with open(\"new_file.txt\", \"w\") as file:\n",
    "    file.write(\"Hello, world!\\n\")\n",
    "    file.write(\"This is a new file.\")\n",
    "\n",
    "# Output: Creates new_file.txt with the written content."
   ]
  },
  {
   "cell_type": "markdown",
   "id": "af4cb09d",
   "metadata": {},
   "source": [
    "### Appending to a File"
   ]
  },
  {
   "cell_type": "code",
   "execution_count": 5,
   "id": "4e3546a8",
   "metadata": {},
   "outputs": [],
   "source": [
    "with open(\"new_file.txt\", \"a\") as file:\n",
    "    file.write(\"\\nAdding another line.\")\n",
    "\n",
    "# Output: Adds the text to the end of new_file.txt"
   ]
  },
  {
   "cell_type": "markdown",
   "id": "3e6a2c93",
   "metadata": {},
   "source": [
    "## File Acess MOdes\n",
    "read only --> \"r\"\n",
    "\n",
    "read and write --> \"r+\"\n",
    "\n",
    "write only --> \"w\"\n",
    "\n",
    "write and read --> \"w+\"\n",
    "\n",
    "append only --> \"a\"\n",
    "\n",
    "append and read --> \"a+\""
   ]
  },
  {
   "cell_type": "markdown",
   "id": "3d15baa1",
   "metadata": {},
   "source": [
    "### Reading and Writing"
   ]
  },
  {
   "cell_type": "code",
   "execution_count": 6,
   "id": "191d5c00",
   "metadata": {},
   "outputs": [
    {
     "name": "stdout",
     "output_type": "stream",
     "text": [
      "Original content:  hello something happened\n",
      " nothing really happened\n",
      " no not at all\n",
      " i know something happened\n"
     ]
    }
   ],
   "source": [
    "with open(\"something.txt\", \"r+\") as file:  # Read and write mode\n",
    "    print(\"Original content:\", file.read())\n",
    "    file.write(\"\\nAdding new content.\")"
   ]
  },
  {
   "cell_type": "code",
   "execution_count": 7,
   "id": "91752cdb",
   "metadata": {},
   "outputs": [
    {
     "name": "stdout",
     "output_type": "stream",
     "text": [
      " hello something happened\n",
      " nothing really happened\n",
      " no not at all\n",
      " i know something happened\n",
      "Adding new content.\n",
      "ello something happened\n",
      " nothing really happened\n",
      " no not at all\n",
      " i know something happened\n",
      "Adding new content.\n"
     ]
    }
   ],
   "source": [
    "with open(\"something.txt\",\"r\") as file: ## Read mode\n",
    "    print(file.read())\n",
    "    file.seek(2)\n",
    "    print(file.read())"
   ]
  },
  {
   "cell_type": "markdown",
   "id": "22b43388",
   "metadata": {},
   "source": [
    "# Working with Binary Files"
   ]
  },
  {
   "cell_type": "markdown",
   "id": "d4adf95c",
   "metadata": {},
   "source": [
    "### Writing to a Binary File"
   ]
  },
  {
   "cell_type": "code",
   "execution_count": 10,
   "id": "d6344bcf",
   "metadata": {},
   "outputs": [],
   "source": [
    "data = bytes([65, 66, 67, 68])  # Represents the letters A, B, C, D\n",
    "with open(\"binary_file.bin\", \"wb\") as file: #wb mode is used for writing binary data.\n",
    "    file.write(data)\n",
    "\n",
    "# Output: Creates binary_file.bin with binary data."
   ]
  },
  {
   "cell_type": "markdown",
   "id": "b4b3ea6d",
   "metadata": {},
   "source": [
    "### Reading a Binary File"
   ]
  },
  {
   "cell_type": "code",
   "execution_count": 11,
   "id": "9efa5196",
   "metadata": {},
   "outputs": [
    {
     "name": "stdout",
     "output_type": "stream",
     "text": [
      "b'ABCD'\n"
     ]
    }
   ],
   "source": [
    "with open(\"binary_file.bin\", \"rb\") as file: # rb mode is used for reading binary files.\n",
    "    content = file.read()\n",
    "    print(content)\n",
    "\n",
    "# Output: b'ABCD'"
   ]
  },
  {
   "cell_type": "markdown",
   "id": "e2c5cd95",
   "metadata": {},
   "source": [
    "# Working with File Pointers\n",
    "\n",
    "### Using seek() and tell()"
   ]
  },
  {
   "cell_type": "code",
   "execution_count": 13,
   "id": "5f9731ea",
   "metadata": {},
   "outputs": [
    {
     "name": "stdout",
     "output_type": "stream",
     "text": [
      "Initial pointer position: 0\n",
      "Pointer after reading 5 chars: 5\n",
      "Pointer after seeking: 0\n"
     ]
    }
   ],
   "source": [
    "with open(\"something.txt\",\"r\") as file:\n",
    "    print(\"Initial pointer position:\", file.tell()) # tell() returns the current file pointer position.\n",
    "    file.read(5)\n",
    "    print(\"Pointer after reading 5 chars:\", file.tell())\n",
    "    file.seek(0)  # Move the pointer back to the start (seek(n) moves the pointer to the specified position n.)\n",
    "    print(\"Pointer after seeking:\", file.tell())"
   ]
  },
  {
   "cell_type": "markdown",
   "id": "0cb90814",
   "metadata": {},
   "source": [
    "### Checking File Existence"
   ]
  },
  {
   "cell_type": "code",
   "execution_count": 15,
   "id": "6aa207ae",
   "metadata": {},
   "outputs": [
    {
     "name": "stdout",
     "output_type": "stream",
     "text": [
      "The file does not exist.\n"
     ]
    }
   ],
   "source": [
    "import os #Using os to Check for a File\n",
    "\n",
    "if os.path.exists(\"example.txt\"): #the os.path.exists() method checks if the file exists in the given path.\n",
    "    print(\"The file exists.\")\n",
    "else:\n",
    "    print(\"The file does not exist.\")"
   ]
  },
  {
   "cell_type": "markdown",
   "id": "3a1d6a95",
   "metadata": {},
   "source": [
    "### Handling File Errors"
   ]
  },
  {
   "cell_type": "code",
   "execution_count": 16,
   "id": "1e2c9b92",
   "metadata": {},
   "outputs": [
    {
     "name": "stdout",
     "output_type": "stream",
     "text": [
      "The file does not exist.\n"
     ]
    }
   ],
   "source": [
    "# Handling FileNotFoundError\n",
    "try:\n",
    "    with open(\"non_existent_file.txt\", \"r\") as file:\n",
    "        content = file.read()\n",
    "except FileNotFoundError:\n",
    "    print(\"The file does not exist.\")"
   ]
  },
  {
   "cell_type": "markdown",
   "id": "bdb491cf",
   "metadata": {},
   "source": [
    "# Advanced File Handling"
   ]
  },
  {
   "cell_type": "markdown",
   "id": "ee570483",
   "metadata": {},
   "source": [
    "### Reading and Writing JSON Data"
   ]
  },
  {
   "cell_type": "code",
   "execution_count": 18,
   "id": "89b445aa",
   "metadata": {},
   "outputs": [
    {
     "name": "stdout",
     "output_type": "stream",
     "text": [
      "{'name': 'Alice', 'age': 30, 'city': 'New York'}\n"
     ]
    }
   ],
   "source": [
    "import json #The json module is used for reading and writing JSON data to files.\n",
    "\n",
    "data = {\"name\": \"Alice\", \"age\": 30, \"city\": \"New York\"}\n",
    "\n",
    "# Write JSON data to a file\n",
    "with open(\"data.json\", \"w\") as file:\n",
    "    json.dump(data, file) # json.dump() writes JSON to a file\n",
    "\n",
    "# Read JSON data from the file\n",
    "with open(\"data.json\", \"r\") as file:\n",
    "    loaded_data = json.load(file) #json.load() reads JSON data\n",
    "    print(loaded_data)\n",
    "\n",
    "# Output: {'name': 'Alice', 'age': 30, 'city': 'New York'}"
   ]
  },
  {
   "cell_type": "markdown",
   "id": "3a4f97e9",
   "metadata": {},
   "source": [
    "### Copying a File"
   ]
  },
  {
   "cell_type": "code",
   "execution_count": 19,
   "id": "cc793e9d",
   "metadata": {},
   "outputs": [],
   "source": [
    "with open(\"something.txt\", \"r\") as source, open(\"copy.txt\", \"w\") as destination:\n",
    "    for line in source:\n",
    "        destination.write(line)\n",
    "\n",
    "# Output: Creates a copy of example.txt in copy.txt"
   ]
  },
  {
   "cell_type": "markdown",
   "id": "5038644f",
   "metadata": {},
   "source": [
    "### Working with csv Files"
   ]
  },
  {
   "cell_type": "code",
   "execution_count": 21,
   "id": "ccfea3e3",
   "metadata": {},
   "outputs": [
    {
     "name": "stdout",
     "output_type": "stream",
     "text": [
      "['Name', 'Age']\n",
      "['Alice', '30']\n",
      "['Bob', '25']\n"
     ]
    }
   ],
   "source": [
    "import csv #The csv module is used to handle CSV files.\n",
    "\n",
    "# Writing to a CSV file\n",
    "data = [[\"Name\", \"Age\"], [\"Alice\", 30], [\"Bob\", 25]]\n",
    "with open(\"people.csv\", \"w\", newline=\"\") as file:\n",
    "    writer = csv.writer(file) \n",
    "    writer.writerows(data) ##writer.writerows() writes multiple rows to a CSV file\n",
    "\n",
    "# Reading from a CSV file\n",
    "with open(\"people.csv\", \"r\") as file:\n",
    "    reader = csv.reader(file) #csv.reader() reads the file\n",
    "    for row in reader:\n",
    "        print(row)\n",
    "\n",
    "# Output:\n",
    "# ['Name', 'Age']\n",
    "# ['Alice', '30']\n",
    "# ['Bob', '25']"
   ]
  },
  {
   "cell_type": "code",
   "execution_count": null,
   "id": "92705277",
   "metadata": {},
   "outputs": [],
   "source": []
  }
 ],
 "metadata": {
  "kernelspec": {
   "display_name": "Python 3 (ipykernel)",
   "language": "python",
   "name": "python3"
  },
  "language_info": {
   "codemirror_mode": {
    "name": "ipython",
    "version": 3
   },
   "file_extension": ".py",
   "mimetype": "text/x-python",
   "name": "python",
   "nbconvert_exporter": "python",
   "pygments_lexer": "ipython3",
   "version": "3.12.3"
  }
 },
 "nbformat": 4,
 "nbformat_minor": 5
}
