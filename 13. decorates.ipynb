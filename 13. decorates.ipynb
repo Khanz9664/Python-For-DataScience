{
 "cells": [
  {
   "cell_type": "code",
   "execution_count": 5,
   "id": "b48f7669-e442-48dd-a780-318decc38b9e",
   "metadata": {},
   "outputs": [],
   "source": [
    "#using dictionary \n",
    "users = {\n",
    "    \"shahid\" : \"bhat\",\n",
    "    \"ubaid\" : \"ahmad\"\n",
    "}"
   ]
  },
  {
   "cell_type": "code",
   "execution_count": 6,
   "id": "a278a39d-38a4-4706-b685-f31bc4bb7fac",
   "metadata": {},
   "outputs": [],
   "source": [
    "#function taking fuction as argument\n",
    "def login_req(function):\n",
    "    #using function inside a function\n",
    "    def wrapper(username, password, *args, **kwargs):\n",
    "        #user is being authenticated\n",
    "        if username in users and users[username]==password:\n",
    "            #using (*args- pass a variable numbr of arguments and **kwargskeyworded variable length arguments\n",
    "            function(*args, **kwargs)\n",
    "        else:\n",
    "            print(\"user not authenticated\")\n",
    "    return wrapperr"
   ]
  },
  {
   "cell_type": "code",
   "execution_count": 7,
   "id": "4ceda98b-a123-4720-be10-92fc374cc841",
   "metadata": {},
   "outputs": [],
   "source": [
    "#using decorators\n",
    "@login_req\n",
    "def add(a,b):\n",
    "    print(a+b)"
   ]
  },
  {
   "cell_type": "code",
   "execution_count": 11,
   "id": "13d05195-89d2-47d7-8ee9-de50be341372",
   "metadata": {},
   "outputs": [
    {
     "name": "stdout",
     "output_type": "stream",
     "text": [
      "user not authenticated\n"
     ]
    }
   ],
   "source": [
    "add(1,2)"
   ]
  },
  {
   "cell_type": "code",
   "execution_count": 10,
   "id": "4d0322b1-8b55-4043-b4f7-3dbd1acc3306",
   "metadata": {},
   "outputs": [
    {
     "name": "stdout",
     "output_type": "stream",
     "text": [
      "7\n"
     ]
    }
   ],
   "source": [
    "add(\"shahid\",\"bhat\",5,2)"
   ]
  },
  {
   "cell_type": "code",
   "execution_count": null,
   "id": "af88bb23-f4ab-4b53-98c8-f6af92f0ce68",
   "metadata": {},
   "outputs": [],
   "source": []
  },
  {
   "cell_type": "code",
   "execution_count": null,
   "id": "b8db690b-f573-4025-9a95-96c1c94b6c20",
   "metadata": {},
   "outputs": [],
   "source": []
  },
  {
   "cell_type": "code",
   "execution_count": null,
   "id": "718b3ecb-b4bb-49dd-8671-899b202f82d8",
   "metadata": {},
   "outputs": [],
   "source": []
  }
 ],
 "metadata": {
  "kernelspec": {
   "display_name": "Python 3 (ipykernel)",
   "language": "python",
   "name": "python3"
  },
  "language_info": {
   "codemirror_mode": {
    "name": "ipython",
    "version": 3
   },
   "file_extension": ".py",
   "mimetype": "text/x-python",
   "name": "python",
   "nbconvert_exporter": "python",
   "pygments_lexer": "ipython3",
   "version": "3.12.0"
  }
 },
 "nbformat": 4,
 "nbformat_minor": 5
}
