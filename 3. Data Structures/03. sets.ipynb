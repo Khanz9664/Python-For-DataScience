{
 "cells": [
  {
   "cell_type": "code",
   "execution_count": 1,
   "id": "1db08666-63fe-4733-ae5c-88f1ef60a53c",
   "metadata": {},
   "outputs": [],
   "source": [
    "a={1,2,3,4}"
   ]
  },
  {
   "cell_type": "code",
   "execution_count": 2,
   "id": "ada5bf22-ed6a-4085-88e7-5164ab48432e",
   "metadata": {},
   "outputs": [
    {
     "name": "stdout",
     "output_type": "stream",
     "text": [
      "<class 'set'>\n",
      "{1, 2, 3, 4}\n"
     ]
    }
   ],
   "source": [
    "print(type(a))\n",
    "print(a)"
   ]
  },
  {
   "cell_type": "code",
   "execution_count": 23,
   "id": "023fd579-78fb-45ac-8274-bf0b87e5e354",
   "metadata": {},
   "outputs": [],
   "source": [
    "#unique values in set \n",
    "b={1,1,1,2,2,2,3}"
   ]
  },
  {
   "cell_type": "code",
   "execution_count": 24,
   "id": "1b01d4ea-5a04-417c-a4c5-6986a3a4a992",
   "metadata": {},
   "outputs": [
    {
     "name": "stdout",
     "output_type": "stream",
     "text": [
      "{1, 2, 3}\n"
     ]
    }
   ],
   "source": [
    "print(b)"
   ]
  },
  {
   "cell_type": "code",
   "execution_count": 25,
   "id": "322c4ff8-c648-4b03-b42b-872151cdf73a",
   "metadata": {},
   "outputs": [],
   "source": [
    "#empty set\n",
    "c=set()"
   ]
  },
  {
   "cell_type": "code",
   "execution_count": 26,
   "id": "a6ad8563-1712-4661-a1cb-9c1185030c37",
   "metadata": {},
   "outputs": [
    {
     "name": "stdout",
     "output_type": "stream",
     "text": [
      "<class 'set'>\n",
      "set()\n"
     ]
    }
   ],
   "source": [
    "print(type(c))\n",
    "print(c)"
   ]
  },
  {
   "cell_type": "code",
   "execution_count": null,
   "id": "e8ec2f16-1ead-435c-97d2-4a2102e1c6a5",
   "metadata": {},
   "outputs": [],
   "source": []
  },
  {
   "cell_type": "code",
   "execution_count": 27,
   "id": "686bda2f-c447-4098-bad2-745b018acb80",
   "metadata": {},
   "outputs": [],
   "source": [
    "#set operations"
   ]
  },
  {
   "cell_type": "code",
   "execution_count": 28,
   "id": "0ae29374-824e-409b-a83d-8a8f82883315",
   "metadata": {},
   "outputs": [],
   "source": [
    "x={1,2,2,3,4,5}\n",
    "y={4,5,6,7,8,9,11}"
   ]
  },
  {
   "cell_type": "code",
   "execution_count": 29,
   "id": "be2e7af5-d242-4c29-984d-f7b442ccabaa",
   "metadata": {},
   "outputs": [
    {
     "data": {
      "text/plain": [
       "{4, 5}"
      ]
     },
     "execution_count": 29,
     "metadata": {},
     "output_type": "execute_result"
    }
   ],
   "source": [
    "#intersection\n",
    "x.intersection(y)"
   ]
  },
  {
   "cell_type": "code",
   "execution_count": 30,
   "id": "66ce11cd-9cf2-4699-bae8-9f3d24c57fac",
   "metadata": {},
   "outputs": [
    {
     "data": {
      "text/plain": [
       "{1, 2, 3, 4, 5, 6, 7, 8, 9, 11}"
      ]
     },
     "execution_count": 30,
     "metadata": {},
     "output_type": "execute_result"
    }
   ],
   "source": [
    "#union\n",
    "x.union(y)"
   ]
  },
  {
   "cell_type": "code",
   "execution_count": 31,
   "id": "d2a9896c-5ff4-43da-b882-9bef6f001179",
   "metadata": {},
   "outputs": [
    {
     "data": {
      "text/plain": [
       "{1, 2, 3}"
      ]
     },
     "execution_count": 31,
     "metadata": {},
     "output_type": "execute_result"
    }
   ],
   "source": [
    "#set difference\n",
    "x-y"
   ]
  },
  {
   "cell_type": "code",
   "execution_count": 32,
   "id": "1e48d4e7-8ed8-4f8e-a8a8-832ab5234f07",
   "metadata": {},
   "outputs": [
    {
     "data": {
      "text/plain": [
       "{6, 7, 8, 9, 11}"
      ]
     },
     "execution_count": 32,
     "metadata": {},
     "output_type": "execute_result"
    }
   ],
   "source": [
    "y-x"
   ]
  },
  {
   "cell_type": "code",
   "execution_count": null,
   "id": "87ea1da8-3143-4849-a5ce-b5026b004078",
   "metadata": {},
   "outputs": [],
   "source": []
  },
  {
   "cell_type": "code",
   "execution_count": 33,
   "id": "54cd33b1-11d1-4568-abab-2fe76b60e512",
   "metadata": {},
   "outputs": [],
   "source": [
    "#iteration in set"
   ]
  },
  {
   "cell_type": "code",
   "execution_count": 34,
   "id": "247f2ac3-0892-42ee-ab2b-86b9f4095b83",
   "metadata": {},
   "outputs": [
    {
     "name": "stdout",
     "output_type": "stream",
     "text": [
      "1\n",
      "2\n",
      "3\n",
      "4\n",
      "5\n"
     ]
    }
   ],
   "source": [
    "for i in x:\n",
    "    print(i)"
   ]
  },
  {
   "cell_type": "code",
   "execution_count": null,
   "id": "ea511deb-2fac-402e-bc78-04e74a34b4db",
   "metadata": {},
   "outputs": [],
   "source": []
  },
  {
   "cell_type": "code",
   "execution_count": null,
   "id": "38e542a6-ece0-49f4-8771-c285feb8986e",
   "metadata": {},
   "outputs": [],
   "source": []
  },
  {
   "cell_type": "code",
   "execution_count": 35,
   "id": "9655f017-40b6-4a8f-9c64-d720da34ea38",
   "metadata": {},
   "outputs": [],
   "source": [
    "#changing set to list "
   ]
  },
  {
   "cell_type": "code",
   "execution_count": 36,
   "id": "71f42fe9-b4cb-4d39-b4e9-c7afbf5bc4d5",
   "metadata": {},
   "outputs": [
    {
     "data": {
      "text/plain": [
       "[1, 2, 3, 4, 5]"
      ]
     },
     "execution_count": 36,
     "metadata": {},
     "output_type": "execute_result"
    }
   ],
   "source": [
    "list(x)"
   ]
  },
  {
   "cell_type": "code",
   "execution_count": 37,
   "id": "2ab3d4f8-bc7e-4c4c-895f-8f44ca516bc4",
   "metadata": {},
   "outputs": [
    {
     "data": {
      "text/plain": [
       "{1, 2, 3, 4, 5}"
      ]
     },
     "execution_count": 37,
     "metadata": {},
     "output_type": "execute_result"
    }
   ],
   "source": [
    "set(x)"
   ]
  },
  {
   "cell_type": "code",
   "execution_count": null,
   "id": "e1e90b9e-7da6-4e92-94d2-544d53a76c45",
   "metadata": {},
   "outputs": [],
   "source": []
  }
 ],
 "metadata": {
  "kernelspec": {
   "display_name": "Python 3 (ipykernel)",
   "language": "python",
   "name": "python3"
  },
  "language_info": {
   "codemirror_mode": {
    "name": "ipython",
    "version": 3
   },
   "file_extension": ".py",
   "mimetype": "text/x-python",
   "name": "python",
   "nbconvert_exporter": "python",
   "pygments_lexer": "ipython3",
   "version": "3.12.0"
  }
 },
 "nbformat": 4,
 "nbformat_minor": 5
}
