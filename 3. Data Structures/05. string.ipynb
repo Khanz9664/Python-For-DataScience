{
 "cells": [
  {
   "cell_type": "code",
   "execution_count": 1,
   "id": "01494fcb-fa8b-4bd2-aea4-3c112975bc64",
   "metadata": {},
   "outputs": [],
   "source": [
    "a=\"shahid ul islam\""
   ]
  },
  {
   "cell_type": "code",
   "execution_count": 2,
   "id": "c1e06cc0-da3f-4152-8ba2-af0121031c09",
   "metadata": {},
   "outputs": [
    {
     "name": "stdout",
     "output_type": "stream",
     "text": [
      "shahid ul islam\n"
     ]
    }
   ],
   "source": [
    "print(a)"
   ]
  },
  {
   "cell_type": "code",
   "execution_count": 3,
   "id": "885083b1-eeb3-4206-8a03-11056d03b681",
   "metadata": {},
   "outputs": [],
   "source": [
    "b='shahid ahmad bhat'"
   ]
  },
  {
   "cell_type": "code",
   "execution_count": 4,
   "id": "6287e368-c5f6-4f19-9334-335daea1985f",
   "metadata": {},
   "outputs": [
    {
     "name": "stdout",
     "output_type": "stream",
     "text": [
      "shahid ahmad bhat\n"
     ]
    }
   ],
   "source": [
    "print(b)"
   ]
  },
  {
   "cell_type": "code",
   "execution_count": 5,
   "id": "49c1f8c4-fe44-42e6-9eef-e6a6ae9e5864",
   "metadata": {},
   "outputs": [],
   "source": [
    "c='''multi line string\n",
    "this is nothing\n",
    "one!'''"
   ]
  },
  {
   "cell_type": "code",
   "execution_count": 6,
   "id": "32c26150-4da4-4062-bed1-be7097b0e6b7",
   "metadata": {},
   "outputs": [
    {
     "name": "stdout",
     "output_type": "stream",
     "text": [
      "multi line string\n",
      "this is nothing\n",
      "one!\n"
     ]
    }
   ],
   "source": [
    "print(c)"
   ]
  },
  {
   "cell_type": "code",
   "execution_count": 7,
   "id": "a7ff07ce-2d96-4519-9dfd-7c5e05c0144f",
   "metadata": {},
   "outputs": [],
   "source": [
    "d=\"\"\"also\n",
    "this is\n",
    "multiline string\"\"\""
   ]
  },
  {
   "cell_type": "code",
   "execution_count": 8,
   "id": "c2fc05ae-2141-49bc-b844-800e7f11414d",
   "metadata": {},
   "outputs": [
    {
     "name": "stdout",
     "output_type": "stream",
     "text": [
      "also\n",
      "this is\n",
      "multiline string\n"
     ]
    }
   ],
   "source": [
    "print(d)"
   ]
  },
  {
   "cell_type": "code",
   "execution_count": null,
   "id": "f155b8b5-a06e-4fe6-b0e0-6bcdd369da27",
   "metadata": {},
   "outputs": [],
   "source": []
  },
  {
   "cell_type": "code",
   "execution_count": 9,
   "id": "089eca2f-4d68-4f03-a094-9503e0b745d5",
   "metadata": {},
   "outputs": [],
   "source": [
    "#operations on string"
   ]
  },
  {
   "cell_type": "code",
   "execution_count": null,
   "id": "65c0b2ad-8e52-4f3f-9a66-8aedf44efeb2",
   "metadata": {},
   "outputs": [],
   "source": []
  },
  {
   "cell_type": "code",
   "execution_count": 17,
   "id": "1122aa79-6a51-4a80-bc9b-8b37d6391774",
   "metadata": {},
   "outputs": [],
   "source": [
    "#format method"
   ]
  },
  {
   "cell_type": "code",
   "execution_count": 18,
   "id": "44309349-c1cc-4b11-9c9e-8f1ab48a2a9c",
   "metadata": {},
   "outputs": [],
   "source": [
    "a=\"shahid\"\n",
    "b=2\n",
    "c=4"
   ]
  },
  {
   "cell_type": "code",
   "execution_count": 19,
   "id": "bd1d6a68-95c6-4c5d-bdef-e90f9707ec74",
   "metadata": {},
   "outputs": [
    {
     "name": "stdout",
     "output_type": "stream",
     "text": [
      "shahid-2-4\n"
     ]
    }
   ],
   "source": [
    "#method 1\n",
    "print(str(a)+\"-\"+str(b)+\"-\"+str(c))"
   ]
  },
  {
   "cell_type": "code",
   "execution_count": 20,
   "id": "24653912-e831-4bc3-9eee-fc48e209a923",
   "metadata": {},
   "outputs": [
    {
     "name": "stdout",
     "output_type": "stream",
     "text": [
      "shahid-2-4\n"
     ]
    }
   ],
   "source": [
    "#using method 2\n",
    "print(\"{}-{}-{}\" .format(a,b,c))"
   ]
  },
  {
   "cell_type": "code",
   "execution_count": 21,
   "id": "86fc9e39-cf03-4d4c-8eed-a1704fe843be",
   "metadata": {},
   "outputs": [
    {
     "name": "stdout",
     "output_type": "stream",
     "text": [
      "4-shahid-2\n"
     ]
    }
   ],
   "source": [
    "#using method 3\n",
    "#changing position also\n",
    "print(\"{2}-{0}-{1}\" .format(a,b,c))"
   ]
  },
  {
   "cell_type": "code",
   "execution_count": 22,
   "id": "0c62dc54-3115-421c-a0dc-2e9261f8ed76",
   "metadata": {},
   "outputs": [
    {
     "name": "stdout",
     "output_type": "stream",
     "text": [
      "bhat , shahid\n"
     ]
    }
   ],
   "source": [
    "#using method 4\n",
    "print(\"{lastname} , {firstname}\" .format(firstname=\"shahid\",lastname=\"bhat\"))"
   ]
  },
  {
   "cell_type": "code",
   "execution_count": 23,
   "id": "1ca52b7a-21a1-433c-bcf5-b554f700946d",
   "metadata": {},
   "outputs": [
    {
     "name": "stdout",
     "output_type": "stream",
     "text": [
      "bhat,shahid\n"
     ]
    }
   ],
   "source": [
    "#using method 5\n",
    "first=\"shahid\"\n",
    "last=\"bhat\"\n",
    "print(f\"{last},{first}\")"
   ]
  },
  {
   "cell_type": "code",
   "execution_count": null,
   "id": "4e651bd8-7651-4921-9ff0-49fd573f10bc",
   "metadata": {},
   "outputs": [],
   "source": []
  },
  {
   "cell_type": "code",
   "execution_count": null,
   "id": "840c9131-a95a-48fe-813d-46de5974ff59",
   "metadata": {},
   "outputs": [],
   "source": []
  },
  {
   "cell_type": "code",
   "execution_count": 24,
   "id": "adfd13e6-1077-44b7-be66-ded46b92fed2",
   "metadata": {},
   "outputs": [],
   "source": [
    "#strip method"
   ]
  },
  {
   "cell_type": "code",
   "execution_count": 25,
   "id": "451c623e-4731-4222-bf08-0d54c61bfe50",
   "metadata": {},
   "outputs": [
    {
     "name": "stdout",
     "output_type": "stream",
     "text": [
      "shaddy\n"
     ]
    }
   ],
   "source": [
    "a=\"      shaddy\"\n",
    "print(a.strip())"
   ]
  },
  {
   "cell_type": "code",
   "execution_count": 30,
   "id": "e9ccc0e5-d384-4e8a-9e66-1854beb44cce",
   "metadata": {},
   "outputs": [],
   "source": [
    "#taking input and by mistake user typed space or spaces"
   ]
  },
  {
   "cell_type": "code",
   "execution_count": 35,
   "id": "3639e753-2602-43ae-8398-ffdc5d53479f",
   "metadata": {},
   "outputs": [
    {
     "name": "stdin",
     "output_type": "stream",
     "text": [
      "      yes\n"
     ]
    }
   ],
   "source": [
    "a=input()"
   ]
  },
  {
   "cell_type": "code",
   "execution_count": 36,
   "id": "4b6e79da-3caf-44f6-9ee1-1e3ccfbe250a",
   "metadata": {},
   "outputs": [
    {
     "data": {
      "text/plain": [
       "False"
      ]
     },
     "execution_count": 36,
     "metadata": {},
     "output_type": "execute_result"
    }
   ],
   "source": [
    "a==\"yes\""
   ]
  },
  {
   "cell_type": "code",
   "execution_count": 37,
   "id": "7af8eec6-5e53-4fd3-9216-41d650d14942",
   "metadata": {},
   "outputs": [
    {
     "data": {
      "text/plain": [
       "True"
      ]
     },
     "execution_count": 37,
     "metadata": {},
     "output_type": "execute_result"
    }
   ],
   "source": [
    "a.strip()==\"yes\""
   ]
  },
  {
   "cell_type": "code",
   "execution_count": null,
   "id": "d3f865a6-bf81-4f99-a07e-f2d03c735a09",
   "metadata": {},
   "outputs": [],
   "source": []
  },
  {
   "cell_type": "code",
   "execution_count": null,
   "id": "8ec15369-03ec-45ff-a2b0-b86b99b38320",
   "metadata": {},
   "outputs": [],
   "source": []
  },
  {
   "cell_type": "code",
   "execution_count": 38,
   "id": "da1d4c6a-b99a-485b-b814-4a7862b075b8",
   "metadata": {},
   "outputs": [],
   "source": [
    "#split method"
   ]
  },
  {
   "cell_type": "code",
   "execution_count": 40,
   "id": "d6a9c748-9cfc-4d69-b167-8a0adba12fdc",
   "metadata": {},
   "outputs": [
    {
     "name": "stdin",
     "output_type": "stream",
     "text": [
      " 1 2 3 4 5\n"
     ]
    }
   ],
   "source": [
    "a=input()"
   ]
  },
  {
   "cell_type": "code",
   "execution_count": 41,
   "id": "16328e0a-f9c3-4838-b812-457dab433f4a",
   "metadata": {},
   "outputs": [
    {
     "name": "stdout",
     "output_type": "stream",
     "text": [
      "1 2 3 4 5\n"
     ]
    }
   ],
   "source": [
    "print(a)"
   ]
  },
  {
   "cell_type": "code",
   "execution_count": 42,
   "id": "ac41333b-5bad-486c-b293-7a65ba78646a",
   "metadata": {},
   "outputs": [
    {
     "name": "stdout",
     "output_type": "stream",
     "text": [
      "['1', '2', '3', '4', '5']\n"
     ]
    }
   ],
   "source": [
    "print(a.split(' '))"
   ]
  },
  {
   "cell_type": "code",
   "execution_count": 5,
   "id": "dcf7a14a-88eb-4394-8cb9-af0d6848cf2d",
   "metadata": {},
   "outputs": [],
   "source": [
    "b=\"shahid ul islam\""
   ]
  },
  {
   "cell_type": "code",
   "execution_count": 6,
   "id": "3189b955-b7df-4f74-b5e7-6e4083dcbc60",
   "metadata": {},
   "outputs": [
    {
     "name": "stdout",
     "output_type": "stream",
     "text": [
      "['shahid', 'ul', 'islam']\n"
     ]
    }
   ],
   "source": [
    "print(b.split(' '))"
   ]
  },
  {
   "cell_type": "code",
   "execution_count": null,
   "id": "e8111f83-e73a-427a-ba01-4c16c92a4385",
   "metadata": {},
   "outputs": [],
   "source": []
  },
  {
   "cell_type": "code",
   "execution_count": null,
   "id": "f087cf23-3f8e-435f-bb4f-ad325ab24be0",
   "metadata": {},
   "outputs": [],
   "source": []
  },
  {
   "cell_type": "code",
   "execution_count": 43,
   "id": "683fee3a-42a0-4238-8a8b-10b3fd4b9cc9",
   "metadata": {},
   "outputs": [],
   "source": [
    "#replace method"
   ]
  },
  {
   "cell_type": "code",
   "execution_count": 44,
   "id": "7096b6db-94a1-4b5c-9f82-93542520cf5c",
   "metadata": {},
   "outputs": [],
   "source": [
    "a=\"shahid\""
   ]
  },
  {
   "cell_type": "code",
   "execution_count": 45,
   "id": "ad416407-30f8-458b-a5c0-498868fc9e2d",
   "metadata": {},
   "outputs": [
    {
     "data": {
      "text/plain": [
       "'ahahid'"
      ]
     },
     "execution_count": 45,
     "metadata": {},
     "output_type": "execute_result"
    }
   ],
   "source": [
    "a.replace('s','a')"
   ]
  },
  {
   "cell_type": "code",
   "execution_count": 46,
   "id": "fc1d83f9-0215-404d-850f-cbb8ba6de69d",
   "metadata": {},
   "outputs": [],
   "source": [
    "b=\"aaaaabbbbbcccccAAAABBBBCCCC\""
   ]
  },
  {
   "cell_type": "code",
   "execution_count": 48,
   "id": "c18f41ce-7c85-46f3-b546-9840a78ec536",
   "metadata": {},
   "outputs": [
    {
     "data": {
      "text/plain": [
       "'aaaaabbbbbccccczzzzBBBBCCCC'"
      ]
     },
     "execution_count": 48,
     "metadata": {},
     "output_type": "execute_result"
    }
   ],
   "source": [
    "b.replace('A','z')"
   ]
  },
  {
   "cell_type": "code",
   "execution_count": null,
   "id": "786b994e-1f58-4672-8dc1-dba1cb982210",
   "metadata": {},
   "outputs": [],
   "source": []
  },
  {
   "cell_type": "code",
   "execution_count": null,
   "id": "5fa460ed-7fbd-4fd4-956f-b08271b61568",
   "metadata": {},
   "outputs": [],
   "source": []
  },
  {
   "cell_type": "code",
   "execution_count": 49,
   "id": "60264645-1c48-48b5-90ec-818d961ae8fb",
   "metadata": {},
   "outputs": [],
   "source": [
    "#count method"
   ]
  },
  {
   "cell_type": "code",
   "execution_count": 50,
   "id": "321eae8e-a0a4-4004-ac4f-0414605db9d8",
   "metadata": {},
   "outputs": [],
   "source": [
    "c=\"shahid\""
   ]
  },
  {
   "cell_type": "code",
   "execution_count": 51,
   "id": "451c535a-9bf2-400b-b5da-cde6fd6bad28",
   "metadata": {},
   "outputs": [
    {
     "data": {
      "text/plain": [
       "2"
      ]
     },
     "execution_count": 51,
     "metadata": {},
     "output_type": "execute_result"
    }
   ],
   "source": [
    "c.count('h')"
   ]
  },
  {
   "cell_type": "code",
   "execution_count": 52,
   "id": "510b3382-8191-42b7-a96a-217d86fcc509",
   "metadata": {},
   "outputs": [],
   "source": [
    "d=\"aaaaaaaaabbbbbbbcccccc\""
   ]
  },
  {
   "cell_type": "code",
   "execution_count": 53,
   "id": "8b975c2a-f274-4291-b53a-c16e6683e61f",
   "metadata": {},
   "outputs": [
    {
     "data": {
      "text/plain": [
       "9"
      ]
     },
     "execution_count": 53,
     "metadata": {},
     "output_type": "execute_result"
    }
   ],
   "source": [
    "d.count('a')"
   ]
  },
  {
   "cell_type": "code",
   "execution_count": 54,
   "id": "266fc1da-edd3-4024-b86c-2d153129ec67",
   "metadata": {},
   "outputs": [
    {
     "data": {
      "text/plain": [
       "3"
      ]
     },
     "execution_count": 54,
     "metadata": {},
     "output_type": "execute_result"
    }
   ],
   "source": [
    "d.count('aaa')"
   ]
  },
  {
   "cell_type": "code",
   "execution_count": null,
   "id": "6d1e7c3a-04a6-4a19-94ac-efd8ca3b2b32",
   "metadata": {},
   "outputs": [],
   "source": []
  },
  {
   "cell_type": "code",
   "execution_count": null,
   "id": "9da5cefc-6fc2-4c24-8d15-4c07e55eea60",
   "metadata": {},
   "outputs": [],
   "source": []
  },
  {
   "cell_type": "code",
   "execution_count": 7,
   "id": "ab3c9415-00c1-4cbf-bc89-826c7fbb8312",
   "metadata": {},
   "outputs": [],
   "source": [
    "#length of string"
   ]
  },
  {
   "cell_type": "code",
   "execution_count": 10,
   "id": "1821a939-32d3-4747-ace8-4f736a3f2d7f",
   "metadata": {},
   "outputs": [],
   "source": [
    "a=\"this is a string\""
   ]
  },
  {
   "cell_type": "code",
   "execution_count": 11,
   "id": "7ac98be9-65a5-4733-9e6c-cc878112273f",
   "metadata": {},
   "outputs": [
    {
     "name": "stdout",
     "output_type": "stream",
     "text": [
      "16\n"
     ]
    }
   ],
   "source": [
    "print(len(a))"
   ]
  },
  {
   "cell_type": "code",
   "execution_count": null,
   "id": "6d526b11-2757-4165-9769-04c5c7489a4f",
   "metadata": {},
   "outputs": [],
   "source": []
  },
  {
   "cell_type": "code",
   "execution_count": null,
   "id": "ce4b7b50-852f-4d68-a05e-22f19d005d69",
   "metadata": {},
   "outputs": [],
   "source": []
  },
  {
   "cell_type": "code",
   "execution_count": 12,
   "id": "5881374b-a346-498f-8098-bc07019a3034",
   "metadata": {},
   "outputs": [],
   "source": [
    "#check a word is in string"
   ]
  },
  {
   "cell_type": "code",
   "execution_count": 13,
   "id": "9c2ced44-f53b-462f-981a-eebe408d644b",
   "metadata": {},
   "outputs": [],
   "source": [
    "x=\"this might not go as per the plan\""
   ]
  },
  {
   "cell_type": "code",
   "execution_count": 14,
   "id": "1a518a9e-caf9-43bb-a98d-e061ec6fb996",
   "metadata": {},
   "outputs": [
    {
     "name": "stdout",
     "output_type": "stream",
     "text": [
      "yes might is present\n"
     ]
    }
   ],
   "source": [
    "if \"might\" in x:\n",
    "    print(\"yes might is present\")\n",
    "else:\n",
    "    print(\"not present\")"
   ]
  },
  {
   "cell_type": "code",
   "execution_count": null,
   "id": "2cdd2097-c6a3-400a-80b5-fad7feccf311",
   "metadata": {},
   "outputs": [],
   "source": []
  },
  {
   "cell_type": "code",
   "execution_count": null,
   "id": "964c1b08-131d-4bc0-9303-aa71c1f483f7",
   "metadata": {},
   "outputs": [],
   "source": []
  },
  {
   "cell_type": "code",
   "execution_count": 15,
   "id": "f83188d1-017c-496a-8a07-79f6ec8769bd",
   "metadata": {},
   "outputs": [],
   "source": [
    "#indexing and slicing"
   ]
  },
  {
   "cell_type": "code",
   "execution_count": 16,
   "id": "87dae2f8-5854-4fcc-8dbd-87d31f07a989",
   "metadata": {},
   "outputs": [],
   "source": [
    "y=\"this can not be done within a day\""
   ]
  },
  {
   "cell_type": "code",
   "execution_count": 17,
   "id": "0fd6a024-9ed1-4efd-bec1-7f18ab8765dd",
   "metadata": {},
   "outputs": [
    {
     "name": "stdout",
     "output_type": "stream",
     "text": [
      "can not \n"
     ]
    }
   ],
   "source": [
    "print(y[5:13])"
   ]
  },
  {
   "cell_type": "code",
   "execution_count": 25,
   "id": "d23ef5a5-8982-4e4b-9e06-b2ed770b9413",
   "metadata": {},
   "outputs": [
    {
     "name": "stdout",
     "output_type": "stream",
     "text": [
      " can not be done\n"
     ]
    }
   ],
   "source": [
    "print(y[-29:-13])"
   ]
  },
  {
   "cell_type": "code",
   "execution_count": 27,
   "id": "e4546cdf-7c83-4868-b338-57825fe40ef3",
   "metadata": {},
   "outputs": [],
   "source": [
    "z=\"shahid\""
   ]
  },
  {
   "cell_type": "code",
   "execution_count": 39,
   "id": "68eebf0d-7c87-4ddf-a18a-1324771fef04",
   "metadata": {},
   "outputs": [
    {
     "name": "stdout",
     "output_type": "stream",
     "text": [
      "shah\n"
     ]
    }
   ],
   "source": [
    "print(z[-6:-2])"
   ]
  },
  {
   "cell_type": "code",
   "execution_count": 26,
   "id": "e513f05e-6872-44d8-9808-55da0da2677f",
   "metadata": {},
   "outputs": [],
   "source": [
    "#we can start indexing in reverse order by giving negative values "
   ]
  },
  {
   "cell_type": "code",
   "execution_count": null,
   "id": "0aaaa4b0-f1ad-41e4-8f0a-a4941e6670b1",
   "metadata": {},
   "outputs": [],
   "source": []
  },
  {
   "cell_type": "code",
   "execution_count": null,
   "id": "4f9226e1-63ef-43e8-8803-2e37d4f84435",
   "metadata": {},
   "outputs": [],
   "source": []
  },
  {
   "cell_type": "code",
   "execution_count": 40,
   "id": "289eff7b-dcea-4ace-9cd0-e0c35b6e2d21",
   "metadata": {},
   "outputs": [],
   "source": [
    "#upper and lower method"
   ]
  },
  {
   "cell_type": "code",
   "execution_count": 41,
   "id": "20efaa02-8dc7-496e-90e4-deca2a6be65f",
   "metadata": {},
   "outputs": [],
   "source": [
    "d=\"Hello Shahid\""
   ]
  },
  {
   "cell_type": "code",
   "execution_count": 42,
   "id": "96708ddf-6eec-4032-a84d-cb1089b81926",
   "metadata": {},
   "outputs": [
    {
     "name": "stdout",
     "output_type": "stream",
     "text": [
      "THIS IS A STRING\n"
     ]
    }
   ],
   "source": [
    "print(a.upper())"
   ]
  },
  {
   "cell_type": "code",
   "execution_count": 44,
   "id": "64b34c89-fb44-4ca2-8967-9540ab2cea1f",
   "metadata": {},
   "outputs": [
    {
     "name": "stdout",
     "output_type": "stream",
     "text": [
      "this is a string\n"
     ]
    }
   ],
   "source": [
    "print(a.lower())"
   ]
  },
  {
   "cell_type": "code",
   "execution_count": null,
   "id": "de987795-5621-4984-a452-f1ae335d730f",
   "metadata": {},
   "outputs": [],
   "source": []
  },
  {
   "cell_type": "code",
   "execution_count": null,
   "id": "8cca3f1f-4f6f-4ff0-8a3f-44bc9856bef1",
   "metadata": {},
   "outputs": [],
   "source": []
  },
  {
   "cell_type": "code",
   "execution_count": 45,
   "id": "d4f47790-f62e-46c2-86d7-71eaad2f73b9",
   "metadata": {},
   "outputs": [],
   "source": [
    "#oncatenate strings"
   ]
  },
  {
   "cell_type": "code",
   "execution_count": 46,
   "id": "4a13fa53-981a-47a1-a076-45c62523803e",
   "metadata": {},
   "outputs": [],
   "source": [
    "a=\"shahid\""
   ]
  },
  {
   "cell_type": "code",
   "execution_count": 47,
   "id": "b8851ed5-918e-4e05-8496-81118a232ad9",
   "metadata": {},
   "outputs": [],
   "source": [
    "b=\"bhat\""
   ]
  },
  {
   "cell_type": "code",
   "execution_count": 48,
   "id": "9f6067c2-6974-4cbc-8eff-f827a30aba07",
   "metadata": {},
   "outputs": [
    {
     "name": "stdout",
     "output_type": "stream",
     "text": [
      "shahid bhat\n"
     ]
    }
   ],
   "source": [
    "print(a+\" \"+b)"
   ]
  },
  {
   "cell_type": "code",
   "execution_count": null,
   "id": "43aa6a9a-7e98-4165-acfd-8797ce5c984e",
   "metadata": {},
   "outputs": [],
   "source": []
  }
 ],
 "metadata": {
  "kernelspec": {
   "display_name": "Python 3 (ipykernel)",
   "language": "python",
   "name": "python3"
  },
  "language_info": {
   "codemirror_mode": {
    "name": "ipython",
    "version": 3
   },
   "file_extension": ".py",
   "mimetype": "text/x-python",
   "name": "python",
   "nbconvert_exporter": "python",
   "pygments_lexer": "ipython3",
   "version": "3.12.0"
  }
 },
 "nbformat": 4,
 "nbformat_minor": 5
}
