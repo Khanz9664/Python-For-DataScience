{
 "cells": [
  {
   "cell_type": "code",
   "execution_count": 1,
   "id": "f7535f3d-9faf-4a43-81ff-e8e11efdd5c2",
   "metadata": {},
   "outputs": [],
   "source": [
    "a=[1,2,3,4]"
   ]
  },
  {
   "cell_type": "code",
   "execution_count": 4,
   "id": "3ab7000a-8fe6-4b99-92d2-d2a5e99e62c3",
   "metadata": {},
   "outputs": [
    {
     "name": "stdout",
     "output_type": "stream",
     "text": [
      "[1, 2, 3, 4]\n",
      "<class 'list'>\n"
     ]
    }
   ],
   "source": [
    "print(a)\n",
    "print(type(a))"
   ]
  },
  {
   "cell_type": "code",
   "execution_count": null,
   "id": "9ff3c6ee-1e87-49a2-a2ff-b3e04bfc864f",
   "metadata": {},
   "outputs": [],
   "source": []
  },
  {
   "cell_type": "code",
   "execution_count": null,
   "id": "dcfc83da-6a7f-4a8c-9646-adad095061bc",
   "metadata": {},
   "outputs": [],
   "source": []
  },
  {
   "cell_type": "code",
   "execution_count": 16,
   "id": "04ad87d4-0985-4f52-8fcc-2bb6fb614dd4",
   "metadata": {},
   "outputs": [],
   "source": [
    "#taking list elements and list size as an input from user"
   ]
  },
  {
   "cell_type": "code",
   "execution_count": 17,
   "id": "1d3ff3b0-7db8-45e7-a9c1-eaee80b149fa",
   "metadata": {},
   "outputs": [
    {
     "name": "stdin",
     "output_type": "stream",
     "text": [
      "no of elements in list b:  5\n"
     ]
    }
   ],
   "source": [
    "b=[]\n",
    "n=int(input(\"no of elements in list b: \"))"
   ]
  },
  {
   "cell_type": "code",
   "execution_count": 18,
   "id": "2c5e2672-c615-4263-a58d-e8cb040c0b83",
   "metadata": {},
   "outputs": [
    {
     "name": "stdin",
     "output_type": "stream",
     "text": [
      " 12\n",
      " 13\n",
      " 14\n",
      " 15\n",
      " 65\n"
     ]
    }
   ],
   "source": [
    "for i in range(0,n):\n",
    "    ele=int(input())\n",
    "    b.append(ele)"
   ]
  },
  {
   "cell_type": "code",
   "execution_count": 20,
   "id": "c1dfa0b5-7f1a-4a68-a412-9d82fb85a397",
   "metadata": {},
   "outputs": [
    {
     "name": "stdout",
     "output_type": "stream",
     "text": [
      "[12, 13, 14, 15, 65]\n",
      "<class 'list'>\n"
     ]
    }
   ],
   "source": [
    "print(b)\n",
    "print(type(b))"
   ]
  },
  {
   "cell_type": "code",
   "execution_count": null,
   "id": "1cedb200-e883-4a9d-9cfa-22381f664c66",
   "metadata": {},
   "outputs": [],
   "source": []
  },
  {
   "cell_type": "code",
   "execution_count": null,
   "id": "9e3e6c5a-6605-4ba5-84f5-252b393be09b",
   "metadata": {},
   "outputs": [],
   "source": []
  },
  {
   "cell_type": "code",
   "execution_count": 21,
   "id": "3c11450d-2a6b-4613-9076-ae4f406884c1",
   "metadata": {},
   "outputs": [],
   "source": [
    "l=[\"shahid\",12,13,14,print]"
   ]
  },
  {
   "cell_type": "code",
   "execution_count": 22,
   "id": "f565f15d-cdc5-4caf-a6ab-d4979d984699",
   "metadata": {},
   "outputs": [
    {
     "data": {
      "text/plain": [
       "'shahid'"
      ]
     },
     "execution_count": 22,
     "metadata": {},
     "output_type": "execute_result"
    }
   ],
   "source": [
    "l[0]"
   ]
  },
  {
   "cell_type": "code",
   "execution_count": 23,
   "id": "abfafaac-5a56-4d42-a883-9cf225530a1f",
   "metadata": {},
   "outputs": [
    {
     "data": {
      "text/plain": [
       "13"
      ]
     },
     "execution_count": 23,
     "metadata": {},
     "output_type": "execute_result"
    }
   ],
   "source": [
    "l[2]"
   ]
  },
  {
   "cell_type": "code",
   "execution_count": 24,
   "id": "0caff8a1-8941-4789-8e81-7bc4076d7e46",
   "metadata": {},
   "outputs": [
    {
     "name": "stdout",
     "output_type": "stream",
     "text": [
      "hello\n"
     ]
    }
   ],
   "source": [
    "l[4](\"hello\")"
   ]
  },
  {
   "cell_type": "code",
   "execution_count": null,
   "id": "1322ee8b-d6b5-457e-bc24-bc5562b3e50d",
   "metadata": {},
   "outputs": [],
   "source": []
  },
  {
   "cell_type": "code",
   "execution_count": null,
   "id": "79b79054-1688-42fd-b76c-1968c40acd38",
   "metadata": {},
   "outputs": [],
   "source": []
  },
  {
   "cell_type": "code",
   "execution_count": 25,
   "id": "fce3e708-97cc-455d-93f3-eb791a2f0e92",
   "metadata": {},
   "outputs": [],
   "source": [
    "#operations on lists"
   ]
  },
  {
   "cell_type": "code",
   "execution_count": 29,
   "id": "c2c70cf5-02e2-4a78-a83a-76489f6c8f2a",
   "metadata": {},
   "outputs": [],
   "source": [
    "list=[133,442,376,499,500]"
   ]
  },
  {
   "cell_type": "code",
   "execution_count": 30,
   "id": "3f53fb7a-b67d-4226-9d71-bdefb7443c7a",
   "metadata": {},
   "outputs": [
    {
     "name": "stdout",
     "output_type": "stream",
     "text": [
      "5\n"
     ]
    }
   ],
   "source": [
    "#length of list\n",
    "print(len(list))"
   ]
  },
  {
   "cell_type": "code",
   "execution_count": 31,
   "id": "6afc8fbb-b6ba-4037-9251-fbd272c177de",
   "metadata": {},
   "outputs": [
    {
     "name": "stdout",
     "output_type": "stream",
     "text": [
      "[133, 442, 376, 499, 500, 1, 2, 3, 4]\n"
     ]
    }
   ],
   "source": [
    "#concatenatenate lists\n",
    "print(list+a)"
   ]
  },
  {
   "cell_type": "code",
   "execution_count": 32,
   "id": "107dc8ca-f716-40c2-9833-0402c55f5374",
   "metadata": {},
   "outputs": [
    {
     "name": "stdout",
     "output_type": "stream",
     "text": [
      "[133, 442, 376, 499, 500, 133, 442, 376, 499, 500, 133, 442, 376, 499, 500, 133, 442, 376, 499, 500, 133, 442, 376, 499, 500]\n"
     ]
    }
   ],
   "source": [
    "#repitation of lists\n",
    "print(list*5)"
   ]
  },
  {
   "cell_type": "code",
   "execution_count": 37,
   "id": "1040a0c1-bbcd-4e62-b212-09c1dfaf6334",
   "metadata": {},
   "outputs": [
    {
     "data": {
      "text/plain": [
       "True"
      ]
     },
     "execution_count": 37,
     "metadata": {},
     "output_type": "execute_result"
    }
   ],
   "source": [
    "#membership\n",
    "133 in list"
   ]
  },
  {
   "cell_type": "code",
   "execution_count": 38,
   "id": "652184f6-dd78-41ac-b663-8302b3443992",
   "metadata": {},
   "outputs": [
    {
     "data": {
      "text/plain": [
       "False"
      ]
     },
     "execution_count": 38,
     "metadata": {},
     "output_type": "execute_result"
    }
   ],
   "source": [
    "1 in list"
   ]
  },
  {
   "cell_type": "code",
   "execution_count": 39,
   "id": "daddfb42-372c-47f9-b660-d056182f5541",
   "metadata": {},
   "outputs": [
    {
     "data": {
      "text/plain": [
       "True"
      ]
     },
     "execution_count": 39,
     "metadata": {},
     "output_type": "execute_result"
    }
   ],
   "source": [
    "1 not in list"
   ]
  },
  {
   "cell_type": "code",
   "execution_count": 40,
   "id": "30512e83-bb47-4ddb-a25c-dd78a51a5999",
   "metadata": {},
   "outputs": [
    {
     "name": "stdout",
     "output_type": "stream",
     "text": [
      "133\n",
      "442\n",
      "376\n",
      "499\n",
      "500\n"
     ]
    }
   ],
   "source": [
    "#iteration\n",
    "for i in list:\n",
    "    print(i)"
   ]
  },
  {
   "cell_type": "code",
   "execution_count": null,
   "id": "f4a674b1-b799-451b-9442-fb5a68ac0808",
   "metadata": {},
   "outputs": [],
   "source": []
  },
  {
   "cell_type": "code",
   "execution_count": 41,
   "id": "3cdba3cf-c541-419c-8076-18edfda04c6a",
   "metadata": {},
   "outputs": [],
   "source": [
    "#indexing and slicing"
   ]
  },
  {
   "cell_type": "code",
   "execution_count": 47,
   "id": "55a387bf-2c10-4195-a7a0-b72a52ea15ef",
   "metadata": {},
   "outputs": [
    {
     "data": {
      "text/plain": [
       "[133, 442, 376, 499]"
      ]
     },
     "execution_count": 47,
     "metadata": {},
     "output_type": "execute_result"
    }
   ],
   "source": [
    "list[0:4]"
   ]
  },
  {
   "cell_type": "code",
   "execution_count": 48,
   "id": "7a71a49d-83e0-4a18-a75a-d4df084039d8",
   "metadata": {},
   "outputs": [
    {
     "data": {
      "text/plain": [
       "[133, 442, 376, 499]"
      ]
     },
     "execution_count": 48,
     "metadata": {},
     "output_type": "execute_result"
    }
   ],
   "source": [
    "list[-5:-1]"
   ]
  },
  {
   "cell_type": "code",
   "execution_count": 49,
   "id": "d71980b1-14a8-4719-b12f-784892a4bf2d",
   "metadata": {},
   "outputs": [
    {
     "data": {
      "text/plain": [
       "[442, 376]"
      ]
     },
     "execution_count": 49,
     "metadata": {},
     "output_type": "execute_result"
    }
   ],
   "source": [
    "#slicing\n",
    "list[-4:-2]"
   ]
  },
  {
   "cell_type": "code",
   "execution_count": 50,
   "id": "683a9072-2c59-4ab1-a499-a302dbbe3f3d",
   "metadata": {},
   "outputs": [
    {
     "data": {
      "text/plain": [
       "[442, 376]"
      ]
     },
     "execution_count": 50,
     "metadata": {},
     "output_type": "execute_result"
    }
   ],
   "source": [
    "list[1:3]"
   ]
  },
  {
   "cell_type": "code",
   "execution_count": null,
   "id": "afce6e1f-ad4f-4130-aba7-8c9c0a7bd7cb",
   "metadata": {},
   "outputs": [],
   "source": []
  },
  {
   "cell_type": "code",
   "execution_count": null,
   "id": "c16b41d1-70b0-43c0-a670-5a7b9ce67f98",
   "metadata": {},
   "outputs": [],
   "source": []
  },
  {
   "cell_type": "code",
   "execution_count": 51,
   "id": "a518902d-a24e-45b8-8318-93dcd7339af9",
   "metadata": {},
   "outputs": [],
   "source": [
    "#updating list\n",
    "#insert & append"
   ]
  },
  {
   "cell_type": "code",
   "execution_count": 60,
   "id": "ce153344-b94b-4fe7-bc99-d51f4210094e",
   "metadata": {},
   "outputs": [],
   "source": [
    "a=[1,2,3,4]"
   ]
  },
  {
   "cell_type": "code",
   "execution_count": 61,
   "id": "1a5e389b-d1bb-4acc-94e4-61f2fec9b891",
   "metadata": {},
   "outputs": [
    {
     "name": "stdout",
     "output_type": "stream",
     "text": [
      "[1, 2, 3, 4, 5]\n"
     ]
    }
   ],
   "source": [
    "a.insert(4,5)\n",
    "print(a)"
   ]
  },
  {
   "cell_type": "code",
   "execution_count": 62,
   "id": "bd3ee9a1-3afb-4aa5-ab5e-a67f1c088518",
   "metadata": {},
   "outputs": [
    {
     "name": "stdout",
     "output_type": "stream",
     "text": [
      "[1, 2, 3, 4, 5, 6]\n"
     ]
    }
   ],
   "source": [
    "a.append(6)\n",
    "print(a)"
   ]
  },
  {
   "cell_type": "code",
   "execution_count": null,
   "id": "4476ceec-9411-4951-a6dd-9c618368f7b1",
   "metadata": {},
   "outputs": [],
   "source": []
  },
  {
   "cell_type": "code",
   "execution_count": 63,
   "id": "9c75f5ac-93dc-4492-848c-565b3fe13e9d",
   "metadata": {},
   "outputs": [],
   "source": [
    "#deleting list elements\n",
    "#del\n",
    "#pop\n",
    "#remove"
   ]
  },
  {
   "cell_type": "code",
   "execution_count": 66,
   "id": "e8224418-429d-45f5-a4f6-d0c4b0ac6e05",
   "metadata": {},
   "outputs": [],
   "source": [
    "b=[11,22,33,44,55]"
   ]
  },
  {
   "cell_type": "code",
   "execution_count": 67,
   "id": "cbd02ca0-46a4-4f75-b769-6bef88ad5e44",
   "metadata": {},
   "outputs": [
    {
     "name": "stdout",
     "output_type": "stream",
     "text": [
      "[22, 33, 44, 55]\n"
     ]
    }
   ],
   "source": [
    "del b[0]\n",
    "print(b)"
   ]
  },
  {
   "cell_type": "code",
   "execution_count": 68,
   "id": "2b892808-1aef-4c8c-859e-56f6d4dafd0a",
   "metadata": {},
   "outputs": [
    {
     "name": "stdout",
     "output_type": "stream",
     "text": [
      "[22, 33, 44]\n"
     ]
    }
   ],
   "source": [
    "b.pop(3)\n",
    "print(b)"
   ]
  },
  {
   "cell_type": "code",
   "execution_count": 70,
   "id": "c608cdda-6eac-4eb4-9753-ce3b7b84fe27",
   "metadata": {},
   "outputs": [
    {
     "name": "stdout",
     "output_type": "stream",
     "text": [
      "[22, 44]\n"
     ]
    }
   ],
   "source": [
    "b.remove(33)\n",
    "print(b)"
   ]
  },
  {
   "cell_type": "code",
   "execution_count": null,
   "id": "109d559e-cba6-4a86-962f-0990458c7efc",
   "metadata": {},
   "outputs": [],
   "source": []
  },
  {
   "cell_type": "code",
   "execution_count": null,
   "id": "5ff610bc-469c-42b0-8ece-d0dab8060b48",
   "metadata": {},
   "outputs": [],
   "source": []
  },
  {
   "cell_type": "code",
   "execution_count": 71,
   "id": "6e6bfdf9-fd8e-4679-b951-ed8b7a00b7e3",
   "metadata": {},
   "outputs": [],
   "source": [
    "#sorting and reversing\n",
    "#sort and sorted\n",
    "#reverse and reversed"
   ]
  },
  {
   "cell_type": "code",
   "execution_count": 73,
   "id": "c5817870-7865-4f0c-b3b3-1a6868050b4d",
   "metadata": {},
   "outputs": [],
   "source": [
    "lst=[12,10,13,9,1]"
   ]
  },
  {
   "cell_type": "code",
   "execution_count": 74,
   "id": "0c28a39a-28f4-4abe-9d09-e92b375ab70a",
   "metadata": {},
   "outputs": [
    {
     "data": {
      "text/plain": [
       "[1, 9, 10, 12, 13]"
      ]
     },
     "execution_count": 74,
     "metadata": {},
     "output_type": "execute_result"
    }
   ],
   "source": [
    "sorted(lst)"
   ]
  },
  {
   "cell_type": "code",
   "execution_count": 76,
   "id": "b94b4569-fb2a-4e96-868d-d34908285394",
   "metadata": {},
   "outputs": [
    {
     "name": "stdout",
     "output_type": "stream",
     "text": [
      "[1, 9, 10, 12, 13]\n"
     ]
    }
   ],
   "source": [
    "lst.sort()\n",
    "print(lst)"
   ]
  },
  {
   "cell_type": "code",
   "execution_count": 78,
   "id": "a9848d4c-d70a-44ce-bbda-94c790e42865",
   "metadata": {},
   "outputs": [
    {
     "name": "stdout",
     "output_type": "stream",
     "text": [
      "13\n",
      "12\n",
      "10\n",
      "9\n",
      "1\n"
     ]
    }
   ],
   "source": [
    "reversed(lst)\n",
    "for i in reversed(lst):\n",
    "    print(i)"
   ]
  },
  {
   "cell_type": "code",
   "execution_count": 79,
   "id": "d4a0b435-c23f-4a4a-9767-0aa97e24d70c",
   "metadata": {},
   "outputs": [
    {
     "name": "stdout",
     "output_type": "stream",
     "text": [
      "[13, 12, 10, 9, 1]\n"
     ]
    }
   ],
   "source": [
    "lst.reverse()\n",
    "print(lst)"
   ]
  },
  {
   "cell_type": "code",
   "execution_count": null,
   "id": "804ade02-8c89-45fe-aa23-60ea42fd4944",
   "metadata": {},
   "outputs": [],
   "source": []
  },
  {
   "cell_type": "code",
   "execution_count": null,
   "id": "9071a2e8-a10c-4c56-ba7a-2af7b403df88",
   "metadata": {},
   "outputs": [],
   "source": []
  },
  {
   "cell_type": "code",
   "execution_count": 5,
   "id": "62549e47-df69-41b9-b805-71023c284459",
   "metadata": {},
   "outputs": [
    {
     "name": "stdout",
     "output_type": "stream",
     "text": [
      "[1, 2, 3, 4]\n"
     ]
    }
   ],
   "source": [
    "list=[1,2,2,3,4]\n",
    "for i in list:\n",
    "    if i==2:\n",
    "        list.remove(i)\n",
    "print(list)"
   ]
  },
  {
   "cell_type": "code",
   "execution_count": 6,
   "id": "83990730-167b-472b-a197-b4b6268ce4c4",
   "metadata": {},
   "outputs": [],
   "source": [
    "#it only removes the first occuring of 2 so we can do it using list comprehension"
   ]
  },
  {
   "cell_type": "code",
   "execution_count": 7,
   "id": "2d0f962f-8ebe-4a60-a233-bc25ef5322cb",
   "metadata": {},
   "outputs": [
    {
     "name": "stdout",
     "output_type": "stream",
     "text": [
      "[1, 3, 4]\n"
     ]
    }
   ],
   "source": [
    "list=[1,2,2,3,4]\n",
    "print([i for i in list if i!=2])"
   ]
  },
  {
   "cell_type": "code",
   "execution_count": null,
   "id": "cff59695-1b86-4268-b5bf-25bd7a1df909",
   "metadata": {},
   "outputs": [],
   "source": []
  }
 ],
 "metadata": {
  "kernelspec": {
   "display_name": "Python 3 (ipykernel)",
   "language": "python",
   "name": "python3"
  },
  "language_info": {
   "codemirror_mode": {
    "name": "ipython",
    "version": 3
   },
   "file_extension": ".py",
   "mimetype": "text/x-python",
   "name": "python",
   "nbconvert_exporter": "python",
   "pygments_lexer": "ipython3",
   "version": "3.12.0"
  }
 },
 "nbformat": 4,
 "nbformat_minor": 5
}
