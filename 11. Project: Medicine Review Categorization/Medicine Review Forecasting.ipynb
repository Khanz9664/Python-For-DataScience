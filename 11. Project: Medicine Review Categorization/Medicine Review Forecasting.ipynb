{
 "cells": [
  {
   "cell_type": "markdown",
   "id": "7b46b614",
   "metadata": {},
   "source": [
    "# Medicine Review Categorization using Machine Learning"
   ]
  },
  {
   "cell_type": "markdown",
   "id": "6c6108c3",
   "metadata": {},
   "source": [
    "### The Medicine Review Categorization project classifies medicine reviews into Excellent, Average, or Poor categories based on features such as Uses, Side Effects, and Manufacturer. It leverages Natural Language Processing (NLP) and Machine Learning techniques to automatically assess review quality."
   ]
  },
  {
   "cell_type": "markdown",
   "id": "9edb69f3",
   "metadata": {},
   "source": [
    "### Objectives:\n",
    "#### Classify Reviews: Categorize medicine reviews into three categories (Excellent, Average, Poor).\n",
    "#### Use Text Data: Analyze Uses and Side Effects to inform predictions.\n",
    "#### Incorporate Manufacturer Info: Enhance the model with manufacturer details to capture product trends.\n",
    "#### API for Prediction: Provide a Flask API for users to input data and receive predictions. Users can send requests and data using Postman, which allows for easy testing of the API.\n",
    "\n",
    "This project helps healthcare professionals and consumers assess medication effectiveness efficiently."
   ]
  },
  {
   "cell_type": "code",
   "execution_count": 41,
   "id": "c09263b5",
   "metadata": {},
   "outputs": [
    {
     "name": "stdout",
     "output_type": "stream",
     "text": [
      "<class 'pandas.core.frame.DataFrame'>\n",
      "RangeIndex: 11825 entries, 0 to 11824\n",
      "Data columns (total 9 columns):\n",
      " #   Column              Non-Null Count  Dtype \n",
      "---  ------              --------------  ----- \n",
      " 0   Medicine Name       11825 non-null  object\n",
      " 1   Composition         11825 non-null  object\n",
      " 2   Uses                11825 non-null  object\n",
      " 3   Side_effects        11825 non-null  object\n",
      " 4   Image URL           11825 non-null  object\n",
      " 5   Manufacturer        11825 non-null  object\n",
      " 6   Excellent Review %  11825 non-null  int64 \n",
      " 7   Average Review %    11825 non-null  int64 \n",
      " 8   Poor Review %       11825 non-null  int64 \n",
      "dtypes: int64(3), object(6)\n",
      "memory usage: 831.6+ KB\n"
     ]
    },
    {
     "data": {
      "text/plain": [
       "(              Medicine Name  \\\n",
       " 0   Avastin 400mg Injection   \n",
       " 1  Augmentin 625 Duo Tablet   \n",
       " 2       Azithral 500 Tablet   \n",
       " 3          Ascoril LS Syrup   \n",
       " 4         Aciloc 150 Tablet   \n",
       " \n",
       "                                          Composition  \\\n",
       " 0                                Bevacizumab (400mg)   \n",
       " 1    Amoxycillin  (500mg) +  Clavulanic Acid (125mg)   \n",
       " 2                               Azithromycin (500mg)   \n",
       " 3  Ambroxol (30mg/5ml) + Levosalbutamol (1mg/5ml)...   \n",
       " 4                                 Ranitidine (150mg)   \n",
       " \n",
       "                                                 Uses  \\\n",
       " 0   Cancer of colon and rectum Non-small cell lun...   \n",
       " 1                  Treatment of Bacterial infections   \n",
       " 2                  Treatment of Bacterial infections   \n",
       " 3                      Treatment of Cough with mucus   \n",
       " 4  Treatment of Gastroesophageal reflux disease (...   \n",
       " \n",
       "                                         Side_effects  \\\n",
       " 0  Rectal bleeding Taste change Headache Noseblee...   \n",
       " 1  Vomiting Nausea Diarrhea Mucocutaneous candidi...   \n",
       " 2                     Nausea Abdominal pain Diarrhea   \n",
       " 3  Nausea Vomiting Diarrhea Upset stomach Stomach...   \n",
       " 4     Headache Diarrhea Gastrointestinal disturbance   \n",
       " \n",
       "                                            Image URL  \\\n",
       " 0  https://onemg.gumlet.io/l_watermark_346,w_480,...   \n",
       " 1  https://onemg.gumlet.io/l_watermark_346,w_480,...   \n",
       " 2  https://onemg.gumlet.io/l_watermark_346,w_480,...   \n",
       " 3  https://onemg.gumlet.io/l_watermark_346,w_480,...   \n",
       " 4  https://onemg.gumlet.io/l_watermark_346,w_480,...   \n",
       " \n",
       "                            Manufacturer  Excellent Review %  Average Review %  \\\n",
       " 0          Roche Products India Pvt Ltd                  22                56   \n",
       " 1  Glaxo SmithKline Pharmaceuticals Ltd                  47                35   \n",
       " 2           Alembic Pharmaceuticals Ltd                  39                40   \n",
       " 3          Glenmark Pharmaceuticals Ltd                  24                41   \n",
       " 4            Cadila Pharmaceuticals Ltd                  34                37   \n",
       " \n",
       "    Poor Review %  \n",
       " 0             22  \n",
       " 1             18  \n",
       " 2             21  \n",
       " 3             35  \n",
       " 4             29  ,\n",
       " None)"
      ]
     },
     "execution_count": 41,
     "metadata": {},
     "output_type": "execute_result"
    }
   ],
   "source": [
    "# Let's first load and explore the dataset to understand its structure.\n",
    "import pandas as pd\n",
    "\n",
    "# Load the dataset\n",
    "file_path = 'Medicine_Details.csv'\n",
    "medicine_data = pd.read_csv(file_path)\n",
    "\n",
    "# Display the first few rows and summary information of the dataset\n",
    "medicine_data.head(), medicine_data.info()\n"
   ]
  },
  {
   "cell_type": "markdown",
   "id": "ca2e194a",
   "metadata": {},
   "source": [
    "# Step 1: Preprocessing\n",
    "We will:\n",
    "\n",
    "Create a single target label Review_Category based on Excellent Review %, Average Review %, and Poor Review %.\n",
    "Extract relevant features such as Uses, Side_effects, and Manufacturer."
   ]
  },
  {
   "cell_type": "code",
   "execution_count": 42,
   "id": "09d48a65",
   "metadata": {},
   "outputs": [
    {
     "name": "stdout",
     "output_type": "stream",
     "text": [
      "Review_Category\n",
      "Excellent    4949\n",
      "Average      4618\n",
      "Poor         2258\n",
      "Name: count, dtype: int64\n"
     ]
    }
   ],
   "source": [
    "# Define the target variable\n",
    "def categorize_review(row):\n",
    "    if row['Excellent Review %'] >= row['Average Review %'] and row['Excellent Review %'] >= row['Poor Review %']:\n",
    "        return 'Excellent'\n",
    "    elif row['Average Review %'] >= row['Poor Review %']:\n",
    "        return 'Average'\n",
    "    else:\n",
    "        return 'Poor'\n",
    "\n",
    "# Apply the function to create the target variable\n",
    "medicine_data['Review_Category'] = medicine_data.apply(categorize_review, axis=1)\n",
    "\n",
    "# Display the distribution of the categories\n",
    "print(medicine_data['Review_Category'].value_counts())\n",
    "\n",
    "# Select features and target\n",
    "features = medicine_data[['Uses', 'Side_effects', 'Manufacturer']]\n",
    "target = medicine_data['Review_Category']"
   ]
  },
  {
   "cell_type": "markdown",
   "id": "ea9e5872",
   "metadata": {},
   "source": [
    "# Step 2: Feature Engineering\n",
    "Convert textual features into numerical representations using TF-IDF Vectorizer for Uses and Side_effects."
   ]
  },
  {
   "cell_type": "code",
   "execution_count": 43,
   "id": "59027be3",
   "metadata": {},
   "outputs": [
    {
     "name": "stderr",
     "output_type": "stream",
     "text": [
      "/tmp/ipykernel_5487/2364504079.py:12: SettingWithCopyWarning: \n",
      "A value is trying to be set on a copy of a slice from a DataFrame.\n",
      "Try using .loc[row_indexer,col_indexer] = value instead\n",
      "\n",
      "See the caveats in the documentation: https://pandas.pydata.org/pandas-docs/stable/user_guide/indexing.html#returning-a-view-versus-a-copy\n",
      "  features['Manufacturer_Encoded'] = label_encoder.fit_transform(features['Manufacturer'])\n"
     ]
    }
   ],
   "source": [
    "from sklearn.feature_extraction.text import TfidfVectorizer\n",
    "from sklearn.preprocessing import LabelEncoder\n",
    "from sklearn.compose import ColumnTransformer\n",
    "from sklearn.pipeline import Pipeline\n",
    "\n",
    "# Initialize vectorizers and label encoder\n",
    "tfidf_uses = TfidfVectorizer(max_features=1000)\n",
    "tfidf_side_effects = TfidfVectorizer(max_features=1000)\n",
    "label_encoder = LabelEncoder()\n",
    "\n",
    "# Transform textual and categorical data\n",
    "features['Manufacturer_Encoded'] = label_encoder.fit_transform(features['Manufacturer'])\n",
    "\n",
    "# Combine the TF-IDF features\n",
    "X_uses = tfidf_uses.fit_transform(features['Uses'])\n",
    "X_side_effects = tfidf_side_effects.fit_transform(features['Side_effects'])\n",
    "\n",
    "# Combine all features into a single matrix\n",
    "import scipy.sparse as sp\n",
    "\n",
    "X_combined = sp.hstack([X_uses, X_side_effects, sp.csr_matrix(features['Manufacturer_Encoded']).T])\n",
    "y = target"
   ]
  },
  {
   "cell_type": "markdown",
   "id": "9723a5c0",
   "metadata": {},
   "source": [
    "# Step 3: Train-Test Split\n",
    "Split the dataset into training and testing sets."
   ]
  },
  {
   "cell_type": "code",
   "execution_count": 44,
   "id": "18eee325",
   "metadata": {},
   "outputs": [
    {
     "name": "stdout",
     "output_type": "stream",
     "text": [
      "Training data: (9460, 1511), Testing data: (2365, 1511)\n"
     ]
    }
   ],
   "source": [
    "from sklearn.model_selection import train_test_split\n",
    "\n",
    "# Split the data\n",
    "X_train, X_test, y_train, y_test = train_test_split(X_combined, y, test_size=0.2, random_state=42)\n",
    "\n",
    "# Display the sizes of the splits\n",
    "print(f\"Training data: {X_train.shape}, Testing data: {X_test.shape}\")"
   ]
  },
  {
   "cell_type": "markdown",
   "id": "238c4f01",
   "metadata": {},
   "source": [
    "# Step 4: Model Training\n",
    "Train a classification model, e.g., Logistic Regression or Random Forest."
   ]
  },
  {
   "cell_type": "code",
   "execution_count": 45,
   "id": "e43ed547",
   "metadata": {},
   "outputs": [
    {
     "name": "stdout",
     "output_type": "stream",
     "text": [
      "Training Accuracy: 0.8445031712473573\n"
     ]
    }
   ],
   "source": [
    "from sklearn.ensemble import RandomForestClassifier\n",
    "\n",
    "# Initialize the model\n",
    "model = RandomForestClassifier(random_state=42)\n",
    "\n",
    "# Train the model\n",
    "model.fit(X_train, y_train)\n",
    "\n",
    "# Evaluate the model on training data\n",
    "train_accuracy = model.score(X_train, y_train)\n",
    "print(f\"Training Accuracy: {train_accuracy}\")"
   ]
  },
  {
   "cell_type": "markdown",
   "id": "723c1b50",
   "metadata": {},
   "source": [
    "# Step 5: Model Evaluation\n",
    "Evaluate the model's performance on test data."
   ]
  },
  {
   "cell_type": "code",
   "execution_count": 46,
   "id": "7c943a85",
   "metadata": {},
   "outputs": [
    {
     "name": "stdout",
     "output_type": "stream",
     "text": [
      "Classification Report:\n",
      "               precision    recall  f1-score   support\n",
      "\n",
      "     Average       0.43      0.45      0.44       940\n",
      "   Excellent       0.46      0.48      0.47       968\n",
      "        Poor       0.26      0.21      0.23       457\n",
      "\n",
      "    accuracy                           0.42      2365\n",
      "   macro avg       0.38      0.38      0.38      2365\n",
      "weighted avg       0.41      0.42      0.41      2365\n",
      "\n",
      "Confusion Matrix:\n",
      " [[423 380 137]\n",
      " [371 467 130]\n",
      " [192 170  95]]\n",
      "Test Accuracy: 0.4164904862579281\n"
     ]
    }
   ],
   "source": [
    "from sklearn.metrics import classification_report, confusion_matrix, accuracy_score\n",
    "\n",
    "# Predict on test data\n",
    "y_pred = model.predict(X_test)\n",
    "\n",
    "# Evaluate predictions\n",
    "print(\"Classification Report:\\n\", classification_report(y_test, y_pred))\n",
    "print(\"Confusion Matrix:\\n\", confusion_matrix(y_test, y_pred))\n",
    "print(\"Test Accuracy:\", accuracy_score(y_test, y_pred))"
   ]
  },
  {
   "cell_type": "markdown",
   "id": "f49fb1d9",
   "metadata": {},
   "source": [
    "\n",
    "# Step 6: Visualize Insights\n",
    "We can visualize the feature importance or review category distribution.\n",
    "\n",
    "### (a) Feature Importance (for Random Forest)"
   ]
  },
  {
   "cell_type": "code",
   "execution_count": 47,
   "id": "2af33c7a",
   "metadata": {},
   "outputs": [
    {
     "data": {
      "image/png": "[encoded data removed]",
      "text/plain": [
       "<Figure size 1000x600 with 1 Axes>"
      ]
     },
     "metadata": {},
     "output_type": "display_data"
    }
   ],
   "source": [
    "import matplotlib.pyplot as plt\n",
    "import numpy as np\n",
    "\n",
    "# Get feature importances\n",
    "feature_importances = model.feature_importances_\n",
    "\n",
    "# Sort feature importances in descending order\n",
    "indices = np.argsort(feature_importances)[::-1]\n",
    "\n",
    "# Plot top 20 important features\n",
    "plt.figure(figsize=(10, 6))\n",
    "plt.bar(range(20), feature_importances[indices[:20]])\n",
    "plt.xlabel(\"Feature Index\")\n",
    "plt.ylabel(\"Importance\")\n",
    "plt.title(\"Top 20 Feature Importances\")\n",
    "plt.show()"
   ]
  },
  {
   "cell_type": "markdown",
   "id": "ccfe1c7f",
   "metadata": {},
   "source": [
    "### (b) Review Category Distribution"
   ]
  },
  {
   "cell_type": "code",
   "execution_count": 48,
   "id": "19248c7d",
   "metadata": {},
   "outputs": [
    {
     "data": {
      "image/png": "[encoded data removed]",
      "text/plain": [
       "<Figure size 640x480 with 1 Axes>"
      ]
     },
     "metadata": {},
     "output_type": "display_data"
    }
   ],
   "source": [
    "# Recalculate the distribution of the target variable\n",
    "review_category_distribution = medicine_data['Review_Category'].value_counts()\n",
    "\n",
    "# Plot the distribution\n",
    "import matplotlib.pyplot as plt\n",
    "\n",
    "review_category_distribution.plot(kind='bar', color=['green', 'orange', 'red'])\n",
    "plt.title(\"Review Category Distribution\")\n",
    "plt.xlabel(\"Review Category\")\n",
    "plt.ylabel(\"Number of Samples\")\n",
    "plt.show()"
   ]
  },
  {
   "cell_type": "markdown",
   "id": "4c630c8c",
   "metadata": {},
   "source": [
    "# Step 7: Deployment\n",
    "We'll build a simple user interface to predict review categories based on user input."
   ]
  },
  {
   "cell_type": "markdown",
   "id": "de706da8",
   "metadata": {},
   "source": [
    "### (a) Save Model and Transformers"
   ]
  },
  {
   "cell_type": "code",
   "execution_count": 49,
   "id": "1b3eb786",
   "metadata": {},
   "outputs": [
    {
     "name": "stdout",
     "output_type": "stream",
     "text": [
      "Model and transformers saved successfully!\n"
     ]
    }
   ],
   "source": [
    "import joblib\n",
    "\n",
    "# Save model and transformers\n",
    "joblib.dump(model, 'medicine_review_model.pkl')\n",
    "joblib.dump(tfidf_uses, 'tfidf_uses_vectorizer.pkl')\n",
    "joblib.dump(tfidf_side_effects, 'tfidf_side_effects_vectorizer.pkl')\n",
    "joblib.dump(label_encoder, 'manufacturer_label_encoder.pkl')\n",
    "print(\"Model and transformers saved successfully!\")"
   ]
  },
  {
   "cell_type": "markdown",
   "id": "a5249d5f",
   "metadata": {},
   "source": [
    "### (b) Install Required Libraries\n",
    "Ensure the required libraries are installed in your environment:"
   ]
  },
  {
   "cell_type": "code",
   "execution_count": 40,
   "id": "e68c3936",
   "metadata": {
    "scrolled": true
   },
   "outputs": [
    {
     "name": "stdout",
     "output_type": "stream",
     "text": [
      "Defaulting to user installation because normal site-packages is not writeable\n",
      "Requirement already satisfied: flask in /home/shaddy/.local/lib/python3.12/site-packages (3.1.0)\n",
      "Requirement already satisfied: joblib in /usr/lib/python3/dist-packages (1.3.2)\n",
      "Requirement already satisfied: scipy in /usr/lib/python3/dist-packages (1.11.4)\n",
      "Requirement already satisfied: Werkzeug>=3.1 in /home/shaddy/.local/lib/python3.12/site-packages (from flask) (3.1.3)\n",
      "Requirement already satisfied: Jinja2>=3.1.2 in /usr/lib/python3/dist-packages (from flask) (3.1.2)\n",
      "Requirement already satisfied: itsdangerous>=2.2 in /home/shaddy/.local/lib/python3.12/site-packages (from flask) (2.2.0)\n",
      "Requirement already satisfied: click>=8.1.3 in /usr/lib/python3/dist-packages (from flask) (8.1.6)\n",
      "Requirement already satisfied: blinker>=1.9 in /home/shaddy/.local/lib/python3.12/site-packages (from flask) (1.9.0)\n",
      "Requirement already satisfied: numpy<1.28.0,>=1.21.6 in /usr/lib/python3/dist-packages (from scipy) (1.26.4)\n",
      "Requirement already satisfied: MarkupSafe>=2.1.1 in /usr/lib/python3/dist-packages (from Werkzeug>=3.1->flask) (2.1.5)\n"
     ]
    }
   ],
   "source": [
    "!pip install flask joblib scipy"
   ]
  },
  {
   "cell_type": "markdown",
   "id": "92e38471",
   "metadata": {},
   "source": [
    "### (c) Create the Flask Application\n",
    "#### Below is a complete Flask application script.\n"
   ]
  },
  {
   "cell_type": "markdown",
   "id": "027b595c",
   "metadata": {},
   "source": [
    "##### Flask_App.py\n",
    "from flask import Flask, request, jsonify\n",
    "\n",
    "import joblib\n",
    "\n",
    "import scipy.sparse as sp\n",
    "\n",
    "'''Load the saved components'''\n",
    "\n",
    "model = joblib.load('medicine_review_model.pkl')\n",
    "\n",
    "tfidf_uses = joblib.load('tfidf_uses_vectorizer.pkl')\n",
    "\n",
    "tfidf_side_effects = joblib.load('tfidf_side_effects_vectorizer.pkl')\n",
    "\n",
    "label_encoder = joblib.load('manufacturer_label_encoder.pkl')\n",
    "\n",
    "'''Check if the components are loaded correctly'''\n",
    "\n",
    "print(f\"Model: {type(model)}\")\n",
    "\n",
    "print(f\"TF-IDF Uses: {type(tfidf_uses)}\")\n",
    "\n",
    "print(f\"TF-IDF Side Effects: {type(tfidf_side_effects)}\")\n",
    "\n",
    "print(f\"Label Encoder: {type(label_encoder)}\")\n",
    "\n",
    "'''Initialize Flask app'''\n",
    "\n",
    "app = Flask(__name__)\n",
    "\n",
    "@app.route('/predict', methods=['POST'])\n",
    "\n",
    "def predict():\n",
    "    \n",
    "    print(\"Predict endpoint hit!\")  # Check if the endpoint is reached\n",
    "    \n",
    "    try:\n",
    "        \n",
    "        # Step 1: Get data from the request\n",
    "        \n",
    "        data = request.json\n",
    "        \n",
    "        print(f\"Data received: {data}\")  # Check the data received from the user\n",
    "        \n",
    "        if not data:\n",
    "            \n",
    "            print(\"No data provided\")  # If no data is sent, return an error\n",
    "            \n",
    "            return jsonify({\"error\": \"No data provided\"}), 400\n",
    "\n",
    "        # Step 2: Extract values from the input\n",
    "        \n",
    "        uses = data.get(\"Uses\", \"\")\n",
    "        \n",
    "        side_effects = data.get(\"Side_effects\", \"\")\n",
    "        \n",
    "        manufacturer = data.get(\"Manufacturer\", \"\")\n",
    "        \n",
    "        print(f\"Inputs - Uses: {uses}, Side Effects: {side_effects}, Manufacturer: {manufacturer}\")\n",
    "        \n",
    "        # Step 3: Transform inputs using the saved transformers\n",
    "        \n",
    "        X_uses = tfidf_uses.transform([uses])\n",
    "        \n",
    "        print(\"Uses transformed\")\n",
    "        \n",
    "        X_side_effects = tfidf_side_effects.transform([side_effects])\n",
    "        \n",
    "        print(\"Side Effects transformed\")\n",
    "        \n",
    "        manufacturer_encoded = label_encoder.transform([manufacturer])\n",
    "        \n",
    "        print(f\"Manufacturer encoded: {manufacturer_encoded}\")\n",
    "\n",
    "        # Step 4: Combine the features into a single matrix\n",
    "        \n",
    "        X_combined = sp.hstack([X_uses, X_side_effects, sp.csr_matrix(manufacturer_encoded).T])\n",
    "        \n",
    "        # Step 5: Make the prediction using the loaded model\n",
    "        \n",
    "        prediction = model.predict(X_combined)\n",
    "        \n",
    "        print(f\"Prediction: {prediction}\")  # Print prediction result\n",
    "\n",
    "        # Step 6: Return the prediction as a response\n",
    "        \n",
    "        return jsonify({\"Review_Category\": prediction[0]})\n",
    "    \n",
    "    except Exception as e:\n",
    "        \n",
    "        print(f\"Error occurred: {e}\")  # Log the error if something goes wrong\n",
    "        \n",
    "        return jsonify({\"error\": \"An error occurred.\"}), 500\n",
    "\n",
    "if __name__ == '__main__':\n",
    "    \n",
    "    app.run(debug=True)"
   ]
  },
  {
   "cell_type": "markdown",
   "id": "c67a903c",
   "metadata": {},
   "source": [
    "### (d) Run the Flask App\n",
    "Run the Flask app using the command:"
   ]
  },
  {
   "cell_type": "markdown",
   "id": "4d861ed2",
   "metadata": {},
   "source": [
    "python app.py\n",
    "\n",
    "The app will start at http://127.0.0.1:5000."
   ]
  },
  {
   "cell_type": "markdown",
   "id": "6cf73e54",
   "metadata": {},
   "source": [
    "### (e) Test the APP\n",
    "Test the APP using curl or Postman.\n",
    "\n",
    "Example Request:"
   ]
  },
  {
   "cell_type": "markdown",
   "id": "370d2450",
   "metadata": {},
   "source": [
    "curl -X POST -H \"Content-Type: application/json\" -d '{\n",
    "    \"Uses\": \"Treatment of Bacterial infections\",\n",
    "    \"Side_effects\": \"Vomiting Nausea Diarrhea Mucocutaneous candidiasis\",\n",
    "    \"Manufacturer\": \"Glaxo SmithKline Pharmaceuticals Ltd\"}' http://127.0.0.1:5000/predict\n",
    "\n",
    "\n",
    "Expected Response:\n",
    "\n",
    "{\"Review_Category\": \"Excellent\"}\n",
    "\n",
    "Intead of using this download Postman and setup that and run through the Postman it works fine with Postman "
   ]
  },
  {
   "cell_type": "markdown",
   "id": "2789458c",
   "metadata": {},
   "source": [
    "Steps to Use Postman:\n",
    " \n",
    " Download and install Postman.\n",
    "     Linux : sudo apt install postman\n",
    "\n",
    "Open Postman and set up the request:\n",
    "    Set the Request Method to POST.\n",
    "    Set the URL to http://127.0.0.1:5000/predict.\n",
    "    Under the Headers tab, add:\n",
    "        Key: Content-Type, Value: application/json\n",
    "    Under the Body tab, select raw and then choose JSON format.\n",
    "    \n",
    "Enter your input data as JSON:\n",
    "\n",
    "{\n",
    "    \"Uses\": \"Pain relief\",\n",
    "    \"Side_effects\": \"Drowsiness\",\n",
    "    \"Manufacturer\": \"Pfizer\"\n",
    "}\n",
    "\n",
    "Click the Send button and you should see the response from your Flask app in the lower section of Postman."
   ]
  },
  {
   "cell_type": "markdown",
   "id": "86dbf582",
   "metadata": {},
   "source": [
    "## APP deployment\n",
    "To deploy the app:\n",
    "\n",
    "Heroku: Use Heroku CLI to deploy the app. Make sure to include a requirements.txt and Procfile.\n",
    "\n",
    "AWS/Google Cloud: Package the app into a Docker container for deployment.\n",
    "\n",
    "Local Access: Access the app on your local network using a tool like ngrok."
   ]
  },
  {
   "cell_type": "code",
   "execution_count": null,
   "id": "acafc986",
   "metadata": {},
   "outputs": [],
   "source": []
  }
 ],
 "metadata": {
  "kernelspec": {
   "display_name": "Python 3 (ipykernel)",
   "language": "python",
   "name": "python3"
  },
  "language_info": {
   "codemirror_mode": {
    "name": "ipython",
    "version": 3
   },
   "file_extension": ".py",
   "mimetype": "text/x-python",
   "name": "python",
   "nbconvert_exporter": "python",
   "pygments_lexer": "ipython3",
   "version": "3.12.3"
  }
 },
 "nbformat": 4,
 "nbformat_minor": 5
}
