{
 "cells": [
  {
   "cell_type": "code",
   "execution_count": 7,
   "id": "f6bc4099-2194-4f62-93fb-12902c0bae6d",
   "metadata": {},
   "outputs": [],
   "source": [
    "#defining function"
   ]
  },
  {
   "cell_type": "code",
   "execution_count": 8,
   "id": "3c8ddc3a-5cdb-4cbe-8455-490de0b87a91",
   "metadata": {},
   "outputs": [],
   "source": [
    "def fun(a):\n",
    "    print(a)"
   ]
  },
  {
   "cell_type": "code",
   "execution_count": 9,
   "id": "e481932b-0583-4829-81c6-b0a7a00b68fe",
   "metadata": {},
   "outputs": [],
   "source": [
    "#function call"
   ]
  },
  {
   "cell_type": "code",
   "execution_count": 11,
   "id": "e7570335-b464-4ffd-8060-0808f42f825d",
   "metadata": {},
   "outputs": [
    {
     "name": "stdout",
     "output_type": "stream",
     "text": [
      "3\n"
     ]
    }
   ],
   "source": [
    "fun(3)"
   ]
  },
  {
   "cell_type": "code",
   "execution_count": null,
   "id": "6820e872-6897-4a44-8ae5-c3a658950635",
   "metadata": {},
   "outputs": [],
   "source": []
  },
  {
   "cell_type": "code",
   "execution_count": null,
   "id": "8e67dd3e-6dfa-40f1-8a8d-37b47e077186",
   "metadata": {},
   "outputs": [],
   "source": []
  },
  {
   "cell_type": "code",
   "execution_count": 12,
   "id": "8f43c187-169d-4a8c-bfae-01486a998654",
   "metadata": {},
   "outputs": [],
   "source": [
    "#return statement"
   ]
  },
  {
   "cell_type": "code",
   "execution_count": 15,
   "id": "199706f4-5557-4f74-9ee7-9a857d041b2a",
   "metadata": {},
   "outputs": [],
   "source": [
    "def add(x,y):\n",
    "    return(x+y)"
   ]
  },
  {
   "cell_type": "code",
   "execution_count": 16,
   "id": "25607af0-c9d5-4cef-ad32-f89e81818264",
   "metadata": {},
   "outputs": [
    {
     "data": {
      "text/plain": [
       "5"
      ]
     },
     "execution_count": 16,
     "metadata": {},
     "output_type": "execute_result"
    }
   ],
   "source": [
    "add(2,3)"
   ]
  },
  {
   "cell_type": "code",
   "execution_count": null,
   "id": "d652ad6e-ac31-4049-aacf-e4acf6798b7d",
   "metadata": {},
   "outputs": [],
   "source": []
  },
  {
   "cell_type": "code",
   "execution_count": 38,
   "id": "9a098544-874c-4faa-aca5-05aab8ed1e03",
   "metadata": {},
   "outputs": [],
   "source": [
    "#functions inside function"
   ]
  },
  {
   "cell_type": "code",
   "execution_count": 43,
   "id": "48b285dc-3b39-4ddb-8b19-fa85ba001716",
   "metadata": {},
   "outputs": [],
   "source": [
    "def show():\n",
    "    x=10\n",
    "    print(x)\n",
    "    def inc():\n",
    "        nonlocal x\n",
    "        x += 5\n",
    "    inc()\n",
    "    print(x)"
   ]
  },
  {
   "cell_type": "code",
   "execution_count": 44,
   "id": "23f8b9ad-82ec-4c82-8595-f7c48320aaca",
   "metadata": {},
   "outputs": [
    {
     "name": "stdout",
     "output_type": "stream",
     "text": [
      "10\n",
      "15\n"
     ]
    }
   ],
   "source": [
    "show()"
   ]
  },
  {
   "cell_type": "code",
   "execution_count": null,
   "id": "4854cba8-402c-4094-9c07-50aad8179d30",
   "metadata": {},
   "outputs": [],
   "source": []
  },
  {
   "cell_type": "code",
   "execution_count": null,
   "id": "d0c07fc5-f1ee-4cb2-9d38-ee461545a22f",
   "metadata": {},
   "outputs": [],
   "source": []
  },
  {
   "cell_type": "code",
   "execution_count": 17,
   "id": "9ef2542b-add4-44c8-b821-f7d0fbfceec4",
   "metadata": {},
   "outputs": [],
   "source": [
    "#local and global variable"
   ]
  },
  {
   "cell_type": "code",
   "execution_count": 18,
   "id": "6e31afe4-3359-456a-890a-5b0ed6aa92d2",
   "metadata": {},
   "outputs": [],
   "source": [
    "x=10"
   ]
  },
  {
   "cell_type": "code",
   "execution_count": 19,
   "id": "140a260a-7073-481f-b414-6a397ca4ef43",
   "metadata": {},
   "outputs": [],
   "source": [
    "def fun1():\n",
    "    print(x)"
   ]
  },
  {
   "cell_type": "code",
   "execution_count": 20,
   "id": "cce942ee-643d-4636-9912-8b0305118c05",
   "metadata": {},
   "outputs": [
    {
     "name": "stdout",
     "output_type": "stream",
     "text": [
      "10\n"
     ]
    }
   ],
   "source": [
    "fun1()"
   ]
  },
  {
   "cell_type": "code",
   "execution_count": null,
   "id": "ed8f9850-249f-4a92-bb63-c0822875f790",
   "metadata": {},
   "outputs": [],
   "source": []
  },
  {
   "cell_type": "code",
   "execution_count": null,
   "id": "24441d30-0eab-4e62-bf68-fe555a94d1e6",
   "metadata": {},
   "outputs": [],
   "source": []
  },
  {
   "cell_type": "code",
   "execution_count": 25,
   "id": "64a1427b-3f2f-44cd-8b7d-1c2e57692b6a",
   "metadata": {},
   "outputs": [],
   "source": [
    "z=12"
   ]
  },
  {
   "cell_type": "code",
   "execution_count": 26,
   "id": "62b5382e-7a84-434c-ab55-57a751ea8854",
   "metadata": {},
   "outputs": [],
   "source": [
    "def fun2():\n",
    "    z=3\n",
    "    print(z)"
   ]
  },
  {
   "cell_type": "code",
   "execution_count": 28,
   "id": "bdc6b26e-e1b0-4c21-9bc4-cffdee6bb514",
   "metadata": {},
   "outputs": [
    {
     "name": "stdout",
     "output_type": "stream",
     "text": [
      "3\n",
      "12\n"
     ]
    }
   ],
   "source": [
    "fun2()\n",
    "print(z)"
   ]
  },
  {
   "cell_type": "code",
   "execution_count": null,
   "id": "acc79c50-1f5a-4f39-8166-7a11c23569b8",
   "metadata": {},
   "outputs": [],
   "source": []
  },
  {
   "cell_type": "code",
   "execution_count": 29,
   "id": "c40662c0-eabd-45f8-879e-63f75db6e8ed",
   "metadata": {},
   "outputs": [],
   "source": [
    "#using global keyword inside function"
   ]
  },
  {
   "cell_type": "code",
   "execution_count": 32,
   "id": "1120b21e-72db-42fc-a09c-58dd804ca53c",
   "metadata": {},
   "outputs": [],
   "source": [
    "z=12"
   ]
  },
  {
   "cell_type": "code",
   "execution_count": 33,
   "id": "0070db1c-2d12-41d1-80f4-a416d18ea7f2",
   "metadata": {},
   "outputs": [],
   "source": [
    "def fun3():\n",
    "    global z\n",
    "    z += 12\n",
    "    print(z)"
   ]
  },
  {
   "cell_type": "code",
   "execution_count": 34,
   "id": "36d3288e-d5f3-4ef2-95a7-349e33d6220e",
   "metadata": {},
   "outputs": [
    {
     "name": "stdout",
     "output_type": "stream",
     "text": [
      "24\n",
      "24\n"
     ]
    }
   ],
   "source": [
    "fun3()\n",
    "print(z)"
   ]
  },
  {
   "cell_type": "code",
   "execution_count": null,
   "id": "549121df-94cc-4f3d-8b78-172d0220cd4e",
   "metadata": {},
   "outputs": [],
   "source": []
  },
  {
   "cell_type": "code",
   "execution_count": 35,
   "id": "1bddef54-9157-466f-a7fb-2af0a5a3d3bf",
   "metadata": {},
   "outputs": [],
   "source": [
    "#non local keyword "
   ]
  },
  {
   "cell_type": "code",
   "execution_count": 36,
   "id": "db3596a1-8298-42b1-b3cb-72061fe3bffa",
   "metadata": {},
   "outputs": [],
   "source": [
    "def fun4():\n",
    "    d=10\n",
    "    print(d)\n",
    "    def fun5():\n",
    "        nonlocal d\n",
    "        d += 10\n",
    "        print(d)\n",
    "    fun5()\n",
    "    print(d)"
   ]
  },
  {
   "cell_type": "code",
   "execution_count": 37,
   "id": "1c7d7edd-8900-4744-8d5b-b34e5b273374",
   "metadata": {},
   "outputs": [
    {
     "name": "stdout",
     "output_type": "stream",
     "text": [
      "10\n",
      "20\n",
      "20\n"
     ]
    }
   ],
   "source": [
    "fun4()"
   ]
  },
  {
   "cell_type": "code",
   "execution_count": null,
   "id": "82a4344e-8492-47f4-ad80-6e577bbfe198",
   "metadata": {},
   "outputs": [],
   "source": []
  },
  {
   "cell_type": "code",
   "execution_count": null,
   "id": "ff278571-1fa8-4601-b967-0caf05757425",
   "metadata": {},
   "outputs": [],
   "source": []
  },
  {
   "cell_type": "code",
   "execution_count": 45,
   "id": "32a5932d-a960-4d04-b3b0-030253edc3ed",
   "metadata": {},
   "outputs": [],
   "source": [
    "#default arguments"
   ]
  },
  {
   "cell_type": "code",
   "execution_count": 48,
   "id": "e06631a2-1ee8-4f08-bb82-7d3b7af687e1",
   "metadata": {},
   "outputs": [],
   "source": [
    "def show(a,b,c=20,d=30):\n",
    "#c and d have default values\n",
    "    print(a)\n",
    "    print(b)\n",
    "    print(c)\n",
    "    print(d)"
   ]
  },
  {
   "cell_type": "code",
   "execution_count": 47,
   "id": "e5bd4679-e046-4f3a-99f4-a59321adcdc7",
   "metadata": {},
   "outputs": [
    {
     "name": "stdout",
     "output_type": "stream",
     "text": [
      "1\n",
      "2\n",
      "20\n",
      "30\n"
     ]
    }
   ],
   "source": [
    "show(1,2)"
   ]
  },
  {
   "cell_type": "code",
   "execution_count": null,
   "id": "628708a7-79ff-4be6-baf4-27b6af7da9d9",
   "metadata": {},
   "outputs": [],
   "source": []
  },
  {
   "cell_type": "code",
   "execution_count": null,
   "id": "7b79c640-fbbb-4460-ace4-b87b22e224d2",
   "metadata": {},
   "outputs": [],
   "source": []
  }
 ],
 "metadata": {
  "kernelspec": {
   "display_name": "Python 3 (ipykernel)",
   "language": "python",
   "name": "python3"
  },
  "language_info": {
   "codemirror_mode": {
    "name": "ipython",
    "version": 3
   },
   "file_extension": ".py",
   "mimetype": "text/x-python",
   "name": "python",
   "nbconvert_exporter": "python",
   "pygments_lexer": "ipython3",
   "version": "3.12.0"
  }
 },
 "nbformat": 4,
 "nbformat_minor": 5
}
