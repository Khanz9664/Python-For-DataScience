{
 "cells": [
  {
   "cell_type": "code",
   "execution_count": 1,
   "id": "e2dee54b-4b3d-4904-a4e9-ee780d675986",
   "metadata": {},
   "outputs": [],
   "source": [
    "def fun(*x):\n",
    "    print(x)\n",
    "    print(type(x))"
   ]
  },
  {
   "cell_type": "code",
   "execution_count": 2,
   "id": "2798c34c-34a6-46cd-9a9b-e9712acbe66b",
   "metadata": {},
   "outputs": [
    {
     "name": "stdout",
     "output_type": "stream",
     "text": [
      "(1, 2, 3, 4, 5)\n",
      "<class 'tuple'>\n"
     ]
    }
   ],
   "source": [
    "fun(1,2,3,4,5)"
   ]
  },
  {
   "cell_type": "code",
   "execution_count": 3,
   "id": "09700fdb-f9d9-47e2-8512-993ae90be10e",
   "metadata": {},
   "outputs": [],
   "source": [
    "def fun1(**y):\n",
    "    print(y)\n",
    "    print(type(y))\n",
    "    for k in y:\n",
    "        print(k,y[k])"
   ]
  },
  {
   "cell_type": "code",
   "execution_count": 4,
   "id": "060d9542-9cb4-44a9-b115-0be380811f2a",
   "metadata": {},
   "outputs": [
    {
     "name": "stdout",
     "output_type": "stream",
     "text": [
      "{'name': 'shahid', 'father': 'm.ayoub bhat', 'resid': 'noonmai'}\n",
      "<class 'dict'>\n",
      "name shahid\n",
      "father m.ayoub bhat\n",
      "resid noonmai\n"
     ]
    }
   ],
   "source": [
    "fun1(name=\"shahid\", father=\"m.ayoub bhat\", resid=\"noonmai\")"
   ]
  },
  {
   "cell_type": "code",
   "execution_count": 11,
   "id": "6c5210d3-8661-490f-a693-14e9e20ad429",
   "metadata": {},
   "outputs": [],
   "source": [
    "def fun2(a,b,*c,**d):\n",
    "    print(a)\n",
    "    print(type(a))\n",
    "    print(b)\n",
    "    print(c)\n",
    "    print(type(c))\n",
    "    print(d)\n",
    "    print(type(d))"
   ]
  },
  {
   "cell_type": "code",
   "execution_count": 18,
   "id": "bf8b48fd-2de0-4992-b4cf-1922d0fe6c4e",
   "metadata": {},
   "outputs": [
    {
     "name": "stdout",
     "output_type": "stream",
     "text": [
      "apple\n",
      "<class 'str'>\n",
      "ball\n",
      "()\n",
      "<class 'tuple'>\n",
      "{'c': 'cat', 'd': 'my name is'}\n",
      "<class 'dict'>\n"
     ]
    }
   ],
   "source": [
    "fun2(a=\"apple\",b=\"ball\",c=\"cat\",d=\"my\" \"name\" \"is\")"
   ]
  },
  {
   "cell_type": "code",
   "execution_count": null,
   "id": "67eb12f6-0323-443d-8a25-fa7d9c0b3af2",
   "metadata": {},
   "outputs": [],
   "source": []
  }
 ],
 "metadata": {
  "kernelspec": {
   "display_name": "Python 3 (ipykernel)",
   "language": "python",
   "name": "python3"
  },
  "language_info": {
   "codemirror_mode": {
    "name": "ipython",
    "version": 3
   },
   "file_extension": ".py",
   "mimetype": "text/x-python",
   "name": "python",
   "nbconvert_exporter": "python",
   "pygments_lexer": "ipython3",
   "version": "3.12.0"
  }
 },
 "nbformat": 4,
 "nbformat_minor": 5
}
