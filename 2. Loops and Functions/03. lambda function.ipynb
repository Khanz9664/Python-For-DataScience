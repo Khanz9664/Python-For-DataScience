{
 "cells": [
  {
   "cell_type": "code",
   "execution_count": 1,
   "id": "02e09684-7e20-4308-b825-5f4b33872488",
   "metadata": {},
   "outputs": [],
   "source": [
    "def add(a,b):\n",
    "    return a+b"
   ]
  },
  {
   "cell_type": "code",
   "execution_count": 2,
   "id": "5364be17-1aa0-45fe-b482-1b5d60a1ed9d",
   "metadata": {},
   "outputs": [
    {
     "data": {
      "text/plain": [
       "5"
      ]
     },
     "execution_count": 2,
     "metadata": {},
     "output_type": "execute_result"
    }
   ],
   "source": [
    "add(2,3)"
   ]
  },
  {
   "cell_type": "code",
   "execution_count": 3,
   "id": "799ee879-884e-4b44-87d8-7c767c135fb6",
   "metadata": {},
   "outputs": [],
   "source": [
    "#using lambda to perform same thing "
   ]
  },
  {
   "cell_type": "code",
   "execution_count": 4,
   "id": "82c1fe42-5176-486d-b803-4c4fce80c356",
   "metadata": {},
   "outputs": [],
   "source": [
    "add=lambda a,b:a+b"
   ]
  },
  {
   "cell_type": "code",
   "execution_count": 5,
   "id": "97f38ecb-ad7c-4acd-9a48-34bce4935bb1",
   "metadata": {},
   "outputs": [
    {
     "data": {
      "text/plain": [
       "5"
      ]
     },
     "execution_count": 5,
     "metadata": {},
     "output_type": "execute_result"
    }
   ],
   "source": [
    "add(2,3)"
   ]
  },
  {
   "cell_type": "code",
   "execution_count": 6,
   "id": "47c6ba0a-221a-41e4-921b-798a485b0ca6",
   "metadata": {},
   "outputs": [],
   "source": [
    "#lambdas are one liner functions"
   ]
  },
  {
   "cell_type": "code",
   "execution_count": null,
   "id": "0d88a831-16a1-47b9-b816-4908690c4cc4",
   "metadata": {},
   "outputs": [],
   "source": []
  },
  {
   "cell_type": "code",
   "execution_count": 13,
   "id": "a59854b2-01cb-4b8e-87c3-a00b85858363",
   "metadata": {},
   "outputs": [],
   "source": [
    "a=[(\"shahid\",10,2),(\"ahmad\",20,1),(\"bhat\",50,3)]"
   ]
  },
  {
   "cell_type": "code",
   "execution_count": 14,
   "id": "88227b70-8a3a-4ed3-a023-8eddde2c49d9",
   "metadata": {},
   "outputs": [
    {
     "data": {
      "text/plain": [
       "[('ahmad', 20, 1), ('bhat', 50, 3), ('shahid', 10, 2)]"
      ]
     },
     "execution_count": 14,
     "metadata": {},
     "output_type": "execute_result"
    }
   ],
   "source": [
    "#this will sort the is by comparing first elemnt\n",
    "sorted(a)"
   ]
  },
  {
   "cell_type": "code",
   "execution_count": null,
   "id": "a276a2a2-75f8-41ab-82d5-dc9f7c5f05a3",
   "metadata": {},
   "outputs": [],
   "source": []
  },
  {
   "cell_type": "code",
   "execution_count": 15,
   "id": "a83f6921-8228-498a-a452-f0d4457aff0f",
   "metadata": {},
   "outputs": [
    {
     "data": {
      "text/plain": [
       "[('shahid', 10, 2), ('ahmad', 20, 1), ('bhat', 50, 3)]"
      ]
     },
     "execution_count": 15,
     "metadata": {},
     "output_type": "execute_result"
    }
   ],
   "source": [
    "#using lambda to sort on basis of 2nd elements\n",
    "sorted(a, key=lambda x:x[1])"
   ]
  },
  {
   "cell_type": "code",
   "execution_count": null,
   "id": "41265b81-8f0e-4a21-ad42-dbd0e5bfd0e2",
   "metadata": {},
   "outputs": [],
   "source": []
  },
  {
   "cell_type": "code",
   "execution_count": 17,
   "id": "d371c923-2836-454f-96a6-403952e2c3c1",
   "metadata": {},
   "outputs": [
    {
     "data": {
      "text/plain": [
       "[('ahmad', 20, 1), ('shahid', 10, 2), ('bhat', 50, 3)]"
      ]
     },
     "execution_count": 17,
     "metadata": {},
     "output_type": "execute_result"
    }
   ],
   "source": [
    "#using lambda to sort on basis of 3nd elements\n",
    "sorted(a, key=lambda x:x[2])"
   ]
  },
  {
   "cell_type": "code",
   "execution_count": null,
   "id": "e7157475-52ec-4e0c-9ee2-a111fc5c0cca",
   "metadata": {},
   "outputs": [],
   "source": []
  }
 ],
 "metadata": {
  "kernelspec": {
   "display_name": "Python 3 (ipykernel)",
   "language": "python",
   "name": "python3"
  },
  "language_info": {
   "codemirror_mode": {
    "name": "ipython",
    "version": 3
   },
   "file_extension": ".py",
   "mimetype": "text/x-python",
   "name": "python",
   "nbconvert_exporter": "python",
   "pygments_lexer": "ipython3",
   "version": "3.12.0"
  }
 },
 "nbformat": 4,
 "nbformat_minor": 5
}
