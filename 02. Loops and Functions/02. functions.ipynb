{
 "cells": [
  {
   "cell_type": "markdown",
   "id": "67f6b590",
   "metadata": {},
   "source": [
    "# Python Functions: Basics to Advanced"
   ]
  },
  {
   "cell_type": "markdown",
   "id": "ce9f59f4",
   "metadata": {},
   "source": [
    "## 1. Basics of Functions\n",
    "Functions are blocks of reusable code designed to perform specific tasks.\n",
    "Syntax:\n",
    "\n",
    "    def function_name(parameters):\n",
    "    # Function body\n",
    "    return value"
   ]
  },
  {
   "cell_type": "markdown",
   "id": "0740a212",
   "metadata": {},
   "source": [
    "#### Basic Functions "
   ]
  },
  {
   "cell_type": "code",
   "execution_count": 1,
   "id": "3c8ddc3a-5cdb-4cbe-8455-490de0b87a91",
   "metadata": {},
   "outputs": [
    {
     "name": "stdout",
     "output_type": "stream",
     "text": [
      "Hello, World!\n"
     ]
    }
   ],
   "source": [
    "def greet():\n",
    "    print(\"Hello, World!\")\n",
    "\n",
    "greet()  # Output: Hello, World!"
   ]
  },
  {
   "cell_type": "markdown",
   "id": "d9fd8646",
   "metadata": {},
   "source": [
    "#### Function with Parameters"
   ]
  },
  {
   "cell_type": "code",
   "execution_count": 11,
   "id": "e7570335-b464-4ffd-8060-0808f42f825d",
   "metadata": {},
   "outputs": [
    {
     "name": "stdout",
     "output_type": "stream",
     "text": [
      "3\n"
     ]
    }
   ],
   "source": [
    "def fun(a):\n",
    "    print(a)\n",
    "    \n",
    "fun(3)"
   ]
  },
  {
   "cell_type": "markdown",
   "id": "c50107a3",
   "metadata": {},
   "source": [
    "#### Function with Return Value"
   ]
  },
  {
   "cell_type": "code",
   "execution_count": 15,
   "id": "199706f4-5557-4f74-9ee7-9a857d041b2a",
   "metadata": {},
   "outputs": [],
   "source": [
    "def add(x,y):\n",
    "    return(x+y)"
   ]
  },
  {
   "cell_type": "code",
   "execution_count": 16,
   "id": "25607af0-c9d5-4cef-ad32-f89e81818264",
   "metadata": {},
   "outputs": [
    {
     "data": {
      "text/plain": [
       "5"
      ]
     },
     "execution_count": 16,
     "metadata": {},
     "output_type": "execute_result"
    }
   ],
   "source": [
    "add(2,3)"
   ]
  },
  {
   "cell_type": "markdown",
   "id": "9925cc00",
   "metadata": {},
   "source": [
    "#### Default Parameters\n",
    "Default values for parameters can be provided."
   ]
  },
  {
   "cell_type": "code",
   "execution_count": 2,
   "id": "3595a6fb",
   "metadata": {},
   "outputs": [
    {
     "name": "stdout",
     "output_type": "stream",
     "text": [
      "Hello, Guest!\n",
      "Hello, Shahid!\n"
     ]
    }
   ],
   "source": [
    "def greet(name=\"Guest\"):\n",
    "    print(f\"Hello, {name}!\")\n",
    "\n",
    "greet()              # Output: Hello, Guest!\n",
    "greet(\"Shahid\")     # Output: Hello, Charlie!"
   ]
  },
  {
   "cell_type": "code",
   "execution_count": 13,
   "id": "48b285dc-3b39-4ddb-8b19-fa85ba001716",
   "metadata": {},
   "outputs": [
    {
     "name": "stdout",
     "output_type": "stream",
     "text": [
      "1\n",
      "2\n",
      "20\n",
      "30\n"
     ]
    }
   ],
   "source": [
    "#default arguments\n",
    "def show(a,b,c=20,d=30):\n",
    "#c and d have default values\n",
    "    print(a)\n",
    "    print(b)\n",
    "    print(c)\n",
    "    print(d)\n",
    "    \n",
    "show(1,2)"
   ]
  },
  {
   "cell_type": "markdown",
   "id": "a8c5a722",
   "metadata": {},
   "source": [
    "#### Scope of Variables\n",
    "\n",
    "    Global Scope: Variables declared outside functions.\n",
    "    Local Scope: Variables declared inside functions."
   ]
  },
  {
   "cell_type": "code",
   "execution_count": 3,
   "id": "6e31afe4-3359-456a-890a-5b0ed6aa92d2",
   "metadata": {},
   "outputs": [
    {
     "name": "stdout",
     "output_type": "stream",
     "text": [
      "Inside function: 15\n",
      "Outside function: 15\n"
     ]
    }
   ],
   "source": [
    "x = 10  # Global variable\n",
    "\n",
    "def modify_variable():\n",
    "    global x\n",
    "    x = x + 5  # Modify global variable\n",
    "    print(\"Inside function:\", x)\n",
    "\n",
    "modify_variable()  # Output: Inside function: 15\n",
    "print(\"Outside function:\", x)  # Output: Outside function: 15"
   ]
  },
  {
   "cell_type": "code",
   "execution_count": 6,
   "id": "140a260a-7073-481f-b414-6a397ca4ef43",
   "metadata": {},
   "outputs": [
    {
     "name": "stdout",
     "output_type": "stream",
     "text": [
      "Inside function: 25\n",
      "Outside function: 10\n"
     ]
    }
   ],
   "source": [
    "x = 10  # Global variable\n",
    "\n",
    "def modify_variable():\n",
    "    x=20 # Local Variable\n",
    "    x = x + 5  # Modify global variable\n",
    "    print(\"Inside function:\", x)\n",
    "\n",
    "modify_variable()  # Output: Inside function: 25\n",
    "print(\"Outside function:\", x)  # Output: Outside function: 10"
   ]
  },
  {
   "cell_type": "code",
   "execution_count": 11,
   "id": "fec7e612",
   "metadata": {},
   "outputs": [
    {
     "name": "stdout",
     "output_type": "stream",
     "text": [
      "24\n",
      "24\n"
     ]
    }
   ],
   "source": [
    "z=12\n",
    "def fun3():\n",
    "    global z\n",
    "    z += 12\n",
    "    print(z)\n",
    "\n",
    "fun3()\n",
    "print(z)"
   ]
  },
  {
   "cell_type": "code",
   "execution_count": 12,
   "id": "e48b63e7",
   "metadata": {},
   "outputs": [
    {
     "name": "stdout",
     "output_type": "stream",
     "text": [
      "10\n",
      "20\n",
      "20\n"
     ]
    }
   ],
   "source": [
    "#non local keyword \n",
    "def fun4():\n",
    "    d=10\n",
    "    print(d)\n",
    "    def fun5():\n",
    "        nonlocal d\n",
    "        d += 10\n",
    "        print(d)\n",
    "    fun5()\n",
    "    print(d)\n",
    "    \n",
    "fun4()"
   ]
  },
  {
   "cell_type": "markdown",
   "id": "c57ba9f2",
   "metadata": {},
   "source": [
    "#### Nested Functions\n",
    "\n",
    "Functions defined inside other functions."
   ]
  },
  {
   "cell_type": "code",
   "execution_count": 7,
   "id": "ed8f9850-249f-4a92-bb63-c0822875f790",
   "metadata": {},
   "outputs": [
    {
     "name": "stdout",
     "output_type": "stream",
     "text": [
      "Hello from nested function!\n"
     ]
    }
   ],
   "source": [
    "def outer_function(text):\n",
    "    def inner_function():\n",
    "        print(text)\n",
    "    inner_function()\n",
    "\n",
    "outer_function(\"Hello from nested function!\")  # Output: Hello from nested function!"
   ]
  },
  {
   "cell_type": "code",
   "execution_count": 8,
   "id": "24441d30-0eab-4e62-bf68-fe555a94d1e6",
   "metadata": {},
   "outputs": [
    {
     "name": "stdout",
     "output_type": "stream",
     "text": [
      "10\n",
      "15\n"
     ]
    }
   ],
   "source": [
    "def show():\n",
    "    x=10\n",
    "    print(x)\n",
    "    def inc():\n",
    "        nonlocal x\n",
    "        x += 5\n",
    "    inc()\n",
    "    print(x)\n",
    "show()"
   ]
  },
  {
   "cell_type": "markdown",
   "id": "5518c720",
   "metadata": {},
   "source": [
    "#### Closures\n",
    "\n",
    "Retain the state of outer function variables."
   ]
  },
  {
   "cell_type": "code",
   "execution_count": 9,
   "id": "62b5382e-7a84-434c-ab55-57a751ea8854",
   "metadata": {},
   "outputs": [
    {
     "name": "stdout",
     "output_type": "stream",
     "text": [
      "10\n"
     ]
    }
   ],
   "source": [
    "def multiplier(factor):\n",
    "    def multiply_by(value):\n",
    "        return value * factor\n",
    "    return multiply_by\n",
    "\n",
    "double = multiplier(2)\n",
    "print(double(5))  # Output: 10"
   ]
  },
  {
   "cell_type": "markdown",
   "id": "e4d09fc2",
   "metadata": {},
   "source": [
    "#### Recursive Functions\n",
    "A function calling itself."
   ]
  },
  {
   "cell_type": "code",
   "execution_count": 10,
   "id": "acc79c50-1f5a-4f39-8166-7a11c23569b8",
   "metadata": {},
   "outputs": [
    {
     "name": "stdout",
     "output_type": "stream",
     "text": [
      "120\n"
     ]
    }
   ],
   "source": [
    "# Factorial \n",
    "def factorial(n):\n",
    "    if n == 0:\n",
    "        return 1\n",
    "    return n * factorial(n - 1)\n",
    "\n",
    "print(factorial(5))  # Output: 120"
   ]
  },
  {
   "cell_type": "markdown",
   "id": "ffb16f3c",
   "metadata": {},
   "source": [
    "#### Generators\n",
    "\n",
    "Functions that yield values instead of returning."
   ]
  },
  {
   "cell_type": "code",
   "execution_count": 14,
   "id": "7739c6f0",
   "metadata": {},
   "outputs": [
    {
     "name": "stdout",
     "output_type": "stream",
     "text": [
      "0\n",
      "1\n",
      "1\n",
      "2\n",
      "3\n"
     ]
    }
   ],
   "source": [
    "def fibonacci(n):\n",
    "    a, b = 0, 1\n",
    "    for _ in range(n):\n",
    "        yield a\n",
    "        a, b = b, a + b\n",
    "\n",
    "for num in fibonacci(5):\n",
    "    print(num)\n",
    "# Output: 0 1 1 2 3"
   ]
  },
  {
   "cell_type": "markdown",
   "id": "ff44111f",
   "metadata": {},
   "source": [
    "#### Function Annotations\n",
    "Document expected argument and return types."
   ]
  },
  {
   "cell_type": "code",
   "execution_count": 15,
   "id": "6de3315a",
   "metadata": {},
   "outputs": [
    {
     "name": "stdout",
     "output_type": "stream",
     "text": [
      "9\n"
     ]
    }
   ],
   "source": [
    "def add_numbers(a: int, b: int) -> int:\n",
    "    return a + b\n",
    "\n",
    "print(add_numbers(4, 5))  # Output: 9"
   ]
  }
 ],
 "metadata": {
  "kernelspec": {
   "display_name": "Python 3 (ipykernel)",
   "language": "python",
   "name": "python3"
  },
  "language_info": {
   "codemirror_mode": {
    "name": "ipython",
    "version": 3
   },
   "file_extension": ".py",
   "mimetype": "text/x-python",
   "name": "python",
   "nbconvert_exporter": "python",
   "pygments_lexer": "ipython3",
   "version": "3.12.3"
  }
 },
 "nbformat": 4,
 "nbformat_minor": 5
}
