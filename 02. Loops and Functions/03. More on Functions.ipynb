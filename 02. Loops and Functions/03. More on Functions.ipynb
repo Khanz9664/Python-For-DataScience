{
 "cells": [
  {
   "cell_type": "markdown",
   "id": "9a3aafe2",
   "metadata": {},
   "source": [
    "# More on Functions"
   ]
  },
  {
   "cell_type": "markdown",
   "id": "c0a6f39c",
   "metadata": {},
   "source": [
    "#### Lambda Functions\n",
    "\n",
    "Anonymous, single-line functions."
   ]
  },
  {
   "cell_type": "code",
   "execution_count": 1,
   "id": "02e09684-7e20-4308-b825-5f4b33872488",
   "metadata": {},
   "outputs": [
    {
     "data": {
      "text/plain": [
       "5"
      ]
     },
     "execution_count": 1,
     "metadata": {},
     "output_type": "execute_result"
    }
   ],
   "source": [
    "def add(a,b):\n",
    "    return a+b\n",
    "\n",
    "add(2,3)"
   ]
  },
  {
   "cell_type": "code",
   "execution_count": 2,
   "id": "82c1fe42-5176-486d-b803-4c4fce80c356",
   "metadata": {},
   "outputs": [
    {
     "data": {
      "text/plain": [
       "5"
      ]
     },
     "execution_count": 2,
     "metadata": {},
     "output_type": "execute_result"
    }
   ],
   "source": [
    "#using lambda to perform same thing \n",
    "add=lambda a,b:a+b\n",
    "add(2,3)"
   ]
  },
  {
   "cell_type": "code",
   "execution_count": 3,
   "id": "b183a868",
   "metadata": {},
   "outputs": [
    {
     "name": "stdout",
     "output_type": "stream",
     "text": [
      "25\n",
      "10\n"
     ]
    }
   ],
   "source": [
    "square = lambda x: x * x\n",
    "print(square(5))  # Output: 25\n",
    "\n",
    "add = lambda a, b: a + b\n",
    "print(add(3, 7))  # Output: 10"
   ]
  },
  {
   "cell_type": "code",
   "execution_count": 6,
   "id": "47c6ba0a-221a-41e4-921b-798a485b0ca6",
   "metadata": {},
   "outputs": [],
   "source": []
  },
  {
   "cell_type": "code",
   "execution_count": 6,
   "id": "a59854b2-01cb-4b8e-87c3-a00b85858363",
   "metadata": {},
   "outputs": [
    {
     "data": {
      "text/plain": [
       "[('ahmad', 20, 1), ('bhat', 50, 3), ('shahid', 10, 2)]"
      ]
     },
     "execution_count": 6,
     "metadata": {},
     "output_type": "execute_result"
    }
   ],
   "source": [
    "a=[(\"shahid\",10,2),(\"ahmad\",20,1),(\"bhat\",50,3)]\n",
    "#this will sort the list by comparing first elemnt\n",
    "sorted(a)"
   ]
  },
  {
   "cell_type": "code",
   "execution_count": 7,
   "id": "a83f6921-8228-498a-a452-f0d4457aff0f",
   "metadata": {},
   "outputs": [
    {
     "data": {
      "text/plain": [
       "[('shahid', 10, 2), ('ahmad', 20, 1), ('bhat', 50, 3)]"
      ]
     },
     "execution_count": 7,
     "metadata": {},
     "output_type": "execute_result"
    }
   ],
   "source": [
    "#using lambda to sort on basis of 2nd elements\n",
    "sorted(a, key=lambda x:x[1])"
   ]
  },
  {
   "cell_type": "code",
   "execution_count": 8,
   "id": "41265b81-8f0e-4a21-ad42-dbd0e5bfd0e2",
   "metadata": {},
   "outputs": [
    {
     "data": {
      "text/plain": [
       "[('ahmad', 20, 1), ('shahid', 10, 2), ('bhat', 50, 3)]"
      ]
     },
     "execution_count": 8,
     "metadata": {},
     "output_type": "execute_result"
    }
   ],
   "source": [
    "#using lambda to sort on basis of 3nd elements\n",
    "sorted(a, key=lambda x:x[2])"
   ]
  },
  {
   "cell_type": "code",
   "execution_count": null,
   "id": "345f92c4",
   "metadata": {},
   "outputs": [],
   "source": []
  },
  {
   "cell_type": "markdown",
   "id": "fdabbeac",
   "metadata": {},
   "source": [
    "#### Variable-Length Arguments\n",
    "    *args: Pass multiple positional arguments.\n",
    "    **kwargs: Pass multiple keyword arguments."
   ]
  },
  {
   "cell_type": "markdown",
   "id": "e338ed79",
   "metadata": {},
   "source": [
    "Positional Arguments"
   ]
  },
  {
   "cell_type": "code",
   "execution_count": 10,
   "id": "25bc2a33",
   "metadata": {},
   "outputs": [
    {
     "name": "stdout",
     "output_type": "stream",
     "text": [
      "10\n"
     ]
    }
   ],
   "source": [
    "def sum_all(*args):\n",
    "    total = 0\n",
    "    for num in args:\n",
    "        total += num\n",
    "    return total\n",
    "\n",
    "print(sum_all(1, 2, 3, 4))  # Output: 10"
   ]
  },
  {
   "cell_type": "code",
   "execution_count": 9,
   "id": "adc5ed82",
   "metadata": {},
   "outputs": [
    {
     "name": "stdout",
     "output_type": "stream",
     "text": [
      "(1, 2, 3, 4, 5)\n",
      "<class 'tuple'>\n"
     ]
    }
   ],
   "source": [
    "def fun(*x):\n",
    "    print(x)\n",
    "    print(type(x))\n",
    "fun(1,2,3,4,5)"
   ]
  },
  {
   "cell_type": "markdown",
   "id": "38548156",
   "metadata": {},
   "source": [
    "\n",
    "Keyword Arguments"
   ]
  },
  {
   "cell_type": "code",
   "execution_count": 12,
   "id": "e6e2bd4a",
   "metadata": {},
   "outputs": [
    {
     "name": "stdout",
     "output_type": "stream",
     "text": [
      "name: Shahid\n",
      "age: 25\n",
      "city: Kashmir\n"
     ]
    }
   ],
   "source": [
    "def print_info(**kwargs):\n",
    "    for key, value in kwargs.items():\n",
    "        print(f\"{key}: {value}\")\n",
    "\n",
    "print_info(name=\"Shahid\", age=25, city=\"Kashmir\")\n",
    "# Output:\n",
    "# name: Alice\n",
    "# age: 25\n",
    "# city: Paris"
   ]
  },
  {
   "cell_type": "code",
   "execution_count": 11,
   "id": "47ce222f",
   "metadata": {},
   "outputs": [
    {
     "name": "stdout",
     "output_type": "stream",
     "text": [
      "{'name': 'shahid', 'father': 'm.ayoub bhat', 'resid': 'noonmai'}\n",
      "<class 'dict'>\n",
      "name shahid\n",
      "father m.ayoub bhat\n",
      "resid noonmai\n"
     ]
    }
   ],
   "source": [
    "def fun1(**y):\n",
    "    print(y)\n",
    "    print(type(y))\n",
    "    for k in y:\n",
    "        print(k,y[k])\n",
    "        \n",
    "fun1(name=\"shahid\", father=\"m.ayoub bhat\", resid=\"noonmai\")"
   ]
  },
  {
   "cell_type": "code",
   "execution_count": 13,
   "id": "9697c8ce",
   "metadata": {},
   "outputs": [
    {
     "name": "stdout",
     "output_type": "stream",
     "text": [
      "apple\n",
      "<class 'str'>\n",
      "ball\n",
      "()\n",
      "<class 'tuple'>\n",
      "{'c': 'cat', 'd': 'mynameis'}\n",
      "<class 'dict'>\n"
     ]
    }
   ],
   "source": [
    "def fun2(a,b,*c,**d):\n",
    "    print(a)\n",
    "    print(type(a))\n",
    "    print(b)\n",
    "    print(c)\n",
    "    print(type(c))\n",
    "    print(d)\n",
    "    print(type(d))\n",
    "\n",
    "fun2(a=\"apple\",b=\"ball\",c=\"cat\",d=\"my\" \"name\" \"is\")"
   ]
  },
  {
   "cell_type": "markdown",
   "id": "d1ee6c66",
   "metadata": {},
   "source": [
    "### Decorators\n",
    "\n",
    "Functions that modify the behavior of other functions."
   ]
  },
  {
   "cell_type": "code",
   "execution_count": 14,
   "id": "9307dc73",
   "metadata": {},
   "outputs": [
    {
     "name": "stdout",
     "output_type": "stream",
     "text": [
      "Wrapper executed before the original function.\n",
      "Original function executed.\n"
     ]
    }
   ],
   "source": [
    "def decorator_function(original_function):\n",
    "    def wrapper_function():\n",
    "        print(\"Wrapper executed before the original function.\")\n",
    "        original_function()\n",
    "    return wrapper_function\n",
    "\n",
    "@decorator_function\n",
    "def display():\n",
    "    print(\"Original function executed.\")\n",
    "\n",
    "display()\n",
    "# Output:\n",
    "# Wrapper executed before the original function.\n",
    "# Original function executed."
   ]
  },
  {
   "cell_type": "code",
   "execution_count": 17,
   "id": "07c8c0b4",
   "metadata": {},
   "outputs": [],
   "source": [
    "# Example \n",
    "\n",
    "#using dictionary \n",
    "users = {\n",
    "    \"shahid\" : \"bhat\",\n",
    "    \"ubaid\" : \"ahmad\"\n",
    "}\n",
    "\n",
    "#function taking fuction as argument\n",
    "def login_req(function):\n",
    "    #using function inside a function\n",
    "    def wrapper(username, password, *args, **kwargs):\n",
    "        #user is being authenticated\n",
    "        if username in users and users[username]==password:\n",
    "            #using (*args- pass a variable numbr of arguments and **kwargskeyworded variable length arguments\n",
    "            function(*args, **kwargs)\n",
    "        else:\n",
    "            print(\"user not authenticated\")\n",
    "    return wrapper\n",
    "\n",
    "#using decorators\n",
    "@login_req\n",
    "def add(a,b):\n",
    "    print(a+b)"
   ]
  },
  {
   "cell_type": "code",
   "execution_count": 18,
   "id": "36125c74",
   "metadata": {},
   "outputs": [
    {
     "name": "stdout",
     "output_type": "stream",
     "text": [
      "user not authenticated\n",
      "7\n"
     ]
    }
   ],
   "source": [
    "#Function Call\n",
    "\n",
    "add(1,2) #this will throw an error \"user not authenticated\"\n",
    "\n",
    "add(\"shahid\",\"bhat\",5,2)"
   ]
  },
  {
   "cell_type": "code",
   "execution_count": null,
   "id": "a45088ab",
   "metadata": {},
   "outputs": [],
   "source": []
  }
 ],
 "metadata": {
  "kernelspec": {
   "display_name": "Python 3 (ipykernel)",
   "language": "python",
   "name": "python3"
  },
  "language_info": {
   "codemirror_mode": {
    "name": "ipython",
    "version": 3
   },
   "file_extension": ".py",
   "mimetype": "text/x-python",
   "name": "python",
   "nbconvert_exporter": "python",
   "pygments_lexer": "ipython3",
   "version": "3.12.3"
  }
 },
 "nbformat": 4,
 "nbformat_minor": 5
}
