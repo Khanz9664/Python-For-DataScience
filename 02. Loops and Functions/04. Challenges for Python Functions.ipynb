{
 "cells": [
  {
   "cell_type": "markdown",
   "id": "64aaf18f",
   "metadata": {},
   "source": [
    "## Challanges with Solutions"
   ]
  },
  {
   "cell_type": "markdown",
   "id": "35ece7de",
   "metadata": {},
   "source": [
    "# 1. Basic Function Challenges\n",
    "\n",
    "Greeting Function Write a function greet_user that takes a name as an argument and prints Hello, <name>!. If no name is provided, default to \"Guest\".\n",
    "\n",
    "\n",
    "Example Input:\n",
    "    \n",
    "    greet_user(\"Alice\")\n",
    "    greet_user()\n",
    "\n",
    "Expected Output:\n",
    "    \n",
    "    Hello, Alice!\n",
    "    Hello, Guest!\n"
   ]
  },
  {
   "cell_type": "code",
   "execution_count": 1,
   "id": "1a5d7862",
   "metadata": {},
   "outputs": [
    {
     "name": "stdout",
     "output_type": "stream",
     "text": [
      "Hello, Alice!\n",
      "Hello, Guest!\n"
     ]
    }
   ],
   "source": [
    "def greet_user(name=\"Guest\"):\n",
    "    print(f\"Hello, {name}!\")\n",
    "\n",
    "# Test the function\n",
    "greet_user(\"Alice\")  # Output: Hello, Alice!\n",
    "greet_user()         # Output: Hello, Guest!"
   ]
  },
  {
   "cell_type": "markdown",
   "id": "30e09579",
   "metadata": {},
   "source": [
    "Simple Calculator Create a function calculate that takes three arguments: num1, num2, and operation. The operation argument can be \"add\", \"subtract\", \"multiply\", or \"divide\", and the function should perform the corresponding calculation.\n",
    "\n",
    "Example Input:\n",
    "\n",
    "    calculate(10, 5, \"add\")\n",
    "    calculate(10, 5, \"divide\")\n",
    "\n",
    "Expected Output:\n",
    "    \n",
    "    15\n",
    "    2.0"
   ]
  },
  {
   "cell_type": "code",
   "execution_count": 2,
   "id": "4ceda98b-a123-4720-be10-92fc374cc841",
   "metadata": {},
   "outputs": [
    {
     "name": "stdout",
     "output_type": "stream",
     "text": [
      "15\n",
      "2.0\n"
     ]
    }
   ],
   "source": [
    "def calculate(num1, num2, operation):\n",
    "    if operation == \"add\":\n",
    "        return num1 + num2\n",
    "    elif operation == \"subtract\":\n",
    "        return num1 - num2\n",
    "    elif operation == \"multiply\":\n",
    "        return num1 * num2\n",
    "    elif operation == \"divide\":\n",
    "        return num1 / num2 if num2 != 0 else \"Division by zero!\"\n",
    "    else:\n",
    "        return \"Invalid operation\"\n",
    "\n",
    "# Test the function\n",
    "print(calculate(10, 5, \"add\"))      # Output: 15\n",
    "print(calculate(10, 5, \"divide\"))   # Output: 2.0"
   ]
  },
  {
   "cell_type": "markdown",
   "id": "041fd08a",
   "metadata": {},
   "source": [
    "# 2. Intermediate Challenges"
   ]
  },
  {
   "cell_type": "markdown",
   "id": "97902709",
   "metadata": {},
   "source": [
    "Finding the Maximum Write a function find_max that takes any number of arguments and returns the largest number.\n",
    "\n",
    "Example Input:\n",
    "\n",
    "    find_max(3, 1, 4, 1, 5, 9)\n",
    "\n",
    "Expected Output:\n",
    "    \n",
    "    9"
   ]
  },
  {
   "cell_type": "code",
   "execution_count": 3,
   "id": "af88bb23-f4ab-4b53-98c8-f6af92f0ce68",
   "metadata": {},
   "outputs": [
    {
     "name": "stdout",
     "output_type": "stream",
     "text": [
      "9\n"
     ]
    }
   ],
   "source": [
    "def find_max(*args):\n",
    "    if not args:\n",
    "        return \"No numbers provided\"\n",
    "    return max(args)\n",
    "\n",
    "# Test the function\n",
    "print(find_max(3, 1, 4, 1, 5, 9))  # Output: 9"
   ]
  },
  {
   "cell_type": "markdown",
   "id": "c4cd8a03",
   "metadata": {},
   "source": [
    "String Reversal Create a function reverse_string that accepts a string and returns it reversed.\n",
    "\n",
    "Example Input:\n",
    "\n",
    "    reverse_string(\"hello\")\n",
    "\n",
    "Expected Output:\n",
    "\n",
    "    \"olleh\""
   ]
  },
  {
   "cell_type": "code",
   "execution_count": 4,
   "id": "718b3ecb-b4bb-49dd-8671-899b202f82d8",
   "metadata": {},
   "outputs": [
    {
     "name": "stdout",
     "output_type": "stream",
     "text": [
      "olleh\n"
     ]
    }
   ],
   "source": [
    "def reverse_string(s):\n",
    "    return s[::-1]\n",
    "\n",
    "# Test the function\n",
    "print(reverse_string(\"hello\"))  # Output: \"olleh\""
   ]
  },
  {
   "cell_type": "markdown",
   "id": "db1c8ffe",
   "metadata": {},
   "source": [
    "Prime Checker Write a function is_prime that takes an integer and returns True if it’s a prime number, otherwise False.\n",
    "\n",
    "Example Input:\n",
    "\n",
    "    is_prime(7)\n",
    "    is_prime(10)\n",
    "\n",
    "Expected Output:\n",
    "\n",
    "    True\n",
    "    False"
   ]
  },
  {
   "cell_type": "code",
   "execution_count": 5,
   "id": "19514a97",
   "metadata": {},
   "outputs": [
    {
     "name": "stdout",
     "output_type": "stream",
     "text": [
      "True\n",
      "False\n"
     ]
    }
   ],
   "source": [
    "def is_prime(n):\n",
    "    if n < 2:\n",
    "        return False\n",
    "    for i in range(2, int(n ** 0.5) + 1):\n",
    "        if n % i == 0:\n",
    "            return False\n",
    "    return True\n",
    "\n",
    "# Test the function\n",
    "print(is_prime(7))   # Output: True\n",
    "print(is_prime(10))  # Output: False"
   ]
  },
  {
   "cell_type": "markdown",
   "id": "348413a4",
   "metadata": {},
   "source": [
    "# 3. Advanced Challenges"
   ]
  },
  {
   "cell_type": "markdown",
   "id": "0bc9ff2b",
   "metadata": {},
   "source": [
    "Recursive Fibonacci Implement a recursive function fibonacci that returns the nth Fibonacci number.\n",
    "\n",
    "Example Input:\n",
    "\n",
    "    fibonacci(6)\n",
    "\n",
    "Expected Output:\n",
    "\n",
    "    8"
   ]
  },
  {
   "cell_type": "code",
   "execution_count": 6,
   "id": "76d96edc",
   "metadata": {},
   "outputs": [
    {
     "name": "stdout",
     "output_type": "stream",
     "text": [
      "8\n"
     ]
    }
   ],
   "source": [
    "def fibonacci(n):\n",
    "    if n <= 1:\n",
    "        return n\n",
    "    return fibonacci(n - 1) + fibonacci(n - 2)\n",
    "\n",
    "# Test the function\n",
    "print(fibonacci(6))  # Output: 8"
   ]
  },
  {
   "cell_type": "markdown",
   "id": "994e2be4",
   "metadata": {},
   "source": [
    "Palindrome Checker Write a function is_palindrome that checks if a given string is a palindrome (reads the same forward and backward).\n",
    "\n",
    "Example Input:\n",
    "\n",
    "    is_palindrome(\"radar\")\n",
    "    is_palindrome(\"python\")\n",
    "\n",
    "Expected Output:\n",
    "\n",
    "    True\n",
    "    False\n"
   ]
  },
  {
   "cell_type": "code",
   "execution_count": 7,
   "id": "fcb08e5e",
   "metadata": {},
   "outputs": [
    {
     "name": "stdout",
     "output_type": "stream",
     "text": [
      "True\n",
      "False\n"
     ]
    }
   ],
   "source": [
    "def is_palindrome(s):\n",
    "    return s == s[::-1]\n",
    "\n",
    "# Test the function\n",
    "print(is_palindrome(\"radar\"))   # Output: True\n",
    "print(is_palindrome(\"python\"))  # Output: False"
   ]
  },
  {
   "cell_type": "markdown",
   "id": "08741415",
   "metadata": {},
   "source": [
    "Decorators Write a decorator execution_time that calculates and prints the time a function takes to execute. Use this decorator on a function long_task that simply counts from 1 to 1,000,000.\n",
    "\n",
    "Example Input:\n",
    "\n",
    "    @execution_time\n",
    "    def long_task():\n",
    "        for i in range(1, 1000001):\n",
    "            pass\n",
    "    long_task()\n",
    "    \n",
    "Expected Output:\n",
    "\n",
    "    Time taken: <some value> seconds\n"
   ]
  },
  {
   "cell_type": "code",
   "execution_count": 8,
   "id": "9983f53f",
   "metadata": {},
   "outputs": [
    {
     "name": "stdout",
     "output_type": "stream",
     "text": [
      "Time taken: 0.0605 seconds\n"
     ]
    }
   ],
   "source": [
    "import time  # Only for demonstration purposes\n",
    "\n",
    "def execution_time(func):\n",
    "    def wrapper():\n",
    "        start_time = time.time()\n",
    "        func()\n",
    "        end_time = time.time()\n",
    "        print(f\"Time taken: {end_time - start_time:.4f} seconds\")\n",
    "    return wrapper\n",
    "\n",
    "@execution_time\n",
    "def long_task():\n",
    "    for i in range(1, 1000001):\n",
    "        pass\n",
    "\n",
    "# Test the decorator\n",
    "long_task()"
   ]
  },
  {
   "cell_type": "markdown",
   "id": "adf0a438",
   "metadata": {},
   "source": [
    "# 4. Expert Challenges"
   ]
  },
  {
   "cell_type": "markdown",
   "id": "a7a73e2c",
   "metadata": {},
   "source": [
    "Custom Sorting Write a function custom_sort that takes a list of tuples where each tuple contains a name and a score. Sort the list in descending order of scores. Use a lambda function for sorting.\n",
    "\n",
    "Example Input:\n",
    "\n",
    "    custom_sort([(\"Alice\", 50), (\"Bob\", 75), (\"Charlie\", 60)])\n",
    "\n",
    "Expected Output:\n",
    "\n",
    "    [(\"Bob\", 75), (\"Charlie\", 60), (\"Alice\", 50)]\n"
   ]
  },
  {
   "cell_type": "code",
   "execution_count": 9,
   "id": "eb416bec",
   "metadata": {},
   "outputs": [
    {
     "name": "stdout",
     "output_type": "stream",
     "text": [
      "[('Bob', 75), ('Charlie', 60), ('Alice', 50)]\n"
     ]
    }
   ],
   "source": [
    "def custom_sort(data):\n",
    "    return sorted(data, key=lambda x: x[1], reverse=True)\n",
    "\n",
    "# Test the function\n",
    "print(custom_sort([(\"Alice\", 50), (\"Bob\", 75), (\"Charlie\", 60)]))\n",
    "# Output: [(\"Bob\", 75), (\"Charlie\", 60), (\"Alice\", 50)]"
   ]
  },
  {
   "cell_type": "markdown",
   "id": "8a0d4ffe",
   "metadata": {},
   "source": [
    "Generator for Even Numbers Create a generator function generate_evens that generates the first n even numbers.\n",
    "\n",
    "Example Input:\n",
    "\n",
    "    for num in generate_evens(5):\n",
    "    print(num)\n",
    "\n",
    "Expected Output:\n",
    "\n",
    "    0\n",
    "    2\n",
    "    4\n",
    "    6\n",
    "    8\n"
   ]
  },
  {
   "cell_type": "code",
   "execution_count": 10,
   "id": "e2c1901b",
   "metadata": {},
   "outputs": [
    {
     "name": "stdout",
     "output_type": "stream",
     "text": [
      "0\n",
      "2\n",
      "4\n",
      "6\n",
      "8\n"
     ]
    }
   ],
   "source": [
    "def generate_evens(n):\n",
    "    count = 0\n",
    "    current = 0\n",
    "    while count < n:\n",
    "        yield current\n",
    "        current += 2\n",
    "        count += 1\n",
    "\n",
    "# Test the generator\n",
    "for num in generate_evens(5):\n",
    "    print(num)\n",
    "# Output: 0, 2, 4, 6, 8"
   ]
  },
  {
   "cell_type": "markdown",
   "id": "1e74cf66",
   "metadata": {},
   "source": [
    "Closures for Multiplier Write a closure create_multiplier that takes a number n and returns a function that multiplies its argument by n.\n",
    "\n",
    "Example Input:\n",
    "\n",
    "    double = create_multiplier(2)\n",
    "    print(double(5))\n",
    "\n",
    "Expected Output:\n",
    "\n",
    "    10\n"
   ]
  },
  {
   "cell_type": "code",
   "execution_count": 11,
   "id": "492f2a13",
   "metadata": {},
   "outputs": [
    {
     "name": "stdout",
     "output_type": "stream",
     "text": [
      "10\n"
     ]
    }
   ],
   "source": [
    "def create_multiplier(n):\n",
    "    def multiply_by(x):\n",
    "        return x * n\n",
    "    return multiply_by\n",
    "\n",
    "# Test the closure\n",
    "double = create_multiplier(2)\n",
    "print(double(5))  # Output: 10"
   ]
  },
  {
   "cell_type": "code",
   "execution_count": null,
   "id": "1904790e",
   "metadata": {},
   "outputs": [],
   "source": []
  }
 ],
 "metadata": {
  "kernelspec": {
   "display_name": "Python 3 (ipykernel)",
   "language": "python",
   "name": "python3"
  },
  "language_info": {
   "codemirror_mode": {
    "name": "ipython",
    "version": 3
   },
   "file_extension": ".py",
   "mimetype": "text/x-python",
   "name": "python",
   "nbconvert_exporter": "python",
   "pygments_lexer": "ipython3",
   "version": "3.12.3"
  }
 },
 "nbformat": 4,
 "nbformat_minor": 5
}
