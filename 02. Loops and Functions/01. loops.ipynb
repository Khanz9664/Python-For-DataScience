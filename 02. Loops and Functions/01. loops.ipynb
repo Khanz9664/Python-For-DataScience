{
 "cells": [
  {
   "cell_type": "markdown",
   "id": "eeb63e53",
   "metadata": {},
   "source": [
    "# Python Loops: Basics to Advanced"
   ]
  },
  {
   "cell_type": "markdown",
   "id": "f5feb32e",
   "metadata": {},
   "source": [
    "Introduction to Loops:\n",
    "\n",
    "Loops are used to execute a block of code multiple times.\n",
    "\n",
    "Python provides two types of loops:\n",
    "\n",
    "    for loop\n",
    "    while loop"
   ]
  },
  {
   "cell_type": "markdown",
   "id": "2521312a",
   "metadata": {},
   "source": [
    "# for Loop\n",
    "\n",
    "Syntax:\n",
    "\n",
    "    for variable in iterable:\n",
    "        # Code block\n"
   ]
  },
  {
   "cell_type": "code",
   "execution_count": 6,
   "id": "b3b4a4e7-5f38-42bd-912d-77a8b553deaa",
   "metadata": {},
   "outputs": [
    {
     "name": "stdout",
     "output_type": "stream",
     "text": [
      "0\n",
      "1\n",
      "2\n",
      "3\n",
      "4\n"
     ]
    }
   ],
   "source": [
    "for i in range(5):\n",
    "    print(i)\n",
    "    # Output will be : 0,1,2,3,4"
   ]
  },
  {
   "cell_type": "code",
   "execution_count": 7,
   "id": "e575a4e6-abe9-4ea6-a0d3-22bb3db9a519",
   "metadata": {},
   "outputs": [
    {
     "name": "stdout",
     "output_type": "stream",
     "text": [
      "2\n",
      "3\n",
      "4\n"
     ]
    }
   ],
   "source": [
    "for i in range(2,5):\n",
    "    print(i)\n",
    "    # Output will be : 2,3,4"
   ]
  },
  {
   "cell_type": "code",
   "execution_count": 8,
   "id": "dc267682-c834-4da9-9e95-e3e4b8973882",
   "metadata": {},
   "outputs": [
    {
     "name": "stdout",
     "output_type": "stream",
     "text": [
      "S\n",
      "H\n",
      "A\n",
      "H\n",
      "I\n",
      "D\n"
     ]
    }
   ],
   "source": [
    "for i in \"SHAHID\":\n",
    "    print(i)\n",
    "    # Output will be : S H A H I D "
   ]
  },
  {
   "cell_type": "code",
   "execution_count": 9,
   "id": "a5e34741-8947-4156-b73d-bd13d17fd9c3",
   "metadata": {},
   "outputs": [
    {
     "name": "stdout",
     "output_type": "stream",
     "text": [
      "2\n",
      "4\n",
      "6\n",
      "8\n"
     ]
    }
   ],
   "source": [
    "for i in range(2,10,2):\n",
    "    print(i)\n",
    "    # Output will be : 2,4,6,8"
   ]
  },
  {
   "cell_type": "code",
   "execution_count": 10,
   "id": "cfc5c5ab",
   "metadata": {},
   "outputs": [
    {
     "name": "stdout",
     "output_type": "stream",
     "text": [
      "0\n",
      "1\n",
      "2\n",
      "Loop finished\n"
     ]
    }
   ],
   "source": [
    "for i in range(3):\n",
    "    print(i)\n",
    "else:\n",
    "    print(\"Loop finished\")\n",
    "    # Output will be : 0,1,2 Loop finished"
   ]
  },
  {
   "cell_type": "markdown",
   "id": "3ad5d8cd",
   "metadata": {},
   "source": [
    "# while Loop\n",
    "\n",
    "Syntax:\n",
    "\n",
    "    while condition:\n",
    "    # Code block\n"
   ]
  },
  {
   "cell_type": "code",
   "execution_count": 2,
   "id": "9e9c9f8d-0249-4136-abbe-335971fe0771",
   "metadata": {},
   "outputs": [
    {
     "name": "stdout",
     "output_type": "stream",
     "text": [
      "10\n",
      "9\n",
      "8\n",
      "7\n",
      "6\n",
      "5\n",
      "4\n",
      "3\n",
      "2\n",
      "1\n"
     ]
    }
   ],
   "source": [
    "a=10\n",
    "while a>0:\n",
    "    print(a)\n",
    "    a -= 1\n",
    "    # Output will be : 10,9,8,7,6,5,4,3,2,1"
   ]
  },
  {
   "cell_type": "code",
   "execution_count": 2,
   "id": "8b3607ae-cdb9-40c7-9642-733373ef7783",
   "metadata": {},
   "outputs": [
    {
     "name": "stdout",
     "output_type": "stream",
     "text": [
      "0\n",
      "1\n",
      "2\n"
     ]
    }
   ],
   "source": [
    "count = 0\n",
    "while True:\n",
    "    print(count)\n",
    "    count += 1\n",
    "    if count == 3:\n",
    "        break\n",
    "# Output: 0, 1, 2"
   ]
  },
  {
   "cell_type": "code",
   "execution_count": 3,
   "id": "2ea157ca",
   "metadata": {},
   "outputs": [
    {
     "name": "stdout",
     "output_type": "stream",
     "text": [
      "0\n",
      "1\n",
      "2\n",
      "Loop finished\n"
     ]
    }
   ],
   "source": [
    "count = 0\n",
    "while count < 3:\n",
    "    print(count)\n",
    "    count += 1\n",
    "else:\n",
    "    print(\"Loop finished\")\n",
    "# Output: 0, 1, 2, Loop finished"
   ]
  },
  {
   "cell_type": "markdown",
   "id": "8284b3cb",
   "metadata": {},
   "source": [
    "## Nested Loops"
   ]
  },
  {
   "cell_type": "markdown",
   "id": "d24a9d8f",
   "metadata": {},
   "source": [
    "#### for Inside for"
   ]
  },
  {
   "cell_type": "code",
   "execution_count": 4,
   "id": "f27337e9",
   "metadata": {},
   "outputs": [
    {
     "name": "stdout",
     "output_type": "stream",
     "text": [
      "i=0, j=0\n",
      "i=0, j=1\n",
      "i=1, j=0\n",
      "i=1, j=1\n",
      "i=2, j=0\n",
      "i=2, j=1\n"
     ]
    }
   ],
   "source": [
    "for i in range(3):\n",
    "    for j in range(2):\n",
    "        print(f\"i={i}, j={j}\")\n",
    "# Output: i=0, j=0 ... i=2, j=1"
   ]
  },
  {
   "cell_type": "markdown",
   "id": "83920950",
   "metadata": {},
   "source": [
    "#### for Inside while"
   ]
  },
  {
   "cell_type": "code",
   "execution_count": 5,
   "id": "3bb71409",
   "metadata": {},
   "outputs": [
    {
     "name": "stdout",
     "output_type": "stream",
     "text": [
      "count=0, i=0\n",
      "count=0, i=1\n",
      "count=0, i=2\n",
      "count=1, i=0\n",
      "count=1, i=1\n",
      "count=1, i=2\n"
     ]
    }
   ],
   "source": [
    "count = 0\n",
    "while count < 2:\n",
    "    for i in range(3):\n",
    "        print(f\"count={count}, i={i}\")\n",
    "    count += 1\n",
    "# Output: count=0, i=0 ... count=1, i=2"
   ]
  },
  {
   "cell_type": "code",
   "execution_count": null,
   "id": "ce320cee",
   "metadata": {},
   "outputs": [],
   "source": []
  },
  {
   "cell_type": "markdown",
   "id": "c7a6855c",
   "metadata": {},
   "source": [
    "## break Statement\n",
    "\n",
    "The break statement is used to exit a loop prematurely when a specific condition is met"
   ]
  },
  {
   "cell_type": "markdown",
   "id": "1954004a",
   "metadata": {},
   "source": [
    "#### Breaking out of a for loop"
   ]
  },
  {
   "cell_type": "code",
   "execution_count": 11,
   "id": "d779914b",
   "metadata": {},
   "outputs": [
    {
     "name": "stdout",
     "output_type": "stream",
     "text": [
      "0\n",
      "1\n",
      "2\n",
      "3\n",
      "4\n"
     ]
    }
   ],
   "source": [
    "for i in range(10):\n",
    "    if i == 5:\n",
    "        break  # Exit the loop when i is 5\n",
    "    print(i)\n",
    "\n",
    "# Output:\n",
    "# 0\n",
    "# 1\n",
    "# 2\n",
    "# 3\n",
    "# 4"
   ]
  },
  {
   "cell_type": "markdown",
   "id": "5161ccc9",
   "metadata": {},
   "source": [
    "#### Breaking out of a while loop"
   ]
  },
  {
   "cell_type": "code",
   "execution_count": 12,
   "id": "e45b5f85",
   "metadata": {},
   "outputs": [
    {
     "name": "stdout",
     "output_type": "stream",
     "text": [
      "0\n",
      "1\n",
      "2\n",
      "3\n",
      "4\n",
      "5\n"
     ]
    }
   ],
   "source": [
    "count = 0\n",
    "while count < 10:\n",
    "    if count == 6:\n",
    "        break  # Exit the loop when count is 6\n",
    "    print(count)\n",
    "    count += 1\n",
    "\n",
    "# Output:\n",
    "# 0\n",
    "# 1\n",
    "# 2\n",
    "# 3\n",
    "# 4\n",
    "# 5"
   ]
  },
  {
   "cell_type": "markdown",
   "id": "95750b7e",
   "metadata": {},
   "source": [
    "# continue Statement\n",
    "\n",
    "The continue statement skips the rest of the code in the current iteration and proceeds to the next iteration of the loop."
   ]
  },
  {
   "cell_type": "markdown",
   "id": "ef7a086c",
   "metadata": {},
   "source": [
    "#### Skipping an iteration in a for loop"
   ]
  },
  {
   "cell_type": "code",
   "execution_count": 13,
   "id": "a7fc2ed6",
   "metadata": {},
   "outputs": [
    {
     "name": "stdout",
     "output_type": "stream",
     "text": [
      "1\n",
      "3\n",
      "5\n",
      "7\n",
      "9\n"
     ]
    }
   ],
   "source": [
    "for i in range(10):\n",
    "    if i % 2 == 0:\n",
    "        continue  # Skip the current iteration if i is even\n",
    "    print(i)\n",
    "\n",
    "# Output:\n",
    "# 1\n",
    "# 3\n",
    "# 5\n",
    "# 7\n",
    "# 9\n"
   ]
  },
  {
   "cell_type": "markdown",
   "id": "b87c501a",
   "metadata": {},
   "source": [
    "#### Skipping in a while loop"
   ]
  },
  {
   "cell_type": "code",
   "execution_count": 14,
   "id": "4a176e01",
   "metadata": {},
   "outputs": [
    {
     "name": "stdout",
     "output_type": "stream",
     "text": [
      "1\n",
      "2\n",
      "3\n",
      "4\n",
      "6\n",
      "7\n",
      "8\n",
      "9\n",
      "10\n"
     ]
    }
   ],
   "source": [
    "count = 0\n",
    "while count < 10:\n",
    "    count += 1\n",
    "    if count == 5:\n",
    "        continue  # Skip the iteration where count is 5\n",
    "    print(count)\n",
    "\n",
    "# Output:\n",
    "# 1\n",
    "# 2\n",
    "# 3\n",
    "# 4\n",
    "# 6\n",
    "# 7\n",
    "# 8\n",
    "# 9\n",
    "# 10"
   ]
  },
  {
   "cell_type": "markdown",
   "id": "26f225c8",
   "metadata": {},
   "source": [
    "# pass Statement\n",
    "The pass statement is a placeholder that does nothing. It’s used when a statement is syntactically required but no action is needed."
   ]
  },
  {
   "cell_type": "markdown",
   "id": "0b239cb2",
   "metadata": {},
   "source": [
    "#### Using pass in a loop"
   ]
  },
  {
   "cell_type": "code",
   "execution_count": 15,
   "id": "832b4153",
   "metadata": {},
   "outputs": [
    {
     "name": "stdout",
     "output_type": "stream",
     "text": [
      "0\n",
      "1\n",
      "2\n",
      "4\n"
     ]
    }
   ],
   "source": [
    "for i in range(5):\n",
    "    if i == 3:\n",
    "        pass  # Do nothing when i is 3\n",
    "    else:\n",
    "        print(i)\n",
    "\n",
    "# Output:\n",
    "# 0\n",
    "# 1\n",
    "# 2\n",
    "# 4"
   ]
  },
  {
   "cell_type": "markdown",
   "id": "2e176b01",
   "metadata": {},
   "source": [
    "#### Using pass as a placeholder"
   ]
  },
  {
   "cell_type": "code",
   "execution_count": 16,
   "id": "3a73f5f4",
   "metadata": {},
   "outputs": [],
   "source": [
    "def my_function():\n",
    "    pass  # Placeholder for future implementation\n",
    "\n",
    "# Calling the function does nothing as it contains only a pass statement\n",
    "my_function()"
   ]
  },
  {
   "cell_type": "code",
   "execution_count": null,
   "id": "b00f0ffa",
   "metadata": {},
   "outputs": [],
   "source": []
  }
 ],
 "metadata": {
  "kernelspec": {
   "display_name": "Python 3 (ipykernel)",
   "language": "python",
   "name": "python3"
  },
  "language_info": {
   "codemirror_mode": {
    "name": "ipython",
    "version": 3
   },
   "file_extension": ".py",
   "mimetype": "text/x-python",
   "name": "python",
   "nbconvert_exporter": "python",
   "pygments_lexer": "ipython3",
   "version": "3.12.3"
  }
 },
 "nbformat": 4,
 "nbformat_minor": 5
}
